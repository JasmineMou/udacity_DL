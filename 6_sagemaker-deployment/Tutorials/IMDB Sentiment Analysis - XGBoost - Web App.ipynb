{
 "cells": [
  {
   "cell_type": "markdown",
   "metadata": {},
   "source": [
    "# Sentiment Analysis Web App\n",
    "\n",
    "_Deep Learning Nanodegree Program | Deployment_\n",
    "\n",
    "---\n",
    "\n",
    "In this notebook we will use Amazon's SageMaker service to construct a random tree model to predict the sentiment of a movie review. In addition, we will deploy this model to an endpoint and construct a very simple web app which will interact with our model's deployed endpoint.\n",
    "\n",
    "## General Outline\n",
    "\n",
    "Typically, when using a notebook instance with SageMaker, you will proceed through the following steps. Of course, not every step will need to be done with each project. Also, there is quite a lot of room for variation in many of the steps, as you will see throughout these lessons.\n",
    "\n",
    "1. Download or otherwise retrieve the data.\n",
    "2. Process / Prepare the data.\n",
    "3. Upload the processed data to S3.\n",
    "4. Train a chosen model.\n",
    "5. Test the trained model (typically using a batch transform job).\n",
    "6. Deploy the trained model.\n",
    "7. Use the deployed model.\n",
    "\n",
    "In this notebook we will progress through each of the steps above. We will also see that the final step, using the deployed model, can be quite challenging."
   ]
  },
  {
   "cell_type": "code",
   "execution_count": 1,
   "metadata": {},
   "outputs": [
    {
     "name": "stdout",
     "output_type": "stream",
     "text": [
      "Collecting sagemaker==1.72.0\n",
      "  Using cached sagemaker-1.72.0-py2.py3-none-any.whl\n",
      "Collecting smdebug-rulesconfig==0.1.4\n",
      "  Using cached smdebug_rulesconfig-0.1.4-py2.py3-none-any.whl (10 kB)\n",
      "Requirement already satisfied: boto3>=1.14.12 in /home/ec2-user/anaconda3/envs/python3/lib/python3.6/site-packages (from sagemaker==1.72.0) (1.17.55)\n",
      "Requirement already satisfied: scipy>=0.19.0 in /home/ec2-user/anaconda3/envs/python3/lib/python3.6/site-packages (from sagemaker==1.72.0) (1.5.3)\n",
      "Requirement already satisfied: importlib-metadata>=1.4.0 in /home/ec2-user/anaconda3/envs/python3/lib/python3.6/site-packages (from sagemaker==1.72.0) (3.7.0)\n",
      "Requirement already satisfied: protobuf>=3.1 in /home/ec2-user/anaconda3/envs/python3/lib/python3.6/site-packages (from sagemaker==1.72.0) (3.15.2)\n",
      "Requirement already satisfied: numpy>=1.9.0 in /home/ec2-user/anaconda3/envs/python3/lib/python3.6/site-packages (from sagemaker==1.72.0) (1.19.5)\n",
      "Requirement already satisfied: packaging>=20.0 in /home/ec2-user/anaconda3/envs/python3/lib/python3.6/site-packages (from sagemaker==1.72.0) (20.9)\n",
      "Requirement already satisfied: protobuf3-to-dict>=0.1.5 in /home/ec2-user/anaconda3/envs/python3/lib/python3.6/site-packages (from sagemaker==1.72.0) (0.1.5)\n",
      "Requirement already satisfied: jmespath<1.0.0,>=0.7.1 in /home/ec2-user/anaconda3/envs/python3/lib/python3.6/site-packages (from boto3>=1.14.12->sagemaker==1.72.0) (0.10.0)\n",
      "Requirement already satisfied: botocore<1.21.0,>=1.20.55 in /home/ec2-user/anaconda3/envs/python3/lib/python3.6/site-packages (from boto3>=1.14.12->sagemaker==1.72.0) (1.20.55)\n",
      "Requirement already satisfied: s3transfer<0.5.0,>=0.4.0 in /home/ec2-user/anaconda3/envs/python3/lib/python3.6/site-packages (from boto3>=1.14.12->sagemaker==1.72.0) (0.4.1)\n",
      "Requirement already satisfied: urllib3<1.27,>=1.25.4 in /home/ec2-user/anaconda3/envs/python3/lib/python3.6/site-packages (from botocore<1.21.0,>=1.20.55->boto3>=1.14.12->sagemaker==1.72.0) (1.26.4)\n",
      "Requirement already satisfied: python-dateutil<3.0.0,>=2.1 in /home/ec2-user/anaconda3/envs/python3/lib/python3.6/site-packages (from botocore<1.21.0,>=1.20.55->boto3>=1.14.12->sagemaker==1.72.0) (2.8.1)\n",
      "Requirement already satisfied: zipp>=0.5 in /home/ec2-user/anaconda3/envs/python3/lib/python3.6/site-packages (from importlib-metadata>=1.4.0->sagemaker==1.72.0) (3.4.0)\n",
      "Requirement already satisfied: typing-extensions>=3.6.4 in /home/ec2-user/anaconda3/envs/python3/lib/python3.6/site-packages (from importlib-metadata>=1.4.0->sagemaker==1.72.0) (3.7.4.3)\n",
      "Requirement already satisfied: pyparsing>=2.0.2 in /home/ec2-user/anaconda3/envs/python3/lib/python3.6/site-packages (from packaging>=20.0->sagemaker==1.72.0) (2.4.7)\n",
      "Requirement already satisfied: six>=1.9 in /home/ec2-user/anaconda3/envs/python3/lib/python3.6/site-packages (from protobuf>=3.1->sagemaker==1.72.0) (1.15.0)\n",
      "Installing collected packages: smdebug-rulesconfig, sagemaker\n",
      "  Attempting uninstall: smdebug-rulesconfig\n",
      "    Found existing installation: smdebug-rulesconfig 1.0.1\n",
      "    Uninstalling smdebug-rulesconfig-1.0.1:\n",
      "      Successfully uninstalled smdebug-rulesconfig-1.0.1\n",
      "  Attempting uninstall: sagemaker\n",
      "    Found existing installation: sagemaker 2.38.0\n",
      "    Uninstalling sagemaker-2.38.0:\n",
      "      Successfully uninstalled sagemaker-2.38.0\n",
      "Successfully installed sagemaker-1.72.0 smdebug-rulesconfig-0.1.4\n"
     ]
    }
   ],
   "source": [
    "# Make sure that we use SageMaker 1.x\n",
    "!pip install sagemaker==1.72.0"
   ]
  },
  {
   "cell_type": "markdown",
   "metadata": {},
   "source": [
    "## Step 1: Downloading the data\n",
    "\n",
    "The dataset we are going to use is very popular among researchers in Natural Language Processing, usually referred to as the [IMDb dataset](http://ai.stanford.edu/~amaas/data/sentiment/). It consists of movie reviews from the website [imdb.com](http://www.imdb.com/), each labeled as either '**pos**itive', if the reviewer enjoyed the film, or '**neg**ative' otherwise.\n",
    "\n",
    "> Maas, Andrew L., et al. [Learning Word Vectors for Sentiment Analysis](http://ai.stanford.edu/~amaas/data/sentiment/). In _Proceedings of the 49th Annual Meeting of the Association for Computational Linguistics: Human Language Technologies_. Association for Computational Linguistics, 2011.\n",
    "\n",
    "We begin by using some Jupyter Notebook magic to download and extract the dataset."
   ]
  },
  {
   "cell_type": "code",
   "execution_count": 2,
   "metadata": {},
   "outputs": [
    {
     "name": "stdout",
     "output_type": "stream",
     "text": [
      "mkdir: cannot create directory ‘../data’: File exists\n",
      "--2021-05-02 22:01:12--  http://ai.stanford.edu/~amaas/data/sentiment/aclImdb_v1.tar.gz\n",
      "Resolving ai.stanford.edu (ai.stanford.edu)... 171.64.68.10\n",
      "Connecting to ai.stanford.edu (ai.stanford.edu)|171.64.68.10|:80... connected.\n",
      "HTTP request sent, awaiting response... 200 OK\n",
      "Length: 84125825 (80M) [application/x-gzip]\n",
      "Saving to: ‘../data/aclImdb_v1.tar.gz’\n",
      "\n",
      "../data/aclImdb_v1. 100%[===================>]  80.23M  23.4MB/s    in 4.8s    \n",
      "\n",
      "2021-05-02 22:01:17 (16.9 MB/s) - ‘../data/aclImdb_v1.tar.gz’ saved [84125825/84125825]\n",
      "\n"
     ]
    }
   ],
   "source": [
    "%mkdir ../data\n",
    "!wget -O ../data/aclImdb_v1.tar.gz http://ai.stanford.edu/~amaas/data/sentiment/aclImdb_v1.tar.gz\n",
    "!tar -zxf ../data/aclImdb_v1.tar.gz -C ../data"
   ]
  },
  {
   "cell_type": "markdown",
   "metadata": {},
   "source": [
    "## Step 2: Preparing and Processing the data\n",
    "\n",
    "The data we have downloaded is split into various files, each of which contains a single review. It will be much easier going forward if we combine these individual files into two large files, one for training and one for testing."
   ]
  },
  {
   "cell_type": "code",
   "execution_count": 3,
   "metadata": {},
   "outputs": [],
   "source": [
    "import os\n",
    "import glob\n",
    "\n",
    "def read_imdb_data(data_dir='../data/aclImdb'):\n",
    "    data = {}\n",
    "    labels = {}\n",
    "    \n",
    "    for data_type in ['train', 'test']:\n",
    "        data[data_type] = {}\n",
    "        labels[data_type] = {}\n",
    "        \n",
    "        for sentiment in ['pos', 'neg']:\n",
    "            data[data_type][sentiment] = []\n",
    "            labels[data_type][sentiment] = []\n",
    "            \n",
    "            path = os.path.join(data_dir, data_type, sentiment, '*.txt')\n",
    "            files = glob.glob(path)\n",
    "            \n",
    "            for f in files:\n",
    "                with open(f) as review:\n",
    "                    data[data_type][sentiment].append(review.read())\n",
    "                    # Here we represent a positive review by '1' and a negative review by '0'\n",
    "                    labels[data_type][sentiment].append(1 if sentiment == 'pos' else 0)\n",
    "                    \n",
    "            assert len(data[data_type][sentiment]) == len(labels[data_type][sentiment]), \\\n",
    "                    \"{}/{} data size does not match labels size\".format(data_type, sentiment)\n",
    "                \n",
    "    return data, labels"
   ]
  },
  {
   "cell_type": "code",
   "execution_count": 4,
   "metadata": {},
   "outputs": [
    {
     "name": "stdout",
     "output_type": "stream",
     "text": [
      "IMDB reviews: train = 12500 pos / 12500 neg, test = 12500 pos / 12500 neg\n"
     ]
    }
   ],
   "source": [
    "data, labels = read_imdb_data()\n",
    "print(\"IMDB reviews: train = {} pos / {} neg, test = {} pos / {} neg\".format(\n",
    "            len(data['train']['pos']), len(data['train']['neg']),\n",
    "            len(data['test']['pos']), len(data['test']['neg'])))"
   ]
  },
  {
   "cell_type": "code",
   "execution_count": 5,
   "metadata": {},
   "outputs": [],
   "source": [
    "from sklearn.utils import shuffle\n",
    "\n",
    "def prepare_imdb_data(data, labels):\n",
    "    \"\"\"Prepare training and test sets from IMDb movie reviews.\"\"\"\n",
    "    \n",
    "    #Combine positive and negative reviews and labels\n",
    "    data_train = data['train']['pos'] + data['train']['neg']\n",
    "    data_test = data['test']['pos'] + data['test']['neg']\n",
    "    labels_train = labels['train']['pos'] + labels['train']['neg']\n",
    "    labels_test = labels['test']['pos'] + labels['test']['neg']\n",
    "    \n",
    "    #Shuffle reviews and corresponding labels within training and test sets\n",
    "    data_train, labels_train = shuffle(data_train, labels_train)\n",
    "    data_test, labels_test = shuffle(data_test, labels_test)\n",
    "    \n",
    "    # Return a unified training data, test data, training labels, test labets\n",
    "    return data_train, data_test, labels_train, labels_test"
   ]
  },
  {
   "cell_type": "code",
   "execution_count": 6,
   "metadata": {},
   "outputs": [
    {
     "name": "stdout",
     "output_type": "stream",
     "text": [
      "IMDb reviews (combined): train = 25000, test = 25000\n"
     ]
    }
   ],
   "source": [
    "train_X, test_X, train_y, test_y = prepare_imdb_data(data, labels)\n",
    "print(\"IMDb reviews (combined): train = {}, test = {}\".format(len(train_X), len(test_X)))"
   ]
  },
  {
   "cell_type": "code",
   "execution_count": 7,
   "metadata": {},
   "outputs": [
    {
     "data": {
      "text/plain": [
       "'Kiera Nightly moved straight from the P&P set to this action movie... she could hardly have chosen to remake her image more dramatically. A great success in Love Actually and as Lizie in Jane Austen\\'s classic, she is, once again, \"having a go\". Just as her bikini clad warrier woman in King Arthur was more skin than muscle, it is difficult to imagine this delicate frame standing up to a bounty hunters life... but then this is exactly what Domino Harvey (the real one) did, and I (being one of Nightly\\'s biggest fans) believe she carries if off.<br /><br />Stuff....<br /><br />* 90210 (for the non American world) is the post code of Beverly hills in LA, where all the film stars live. * Domino Harvey father\\'s mostfamous film was Manchurian Candidate (which appears in the film). * Domino Harvey died of a drug overdose in her bath before the film came out in June 2005, after having been arrested for drug dealing. She had just completed the negotiation for some of her music to be inlcuded in the film. * Kiera Knightly alludes to Domino Harvey\\'s sexuality in her interview with Lucy Liu.<br /><br />If you find this film a bit far fetched, then check out Domino Harvey, as the facts are more amazing than the fiction.'"
      ]
     },
     "execution_count": 7,
     "metadata": {},
     "output_type": "execute_result"
    }
   ],
   "source": [
    "train_X[100]"
   ]
  },
  {
   "cell_type": "markdown",
   "metadata": {},
   "source": [
    "## Processing the data\n",
    "\n",
    "Now that we have our training and testing datasets merged and ready to use, we need to start processing the raw data into something that will be useable by our machine learning algorithm. To begin with, we remove any html formatting and any non-alpha numeric characters that may appear in the reviews. We will do this in a very simplistic way using Python's regular expression module. We will discuss the reason for this rather simplistic pre-processing later on."
   ]
  },
  {
   "cell_type": "code",
   "execution_count": 8,
   "metadata": {},
   "outputs": [],
   "source": [
    "import re\n",
    "\n",
    "REPLACE_NO_SPACE = re.compile(\"(\\.)|(\\;)|(\\:)|(\\!)|(\\')|(\\?)|(\\,)|(\\\")|(\\()|(\\))|(\\[)|(\\])\")\n",
    "REPLACE_WITH_SPACE = re.compile(\"(<br\\s*/><br\\s*/>)|(\\-)|(\\/)\")\n",
    "\n",
    "def review_to_words(review):\n",
    "    words = REPLACE_NO_SPACE.sub(\"\", review.lower())\n",
    "    words = REPLACE_WITH_SPACE.sub(\" \", words)\n",
    "    return words"
   ]
  },
  {
   "cell_type": "code",
   "execution_count": 9,
   "metadata": {},
   "outputs": [
    {
     "data": {
      "text/plain": [
       "'kiera nightly moved straight from the p&p set to this action movie she could hardly have chosen to remake her image more dramatically a great success in love actually and as lizie in jane austens classic she is once again having a go just as her bikini clad warrier woman in king arthur was more skin than muscle it is difficult to imagine this delicate frame standing up to a bounty hunters life but then this is exactly what domino harvey the real one did and i being one of nightlys biggest fans believe she carries if off stuff * 90210 for the non american world is the post code of beverly hills in la where all the film stars live * domino harvey fathers mostfamous film was manchurian candidate which appears in the film * domino harvey died of a drug overdose in her bath before the film came out in june 2005 after having been arrested for drug dealing she had just completed the negotiation for some of her music to be inlcuded in the film * kiera knightly alludes to domino harveys sexuality in her interview with lucy liu if you find this film a bit far fetched then check out domino harvey as the facts are more amazing than the fiction'"
      ]
     },
     "execution_count": 9,
     "metadata": {},
     "output_type": "execute_result"
    }
   ],
   "source": [
    "review_to_words(train_X[100])"
   ]
  },
  {
   "cell_type": "code",
   "execution_count": 10,
   "metadata": {},
   "outputs": [],
   "source": [
    "import pickle\n",
    "\n",
    "cache_dir = os.path.join(\"../cache\", \"sentiment_web_app\")  # where to store cache files\n",
    "os.makedirs(cache_dir, exist_ok=True)  # ensure cache directory exists\n",
    "\n",
    "def preprocess_data(data_train, data_test, labels_train, labels_test,\n",
    "                    cache_dir=cache_dir, cache_file=\"preprocessed_data.pkl\"):\n",
    "    \"\"\"Convert each review to words; read from cache if available.\"\"\"\n",
    "\n",
    "    # If cache_file is not None, try to read from it first\n",
    "    cache_data = None\n",
    "    if cache_file is not None:\n",
    "        try:\n",
    "            with open(os.path.join(cache_dir, cache_file), \"rb\") as f:\n",
    "                cache_data = pickle.load(f)\n",
    "            print(\"Read preprocessed data from cache file:\", cache_file)\n",
    "        except:\n",
    "            pass  # unable to read from cache, but that's okay\n",
    "    \n",
    "    # If cache is missing, then do the heavy lifting\n",
    "    if cache_data is None:\n",
    "        # Preprocess training and test data to obtain words for each review\n",
    "        #words_train = list(map(review_to_words, data_train))\n",
    "        #words_test = list(map(review_to_words, data_test))\n",
    "        words_train = [review_to_words(review) for review in data_train]\n",
    "        words_test = [review_to_words(review) for review in data_test]\n",
    "        \n",
    "        # Write to cache file for future runs\n",
    "        if cache_file is not None:\n",
    "            cache_data = dict(words_train=words_train, words_test=words_test,\n",
    "                              labels_train=labels_train, labels_test=labels_test)\n",
    "            with open(os.path.join(cache_dir, cache_file), \"wb\") as f:\n",
    "                pickle.dump(cache_data, f)\n",
    "            print(\"Wrote preprocessed data to cache file:\", cache_file)\n",
    "    else:\n",
    "        # Unpack data loaded from cache file\n",
    "        words_train, words_test, labels_train, labels_test = (cache_data['words_train'],\n",
    "                cache_data['words_test'], cache_data['labels_train'], cache_data['labels_test'])\n",
    "    \n",
    "    return words_train, words_test, labels_train, labels_test"
   ]
  },
  {
   "cell_type": "code",
   "execution_count": 11,
   "metadata": {},
   "outputs": [
    {
     "name": "stdout",
     "output_type": "stream",
     "text": [
      "Wrote preprocessed data to cache file: preprocessed_data.pkl\n"
     ]
    }
   ],
   "source": [
    "# Preprocess data\n",
    "train_X, test_X, train_y, test_y = preprocess_data(train_X, test_X, train_y, test_y)"
   ]
  },
  {
   "cell_type": "markdown",
   "metadata": {},
   "source": [
    "### Extract Bag-of-Words features\n",
    "\n",
    "For the model we will be implementing, rather than using the reviews directly, we are going to transform each review into a Bag-of-Words feature representation. Keep in mind that 'in the wild' we will only have access to the training set so our transformer can only use the training set to construct a representation."
   ]
  },
  {
   "cell_type": "code",
   "execution_count": 12,
   "metadata": {},
   "outputs": [],
   "source": [
    "import numpy as np\n",
    "from sklearn.feature_extraction.text import CountVectorizer\n",
    "\n",
    "# sklearn.externals.joblib is deprecated in 0.21 and will be removed in 0.23. \n",
    "# from sklearn.externals import joblib\n",
    "\n",
    "# Import joblib package directly\n",
    "import joblib\n",
    "# joblib is an enhanced version of pickle that is more efficient for storing NumPy arrays\n",
    "\n",
    "def extract_BoW_features(words_train, words_test, vocabulary_size=5000,\n",
    "                         cache_dir=cache_dir, cache_file=\"bow_features.pkl\"):\n",
    "    \"\"\"Extract Bag-of-Words for a given set of documents, already preprocessed into words.\"\"\"\n",
    "    \n",
    "    # If cache_file is not None, try to read from it first\n",
    "    cache_data = None\n",
    "    if cache_file is not None:\n",
    "        try:\n",
    "            with open(os.path.join(cache_dir, cache_file), \"rb\") as f:\n",
    "                cache_data = joblib.load(f)\n",
    "            print(\"Read features from cache file:\", cache_file)\n",
    "        except:\n",
    "            pass  # unable to read from cache, but that's okay\n",
    "    \n",
    "    # If cache is missing, then do the heavy lifting\n",
    "    if cache_data is None:\n",
    "        # Fit a vectorizer to training documents and use it to transform them\n",
    "        # NOTE: Training documents have already been preprocessed and tokenized into words;\n",
    "        #       pass in dummy functions to skip those steps, e.g. preprocessor=lambda x: x\n",
    "        vectorizer = CountVectorizer(max_features=vocabulary_size)\n",
    "        features_train = vectorizer.fit_transform(words_train).toarray()\n",
    "\n",
    "        # Apply the same vectorizer to transform the test documents (ignore unknown words)\n",
    "        features_test = vectorizer.transform(words_test).toarray()\n",
    "        \n",
    "        # NOTE: Remember to convert the features using .toarray() for a compact representation\n",
    "        \n",
    "        # Write to cache file for future runs (store vocabulary as well)\n",
    "        if cache_file is not None:\n",
    "            vocabulary = vectorizer.vocabulary_\n",
    "            cache_data = dict(features_train=features_train, features_test=features_test,\n",
    "                             vocabulary=vocabulary)\n",
    "            with open(os.path.join(cache_dir, cache_file), \"wb\") as f:\n",
    "                joblib.dump(cache_data, f)\n",
    "            print(\"Wrote features to cache file:\", cache_file)\n",
    "    else:\n",
    "        # Unpack data loaded from cache file\n",
    "        features_train, features_test, vocabulary = (cache_data['features_train'],\n",
    "                cache_data['features_test'], cache_data['vocabulary'])\n",
    "    \n",
    "    # Return both the extracted features as well as the vocabulary\n",
    "    return features_train, features_test, vocabulary"
   ]
  },
  {
   "cell_type": "code",
   "execution_count": 13,
   "metadata": {},
   "outputs": [
    {
     "name": "stdout",
     "output_type": "stream",
     "text": [
      "Wrote features to cache file: bow_features.pkl\n"
     ]
    }
   ],
   "source": [
    "# Extract Bag of Words features for both training and test datasets\n",
    "train_X, test_X, vocabulary = extract_BoW_features(train_X, test_X)"
   ]
  },
  {
   "cell_type": "code",
   "execution_count": 14,
   "metadata": {},
   "outputs": [
    {
     "data": {
      "text/plain": [
       "5000"
      ]
     },
     "execution_count": 14,
     "metadata": {},
     "output_type": "execute_result"
    }
   ],
   "source": [
    "len(train_X[100])"
   ]
  },
  {
   "cell_type": "markdown",
   "metadata": {},
   "source": [
    "## Step 3: Upload data to S3\n",
    "\n",
    "Now that we have created the feature representation of our training (and testing) data, it is time to start setting up and using the XGBoost classifier provided by SageMaker.\n",
    "\n",
    "### Writing the datasets\n",
    "\n",
    "The XGBoost classifier that we will be using requires the dataset to be written to a file and stored using Amazon S3. To do this, we will start by splitting the training dataset into two parts, the data we will train the model with and a validation set. Then, we will write those datasets to a file locally and then upload the files to S3. In addition, we will write the test set to a file and upload that file to S3. This is so that we can use SageMakers Batch Transform functionality to test our model once we've fit it."
   ]
  },
  {
   "cell_type": "code",
   "execution_count": 15,
   "metadata": {},
   "outputs": [],
   "source": [
    "import pandas as pd\n",
    "\n",
    "# Earlier we shuffled the training dataset so to make things simple we can just assign\n",
    "# the first 10 000 reviews to the validation set and use the remaining reviews for training.\n",
    "val_X = pd.DataFrame(train_X[:10000])\n",
    "train_X = pd.DataFrame(train_X[10000:])\n",
    "\n",
    "val_y = pd.DataFrame(train_y[:10000])\n",
    "train_y = pd.DataFrame(train_y[10000:])"
   ]
  },
  {
   "cell_type": "markdown",
   "metadata": {},
   "source": [
    "The documentation for the XGBoost algorithm in SageMaker requires that the training and validation datasets should contain no headers or index and that the label should occur first for each sample.\n",
    "\n",
    "For more information about this and other algorithms, the SageMaker developer documentation can be found on __[Amazon's website.](https://docs.aws.amazon.com/sagemaker/latest/dg/)__"
   ]
  },
  {
   "cell_type": "code",
   "execution_count": 16,
   "metadata": {},
   "outputs": [],
   "source": [
    "# First we make sure that the local directory in which we'd like to store the training and validation csv files exists.\n",
    "data_dir = '../data/sentiment_web_app'\n",
    "if not os.path.exists(data_dir):\n",
    "    os.makedirs(data_dir)"
   ]
  },
  {
   "cell_type": "code",
   "execution_count": 17,
   "metadata": {},
   "outputs": [],
   "source": [
    "pd.DataFrame(test_X).to_csv(os.path.join(data_dir, 'test.csv'), header=False, index=False)\n",
    "\n",
    "pd.concat([val_y, val_X], axis=1).to_csv(os.path.join(data_dir, 'validation.csv'), header=False, index=False)\n",
    "pd.concat([train_y, train_X], axis=1).to_csv(os.path.join(data_dir, 'train.csv'), header=False, index=False)"
   ]
  },
  {
   "cell_type": "code",
   "execution_count": 18,
   "metadata": {},
   "outputs": [],
   "source": [
    "# To save a bit of memory we can set text_X, train_X, val_X, train_y and val_y to None.\n",
    "\n",
    "test_X = train_X = val_X = train_y = val_y = None"
   ]
  },
  {
   "cell_type": "markdown",
   "metadata": {},
   "source": [
    "### Uploading Training / Validation files to S3\n",
    "\n",
    "Amazon's S3 service allows us to store files that can be accessed by both the built-in training models such as the XGBoost model we will be using as well as custom models such as the one we will see a little later.\n",
    "\n",
    "For this and most other tasks we will be doing using SageMaker, there are two methods we could use. The first is to use the low level functionality of SageMaker which requires knowing each of the objects involved in the SageMaker environment. The second is to use the high level functionality in which certain choices have been made on the user's behalf. The low level approach benefits from allowing the user a great deal of flexibility while the high level approach makes development much quicker. For our purposes we will opt to use the high level approach although using the low-level approach is certainly an option.\n",
    "\n",
    "Recall the method `upload_data()` which is a member of the object representing our current SageMaker session. What this method does is upload the data to the default bucket (which is created if it does not exist) into the path described by the key_prefix variable. To see this for yourself, once you have uploaded the data files, go to the S3 console and look to see where the files have been uploaded.\n",
    "\n",
    "For additional resources, see the __[SageMaker API documentation](http://sagemaker.readthedocs.io/en/latest/)__ and in addition the __[SageMaker Developer Guide.](https://docs.aws.amazon.com/sagemaker/latest/dg/)__"
   ]
  },
  {
   "cell_type": "code",
   "execution_count": 19,
   "metadata": {},
   "outputs": [],
   "source": [
    "import sagemaker\n",
    "\n",
    "session = sagemaker.Session() # Store the current SageMaker session\n",
    "\n",
    "# S3 prefix (which folder will we use)\n",
    "prefix = 'sentiment-web-app'\n",
    "\n",
    "test_location = session.upload_data(os.path.join(data_dir, 'test.csv'), key_prefix=prefix)\n",
    "val_location = session.upload_data(os.path.join(data_dir, 'validation.csv'), key_prefix=prefix)\n",
    "train_location = session.upload_data(os.path.join(data_dir, 'train.csv'), key_prefix=prefix)"
   ]
  },
  {
   "cell_type": "markdown",
   "metadata": {},
   "source": [
    "## Step 4: Creating the XGBoost model\n",
    "\n",
    "Now that the data has been uploaded it is time to create the XGBoost model. To begin with, we need to do some setup. At this point it is worth discussing what a model is in SageMaker. It is easiest to think of a model of comprising three different objects in the SageMaker ecosystem, which interact with one another.\n",
    "\n",
    "- Model Artifacts\n",
    "- Training Code (Container)\n",
    "- Inference Code (Container)\n",
    "\n",
    "The Model Artifacts are what you might think of as the actual model itself. For example, if you were building a neural network, the model artifacts would be the weights of the various layers. In our case, for an XGBoost model, the artifacts are the actual trees that are created during training.\n",
    "\n",
    "The other two objects, the training code and the inference code are then used to manipulate the training artifacts. More precisely, the training code uses the training data that is provided and creates the model artifacts, while the inference code uses the model artifacts to make predictions on new data.\n",
    "\n",
    "The way that SageMaker runs the training and inference code is by making use of Docker containers. For now, think of a container as being a way of packaging code up so that dependencies aren't an issue."
   ]
  },
  {
   "cell_type": "code",
   "execution_count": 20,
   "metadata": {},
   "outputs": [],
   "source": [
    "from sagemaker import get_execution_role\n",
    "\n",
    "# Our current execution role is required when creating the model as the training\n",
    "# and inference code will need to access the model artifacts.\n",
    "role = get_execution_role()"
   ]
  },
  {
   "cell_type": "code",
   "execution_count": 21,
   "metadata": {},
   "outputs": [
    {
     "name": "stderr",
     "output_type": "stream",
     "text": [
      "'get_image_uri' method will be deprecated in favor of 'ImageURIProvider' class in SageMaker Python SDK v2.\n",
      "There is a more up to date SageMaker XGBoost image. To use the newer image, please set 'repo_version'='1.0-1'. For example:\n",
      "\tget_image_uri(region, 'xgboost', '1.0-1').\n"
     ]
    }
   ],
   "source": [
    "# We need to retrieve the location of the container which is provided by Amazon for using XGBoost.\n",
    "# As a matter of convenience, the training and inference code both use the same container.\n",
    "from sagemaker.amazon.amazon_estimator import get_image_uri\n",
    "\n",
    "container = get_image_uri(session.boto_region_name, 'xgboost')"
   ]
  },
  {
   "cell_type": "code",
   "execution_count": 22,
   "metadata": {},
   "outputs": [
    {
     "name": "stderr",
     "output_type": "stream",
     "text": [
      "Parameter image_name will be renamed to image_uri in SageMaker Python SDK v2.\n"
     ]
    }
   ],
   "source": [
    "# First we create a SageMaker estimator object for our model.\n",
    "xgb = sagemaker.estimator.Estimator(container, # The location of the container we wish to use\n",
    "                                    role,                                    # What is our current IAM Role\n",
    "                                    train_instance_count=1,                  # How many compute instances\n",
    "                                    train_instance_type='ml.m4.xlarge',      # What kind of compute instances\n",
    "                                    output_path='s3://{}/{}/output'.format(session.default_bucket(), prefix),\n",
    "                                    sagemaker_session=session)\n",
    "\n",
    "# And then set the algorithm specific parameters.\n",
    "xgb.set_hyperparameters(max_depth=5,\n",
    "                        eta=0.2,\n",
    "                        gamma=4,\n",
    "                        min_child_weight=6,\n",
    "                        subsample=0.8,\n",
    "                        silent=0,\n",
    "                        objective='binary:logistic',\n",
    "                        early_stopping_rounds=10,\n",
    "                        num_round=500)"
   ]
  },
  {
   "cell_type": "markdown",
   "metadata": {},
   "source": [
    "### Fit the XGBoost model\n",
    "\n",
    "Now that our model has been set up we simply need to attach the training and validation datasets and then ask SageMaker to set up the computation."
   ]
  },
  {
   "cell_type": "code",
   "execution_count": 23,
   "metadata": {},
   "outputs": [
    {
     "name": "stderr",
     "output_type": "stream",
     "text": [
      "'s3_input' class will be renamed to 'TrainingInput' in SageMaker Python SDK v2.\n",
      "'s3_input' class will be renamed to 'TrainingInput' in SageMaker Python SDK v2.\n"
     ]
    }
   ],
   "source": [
    "s3_input_train = sagemaker.s3_input(s3_data=train_location, content_type='csv')\n",
    "s3_input_validation = sagemaker.s3_input(s3_data=val_location, content_type='csv')"
   ]
  },
  {
   "cell_type": "code",
   "execution_count": 24,
   "metadata": {},
   "outputs": [
    {
     "name": "stdout",
     "output_type": "stream",
     "text": [
      "2021-05-02 22:03:21 Starting - Starting the training job...\n",
      "2021-05-02 22:03:23 Starting - Launching requested ML instances......\n",
      "2021-05-02 22:04:34 Starting - Preparing the instances for training......\n",
      "2021-05-02 22:05:47 Downloading - Downloading input data...\n",
      "2021-05-02 22:06:18 Training - Downloading the training image...\n",
      "2021-05-02 22:06:40 Training - Training image download completed. Training in progress.\u001b[34mArguments: train\u001b[0m\n",
      "\u001b[34m[2021-05-02:22:06:41:INFO] Running standalone xgboost training.\u001b[0m\n",
      "\u001b[34m[2021-05-02:22:06:41:INFO] File size need to be processed in the node: 238.5mb. Available memory size in the node: 8397.62mb\u001b[0m\n",
      "\u001b[34m[2021-05-02:22:06:41:INFO] Determined delimiter of CSV input is ','\u001b[0m\n",
      "\u001b[34m[22:06:41] S3DistributionType set as FullyReplicated\u001b[0m\n",
      "\u001b[34m[22:06:43] 15000x5000 matrix with 75000000 entries loaded from /opt/ml/input/data/train?format=csv&label_column=0&delimiter=,\u001b[0m\n",
      "\u001b[34m[2021-05-02:22:06:43:INFO] Determined delimiter of CSV input is ','\u001b[0m\n",
      "\u001b[34m[22:06:43] S3DistributionType set as FullyReplicated\u001b[0m\n",
      "\u001b[34m[22:06:44] 10000x5000 matrix with 50000000 entries loaded from /opt/ml/input/data/validation?format=csv&label_column=0&delimiter=,\u001b[0m\n",
      "\u001b[34m[22:06:48] src/tree/updater_prune.cc:74: tree pruning end, 1 roots, 40 extra nodes, 8 pruned nodes, max_depth=5\u001b[0m\n",
      "\u001b[34m[0]#011train-error:0.3054#011validation-error:0.3114\u001b[0m\n",
      "\u001b[34mMultiple eval metrics have been passed: 'validation-error' will be used for early stopping.\n",
      "\u001b[0m\n",
      "\u001b[34mWill train until validation-error hasn't improved in 10 rounds.\u001b[0m\n",
      "\u001b[34m[22:06:49] src/tree/updater_prune.cc:74: tree pruning end, 1 roots, 40 extra nodes, 4 pruned nodes, max_depth=5\u001b[0m\n",
      "\u001b[34m[1]#011train-error:0.285733#011validation-error:0.2995\u001b[0m\n",
      "\u001b[34m[22:06:51] src/tree/updater_prune.cc:74: tree pruning end, 1 roots, 42 extra nodes, 0 pruned nodes, max_depth=5\u001b[0m\n",
      "\u001b[34m[2]#011train-error:0.277133#011validation-error:0.2903\u001b[0m\n",
      "\u001b[34m[22:06:53] src/tree/updater_prune.cc:74: tree pruning end, 1 roots, 42 extra nodes, 8 pruned nodes, max_depth=5\u001b[0m\n",
      "\u001b[34m[3]#011train-error:0.272133#011validation-error:0.2854\u001b[0m\n",
      "\u001b[34m[22:06:54] src/tree/updater_prune.cc:74: tree pruning end, 1 roots, 24 extra nodes, 8 pruned nodes, max_depth=5\u001b[0m\n",
      "\u001b[34m[4]#011train-error:0.269867#011validation-error:0.2851\u001b[0m\n",
      "\u001b[34m[22:06:55] src/tree/updater_prune.cc:74: tree pruning end, 1 roots, 30 extra nodes, 4 pruned nodes, max_depth=5\u001b[0m\n",
      "\u001b[34m[5]#011train-error:0.256#011validation-error:0.2722\u001b[0m\n",
      "\u001b[34m[22:06:57] src/tree/updater_prune.cc:74: tree pruning end, 1 roots, 40 extra nodes, 0 pruned nodes, max_depth=5\u001b[0m\n",
      "\u001b[34m[6]#011train-error:0.249067#011validation-error:0.2679\u001b[0m\n",
      "\u001b[34m[22:06:58] src/tree/updater_prune.cc:74: tree pruning end, 1 roots, 36 extra nodes, 12 pruned nodes, max_depth=5\u001b[0m\n",
      "\u001b[34m[7]#011train-error:0.2368#011validation-error:0.2586\u001b[0m\n",
      "\u001b[34m[22:07:00] src/tree/updater_prune.cc:74: tree pruning end, 1 roots, 24 extra nodes, 10 pruned nodes, max_depth=5\u001b[0m\n",
      "\u001b[34m[8]#011train-error:0.233667#011validation-error:0.2549\u001b[0m\n",
      "\u001b[34m[22:07:01] src/tree/updater_prune.cc:74: tree pruning end, 1 roots, 34 extra nodes, 8 pruned nodes, max_depth=5\u001b[0m\n",
      "\u001b[34m[9]#011train-error:0.2288#011validation-error:0.2507\u001b[0m\n",
      "\u001b[34m[22:07:03] src/tree/updater_prune.cc:74: tree pruning end, 1 roots, 30 extra nodes, 2 pruned nodes, max_depth=5\u001b[0m\n",
      "\u001b[34m[10]#011train-error:0.2226#011validation-error:0.2484\u001b[0m\n",
      "\u001b[34m[22:07:04] src/tree/updater_prune.cc:74: tree pruning end, 1 roots, 24 extra nodes, 16 pruned nodes, max_depth=5\u001b[0m\n",
      "\u001b[34m[11]#011train-error:0.217333#011validation-error:0.2423\u001b[0m\n",
      "\u001b[34m[22:07:06] src/tree/updater_prune.cc:74: tree pruning end, 1 roots, 34 extra nodes, 10 pruned nodes, max_depth=5\u001b[0m\n",
      "\u001b[34m[12]#011train-error:0.212533#011validation-error:0.2379\u001b[0m\n",
      "\u001b[34m[22:07:08] src/tree/updater_prune.cc:74: tree pruning end, 1 roots, 38 extra nodes, 8 pruned nodes, max_depth=5\u001b[0m\n",
      "\u001b[34m[13]#011train-error:0.2062#011validation-error:0.234\u001b[0m\n",
      "\u001b[34m[22:07:09] src/tree/updater_prune.cc:74: tree pruning end, 1 roots, 18 extra nodes, 18 pruned nodes, max_depth=5\u001b[0m\n",
      "\u001b[34m[14]#011train-error:0.203933#011validation-error:0.2304\u001b[0m\n",
      "\u001b[34m[22:07:10] src/tree/updater_prune.cc:74: tree pruning end, 1 roots, 32 extra nodes, 2 pruned nodes, max_depth=5\u001b[0m\n",
      "\u001b[34m[15]#011train-error:0.201333#011validation-error:0.2285\u001b[0m\n",
      "\u001b[34m[22:07:12] src/tree/updater_prune.cc:74: tree pruning end, 1 roots, 24 extra nodes, 8 pruned nodes, max_depth=5\u001b[0m\n",
      "\u001b[34m[16]#011train-error:0.199667#011validation-error:0.2255\u001b[0m\n",
      "\u001b[34m[22:07:13] src/tree/updater_prune.cc:74: tree pruning end, 1 roots, 40 extra nodes, 2 pruned nodes, max_depth=5\u001b[0m\n",
      "\u001b[34m[17]#011train-error:0.196667#011validation-error:0.2229\u001b[0m\n",
      "\u001b[34m[22:07:15] src/tree/updater_prune.cc:74: tree pruning end, 1 roots, 30 extra nodes, 6 pruned nodes, max_depth=5\u001b[0m\n",
      "\u001b[34m[18]#011train-error:0.195#011validation-error:0.2188\u001b[0m\n",
      "\u001b[34m[22:07:16] src/tree/updater_prune.cc:74: tree pruning end, 1 roots, 36 extra nodes, 2 pruned nodes, max_depth=5\u001b[0m\n",
      "\u001b[34m[19]#011train-error:0.190133#011validation-error:0.2168\u001b[0m\n",
      "\u001b[34m[22:07:17] src/tree/updater_prune.cc:74: tree pruning end, 1 roots, 36 extra nodes, 4 pruned nodes, max_depth=5\u001b[0m\n",
      "\u001b[34m[20]#011train-error:0.186867#011validation-error:0.2159\u001b[0m\n",
      "\u001b[34m[22:07:19] src/tree/updater_prune.cc:74: tree pruning end, 1 roots, 20 extra nodes, 20 pruned nodes, max_depth=5\u001b[0m\n",
      "\u001b[34m[21]#011train-error:0.182467#011validation-error:0.2129\u001b[0m\n",
      "\u001b[34m[22:07:20] src/tree/updater_prune.cc:74: tree pruning end, 1 roots, 20 extra nodes, 12 pruned nodes, max_depth=5\u001b[0m\n",
      "\u001b[34m[22]#011train-error:0.181067#011validation-error:0.2109\u001b[0m\n",
      "\u001b[34m[22:07:21] src/tree/updater_prune.cc:74: tree pruning end, 1 roots, 30 extra nodes, 10 pruned nodes, max_depth=5\u001b[0m\n",
      "\u001b[34m[23]#011train-error:0.180133#011validation-error:0.2089\u001b[0m\n",
      "\u001b[34m[22:07:23] src/tree/updater_prune.cc:74: tree pruning end, 1 roots, 30 extra nodes, 14 pruned nodes, max_depth=5\u001b[0m\n",
      "\u001b[34m[24]#011train-error:0.178133#011validation-error:0.2077\u001b[0m\n",
      "\u001b[34m[22:07:24] src/tree/updater_prune.cc:74: tree pruning end, 1 roots, 24 extra nodes, 12 pruned nodes, max_depth=5\u001b[0m\n",
      "\u001b[34m[25]#011train-error:0.1776#011validation-error:0.2071\u001b[0m\n",
      "\u001b[34m[22:07:26] src/tree/updater_prune.cc:74: tree pruning end, 1 roots, 26 extra nodes, 12 pruned nodes, max_depth=5\u001b[0m\n",
      "\u001b[34m[26]#011train-error:0.1746#011validation-error:0.2037\u001b[0m\n",
      "\u001b[34m[22:07:27] src/tree/updater_prune.cc:74: tree pruning end, 1 roots, 22 extra nodes, 6 pruned nodes, max_depth=5\u001b[0m\n",
      "\u001b[34m[27]#011train-error:0.172#011validation-error:0.2012\u001b[0m\n",
      "\u001b[34m[22:07:28] src/tree/updater_prune.cc:74: tree pruning end, 1 roots, 28 extra nodes, 8 pruned nodes, max_depth=5\u001b[0m\n",
      "\u001b[34m[28]#011train-error:0.170333#011validation-error:0.2016\u001b[0m\n",
      "\u001b[34m[22:07:30] src/tree/updater_prune.cc:74: tree pruning end, 1 roots, 22 extra nodes, 20 pruned nodes, max_depth=5\u001b[0m\n",
      "\u001b[34m[29]#011train-error:0.168867#011validation-error:0.1994\u001b[0m\n",
      "\u001b[34m[22:07:31] src/tree/updater_prune.cc:74: tree pruning end, 1 roots, 22 extra nodes, 8 pruned nodes, max_depth=5\u001b[0m\n",
      "\u001b[34m[30]#011train-error:0.167#011validation-error:0.1975\u001b[0m\n",
      "\u001b[34m[22:07:32] src/tree/updater_prune.cc:74: tree pruning end, 1 roots, 34 extra nodes, 6 pruned nodes, max_depth=5\u001b[0m\n",
      "\u001b[34m[31]#011train-error:0.1664#011validation-error:0.1969\u001b[0m\n",
      "\u001b[34m[22:07:34] src/tree/updater_prune.cc:74: tree pruning end, 1 roots, 30 extra nodes, 4 pruned nodes, max_depth=5\u001b[0m\n",
      "\u001b[34m[32]#011train-error:0.164867#011validation-error:0.1943\u001b[0m\n",
      "\u001b[34m[22:07:35] src/tree/updater_prune.cc:74: tree pruning end, 1 roots, 24 extra nodes, 6 pruned nodes, max_depth=5\u001b[0m\n",
      "\u001b[34m[33]#011train-error:0.163467#011validation-error:0.1922\u001b[0m\n",
      "\u001b[34m[22:07:36] src/tree/updater_prune.cc:74: tree pruning end, 1 roots, 20 extra nodes, 10 pruned nodes, max_depth=5\u001b[0m\n",
      "\u001b[34m[34]#011train-error:0.161733#011validation-error:0.1918\u001b[0m\n",
      "\u001b[34m[22:07:38] src/tree/updater_prune.cc:74: tree pruning end, 1 roots, 22 extra nodes, 4 pruned nodes, max_depth=5\u001b[0m\n",
      "\u001b[34m[35]#011train-error:0.1594#011validation-error:0.1908\u001b[0m\n",
      "\u001b[34m[22:07:39] src/tree/updater_prune.cc:74: tree pruning end, 1 roots, 16 extra nodes, 4 pruned nodes, max_depth=5\u001b[0m\n",
      "\u001b[34m[36]#011train-error:0.1568#011validation-error:0.1895\u001b[0m\n",
      "\u001b[34m[22:07:40] src/tree/updater_prune.cc:74: tree pruning end, 1 roots, 28 extra nodes, 6 pruned nodes, max_depth=5\u001b[0m\n",
      "\u001b[34m[37]#011train-error:0.156#011validation-error:0.1885\u001b[0m\n",
      "\u001b[34m[22:07:42] src/tree/updater_prune.cc:74: tree pruning end, 1 roots, 18 extra nodes, 6 pruned nodes, max_depth=5\u001b[0m\n",
      "\u001b[34m[38]#011train-error:0.154267#011validation-error:0.1883\u001b[0m\n",
      "\u001b[34m[22:07:43] src/tree/updater_prune.cc:74: tree pruning end, 1 roots, 24 extra nodes, 12 pruned nodes, max_depth=5\u001b[0m\n",
      "\u001b[34m[39]#011train-error:0.152467#011validation-error:0.1873\u001b[0m\n",
      "\u001b[34m[22:07:45] src/tree/updater_prune.cc:74: tree pruning end, 1 roots, 22 extra nodes, 10 pruned nodes, max_depth=5\u001b[0m\n",
      "\u001b[34m[40]#011train-error:0.151333#011validation-error:0.1858\u001b[0m\n",
      "\u001b[34m[22:07:46] src/tree/updater_prune.cc:74: tree pruning end, 1 roots, 30 extra nodes, 10 pruned nodes, max_depth=5\u001b[0m\n",
      "\u001b[34m[41]#011train-error:0.1492#011validation-error:0.185\u001b[0m\n",
      "\u001b[34m[22:07:47] src/tree/updater_prune.cc:74: tree pruning end, 1 roots, 24 extra nodes, 12 pruned nodes, max_depth=5\u001b[0m\n",
      "\u001b[34m[42]#011train-error:0.147533#011validation-error:0.1851\u001b[0m\n",
      "\u001b[34m[22:07:49] src/tree/updater_prune.cc:74: tree pruning end, 1 roots, 22 extra nodes, 4 pruned nodes, max_depth=5\u001b[0m\n",
      "\u001b[34m[43]#011train-error:0.146267#011validation-error:0.1849\u001b[0m\n",
      "\u001b[34m[22:07:50] src/tree/updater_prune.cc:74: tree pruning end, 1 roots, 46 extra nodes, 8 pruned nodes, max_depth=5\u001b[0m\n",
      "\u001b[34m[44]#011train-error:0.145733#011validation-error:0.1843\u001b[0m\n",
      "\u001b[34m[22:07:51] src/tree/updater_prune.cc:74: tree pruning end, 1 roots, 20 extra nodes, 0 pruned nodes, max_depth=5\u001b[0m\n",
      "\u001b[34m[45]#011train-error:0.1446#011validation-error:0.1824\u001b[0m\n",
      "\u001b[34m[22:07:53] src/tree/updater_prune.cc:74: tree pruning end, 1 roots, 20 extra nodes, 10 pruned nodes, max_depth=5\u001b[0m\n",
      "\u001b[34m[46]#011train-error:0.1442#011validation-error:0.1816\u001b[0m\n",
      "\u001b[34m[22:07:54] src/tree/updater_prune.cc:74: tree pruning end, 1 roots, 30 extra nodes, 12 pruned nodes, max_depth=5\u001b[0m\n",
      "\u001b[34m[47]#011train-error:0.141933#011validation-error:0.1806\u001b[0m\n",
      "\u001b[34m[22:07:55] src/tree/updater_prune.cc:74: tree pruning end, 1 roots, 24 extra nodes, 10 pruned nodes, max_depth=5\u001b[0m\n",
      "\u001b[34m[48]#011train-error:0.141133#011validation-error:0.1804\u001b[0m\n",
      "\u001b[34m[22:07:57] src/tree/updater_prune.cc:74: tree pruning end, 1 roots, 18 extra nodes, 14 pruned nodes, max_depth=5\u001b[0m\n",
      "\u001b[34m[49]#011train-error:0.141#011validation-error:0.1802\u001b[0m\n",
      "\u001b[34m[22:07:58] src/tree/updater_prune.cc:74: tree pruning end, 1 roots, 22 extra nodes, 10 pruned nodes, max_depth=5\u001b[0m\n",
      "\u001b[34m[50]#011train-error:0.139533#011validation-error:0.1792\u001b[0m\n",
      "\u001b[34m[22:08:00] src/tree/updater_prune.cc:74: tree pruning end, 1 roots, 22 extra nodes, 18 pruned nodes, max_depth=5\u001b[0m\n",
      "\u001b[34m[51]#011train-error:0.139333#011validation-error:0.18\u001b[0m\n",
      "\u001b[34m[22:08:01] src/tree/updater_prune.cc:74: tree pruning end, 1 roots, 46 extra nodes, 2 pruned nodes, max_depth=5\u001b[0m\n",
      "\u001b[34m[52]#011train-error:0.1362#011validation-error:0.1788\u001b[0m\n",
      "\u001b[34m[22:08:02] src/tree/updater_prune.cc:74: tree pruning end, 1 roots, 22 extra nodes, 8 pruned nodes, max_depth=5\u001b[0m\n",
      "\u001b[34m[53]#011train-error:0.134867#011validation-error:0.1774\u001b[0m\n",
      "\u001b[34m[22:08:04] src/tree/updater_prune.cc:74: tree pruning end, 1 roots, 16 extra nodes, 2 pruned nodes, max_depth=5\u001b[0m\n",
      "\u001b[34m[54]#011train-error:0.134067#011validation-error:0.1775\u001b[0m\n",
      "\u001b[34m[22:08:06] src/tree/updater_prune.cc:74: tree pruning end, 1 roots, 26 extra nodes, 4 pruned nodes, max_depth=5\u001b[0m\n",
      "\u001b[34m[55]#011train-error:0.133533#011validation-error:0.1774\u001b[0m\n",
      "\u001b[34m[22:08:07] src/tree/updater_prune.cc:74: tree pruning end, 1 roots, 24 extra nodes, 16 pruned nodes, max_depth=5\u001b[0m\n",
      "\u001b[34m[56]#011train-error:0.1324#011validation-error:0.1769\u001b[0m\n",
      "\u001b[34m[22:08:09] src/tree/updater_prune.cc:74: tree pruning end, 1 roots, 26 extra nodes, 10 pruned nodes, max_depth=5\u001b[0m\n",
      "\u001b[34m[57]#011train-error:0.131533#011validation-error:0.1769\u001b[0m\n",
      "\u001b[34m[22:08:10] src/tree/updater_prune.cc:74: tree pruning end, 1 roots, 16 extra nodes, 6 pruned nodes, max_depth=5\u001b[0m\n",
      "\u001b[34m[58]#011train-error:0.130333#011validation-error:0.1755\u001b[0m\n",
      "\u001b[34m[22:08:11] src/tree/updater_prune.cc:74: tree pruning end, 1 roots, 14 extra nodes, 6 pruned nodes, max_depth=5\u001b[0m\n",
      "\u001b[34m[59]#011train-error:0.129333#011validation-error:0.175\u001b[0m\n",
      "\u001b[34m[22:08:13] src/tree/updater_prune.cc:74: tree pruning end, 1 roots, 14 extra nodes, 6 pruned nodes, max_depth=5\u001b[0m\n",
      "\u001b[34m[60]#011train-error:0.129#011validation-error:0.1735\u001b[0m\n",
      "\u001b[34m[22:08:14] src/tree/updater_prune.cc:74: tree pruning end, 1 roots, 34 extra nodes, 4 pruned nodes, max_depth=5\u001b[0m\n",
      "\u001b[34m[61]#011train-error:0.128333#011validation-error:0.1735\u001b[0m\n",
      "\u001b[34m[22:08:16] src/tree/updater_prune.cc:74: tree pruning end, 1 roots, 24 extra nodes, 8 pruned nodes, max_depth=5\u001b[0m\n",
      "\u001b[34m[62]#011train-error:0.128467#011validation-error:0.174\u001b[0m\n",
      "\u001b[34m[22:08:17] src/tree/updater_prune.cc:74: tree pruning end, 1 roots, 16 extra nodes, 10 pruned nodes, max_depth=5\u001b[0m\n",
      "\u001b[34m[63]#011train-error:0.1276#011validation-error:0.1725\u001b[0m\n",
      "\u001b[34m[22:08:18] src/tree/updater_prune.cc:74: tree pruning end, 1 roots, 18 extra nodes, 8 pruned nodes, max_depth=5\u001b[0m\n",
      "\u001b[34m[64]#011train-error:0.127467#011validation-error:0.1721\u001b[0m\n",
      "\u001b[34m[22:08:20] src/tree/updater_prune.cc:74: tree pruning end, 1 roots, 14 extra nodes, 6 pruned nodes, max_depth=5\u001b[0m\n",
      "\u001b[34m[65]#011train-error:0.1268#011validation-error:0.1717\u001b[0m\n",
      "\u001b[34m[22:08:21] src/tree/updater_prune.cc:74: tree pruning end, 1 roots, 20 extra nodes, 6 pruned nodes, max_depth=5\u001b[0m\n",
      "\u001b[34m[66]#011train-error:0.126067#011validation-error:0.1711\u001b[0m\n",
      "\u001b[34m[22:08:22] src/tree/updater_prune.cc:74: tree pruning end, 1 roots, 24 extra nodes, 10 pruned nodes, max_depth=5\u001b[0m\n",
      "\u001b[34m[67]#011train-error:0.1254#011validation-error:0.1708\u001b[0m\n",
      "\u001b[34m[22:08:24] src/tree/updater_prune.cc:74: tree pruning end, 1 roots, 14 extra nodes, 8 pruned nodes, max_depth=5\u001b[0m\n",
      "\u001b[34m[68]#011train-error:0.125067#011validation-error:0.1706\u001b[0m\n",
      "\u001b[34m[22:08:25] src/tree/updater_prune.cc:74: tree pruning end, 1 roots, 24 extra nodes, 6 pruned nodes, max_depth=5\u001b[0m\n",
      "\u001b[34m[69]#011train-error:0.1238#011validation-error:0.17\u001b[0m\n",
      "\u001b[34m[22:08:26] src/tree/updater_prune.cc:74: tree pruning end, 1 roots, 24 extra nodes, 18 pruned nodes, max_depth=5\u001b[0m\n",
      "\u001b[34m[70]#011train-error:0.1238#011validation-error:0.169\u001b[0m\n",
      "\u001b[34m[22:08:28] src/tree/updater_prune.cc:74: tree pruning end, 1 roots, 20 extra nodes, 14 pruned nodes, max_depth=5\u001b[0m\n",
      "\u001b[34m[71]#011train-error:0.1236#011validation-error:0.1689\u001b[0m\n",
      "\u001b[34m[22:08:29] src/tree/updater_prune.cc:74: tree pruning end, 1 roots, 14 extra nodes, 4 pruned nodes, max_depth=5\u001b[0m\n",
      "\u001b[34m[72]#011train-error:0.122667#011validation-error:0.1682\u001b[0m\n",
      "\u001b[34m[22:08:31] src/tree/updater_prune.cc:74: tree pruning end, 1 roots, 34 extra nodes, 4 pruned nodes, max_depth=5\u001b[0m\n",
      "\u001b[34m[73]#011train-error:0.122733#011validation-error:0.1682\u001b[0m\n",
      "\u001b[34m[22:08:32] src/tree/updater_prune.cc:74: tree pruning end, 1 roots, 10 extra nodes, 12 pruned nodes, max_depth=5\u001b[0m\n",
      "\u001b[34m[74]#011train-error:0.1222#011validation-error:0.1677\u001b[0m\n",
      "\u001b[34m[22:08:33] src/tree/updater_prune.cc:74: tree pruning end, 1 roots, 24 extra nodes, 8 pruned nodes, max_depth=5\u001b[0m\n",
      "\u001b[34m[75]#011train-error:0.121333#011validation-error:0.1676\u001b[0m\n",
      "\u001b[34m[22:08:35] src/tree/updater_prune.cc:74: tree pruning end, 1 roots, 30 extra nodes, 4 pruned nodes, max_depth=5\u001b[0m\n",
      "\u001b[34m[76]#011train-error:0.120067#011validation-error:0.1669\u001b[0m\n",
      "\u001b[34m[22:08:36] src/tree/updater_prune.cc:74: tree pruning end, 1 roots, 22 extra nodes, 10 pruned nodes, max_depth=5\u001b[0m\n",
      "\u001b[34m[77]#011train-error:0.119267#011validation-error:0.1663\u001b[0m\n",
      "\u001b[34m[22:08:37] src/tree/updater_prune.cc:74: tree pruning end, 1 roots, 14 extra nodes, 8 pruned nodes, max_depth=5\u001b[0m\n",
      "\u001b[34m[78]#011train-error:0.119533#011validation-error:0.1655\u001b[0m\n",
      "\u001b[34m[22:08:39] src/tree/updater_prune.cc:74: tree pruning end, 1 roots, 14 extra nodes, 14 pruned nodes, max_depth=5\u001b[0m\n",
      "\u001b[34m[79]#011train-error:0.1196#011validation-error:0.1651\u001b[0m\n",
      "\u001b[34m[22:08:40] src/tree/updater_prune.cc:74: tree pruning end, 1 roots, 16 extra nodes, 14 pruned nodes, max_depth=5\u001b[0m\n",
      "\u001b[34m[80]#011train-error:0.1194#011validation-error:0.1639\u001b[0m\n",
      "\u001b[34m[22:08:41] src/tree/updater_prune.cc:74: tree pruning end, 1 roots, 12 extra nodes, 10 pruned nodes, max_depth=5\u001b[0m\n",
      "\u001b[34m[81]#011train-error:0.1188#011validation-error:0.1638\u001b[0m\n",
      "\u001b[34m[22:08:43] src/tree/updater_prune.cc:74: tree pruning end, 1 roots, 24 extra nodes, 12 pruned nodes, max_depth=5\u001b[0m\n",
      "\u001b[34m[82]#011train-error:0.117467#011validation-error:0.1634\u001b[0m\n",
      "\u001b[34m[22:08:44] src/tree/updater_prune.cc:74: tree pruning end, 1 roots, 10 extra nodes, 8 pruned nodes, max_depth=5\u001b[0m\n",
      "\u001b[34m[83]#011train-error:0.116933#011validation-error:0.1627\u001b[0m\n",
      "\u001b[34m[22:08:46] src/tree/updater_prune.cc:74: tree pruning end, 1 roots, 42 extra nodes, 8 pruned nodes, max_depth=5\u001b[0m\n",
      "\u001b[34m[84]#011train-error:0.1154#011validation-error:0.1624\u001b[0m\n",
      "\u001b[34m[22:08:47] src/tree/updater_prune.cc:74: tree pruning end, 1 roots, 22 extra nodes, 18 pruned nodes, max_depth=5\u001b[0m\n",
      "\u001b[34m[85]#011train-error:0.114333#011validation-error:0.162\u001b[0m\n",
      "\u001b[34m[22:08:48] src/tree/updater_prune.cc:74: tree pruning end, 1 roots, 14 extra nodes, 14 pruned nodes, max_depth=5\u001b[0m\n",
      "\u001b[34m[86]#011train-error:0.113733#011validation-error:0.1604\u001b[0m\n",
      "\u001b[34m[22:08:50] src/tree/updater_prune.cc:74: tree pruning end, 1 roots, 18 extra nodes, 6 pruned nodes, max_depth=5\u001b[0m\n",
      "\u001b[34m[87]#011train-error:0.113#011validation-error:0.1594\u001b[0m\n",
      "\u001b[34m[22:08:51] src/tree/updater_prune.cc:74: tree pruning end, 1 roots, 14 extra nodes, 8 pruned nodes, max_depth=5\u001b[0m\n",
      "\u001b[34m[88]#011train-error:0.113133#011validation-error:0.1594\u001b[0m\n",
      "\u001b[34m[22:08:52] src/tree/updater_prune.cc:74: tree pruning end, 1 roots, 22 extra nodes, 8 pruned nodes, max_depth=5\u001b[0m\n",
      "\u001b[34m[89]#011train-error:0.112733#011validation-error:0.1591\u001b[0m\n",
      "\u001b[34m[22:08:54] src/tree/updater_prune.cc:74: tree pruning end, 1 roots, 20 extra nodes, 8 pruned nodes, max_depth=5\u001b[0m\n",
      "\u001b[34m[90]#011train-error:0.111333#011validation-error:0.1582\u001b[0m\n",
      "\u001b[34m[22:08:55] src/tree/updater_prune.cc:74: tree pruning end, 1 roots, 22 extra nodes, 4 pruned nodes, max_depth=5\u001b[0m\n",
      "\u001b[34m[91]#011train-error:0.110267#011validation-error:0.1579\u001b[0m\n",
      "\u001b[34m[22:08:56] src/tree/updater_prune.cc:74: tree pruning end, 1 roots, 30 extra nodes, 12 pruned nodes, max_depth=5\u001b[0m\n",
      "\u001b[34m[92]#011train-error:0.1092#011validation-error:0.1575\u001b[0m\n",
      "\u001b[34m[22:08:58] src/tree/updater_prune.cc:74: tree pruning end, 1 roots, 18 extra nodes, 8 pruned nodes, max_depth=5\u001b[0m\n",
      "\u001b[34m[93]#011train-error:0.108333#011validation-error:0.1574\u001b[0m\n",
      "\u001b[34m[22:08:59] src/tree/updater_prune.cc:74: tree pruning end, 1 roots, 16 extra nodes, 6 pruned nodes, max_depth=5\u001b[0m\n",
      "\u001b[34m[94]#011train-error:0.108#011validation-error:0.1563\u001b[0m\n",
      "\u001b[34m[22:09:01] src/tree/updater_prune.cc:74: tree pruning end, 1 roots, 14 extra nodes, 8 pruned nodes, max_depth=5\u001b[0m\n",
      "\u001b[34m[95]#011train-error:0.107933#011validation-error:0.1557\u001b[0m\n",
      "\u001b[34m[22:09:02] src/tree/updater_prune.cc:74: tree pruning end, 1 roots, 22 extra nodes, 2 pruned nodes, max_depth=5\u001b[0m\n",
      "\u001b[34m[96]#011train-error:0.107067#011validation-error:0.156\u001b[0m\n",
      "\u001b[34m[22:09:03] src/tree/updater_prune.cc:74: tree pruning end, 1 roots, 16 extra nodes, 12 pruned nodes, max_depth=5\u001b[0m\n",
      "\u001b[34m[97]#011train-error:0.1072#011validation-error:0.1547\u001b[0m\n",
      "\u001b[34m[22:09:05] src/tree/updater_prune.cc:74: tree pruning end, 1 roots, 20 extra nodes, 8 pruned nodes, max_depth=5\u001b[0m\n",
      "\u001b[34m[98]#011train-error:0.1074#011validation-error:0.155\u001b[0m\n",
      "\u001b[34m[22:09:07] src/tree/updater_prune.cc:74: tree pruning end, 1 roots, 20 extra nodes, 6 pruned nodes, max_depth=5\u001b[0m\n",
      "\u001b[34m[99]#011train-error:0.106#011validation-error:0.1557\u001b[0m\n",
      "\u001b[34m[22:09:08] src/tree/updater_prune.cc:74: tree pruning end, 1 roots, 10 extra nodes, 4 pruned nodes, max_depth=5\u001b[0m\n",
      "\u001b[34m[100]#011train-error:0.106067#011validation-error:0.1547\u001b[0m\n",
      "\u001b[34m[22:09:10] src/tree/updater_prune.cc:74: tree pruning end, 1 roots, 24 extra nodes, 16 pruned nodes, max_depth=5\u001b[0m\n",
      "\u001b[34m[101]#011train-error:0.105467#011validation-error:0.1538\u001b[0m\n",
      "\u001b[34m[22:09:11] src/tree/updater_prune.cc:74: tree pruning end, 1 roots, 12 extra nodes, 8 pruned nodes, max_depth=5\u001b[0m\n",
      "\u001b[34m[102]#011train-error:0.105267#011validation-error:0.1529\u001b[0m\n",
      "\u001b[34m[22:09:12] src/tree/updater_prune.cc:74: tree pruning end, 1 roots, 14 extra nodes, 6 pruned nodes, max_depth=5\u001b[0m\n",
      "\u001b[34m[103]#011train-error:0.104867#011validation-error:0.1536\u001b[0m\n",
      "\u001b[34m[22:09:14] src/tree/updater_prune.cc:74: tree pruning end, 1 roots, 14 extra nodes, 8 pruned nodes, max_depth=5\u001b[0m\n",
      "\u001b[34m[104]#011train-error:0.104067#011validation-error:0.1535\u001b[0m\n",
      "\u001b[34m[22:09:15] src/tree/updater_prune.cc:74: tree pruning end, 1 roots, 12 extra nodes, 6 pruned nodes, max_depth=5\u001b[0m\n",
      "\u001b[34m[105]#011train-error:0.104#011validation-error:0.1532\u001b[0m\n",
      "\u001b[34m[22:09:17] src/tree/updater_prune.cc:74: tree pruning end, 1 roots, 12 extra nodes, 6 pruned nodes, max_depth=5\u001b[0m\n",
      "\u001b[34m[106]#011train-error:0.104067#011validation-error:0.153\u001b[0m\n",
      "\u001b[34m[22:09:18] src/tree/updater_prune.cc:74: tree pruning end, 1 roots, 16 extra nodes, 2 pruned nodes, max_depth=5\u001b[0m\n",
      "\u001b[34m[107]#011train-error:0.103733#011validation-error:0.1521\u001b[0m\n",
      "\u001b[34m[22:09:19] src/tree/updater_prune.cc:74: tree pruning end, 1 roots, 10 extra nodes, 8 pruned nodes, max_depth=5\u001b[0m\n",
      "\u001b[34m[108]#011train-error:0.103133#011validation-error:0.1521\u001b[0m\n",
      "\u001b[34m[22:09:21] src/tree/updater_prune.cc:74: tree pruning end, 1 roots, 18 extra nodes, 10 pruned nodes, max_depth=5\u001b[0m\n",
      "\u001b[34m[109]#011train-error:0.102#011validation-error:0.1512\u001b[0m\n",
      "\u001b[34m[22:09:22] src/tree/updater_prune.cc:74: tree pruning end, 1 roots, 22 extra nodes, 10 pruned nodes, max_depth=5\u001b[0m\n",
      "\u001b[34m[110]#011train-error:0.101667#011validation-error:0.1509\u001b[0m\n",
      "\u001b[34m[22:09:23] src/tree/updater_prune.cc:74: tree pruning end, 1 roots, 14 extra nodes, 6 pruned nodes, max_depth=5\u001b[0m\n",
      "\u001b[34m[111]#011train-error:0.101533#011validation-error:0.1508\u001b[0m\n",
      "\u001b[34m[22:09:25] src/tree/updater_prune.cc:74: tree pruning end, 1 roots, 14 extra nodes, 8 pruned nodes, max_depth=5\u001b[0m\n",
      "\u001b[34m[112]#011train-error:0.1014#011validation-error:0.1508\u001b[0m\n",
      "\u001b[34m[22:09:26] src/tree/updater_prune.cc:74: tree pruning end, 1 roots, 26 extra nodes, 8 pruned nodes, max_depth=5\u001b[0m\n",
      "\u001b[34m[113]#011train-error:0.1004#011validation-error:0.151\u001b[0m\n",
      "\u001b[34m[22:09:27] src/tree/updater_prune.cc:74: tree pruning end, 1 roots, 12 extra nodes, 2 pruned nodes, max_depth=5\u001b[0m\n",
      "\u001b[34m[114]#011train-error:0.100533#011validation-error:0.1509\u001b[0m\n",
      "\u001b[34m[22:09:29] src/tree/updater_prune.cc:74: tree pruning end, 1 roots, 16 extra nodes, 2 pruned nodes, max_depth=5\u001b[0m\n",
      "\u001b[34m[115]#011train-error:0.099333#011validation-error:0.1502\u001b[0m\n",
      "\u001b[34m[22:09:30] src/tree/updater_prune.cc:74: tree pruning end, 1 roots, 12 extra nodes, 4 pruned nodes, max_depth=5\u001b[0m\n",
      "\u001b[34m[116]#011train-error:0.098933#011validation-error:0.1492\u001b[0m\n",
      "\u001b[34m[22:09:31] src/tree/updater_prune.cc:74: tree pruning end, 1 roots, 16 extra nodes, 12 pruned nodes, max_depth=5\u001b[0m\n",
      "\u001b[34m[117]#011train-error:0.098933#011validation-error:0.1489\u001b[0m\n",
      "\u001b[34m[22:09:33] src/tree/updater_prune.cc:74: tree pruning end, 1 roots, 16 extra nodes, 12 pruned nodes, max_depth=5\u001b[0m\n",
      "\u001b[34m[118]#011train-error:0.098467#011validation-error:0.1496\u001b[0m\n",
      "\u001b[34m[22:09:34] src/tree/updater_prune.cc:74: tree pruning end, 1 roots, 14 extra nodes, 8 pruned nodes, max_depth=5\u001b[0m\n",
      "\u001b[34m[119]#011train-error:0.098533#011validation-error:0.1497\u001b[0m\n",
      "\u001b[34m[22:09:36] src/tree/updater_prune.cc:74: tree pruning end, 1 roots, 14 extra nodes, 8 pruned nodes, max_depth=5\u001b[0m\n",
      "\u001b[34m[120]#011train-error:0.097467#011validation-error:0.1489\u001b[0m\n",
      "\u001b[34m[22:09:37] src/tree/updater_prune.cc:74: tree pruning end, 1 roots, 14 extra nodes, 6 pruned nodes, max_depth=5\u001b[0m\n",
      "\u001b[34m[121]#011train-error:0.096867#011validation-error:0.1485\u001b[0m\n",
      "\u001b[34m[22:09:38] src/tree/updater_prune.cc:74: tree pruning end, 1 roots, 12 extra nodes, 8 pruned nodes, max_depth=5\u001b[0m\n",
      "\u001b[34m[122]#011train-error:0.0968#011validation-error:0.1486\u001b[0m\n",
      "\u001b[34m[22:09:40] src/tree/updater_prune.cc:74: tree pruning end, 1 roots, 24 extra nodes, 14 pruned nodes, max_depth=5\u001b[0m\n",
      "\u001b[34m[123]#011train-error:0.0968#011validation-error:0.1485\u001b[0m\n",
      "\u001b[34m[22:09:41] src/tree/updater_prune.cc:74: tree pruning end, 1 roots, 24 extra nodes, 4 pruned nodes, max_depth=5\u001b[0m\n",
      "\u001b[34m[124]#011train-error:0.096333#011validation-error:0.149\u001b[0m\n",
      "\u001b[34m[22:09:42] src/tree/updater_prune.cc:74: tree pruning end, 1 roots, 20 extra nodes, 12 pruned nodes, max_depth=5\u001b[0m\n",
      "\u001b[34m[125]#011train-error:0.095933#011validation-error:0.1484\u001b[0m\n",
      "\u001b[34m[22:09:44] src/tree/updater_prune.cc:74: tree pruning end, 1 roots, 18 extra nodes, 2 pruned nodes, max_depth=5\u001b[0m\n",
      "\u001b[34m[126]#011train-error:0.0952#011validation-error:0.1478\u001b[0m\n",
      "\u001b[34m[22:09:45] src/tree/updater_prune.cc:74: tree pruning end, 1 roots, 20 extra nodes, 14 pruned nodes, max_depth=5\u001b[0m\n",
      "\u001b[34m[127]#011train-error:0.095067#011validation-error:0.148\u001b[0m\n",
      "\u001b[34m[22:09:46] src/tree/updater_prune.cc:74: tree pruning end, 1 roots, 18 extra nodes, 4 pruned nodes, max_depth=5\u001b[0m\n",
      "\u001b[34m[128]#011train-error:0.0942#011validation-error:0.1473\u001b[0m\n",
      "\u001b[34m[22:09:48] src/tree/updater_prune.cc:74: tree pruning end, 1 roots, 24 extra nodes, 4 pruned nodes, max_depth=5\u001b[0m\n",
      "\u001b[34m[129]#011train-error:0.094667#011validation-error:0.1477\u001b[0m\n",
      "\u001b[34m[22:09:49] src/tree/updater_prune.cc:74: tree pruning end, 1 roots, 20 extra nodes, 6 pruned nodes, max_depth=5\u001b[0m\n",
      "\u001b[34m[130]#011train-error:0.0936#011validation-error:0.1476\u001b[0m\n",
      "\u001b[34m[22:09:51] src/tree/updater_prune.cc:74: tree pruning end, 1 roots, 12 extra nodes, 2 pruned nodes, max_depth=5\u001b[0m\n",
      "\u001b[34m[131]#011train-error:0.093133#011validation-error:0.1469\u001b[0m\n",
      "\u001b[34m[22:09:52] src/tree/updater_prune.cc:74: tree pruning end, 1 roots, 12 extra nodes, 6 pruned nodes, max_depth=5\u001b[0m\n",
      "\u001b[34m[132]#011train-error:0.093#011validation-error:0.1467\u001b[0m\n",
      "\u001b[34m[22:09:53] src/tree/updater_prune.cc:74: tree pruning end, 1 roots, 30 extra nodes, 6 pruned nodes, max_depth=5\u001b[0m\n",
      "\u001b[34m[133]#011train-error:0.091#011validation-error:0.1463\u001b[0m\n",
      "\u001b[34m[22:09:55] src/tree/updater_prune.cc:74: tree pruning end, 1 roots, 30 extra nodes, 12 pruned nodes, max_depth=5\u001b[0m\n",
      "\u001b[34m[134]#011train-error:0.090067#011validation-error:0.1463\u001b[0m\n",
      "\u001b[34m[22:09:56] src/tree/updater_prune.cc:74: tree pruning end, 1 roots, 10 extra nodes, 4 pruned nodes, max_depth=5\u001b[0m\n",
      "\u001b[34m[135]#011train-error:0.089933#011validation-error:0.1455\u001b[0m\n",
      "\u001b[34m[22:09:57] src/tree/updater_prune.cc:74: tree pruning end, 1 roots, 10 extra nodes, 0 pruned nodes, max_depth=5\u001b[0m\n",
      "\u001b[34m[136]#011train-error:0.0896#011validation-error:0.1455\u001b[0m\n",
      "\u001b[34m[22:09:59] src/tree/updater_prune.cc:74: tree pruning end, 1 roots, 16 extra nodes, 2 pruned nodes, max_depth=5\u001b[0m\n",
      "\u001b[34m[137]#011train-error:0.089533#011validation-error:0.1453\u001b[0m\n",
      "\u001b[34m[22:10:00] src/tree/updater_prune.cc:74: tree pruning end, 1 roots, 18 extra nodes, 10 pruned nodes, max_depth=5\u001b[0m\n",
      "\u001b[34m[138]#011train-error:0.0892#011validation-error:0.1446\u001b[0m\n",
      "\u001b[34m[22:10:02] src/tree/updater_prune.cc:74: tree pruning end, 1 roots, 22 extra nodes, 10 pruned nodes, max_depth=5\u001b[0m\n",
      "\u001b[34m[139]#011train-error:0.0886#011validation-error:0.1445\u001b[0m\n",
      "\u001b[34m[22:10:03] src/tree/updater_prune.cc:74: tree pruning end, 1 roots, 16 extra nodes, 6 pruned nodes, max_depth=5\u001b[0m\n",
      "\u001b[34m[140]#011train-error:0.0882#011validation-error:0.1442\u001b[0m\n",
      "\u001b[34m[22:10:05] src/tree/updater_prune.cc:74: tree pruning end, 1 roots, 16 extra nodes, 10 pruned nodes, max_depth=5\u001b[0m\n",
      "\u001b[34m[141]#011train-error:0.0878#011validation-error:0.1437\u001b[0m\n",
      "\u001b[34m[22:10:06] src/tree/updater_prune.cc:74: tree pruning end, 1 roots, 18 extra nodes, 0 pruned nodes, max_depth=5\u001b[0m\n",
      "\u001b[34m[142]#011train-error:0.087667#011validation-error:0.1433\u001b[0m\n",
      "\u001b[34m[22:10:08] src/tree/updater_prune.cc:74: tree pruning end, 1 roots, 12 extra nodes, 8 pruned nodes, max_depth=5\u001b[0m\n",
      "\u001b[34m[143]#011train-error:0.087933#011validation-error:0.1429\u001b[0m\n",
      "\u001b[34m[22:10:09] src/tree/updater_prune.cc:74: tree pruning end, 1 roots, 22 extra nodes, 4 pruned nodes, max_depth=5\u001b[0m\n",
      "\u001b[34m[144]#011train-error:0.087333#011validation-error:0.1423\u001b[0m\n",
      "\u001b[34m[22:10:11] src/tree/updater_prune.cc:74: tree pruning end, 1 roots, 16 extra nodes, 10 pruned nodes, max_depth=5\u001b[0m\n",
      "\u001b[34m[145]#011train-error:0.086467#011validation-error:0.1432\u001b[0m\n",
      "\u001b[34m[22:10:12] src/tree/updater_prune.cc:74: tree pruning end, 1 roots, 10 extra nodes, 6 pruned nodes, max_depth=5\u001b[0m\n",
      "\u001b[34m[146]#011train-error:0.086533#011validation-error:0.1424\u001b[0m\n",
      "\u001b[34m[22:10:13] src/tree/updater_prune.cc:74: tree pruning end, 1 roots, 10 extra nodes, 4 pruned nodes, max_depth=5\u001b[0m\n",
      "\u001b[34m[147]#011train-error:0.086533#011validation-error:0.1417\u001b[0m\n",
      "\u001b[34m[22:10:15] src/tree/updater_prune.cc:74: tree pruning end, 1 roots, 12 extra nodes, 8 pruned nodes, max_depth=5\u001b[0m\n",
      "\u001b[34m[148]#011train-error:0.0864#011validation-error:0.1415\u001b[0m\n",
      "\u001b[34m[22:10:16] src/tree/updater_prune.cc:74: tree pruning end, 1 roots, 20 extra nodes, 16 pruned nodes, max_depth=5\u001b[0m\n",
      "\u001b[34m[149]#011train-error:0.085533#011validation-error:0.1412\u001b[0m\n",
      "\u001b[34m[22:10:18] src/tree/updater_prune.cc:74: tree pruning end, 1 roots, 18 extra nodes, 4 pruned nodes, max_depth=5\u001b[0m\n",
      "\u001b[34m[150]#011train-error:0.084867#011validation-error:0.1416\u001b[0m\n",
      "\u001b[34m[22:10:19] src/tree/updater_prune.cc:74: tree pruning end, 1 roots, 16 extra nodes, 10 pruned nodes, max_depth=5\u001b[0m\n",
      "\u001b[34m[151]#011train-error:0.084467#011validation-error:0.1417\u001b[0m\n",
      "\u001b[34m[22:10:20] src/tree/updater_prune.cc:74: tree pruning end, 1 roots, 14 extra nodes, 8 pruned nodes, max_depth=5\u001b[0m\n",
      "\u001b[34m[152]#011train-error:0.084333#011validation-error:0.1421\u001b[0m\n",
      "\u001b[34m[22:10:22] src/tree/updater_prune.cc:74: tree pruning end, 1 roots, 10 extra nodes, 6 pruned nodes, max_depth=5\u001b[0m\n",
      "\u001b[34m[153]#011train-error:0.0842#011validation-error:0.1419\u001b[0m\n",
      "\u001b[34m[22:10:23] src/tree/updater_prune.cc:74: tree pruning end, 1 roots, 14 extra nodes, 8 pruned nodes, max_depth=5\u001b[0m\n",
      "\u001b[34m[154]#011train-error:0.084467#011validation-error:0.1419\u001b[0m\n",
      "\u001b[34m[22:10:24] src/tree/updater_prune.cc:74: tree pruning end, 1 roots, 12 extra nodes, 10 pruned nodes, max_depth=5\u001b[0m\n",
      "\u001b[34m[155]#011train-error:0.084533#011validation-error:0.1424\u001b[0m\n",
      "\u001b[34m[22:10:26] src/tree/updater_prune.cc:74: tree pruning end, 1 roots, 16 extra nodes, 6 pruned nodes, max_depth=5\u001b[0m\n",
      "\u001b[34m[156]#011train-error:0.084333#011validation-error:0.1426\u001b[0m\n",
      "\u001b[34m[22:10:27] src/tree/updater_prune.cc:74: tree pruning end, 1 roots, 12 extra nodes, 0 pruned nodes, max_depth=5\u001b[0m\n",
      "\u001b[34m[157]#011train-error:0.084133#011validation-error:0.1421\u001b[0m\n",
      "\u001b[34m[22:10:28] src/tree/updater_prune.cc:74: tree pruning end, 1 roots, 12 extra nodes, 0 pruned nodes, max_depth=5\u001b[0m\n",
      "\u001b[34m[158]#011train-error:0.083867#011validation-error:0.1418\u001b[0m\n",
      "\u001b[34m[22:10:30] src/tree/updater_prune.cc:74: tree pruning end, 1 roots, 14 extra nodes, 6 pruned nodes, max_depth=5\u001b[0m\n",
      "\u001b[34m[159]#011train-error:0.083933#011validation-error:0.1413\u001b[0m\n",
      "\u001b[34mStopping. Best iteration:\u001b[0m\n",
      "\u001b[34m[149]#011train-error:0.085533#011validation-error:0.1412\n",
      "\u001b[0m\n",
      "\n",
      "2021-05-02 22:10:38 Uploading - Uploading generated training model\n",
      "2021-05-02 22:10:38 Completed - Training job completed\n",
      "Training seconds: 291\n",
      "Billable seconds: 291\n"
     ]
    }
   ],
   "source": [
    "xgb.fit({'train': s3_input_train, 'validation': s3_input_validation})"
   ]
  },
  {
   "cell_type": "markdown",
   "metadata": {},
   "source": [
    "## Step 5: Testing the model\n",
    "\n",
    "Now that we've fit our XGBoost model, it's time to see how well it performs. To do this we will use SageMakers Batch Transform functionality. Batch Transform is a convenient way to perform inference on a large dataset in a way that is not realtime. That is, we don't necessarily need to use our model's results immediately and instead we can perform inference on a large number of samples. An example of this in industry might be performing an end of month report. This method of inference can also be useful to us as it means that we can perform inference on our entire test set. \n",
    "\n",
    "To perform a Batch Transformation we need to first create a transformer objects from our trained estimator object."
   ]
  },
  {
   "cell_type": "code",
   "execution_count": 25,
   "metadata": {},
   "outputs": [
    {
     "name": "stderr",
     "output_type": "stream",
     "text": [
      "Parameter image will be renamed to image_uri in SageMaker Python SDK v2.\n"
     ]
    }
   ],
   "source": [
    "xgb_transformer = xgb.transformer(instance_count = 1, instance_type = 'ml.m4.xlarge')"
   ]
  },
  {
   "cell_type": "markdown",
   "metadata": {},
   "source": [
    "Next we actually perform the transform job. When doing so we need to make sure to specify the type of data we are sending so that it is serialized correctly in the background. In our case we are providing our model with csv data so we specify `text/csv`. Also, if the test data that we have provided is too large to process all at once then we need to specify how the data file should be split up. Since each line is a single entry in our data set we tell SageMaker that it can split the input on each line."
   ]
  },
  {
   "cell_type": "code",
   "execution_count": 26,
   "metadata": {},
   "outputs": [],
   "source": [
    "xgb_transformer.transform(test_location, content_type='text/csv', split_type='Line')"
   ]
  },
  {
   "cell_type": "markdown",
   "metadata": {},
   "source": [
    "Currently the transform job is running but it is doing so in the background. Since we wish to wait until the transform job is done and we would like a bit of feedback we can run the `wait()` method."
   ]
  },
  {
   "cell_type": "code",
   "execution_count": 27,
   "metadata": {},
   "outputs": [
    {
     "name": "stdout",
     "output_type": "stream",
     "text": [
      "...............................\u001b[34mArguments: serve\u001b[0m\n",
      "\u001b[34m[2021-05-02 22:16:02 +0000] [1] [INFO] Starting gunicorn 19.9.0\u001b[0m\n",
      "\u001b[34m[2021-05-02 22:16:02 +0000] [1] [INFO] Listening at: http://0.0.0.0:8080 (1)\u001b[0m\n",
      "\u001b[34m[2021-05-02 22:16:02 +0000] [1] [INFO] Using worker: gevent\u001b[0m\n",
      "\u001b[34m[2021-05-02 22:16:02 +0000] [20] [INFO] Booting worker with pid: 20\u001b[0m\n",
      "\u001b[34m[2021-05-02 22:16:02 +0000] [21] [INFO] Booting worker with pid: 21\u001b[0m\n",
      "\u001b[34m/opt/amazon/lib/python3.7/site-packages/gunicorn/workers/ggevent.py:65: MonkeyPatchWarning: Monkey-patching ssl after ssl has already been imported may lead to errors, including RecursionError on Python 3.6. It may also silently lead to incorrect behaviour on Python 3.7. Please monkey-patch earlier. See https://github.com/gevent/gevent/issues/1016. Modules that had direct imports (NOT patched): ['urllib3.util (/opt/amazon/lib/python3.7/site-packages/urllib3/util/__init__.py)', 'urllib3.util.ssl_ (/opt/amazon/lib/python3.7/site-packages/urllib3/util/ssl_.py)']. \n",
      "  monkey.patch_all(subprocess=True)\u001b[0m\n",
      "\u001b[34m[2021-05-02:22:16:02:INFO] Model loaded successfully for worker : 20\u001b[0m\n",
      "\u001b[35mArguments: serve\u001b[0m\n",
      "\u001b[35m[2021-05-02 22:16:02 +0000] [1] [INFO] Starting gunicorn 19.9.0\u001b[0m\n",
      "\u001b[35m[2021-05-02 22:16:02 +0000] [1] [INFO] Listening at: http://0.0.0.0:8080 (1)\u001b[0m\n",
      "\u001b[35m[2021-05-02 22:16:02 +0000] [1] [INFO] Using worker: gevent\u001b[0m\n",
      "\u001b[35m[2021-05-02 22:16:02 +0000] [20] [INFO] Booting worker with pid: 20\u001b[0m\n",
      "\u001b[35m[2021-05-02 22:16:02 +0000] [21] [INFO] Booting worker with pid: 21\u001b[0m\n",
      "\u001b[35m/opt/amazon/lib/python3.7/site-packages/gunicorn/workers/ggevent.py:65: MonkeyPatchWarning: Monkey-patching ssl after ssl has already been imported may lead to errors, including RecursionError on Python 3.6. It may also silently lead to incorrect behaviour on Python 3.7. Please monkey-patch earlier. See https://github.com/gevent/gevent/issues/1016. Modules that had direct imports (NOT patched): ['urllib3.util (/opt/amazon/lib/python3.7/site-packages/urllib3/util/__init__.py)', 'urllib3.util.ssl_ (/opt/amazon/lib/python3.7/site-packages/urllib3/util/ssl_.py)']. \n",
      "  monkey.patch_all(subprocess=True)\u001b[0m\n",
      "\u001b[35m[2021-05-02:22:16:02:INFO] Model loaded successfully for worker : 20\u001b[0m\n",
      "\u001b[34m/opt/amazon/lib/python3.7/site-packages/gunicorn/workers/ggevent.py:65: MonkeyPatchWarning: Monkey-patching ssl after ssl has already been imported may lead to errors, including RecursionError on Python 3.6. It may also silently lead to incorrect behaviour on Python 3.7. Please monkey-patch earlier. See https://github.com/gevent/gevent/issues/1016. Modules that had direct imports (NOT patched): ['urllib3.util (/opt/amazon/lib/python3.7/site-packages/urllib3/util/__init__.py)', 'urllib3.util.ssl_ (/opt/amazon/lib/python3.7/site-packages/urllib3/util/ssl_.py)']. \n",
      "  monkey.patch_all(subprocess=True)\u001b[0m\n",
      "\u001b[34m[2021-05-02:22:16:02:INFO] Model loaded successfully for worker : 21\u001b[0m\n",
      "\u001b[34m[2021-05-02 22:16:02 +0000] [22] [INFO] Booting worker with pid: 22\u001b[0m\n",
      "\u001b[34m/opt/amazon/lib/python3.7/site-packages/gunicorn/workers/ggevent.py:65: MonkeyPatchWarning: Monkey-patching ssl after ssl has already been imported may lead to errors, including RecursionError on Python 3.6. It may also silently lead to incorrect behaviour on Python 3.7. Please monkey-patch earlier. See https://github.com/gevent/gevent/issues/1016. Modules that had direct imports (NOT patched): ['urllib3.util (/opt/amazon/lib/python3.7/site-packages/urllib3/util/__init__.py)', 'urllib3.util.ssl_ (/opt/amazon/lib/python3.7/site-packages/urllib3/util/ssl_.py)']. \n",
      "  monkey.patch_all(subprocess=True)\u001b[0m\n",
      "\u001b[34m[2021-05-02:22:16:02:INFO] Model loaded successfully for worker : 22\u001b[0m\n",
      "\u001b[34m[2021-05-02 22:16:02 +0000] [23] [INFO] Booting worker with pid: 23\u001b[0m\n",
      "\u001b[34m/opt/amazon/lib/python3.7/site-packages/gunicorn/workers/ggevent.py:65: MonkeyPatchWarning: Monkey-patching ssl after ssl has already been imported may lead to errors, including RecursionError on Python 3.6. It may also silently lead to incorrect behaviour on Python 3.7. Please monkey-patch earlier. See https://github.com/gevent/gevent/issues/1016. Modules that had direct imports (NOT patched): ['urllib3.util (/opt/amazon/lib/python3.7/site-packages/urllib3/util/__init__.py)', 'urllib3.util.ssl_ (/opt/amazon/lib/python3.7/site-packages/urllib3/util/ssl_.py)']. \n",
      "  monkey.patch_all(subprocess=True)\u001b[0m\n",
      "\u001b[34m[2021-05-02:22:16:02:INFO] Model loaded successfully for worker : 23\u001b[0m\n",
      "\u001b[35m/opt/amazon/lib/python3.7/site-packages/gunicorn/workers/ggevent.py:65: MonkeyPatchWarning: Monkey-patching ssl after ssl has already been imported may lead to errors, including RecursionError on Python 3.6. It may also silently lead to incorrect behaviour on Python 3.7. Please monkey-patch earlier. See https://github.com/gevent/gevent/issues/1016. Modules that had direct imports (NOT patched): ['urllib3.util (/opt/amazon/lib/python3.7/site-packages/urllib3/util/__init__.py)', 'urllib3.util.ssl_ (/opt/amazon/lib/python3.7/site-packages/urllib3/util/ssl_.py)']. \n",
      "  monkey.patch_all(subprocess=True)\u001b[0m\n",
      "\u001b[35m[2021-05-02:22:16:02:INFO] Model loaded successfully for worker : 21\u001b[0m\n",
      "\u001b[35m[2021-05-02 22:16:02 +0000] [22] [INFO] Booting worker with pid: 22\u001b[0m\n",
      "\u001b[35m/opt/amazon/lib/python3.7/site-packages/gunicorn/workers/ggevent.py:65: MonkeyPatchWarning: Monkey-patching ssl after ssl has already been imported may lead to errors, including RecursionError on Python 3.6. It may also silently lead to incorrect behaviour on Python 3.7. Please monkey-patch earlier. See https://github.com/gevent/gevent/issues/1016. Modules that had direct imports (NOT patched): ['urllib3.util (/opt/amazon/lib/python3.7/site-packages/urllib3/util/__init__.py)', 'urllib3.util.ssl_ (/opt/amazon/lib/python3.7/site-packages/urllib3/util/ssl_.py)']. \n",
      "  monkey.patch_all(subprocess=True)\u001b[0m\n",
      "\u001b[35m[2021-05-02:22:16:02:INFO] Model loaded successfully for worker : 22\u001b[0m\n",
      "\u001b[35m[2021-05-02 22:16:02 +0000] [23] [INFO] Booting worker with pid: 23\u001b[0m\n",
      "\u001b[35m/opt/amazon/lib/python3.7/site-packages/gunicorn/workers/ggevent.py:65: MonkeyPatchWarning: Monkey-patching ssl after ssl has already been imported may lead to errors, including RecursionError on Python 3.6. It may also silently lead to incorrect behaviour on Python 3.7. Please monkey-patch earlier. See https://github.com/gevent/gevent/issues/1016. Modules that had direct imports (NOT patched): ['urllib3.util (/opt/amazon/lib/python3.7/site-packages/urllib3/util/__init__.py)', 'urllib3.util.ssl_ (/opt/amazon/lib/python3.7/site-packages/urllib3/util/ssl_.py)']. \n",
      "  monkey.patch_all(subprocess=True)\u001b[0m\n",
      "\u001b[35m[2021-05-02:22:16:02:INFO] Model loaded successfully for worker : 23\u001b[0m\n",
      "\u001b[34m[2021-05-02:22:16:09:INFO] Sniff delimiter as ','\u001b[0m\n",
      "\u001b[34m[2021-05-02:22:16:09:INFO] Determined delimiter of CSV input is ','\u001b[0m\n",
      "\u001b[34m[2021-05-02:22:16:09:INFO] Sniff delimiter as ','\u001b[0m\n",
      "\u001b[34m[2021-05-02:22:16:09:INFO] Determined delimiter of CSV input is ','\u001b[0m\n",
      "\u001b[34m[2021-05-02:22:16:09:INFO] Sniff delimiter as ','\u001b[0m\n",
      "\u001b[34m[2021-05-02:22:16:09:INFO] Determined delimiter of CSV input is ','\u001b[0m\n",
      "\u001b[34m[2021-05-02:22:16:09:INFO] Sniff delimiter as ','\u001b[0m\n",
      "\u001b[34m[2021-05-02:22:16:09:INFO] Determined delimiter of CSV input is ','\u001b[0m\n",
      "\u001b[35m[2021-05-02:22:16:09:INFO] Sniff delimiter as ','\u001b[0m\n",
      "\u001b[35m[2021-05-02:22:16:09:INFO] Determined delimiter of CSV input is ','\u001b[0m\n",
      "\u001b[35m[2021-05-02:22:16:09:INFO] Sniff delimiter as ','\u001b[0m\n",
      "\u001b[35m[2021-05-02:22:16:09:INFO] Determined delimiter of CSV input is ','\u001b[0m\n",
      "\u001b[35m[2021-05-02:22:16:09:INFO] Sniff delimiter as ','\u001b[0m\n",
      "\u001b[35m[2021-05-02:22:16:09:INFO] Determined delimiter of CSV input is ','\u001b[0m\n",
      "\u001b[35m[2021-05-02:22:16:09:INFO] Sniff delimiter as ','\u001b[0m\n",
      "\u001b[35m[2021-05-02:22:16:09:INFO] Determined delimiter of CSV input is ','\u001b[0m\n",
      "\u001b[32m2021-05-02T22:16:06.150:[sagemaker logs]: MaxConcurrentTransforms=4, MaxPayloadInMB=6, BatchStrategy=MULTI_RECORD\u001b[0m\n",
      "\u001b[34m[2021-05-02:22:16:13:INFO] Sniff delimiter as ','\u001b[0m\n",
      "\u001b[34m[2021-05-02:22:16:13:INFO] Determined delimiter of CSV input is ','\u001b[0m\n",
      "\u001b[35m[2021-05-02:22:16:13:INFO] Sniff delimiter as ','\u001b[0m\n",
      "\u001b[35m[2021-05-02:22:16:13:INFO] Determined delimiter of CSV input is ','\u001b[0m\n",
      "\u001b[34m[2021-05-02:22:16:13:INFO] Sniff delimiter as ','\u001b[0m\n",
      "\u001b[34m[2021-05-02:22:16:13:INFO] Determined delimiter of CSV input is ','\u001b[0m\n",
      "\u001b[34m[2021-05-02:22:16:13:INFO] Sniff delimiter as ','\u001b[0m\n",
      "\u001b[34m[2021-05-02:22:16:13:INFO] Determined delimiter of CSV input is ','\u001b[0m\n",
      "\u001b[34m[2021-05-02:22:16:13:INFO] Sniff delimiter as ','\u001b[0m\n",
      "\u001b[34m[2021-05-02:22:16:13:INFO] Determined delimiter of CSV input is ','\u001b[0m\n",
      "\u001b[35m[2021-05-02:22:16:13:INFO] Sniff delimiter as ','\u001b[0m\n",
      "\u001b[35m[2021-05-02:22:16:13:INFO] Determined delimiter of CSV input is ','\u001b[0m\n",
      "\u001b[35m[2021-05-02:22:16:13:INFO] Sniff delimiter as ','\u001b[0m\n",
      "\u001b[35m[2021-05-02:22:16:13:INFO] Determined delimiter of CSV input is ','\u001b[0m\n",
      "\u001b[35m[2021-05-02:22:16:13:INFO] Sniff delimiter as ','\u001b[0m\n",
      "\u001b[35m[2021-05-02:22:16:13:INFO] Determined delimiter of CSV input is ','\u001b[0m\n",
      "\u001b[34m[2021-05-02:22:16:17:INFO] Sniff delimiter as ','\u001b[0m\n",
      "\u001b[34m[2021-05-02:22:16:17:INFO] Determined delimiter of CSV input is ','\u001b[0m\n",
      "\u001b[35m[2021-05-02:22:16:17:INFO] Sniff delimiter as ','\u001b[0m\n",
      "\u001b[35m[2021-05-02:22:16:17:INFO] Determined delimiter of CSV input is ','\u001b[0m\n",
      "\u001b[34m[2021-05-02:22:16:20:INFO] Sniff delimiter as ','\u001b[0m\n",
      "\u001b[34m[2021-05-02:22:16:20:INFO] Determined delimiter of CSV input is ','\u001b[0m\n",
      "\u001b[34m[2021-05-02:22:16:21:INFO] Sniff delimiter as ','\u001b[0m\n",
      "\u001b[34m[2021-05-02:22:16:21:INFO] Determined delimiter of CSV input is ','\u001b[0m\n",
      "\u001b[34m[2021-05-02:22:16:21:INFO] Sniff delimiter as ','\u001b[0m\n",
      "\u001b[34m[2021-05-02:22:16:21:INFO] Determined delimiter of CSV input is ','\u001b[0m\n",
      "\u001b[35m[2021-05-02:22:16:20:INFO] Sniff delimiter as ','\u001b[0m\n",
      "\u001b[35m[2021-05-02:22:16:20:INFO] Determined delimiter of CSV input is ','\u001b[0m\n",
      "\u001b[35m[2021-05-02:22:16:21:INFO] Sniff delimiter as ','\u001b[0m\n",
      "\u001b[35m[2021-05-02:22:16:21:INFO] Determined delimiter of CSV input is ','\u001b[0m\n",
      "\u001b[35m[2021-05-02:22:16:21:INFO] Sniff delimiter as ','\u001b[0m\n",
      "\u001b[35m[2021-05-02:22:16:21:INFO] Determined delimiter of CSV input is ','\u001b[0m\n",
      "\u001b[34m[2021-05-02:22:16:21:INFO] Sniff delimiter as ','\u001b[0m\n",
      "\u001b[34m[2021-05-02:22:16:21:INFO] Determined delimiter of CSV input is ','\u001b[0m\n",
      "\u001b[35m[2021-05-02:22:16:21:INFO] Sniff delimiter as ','\u001b[0m\n",
      "\u001b[35m[2021-05-02:22:16:21:INFO] Determined delimiter of CSV input is ','\u001b[0m\n",
      "\u001b[34m[2021-05-02:22:16:24:INFO] Sniff delimiter as ','\u001b[0m\n",
      "\u001b[34m[2021-05-02:22:16:24:INFO] Determined delimiter of CSV input is ','\u001b[0m\n",
      "\u001b[34m[2021-05-02:22:16:24:INFO] Sniff delimiter as ','\u001b[0m\n",
      "\u001b[34m[2021-05-02:22:16:24:INFO] Determined delimiter of CSV input is ','\u001b[0m\n",
      "\u001b[34m[2021-05-02:22:16:25:INFO] Sniff delimiter as ','\u001b[0m\n",
      "\u001b[34m[2021-05-02:22:16:25:INFO] Determined delimiter of CSV input is ','\u001b[0m\n",
      "\u001b[34m[2021-05-02:22:16:25:INFO] Sniff delimiter as ','\u001b[0m\n",
      "\u001b[34m[2021-05-02:22:16:25:INFO] Determined delimiter of CSV input is ','\u001b[0m\n",
      "\u001b[35m[2021-05-02:22:16:24:INFO] Sniff delimiter as ','\u001b[0m\n",
      "\u001b[35m[2021-05-02:22:16:24:INFO] Determined delimiter of CSV input is ','\u001b[0m\n",
      "\u001b[35m[2021-05-02:22:16:24:INFO] Sniff delimiter as ','\u001b[0m\n",
      "\u001b[35m[2021-05-02:22:16:24:INFO] Determined delimiter of CSV input is ','\u001b[0m\n",
      "\u001b[35m[2021-05-02:22:16:25:INFO] Sniff delimiter as ','\u001b[0m\n",
      "\u001b[35m[2021-05-02:22:16:25:INFO] Determined delimiter of CSV input is ','\u001b[0m\n",
      "\u001b[35m[2021-05-02:22:16:25:INFO] Sniff delimiter as ','\u001b[0m\n",
      "\u001b[35m[2021-05-02:22:16:25:INFO] Determined delimiter of CSV input is ','\u001b[0m\n",
      "\u001b[34m[2021-05-02:22:16:32:INFO] Sniff delimiter as ','\u001b[0m\n",
      "\u001b[34m[2021-05-02:22:16:32:INFO] Determined delimiter of CSV input is ','\u001b[0m\n",
      "\u001b[35m[2021-05-02:22:16:32:INFO] Sniff delimiter as ','\u001b[0m\n",
      "\u001b[35m[2021-05-02:22:16:32:INFO] Determined delimiter of CSV input is ','\u001b[0m\n",
      "\u001b[34m[2021-05-02:22:16:32:INFO] Sniff delimiter as ','\u001b[0m\n",
      "\u001b[34m[2021-05-02:22:16:32:INFO] Determined delimiter of CSV input is ','\u001b[0m\n",
      "\u001b[34m[2021-05-02:22:16:32:INFO] Sniff delimiter as ','\u001b[0m\n",
      "\u001b[34m[2021-05-02:22:16:32:INFO] Determined delimiter of CSV input is ','\u001b[0m\n",
      "\u001b[34m[2021-05-02:22:16:32:INFO] Sniff delimiter as ','\u001b[0m\n",
      "\u001b[34m[2021-05-02:22:16:32:INFO] Determined delimiter of CSV input is ','\u001b[0m\n",
      "\u001b[35m[2021-05-02:22:16:32:INFO] Sniff delimiter as ','\u001b[0m\n",
      "\u001b[35m[2021-05-02:22:16:32:INFO] Determined delimiter of CSV input is ','\u001b[0m\n",
      "\u001b[35m[2021-05-02:22:16:32:INFO] Sniff delimiter as ','\u001b[0m\n",
      "\u001b[35m[2021-05-02:22:16:32:INFO] Determined delimiter of CSV input is ','\u001b[0m\n",
      "\u001b[35m[2021-05-02:22:16:32:INFO] Sniff delimiter as ','\u001b[0m\n",
      "\u001b[35m[2021-05-02:22:16:32:INFO] Determined delimiter of CSV input is ','\u001b[0m\n",
      "\u001b[34m[2021-05-02:22:16:36:INFO] Sniff delimiter as ','\u001b[0m\n",
      "\u001b[34m[2021-05-02:22:16:36:INFO] Determined delimiter of CSV input is ','\u001b[0m\n",
      "\u001b[35m[2021-05-02:22:16:36:INFO] Sniff delimiter as ','\u001b[0m\n",
      "\u001b[35m[2021-05-02:22:16:36:INFO] Determined delimiter of CSV input is ','\u001b[0m\n",
      "\u001b[34m[2021-05-02:22:16:40:INFO] Sniff delimiter as ','\u001b[0m\n",
      "\u001b[34m[2021-05-02:22:16:40:INFO] Determined delimiter of CSV input is ','\u001b[0m\n",
      "\u001b[34m[2021-05-02:22:16:40:INFO] Sniff delimiter as ','\u001b[0m\n",
      "\u001b[34m[2021-05-02:22:16:40:INFO] Determined delimiter of CSV input is ','\u001b[0m\n",
      "\u001b[34m[2021-05-02:22:16:40:INFO] Sniff delimiter as ','\u001b[0m\n",
      "\u001b[34m[2021-05-02:22:16:40:INFO] Determined delimiter of CSV input is ','\u001b[0m\n",
      "\u001b[35m[2021-05-02:22:16:40:INFO] Sniff delimiter as ','\u001b[0m\n",
      "\u001b[35m[2021-05-02:22:16:40:INFO] Determined delimiter of CSV input is ','\u001b[0m\n",
      "\u001b[35m[2021-05-02:22:16:40:INFO] Sniff delimiter as ','\u001b[0m\n",
      "\u001b[35m[2021-05-02:22:16:40:INFO] Determined delimiter of CSV input is ','\u001b[0m\n",
      "\u001b[35m[2021-05-02:22:16:40:INFO] Sniff delimiter as ','\u001b[0m\n",
      "\u001b[35m[2021-05-02:22:16:40:INFO] Determined delimiter of CSV input is ','\u001b[0m\n",
      "\u001b[34m[2021-05-02:22:16:40:INFO] Sniff delimiter as ','\u001b[0m\n",
      "\u001b[34m[2021-05-02:22:16:40:INFO] Determined delimiter of CSV input is ','\u001b[0m\n",
      "\u001b[35m[2021-05-02:22:16:40:INFO] Sniff delimiter as ','\u001b[0m\n",
      "\u001b[35m[2021-05-02:22:16:40:INFO] Determined delimiter of CSV input is ','\u001b[0m\n",
      "\u001b[34m[2021-05-02:22:16:43:INFO] Sniff delimiter as ','\u001b[0m\n",
      "\u001b[34m[2021-05-02:22:16:43:INFO] Determined delimiter of CSV input is ','\u001b[0m\n",
      "\u001b[34m[2021-05-02:22:16:44:INFO] Sniff delimiter as ','\u001b[0m\n",
      "\u001b[34m[2021-05-02:22:16:44:INFO] Determined delimiter of CSV input is ','\u001b[0m\n",
      "\u001b[34m[2021-05-02:22:16:44:INFO] Sniff delimiter as ','\u001b[0m\n",
      "\u001b[34m[2021-05-02:22:16:44:INFO] Determined delimiter of CSV input is ','\u001b[0m\n",
      "\u001b[35m[2021-05-02:22:16:43:INFO] Sniff delimiter as ','\u001b[0m\n",
      "\u001b[35m[2021-05-02:22:16:43:INFO] Determined delimiter of CSV input is ','\u001b[0m\n",
      "\u001b[35m[2021-05-02:22:16:44:INFO] Sniff delimiter as ','\u001b[0m\n",
      "\u001b[35m[2021-05-02:22:16:44:INFO] Determined delimiter of CSV input is ','\u001b[0m\n",
      "\u001b[35m[2021-05-02:22:16:44:INFO] Sniff delimiter as ','\u001b[0m\n",
      "\u001b[35m[2021-05-02:22:16:44:INFO] Determined delimiter of CSV input is ','\u001b[0m\n",
      "\u001b[34m[2021-05-02:22:16:44:INFO] Sniff delimiter as ','\u001b[0m\n",
      "\u001b[34m[2021-05-02:22:16:44:INFO] Determined delimiter of CSV input is ','\u001b[0m\n",
      "\u001b[35m[2021-05-02:22:16:44:INFO] Sniff delimiter as ','\u001b[0m\n",
      "\u001b[35m[2021-05-02:22:16:44:INFO] Determined delimiter of CSV input is ','\u001b[0m\n",
      "\n"
     ]
    }
   ],
   "source": [
    "xgb_transformer.wait()"
   ]
  },
  {
   "cell_type": "markdown",
   "metadata": {},
   "source": [
    "Now the transform job has executed and the result, the estimated sentiment of each review, has been saved on S3. Since we would rather work on this file locally we can perform a bit of notebook magic to copy the file to the `data_dir`."
   ]
  },
  {
   "cell_type": "code",
   "execution_count": 28,
   "metadata": {},
   "outputs": [
    {
     "name": "stdout",
     "output_type": "stream",
     "text": [
      "download: s3://sagemaker-us-east-1-888201120197/xgboost-2021-05-02-22-11-08-244/test.csv.out to ../data/sentiment_web_app/test.csv.out\r\n"
     ]
    }
   ],
   "source": [
    "!aws s3 cp --recursive $xgb_transformer.output_path $data_dir"
   ]
  },
  {
   "cell_type": "markdown",
   "metadata": {},
   "source": [
    "The last step is now to read in the output from our model, convert the output to something a little more usable, in this case we want the sentiment to be either `1` (positive) or `0` (negative), and then compare to the ground truth labels."
   ]
  },
  {
   "cell_type": "code",
   "execution_count": 29,
   "metadata": {},
   "outputs": [],
   "source": [
    "predictions = pd.read_csv(os.path.join(data_dir, 'test.csv.out'), header=None)\n",
    "predictions = [round(num) for num in predictions.squeeze().values]"
   ]
  },
  {
   "cell_type": "code",
   "execution_count": 30,
   "metadata": {},
   "outputs": [
    {
     "data": {
      "text/plain": [
       "0.85488"
      ]
     },
     "execution_count": 30,
     "metadata": {},
     "output_type": "execute_result"
    }
   ],
   "source": [
    "from sklearn.metrics import accuracy_score\n",
    "accuracy_score(test_y, predictions)"
   ]
  },
  {
   "cell_type": "markdown",
   "metadata": {},
   "source": [
    "## Step 6: Deploying the model\n",
    "\n",
    "Once we construct and fit our model, SageMaker stores the resulting model artifacts and we can use those to deploy an endpoint (inference code). To see this, look in the SageMaker console and you should see that a model has been created along with a link to the S3 location where the model artifacts have been stored.\n",
    "\n",
    "Deploying an endpoint is a lot like training the model with a few important differences. The first is that a deployed model doesn't change the model artifacts, so as you send it various testing instances the model won't change. Another difference is that since we aren't performing a fixed computation, as we were in the training step or while performing a batch transform, the compute instance that gets started stays running until we tell it to stop. This is important to note as if we forget and leave it running we will be charged the entire time.\n",
    "\n",
    "In other words **If you are no longer using a deployed endpoint, shut it down!**"
   ]
  },
  {
   "cell_type": "code",
   "execution_count": 31,
   "metadata": {},
   "outputs": [
    {
     "name": "stderr",
     "output_type": "stream",
     "text": [
      "Parameter image will be renamed to image_uri in SageMaker Python SDK v2.\n",
      "Using already existing model: xgboost-2021-05-02-22-03-21-259\n"
     ]
    },
    {
     "name": "stdout",
     "output_type": "stream",
     "text": [
      "-------------!"
     ]
    }
   ],
   "source": [
    "xgb_predictor = xgb.deploy(initial_instance_count = 1, instance_type = 'ml.m4.xlarge')"
   ]
  },
  {
   "cell_type": "markdown",
   "metadata": {},
   "source": [
    "### Testing the model (again)\n",
    "\n",
    "Now that we have deployed our endpoint, we can send the testing data to it and get back the inference results. We already did this earlier using the batch transform functionality of SageMaker, however, we will test our model again using the newly deployed endpoint so that we can make sure that it works properly and to get a bit of a feel for how the endpoint works.\n",
    "\n",
    "When using the created endpoint it is important to know that we are limited in the amount of information we can send in each call so we need to break the testing data up into chunks and then send each chunk. Also, we need to serialize our data before we send it to the endpoint to ensure that our data is transmitted properly. Fortunately, SageMaker can do the serialization part for us provided we tell it the format of our data."
   ]
  },
  {
   "cell_type": "code",
   "execution_count": 32,
   "metadata": {},
   "outputs": [],
   "source": [
    "from sagemaker.predictor import csv_serializer\n",
    "\n",
    "# We need to tell the endpoint what format the data we are sending is in so that SageMaker can perform the serialization.\n",
    "xgb_predictor.content_type = 'text/csv'\n",
    "xgb_predictor.serializer = csv_serializer"
   ]
  },
  {
   "cell_type": "code",
   "execution_count": 33,
   "metadata": {},
   "outputs": [],
   "source": [
    "# We split the data into chunks and send each chunk seperately, accumulating the results.\n",
    "\n",
    "def predict(data, rows=512):\n",
    "    split_array = np.array_split(data, int(data.shape[0] / float(rows) + 1))\n",
    "    predictions = ''\n",
    "    for array in split_array:\n",
    "        predictions = ','.join([predictions, xgb_predictor.predict(array).decode('utf-8')])\n",
    "    \n",
    "    return np.fromstring(predictions[1:], sep=',')"
   ]
  },
  {
   "cell_type": "code",
   "execution_count": 34,
   "metadata": {},
   "outputs": [],
   "source": [
    "test_X = pd.read_csv(os.path.join(data_dir, 'test.csv'), header=None).values\n",
    "\n",
    "predictions = predict(test_X)\n",
    "predictions = [round(num) for num in predictions]"
   ]
  },
  {
   "cell_type": "markdown",
   "metadata": {},
   "source": [
    "Lastly, we check to see what the accuracy of our model is."
   ]
  },
  {
   "cell_type": "code",
   "execution_count": 35,
   "metadata": {},
   "outputs": [
    {
     "data": {
      "text/plain": [
       "0.85488"
      ]
     },
     "execution_count": 35,
     "metadata": {},
     "output_type": "execute_result"
    }
   ],
   "source": [
    "from sklearn.metrics import accuracy_score\n",
    "accuracy_score(test_y, predictions)"
   ]
  },
  {
   "cell_type": "markdown",
   "metadata": {},
   "source": [
    "And the results here should agree with the model testing that we did earlier using the batch transform job.\n",
    "\n",
    "### Cleaning up\n",
    "\n",
    "Now that we've determined that deploying our model works as expected, we are going to shut it down. Remember that the longer the endpoint is left running, the greater the cost and since we have a bit more work to do before we are able to use our endpoint with our simple web app, we should shut everything down."
   ]
  },
  {
   "cell_type": "code",
   "execution_count": 36,
   "metadata": {},
   "outputs": [],
   "source": [
    "xgb_predictor.delete_endpoint()"
   ]
  },
  {
   "cell_type": "markdown",
   "metadata": {},
   "source": [
    "## Step 7: Putting our model to work\n",
    "\n",
    "As we've mentioned a few times now, our goal is to have our model deployed and then access it using a very simple web app. The intent is for this web app to take some user submitted data (a review), send it off to our endpoint (the model) and then display the result.\n",
    "\n",
    "However, there is a small catch. Currently the only way we can access the endpoint to send it data is using the SageMaker API. We can, if we wish, expose the actual URL that our model's endpoint is receiving data from, however, if we just send it data ourselves we will not get anything in return. This is because the endpoint created by SageMaker requires the entity accessing it have the correct permissions. So, we would need to somehow authenticate our web app with AWS.\n",
    "\n",
    "Having a website that authenticates to AWS seems a bit beyond the scope of this lesson so we will opt for an alternative approach. Namely, we will create a new endpoint which does not require authentication and which acts as a proxy for the SageMaker endpoint.\n",
    "\n",
    "As an additional constraint, we will try to avoid doing any data processing in the web app itself. Remember that when we constructed and tested our model we started with a movie review, then we simplified it by removing any html formatting and punctuation, then we constructed a bag of words embedding and the resulting vector is what we sent to our model. All of this needs to be done to our user input as well.\n",
    "\n",
    "Fortunately we can do all of this data processing in the backend, using Amazon's Lambda service.\n",
    "\n",
    "<img src=\"Web App Diagram.svg\">\n",
    "\n",
    "The diagram above gives an overview of how the various services will work together. On the far right is the model which we trained above and which will be deployed using SageMaker. On the far left is our web app that collects a user's movie review, sends it off and expects a positive or negative sentiment in return.\n",
    "\n",
    "In the middle is where some of the magic happens. We will construct a Lambda function, which you can think of as a straightforward Python function that can be executed whenever a specified event occurs. This Python function will do the data processing we need to perform on a user submitted review. In addition, we will give this function permission to send and recieve data from a SageMaker endpoint.\n",
    "\n",
    "Lastly, the method we will use to execute the Lambda function is a new endpoint that we will create using API Gateway. This endpoint will be a url that listens for data to be sent to it. Once it gets some data it will pass that data on to the Lambda function and then return whatever the Lambda function returns. Essentially it will act as an interface that lets our web app communicate with the Lambda function.\n",
    "\n",
    "### Processing a single review\n",
    "\n",
    "For now, suppose we are given a movie review by our user in the form of a string, like so:"
   ]
  },
  {
   "cell_type": "code",
   "execution_count": 37,
   "metadata": {},
   "outputs": [],
   "source": [
    "test_review = \"Nothing but a disgusting materialistic pageant of glistening abed remote control greed zombies, totally devoid of any heart or heat. A romantic comedy that has zero romantic chemestry and zero laughs!\""
   ]
  },
  {
   "cell_type": "markdown",
   "metadata": {},
   "source": [
    "How do we go from this string to the bag of words feature vector that is expected by our model?\n",
    "\n",
    "If we recall at the beginning of this notebook, the first step is to remove any unnecessary characters using the `review_to_words` method. Remember that we intentionally did this in a very simplistic way. This is because we are going to have to copy this method to our (eventual) Lambda function (we will go into more detail later) and this means it needs to be rather simplistic."
   ]
  },
  {
   "cell_type": "code",
   "execution_count": 38,
   "metadata": {},
   "outputs": [
    {
     "name": "stdout",
     "output_type": "stream",
     "text": [
      "nothing but a disgusting materialistic pageant of glistening abed remote control greed zombies totally devoid of any heart or heat a romantic comedy that has zero romantic chemestry and zero laughs\n"
     ]
    }
   ],
   "source": [
    "test_words = review_to_words(test_review)\n",
    "print(test_words)"
   ]
  },
  {
   "cell_type": "markdown",
   "metadata": {},
   "source": [
    "Next, we need to construct a bag of words embedding of the `test_words` string. To do this, remember that a bag of words embedding uses a `vocabulary` consisting of the most frequently appearing words in a set of documents. Then, for each word in the vocabulary we record the number of times that word appears in `test_words`. We constructed the `vocabulary` earlier using the training set for our problem so encoding `test_words` is relatively straightforward."
   ]
  },
  {
   "cell_type": "code",
   "execution_count": 39,
   "metadata": {},
   "outputs": [],
   "source": [
    "def bow_encoding(words, vocabulary):\n",
    "    bow = [0] * len(vocabulary) # Start by setting the count for each word in the vocabulary to zero.\n",
    "    for word in words.split():  # For each word in the string\n",
    "        if word in vocabulary:  # If the word is one that occurs in the vocabulary, increase its count.\n",
    "            bow[vocabulary[word]] += 1\n",
    "    return bow"
   ]
  },
  {
   "cell_type": "code",
   "execution_count": 40,
   "metadata": {},
   "outputs": [
    {
     "name": "stdout",
     "output_type": "stream",
     "text": [
      "[0, 0, 0, 0, 0, 0, 0, 0, 0, 0, 0, 0, 0, 0, 0, 0, 0, 0, 0, 0, 0, 0, 0, 0, 0, 0, 0, 0, 0, 0, 0, 0, 0, 0, 0, 0, 0, 0, 0, 0, 0, 0, 0, 0, 0, 0, 0, 0, 0, 0, 0, 0, 0, 0, 0, 0, 0, 0, 0, 0, 0, 0, 0, 0, 0, 0, 0, 0, 0, 0, 0, 0, 0, 0, 0, 0, 0, 0, 0, 0, 0, 0, 0, 0, 0, 0, 0, 0, 0, 0, 0, 0, 0, 0, 0, 0, 0, 0, 0, 0, 0, 0, 0, 0, 0, 0, 0, 0, 0, 0, 0, 0, 0, 0, 0, 0, 0, 0, 0, 0, 0, 0, 0, 0, 0, 0, 0, 0, 0, 0, 0, 0, 0, 0, 0, 0, 0, 0, 0, 0, 0, 0, 0, 0, 0, 0, 0, 0, 0, 0, 0, 0, 0, 0, 0, 0, 0, 0, 0, 0, 0, 0, 0, 0, 0, 0, 0, 0, 0, 0, 0, 0, 0, 0, 0, 0, 0, 0, 0, 0, 0, 0, 0, 0, 0, 0, 0, 0, 0, 0, 0, 0, 0, 0, 0, 0, 0, 0, 0, 0, 0, 0, 0, 0, 0, 0, 0, 0, 0, 0, 0, 0, 0, 0, 0, 0, 0, 0, 0, 0, 0, 0, 0, 0, 0, 0, 1, 0, 0, 0, 0, 0, 0, 0, 0, 0, 0, 0, 0, 0, 0, 0, 0, 0, 0, 0, 0, 0, 0, 0, 0, 0, 0, 0, 0, 0, 1, 0, 0, 0, 0, 0, 0, 0, 0, 0, 0, 0, 0, 0, 0, 0, 0, 0, 0, 0, 0, 0, 0, 0, 0, 0, 0, 0, 0, 0, 0, 0, 0, 0, 0, 0, 0, 0, 0, 0, 0, 0, 0, 0, 0, 0, 0, 0, 0, 0, 0, 0, 0, 0, 0, 0, 0, 0, 0, 0, 0, 0, 0, 0, 0, 0, 0, 0, 0, 0, 0, 0, 0, 0, 0, 0, 0, 0, 0, 0, 0, 0, 0, 0, 0, 0, 0, 0, 0, 0, 0, 0, 0, 0, 0, 0, 0, 0, 0, 0, 0, 0, 0, 0, 0, 0, 0, 0, 0, 0, 0, 0, 0, 0, 0, 0, 0, 0, 0, 0, 0, 0, 0, 0, 0, 0, 0, 0, 0, 0, 0, 0, 0, 0, 0, 0, 0, 0, 0, 0, 0, 0, 0, 0, 0, 0, 0, 0, 0, 0, 0, 0, 0, 0, 0, 0, 0, 0, 0, 0, 0, 0, 0, 0, 0, 0, 0, 0, 0, 0, 0, 0, 0, 0, 0, 0, 0, 0, 0, 0, 0, 0, 0, 0, 0, 0, 0, 0, 0, 0, 0, 0, 0, 0, 0, 0, 0, 0, 0, 0, 0, 0, 0, 0, 0, 0, 0, 0, 0, 0, 0, 0, 0, 0, 0, 0, 0, 0, 0, 0, 0, 0, 0, 0, 0, 0, 0, 0, 0, 0, 0, 0, 0, 0, 0, 0, 0, 0, 0, 0, 0, 0, 0, 0, 0, 0, 0, 0, 0, 0, 0, 0, 0, 0, 0, 0, 0, 0, 0, 0, 0, 0, 0, 0, 0, 0, 0, 0, 0, 0, 0, 0, 0, 0, 0, 0, 0, 0, 0, 0, 0, 0, 0, 0, 0, 0, 0, 0, 0, 0, 0, 0, 0, 0, 0, 0, 0, 0, 0, 0, 0, 0, 0, 0, 0, 0, 0, 0, 0, 0, 0, 0, 0, 0, 0, 0, 0, 0, 0, 0, 0, 0, 0, 0, 0, 0, 0, 0, 0, 0, 0, 0, 0, 0, 0, 0, 0, 0, 0, 0, 0, 0, 0, 0, 0, 0, 0, 0, 0, 0, 0, 0, 0, 0, 0, 0, 0, 0, 0, 0, 0, 0, 0, 0, 0, 0, 0, 0, 0, 0, 0, 0, 0, 0, 0, 0, 0, 0, 0, 0, 1, 0, 0, 0, 0, 0, 0, 0, 0, 0, 0, 0, 0, 0, 0, 0, 0, 0, 0, 0, 0, 0, 0, 0, 0, 0, 0, 0, 0, 0, 0, 0, 0, 0, 0, 0, 0, 0, 0, 0, 0, 0, 0, 0, 0, 0, 0, 0, 0, 0, 0, 0, 0, 0, 0, 0, 0, 0, 0, 0, 0, 0, 0, 0, 0, 0, 0, 0, 0, 0, 0, 0, 0, 0, 0, 0, 0, 0, 0, 0, 0, 0, 0, 0, 0, 0, 0, 0, 0, 0, 0, 0, 0, 0, 0, 0, 0, 0, 0, 0, 0, 0, 0, 0, 0, 0, 0, 0, 0, 0, 0, 0, 0, 0, 0, 0, 0, 0, 0, 0, 0, 0, 0, 0, 0, 0, 0, 0, 0, 0, 0, 0, 0, 0, 0, 0, 0, 0, 0, 0, 0, 0, 0, 0, 0, 0, 0, 0, 0, 0, 0, 0, 0, 0, 0, 0, 0, 0, 0, 0, 0, 0, 0, 0, 0, 0, 0, 0, 0, 0, 0, 0, 0, 0, 0, 0, 0, 0, 0, 0, 0, 0, 0, 0, 0, 0, 0, 0, 0, 0, 0, 0, 0, 0, 0, 0, 0, 0, 0, 0, 0, 0, 0, 0, 0, 0, 0, 0, 0, 0, 0, 0, 0, 0, 0, 0, 0, 0, 0, 0, 0, 0, 0, 0, 0, 0, 0, 0, 0, 0, 0, 0, 0, 0, 0, 0, 0, 0, 0, 0, 0, 0, 0, 0, 0, 0, 0, 0, 0, 0, 0, 0, 0, 0, 1, 0, 0, 0, 0, 0, 0, 0, 0, 0, 0, 0, 0, 0, 0, 0, 0, 0, 0, 0, 0, 0, 0, 0, 0, 0, 0, 0, 0, 0, 0, 0, 0, 0, 0, 0, 0, 0, 0, 0, 0, 0, 0, 0, 0, 0, 0, 0, 0, 0, 0, 0, 0, 0, 0, 0, 0, 0, 0, 0, 0, 0, 0, 0, 0, 0, 0, 0, 0, 0, 0, 0, 0, 0, 0, 0, 0, 0, 0, 0, 0, 0, 0, 0, 0, 0, 0, 1, 0, 0, 0, 0, 0, 0, 0, 0, 0, 0, 0, 0, 0, 0, 0, 0, 0, 0, 0, 0, 0, 0, 0, 0, 0, 0, 0, 0, 0, 0, 0, 0, 0, 0, 0, 0, 0, 0, 0, 0, 0, 0, 0, 0, 0, 0, 0, 0, 0, 0, 0, 0, 0, 0, 0, 0, 0, 0, 0, 0, 0, 0, 0, 0, 0, 0, 0, 0, 0, 0, 0, 0, 0, 0, 0, 0, 0, 0, 0, 0, 0, 0, 0, 0, 0, 0, 0, 0, 0, 0, 0, 0, 0, 0, 0, 0, 0, 0, 0, 0, 0, 0, 0, 0, 0, 0, 0, 0, 0, 0, 0, 0, 0, 0, 0, 0, 0, 0, 0, 0, 0, 0, 0, 0, 0, 0, 0, 0, 0, 0, 0, 0, 0, 0, 0, 0, 0, 0, 0, 0, 0, 0, 0, 0, 0, 0, 0, 0, 0, 0, 0, 0, 0, 0, 0, 0, 0, 0, 0, 0, 0, 0, 0, 0, 0, 0, 0, 0, 0, 0, 0, 0, 0, 0, 0, 0, 0, 0, 0, 0, 0, 0, 0, 0, 0, 0, 0, 0, 0, 0, 0, 0, 0, 0, 0, 0, 0, 0, 0, 0, 0, 0, 0, 0, 0, 0, 0, 0, 0, 0, 0, 0, 0, 0, 0, 0, 0, 0, 0, 0, 0, 0, 0, 0, 0, 0, 0, 0, 0, 0, 0, 0, 0, 0, 0, 0, 0, 0, 0, 0, 0, 0, 0, 0, 0, 0, 0, 0, 0, 0, 0, 0, 1, 0, 0, 0, 0, 0, 0, 0, 0, 0, 0, 0, 0, 0, 0, 0, 0, 0, 0, 0, 0, 0, 0, 0, 0, 0, 0, 0, 0, 0, 0, 0, 0, 0, 0, 0, 0, 0, 0, 0, 0, 0, 0, 0, 0, 0, 0, 0, 0, 0, 0, 0, 0, 0, 0, 0, 1, 0, 0, 0, 0, 0, 0, 0, 0, 0, 0, 0, 0, 0, 0, 0, 0, 0, 0, 0, 0, 0, 0, 0, 0, 0, 0, 0, 0, 0, 0, 0, 0, 0, 0, 0, 0, 0, 0, 0, 0, 0, 0, 0, 0, 0, 0, 0, 0, 0, 0, 0, 0, 0, 0, 0, 0, 0, 0, 0, 0, 0, 0, 0, 0, 0, 0, 0, 0, 0, 0, 0, 0, 0, 0, 0, 0, 0, 0, 0, 0, 0, 0, 0, 0, 0, 0, 0, 0, 0, 0, 0, 0, 0, 0, 0, 0, 0, 0, 0, 0, 0, 0, 0, 0, 0, 0, 0, 0, 0, 0, 0, 0, 0, 0, 0, 0, 0, 0, 0, 0, 0, 0, 0, 0, 0, 0, 0, 0, 0, 0, 0, 0, 0, 0, 0, 0, 0, 0, 0, 0, 0, 0, 0, 0, 0, 0, 0, 0, 0, 0, 0, 0, 0, 0, 0, 0, 0, 0, 0, 0, 0, 0, 0, 0, 0, 0, 0, 0, 0, 0, 0, 0, 0, 0, 0, 0, 0, 0, 0, 0, 0, 0, 0, 0, 0, 0, 0, 0, 0, 0, 0, 0, 0, 0, 0, 0, 0, 0, 0, 0, 0, 0, 0, 0, 0, 0, 0, 0, 0, 0, 0, 0, 0, 0, 0, 0, 0, 0, 0, 0, 0, 0, 0, 0, 0, 0, 0, 0, 0, 0, 0, 0, 0, 0, 0, 0, 0, 0, 0, 0, 0, 0, 0, 0, 0, 0, 0, 0, 0, 0, 0, 0, 0, 0, 0, 0, 0, 0, 0, 0, 0, 0, 0, 0, 0, 0, 0, 0, 0, 0, 0, 0, 0, 0, 0, 0, 0, 0, 0, 0, 0, 0, 0, 0, 0, 0, 0, 0, 0, 0, 0, 0, 0, 0, 0, 0, 0, 0, 0, 0, 0, 0, 0, 0, 0, 0, 0, 0, 0, 0, 0, 0, 0, 0, 0, 0, 0, 0, 0, 0, 0, 0, 0, 0, 0, 0, 0, 0, 0, 0, 0, 0, 0, 0, 0, 0, 0, 0, 0, 0, 0, 0, 0, 0, 0, 0, 0, 0, 0, 0, 0, 0, 0, 0, 0, 0, 0, 0, 0, 0, 0, 0, 0, 0, 0, 0, 0, 0, 0, 0, 0, 0, 0, 0, 0, 0, 0, 0, 0, 0, 0, 0, 0, 0, 0, 0, 0, 0, 0, 0, 0, 0, 0, 0, 0, 0, 0, 0, 0, 0, 0, 0, 0, 0, 0, 0, 0, 0, 0, 0, 0, 0, 0, 0, 0, 0, 0, 0, 0, 0, 0, 0, 0, 0, 0, 0, 0, 0, 0, 0, 0, 0, 0, 0, 0, 0, 0, 0, 0, 0, 0, 0, 0, 0, 0, 0, 0, 0, 0, 0, 0, 0, 0, 0, 0, 0, 0, 0, 0, 0, 0, 0, 0, 0, 0, 0, 0, 0, 0, 0, 0, 0, 0, 0, 0, 0, 0, 0, 0, 0, 0, 0, 0, 0, 0, 0, 0, 0, 0, 0, 0, 0, 0, 0, 0, 0, 0, 0, 0, 0, 0, 0, 0, 0, 0, 0, 0, 0, 0, 0, 0, 0, 0, 0, 0, 0, 0, 0, 0, 0, 0, 0, 0, 0, 0, 0, 0, 0, 0, 0, 0, 0, 0, 0, 0, 0, 0, 0, 0, 0, 0, 0, 0, 0, 0, 0, 0, 0, 0, 0, 0, 0, 0, 0, 0, 0, 0, 0, 0, 0, 0, 0, 0, 0, 0, 0, 0, 0, 0, 0, 0, 0, 0, 0, 0, 0, 0, 0, 0, 0, 0, 0, 0, 0, 0, 0, 0, 0, 0, 0, 0, 0, 0, 0, 0, 0, 0, 0, 0, 0, 0, 0, 0, 0, 0, 0, 0, 0, 0, 0, 0, 0, 0, 0, 0, 0, 0, 0, 0, 0, 0, 0, 0, 0, 0, 0, 0, 0, 0, 0, 0, 0, 0, 0, 0, 0, 0, 0, 0, 0, 0, 0, 0, 0, 0, 0, 0, 0, 0, 0, 0, 0, 0, 0, 0, 0, 0, 0, 0, 0, 0, 0, 0, 0, 0, 0, 0, 0, 0, 0, 0, 0, 0, 0, 0, 0, 0, 0, 0, 0, 0, 1, 0, 0, 0, 0, 0, 0, 0, 0, 0, 0, 0, 0, 0, 0, 0, 0, 0, 0, 0, 0, 0, 0, 0, 0, 0, 0, 0, 0, 0, 0, 0, 0, 0, 0, 0, 0, 0, 0, 0, 0, 0, 0, 0, 0, 0, 0, 0, 0, 0, 0, 0, 0, 0, 0, 0, 0, 0, 0, 0, 0, 0, 0, 0, 0, 0, 0, 0, 0, 0, 0, 0, 0, 0, 0, 1, 0, 0, 0, 0, 0, 0, 0, 0, 0, 0, 0, 0, 0, 0, 0, 0, 0, 0, 0, 0, 1, 0, 0, 1, 0, 0, 0, 0, 0, 0, 0, 0, 0, 0, 0, 0, 0, 0, 0, 0, 0, 0, 0, 0, 0, 0, 0, 0, 0, 0, 0, 0, 0, 0, 0, 0, 0, 0, 0, 0, 0, 0, 0, 0, 0, 0, 0, 0, 0, 0, 0, 0, 0, 0, 0, 0, 0, 0, 0, 0, 0, 0, 0, 0, 0, 0, 0, 0, 0, 0, 0, 0, 0, 0, 0, 0, 0, 0, 0, 0, 0, 0, 0, 0, 0, 0, 0, 0, 0, 0, 0, 0, 0, 0, 0, 0, 0, 0, 0, 0, 0, 0, 0, 0, 0, 0, 0, 0, 0, 0, 0, 0, 0, 0, 0, 0, 0, 0, 0, 0, 0, 0, 0, 0, 0, 0, 0, 0, 0, 0, 0, 0, 0, 0, 0, 0, 0, 0, 0, 0, 0, 0, 0, 0, 0, 0, 0, 0, 0, 0, 0, 0, 0, 0, 0, 0, 0, 0, 0, 0, 0, 0, 0, 0, 0, 0, 0, 0, 0, 0, 0, 0, 0, 0, 0, 0, 0, 0, 0, 0, 0, 0, 0, 0, 0, 0, 0, 0, 0, 0, 0, 0, 0, 0, 0, 0, 0, 0, 0, 0, 0, 0, 0, 0, 0, 0, 0, 0, 0, 0, 0, 0, 0, 0, 0, 0, 0, 0, 0, 0, 0, 0, 0, 0, 0, 0, 0, 0, 0, 0, 0, 0, 0, 0, 0, 0, 0, 0, 0, 0, 0, 0, 0, 0, 0, 0, 0, 0, 0, 0, 0, 0, 0, 0, 0, 0, 0, 0, 0, 0, 0, 0, 0, 0, 0, 0, 0, 0, 0, 0, 0, 0, 0, 0, 0, 0, 0, 0, 0, 0, 0, 0, 0, 0, 0, 0, 0, 0, 0, 0, 0, 0, 0, 0, 0, 0, 0, 0, 0, 0, 0, 0, 0, 0, 0, 0, 0, 0, 0, 0, 0, 0, 0, 0, 0, 0, 0, 0, 0, 0, 0, 0, 0, 0, 0, 0, 0, 0, 0, 0, 0, 0, 0, 0, 0, 0, 0, 0, 0, 0, 0, 0, 0, 0, 0, 0, 0, 0, 0, 0, 0, 0, 0, 0, 0, 0, 0, 0, 0, 0, 0, 0, 0, 0, 0, 0, 0, 0, 0, 0, 0, 0, 0, 0, 0, 0, 0, 0, 0, 0, 0, 0, 0, 0, 0, 0, 0, 0, 0, 0, 0, 0, 0, 0, 0, 0, 0, 0, 0, 0, 0, 0, 0, 0, 0, 0, 0, 0, 0, 0, 0, 0, 0, 0, 0, 0, 0, 0, 0, 0, 0, 0, 0, 0, 0, 0, 0, 0, 0, 0, 0, 0, 0, 0, 0, 0, 0, 0, 0, 0, 0, 0, 0, 0, 0, 0, 0, 0, 0, 0, 0, 0, 0, 0, 0, 0, 0, 0, 0, 0, 0, 0, 0, 0, 0, 0, 0, 0, 0, 0, 1, 0, 0, 0, 0, 0, 0, 0, 0, 0, 0, 0, 0, 0, 0, 0, 0, 0, 0, 0, 0, 0, 0, 0, 0, 0, 0, 0, 0, 0, 0, 0, 0, 0, 0, 0, 0, 0, 0, 0, 0, 0, 0, 0, 0, 0, 0, 0, 0, 0, 0, 0, 0, 0, 0, 0, 0, 0, 0, 0, 0, 0, 0, 0, 0, 0, 0, 0, 0, 0, 0, 0, 0, 0, 0, 0, 0, 0, 0, 0, 0, 0, 0, 0, 0, 0, 0, 0, 0, 0, 0, 0, 0, 0, 0, 0, 0, 0, 0, 0, 0, 0, 0, 0, 0, 0, 0, 0, 0, 0, 0, 0, 0, 0, 0, 0, 0, 0, 0, 0, 0, 0, 0, 0, 0, 0, 0, 0, 0, 0, 0, 0, 0, 0, 0, 0, 0, 0, 0, 0, 0, 0, 0, 0, 0, 0, 0, 0, 0, 0, 0, 0, 0, 0, 0, 0, 0, 0, 0, 0, 0, 0, 0, 0, 0, 0, 0, 0, 0, 0, 0, 0, 0, 0, 0, 0, 0, 0, 0, 0, 0, 0, 0, 0, 0, 0, 0, 0, 0, 0, 0, 0, 0, 0, 0, 0, 0, 0, 0, 0, 0, 0, 0, 0, 0, 0, 0, 0, 0, 0, 0, 0, 0, 0, 0, 0, 0, 0, 0, 0, 0, 0, 0, 0, 0, 0, 0, 0, 0, 0, 0, 0, 0, 0, 0, 0, 0, 0, 0, 0, 0, 0, 0, 0, 0, 0, 0, 0, 0, 0, 0, 0, 0, 0, 0, 0, 0, 0, 0, 0, 0, 0, 0, 0, 0, 0, 0, 0, 0, 0, 0, 0, 0, 0, 0, 0, 0, 0, 0, 0, 0, 0, 0, 0, 0, 0, 0, 0, 0, 0, 0, 0, 0, 0, 0, 0, 0, 0, 0, 0, 0, 0, 0, 0, 0, 0, 0, 0, 0, 0, 0, 0, 0, 0, 0, 0, 0, 0, 0, 0, 0, 0, 0, 0, 0, 0, 0, 0, 0, 0, 0, 0, 0, 0, 0, 0, 0, 0, 0, 0, 0, 0, 0, 0, 0, 0, 0, 0, 0, 0, 0, 0, 0, 0, 0, 0, 0, 0, 0, 0, 0, 0, 0, 0, 0, 0, 0, 0, 0, 0, 0, 0, 0, 0, 0, 0, 0, 0, 0, 0, 0, 0, 0, 0, 0, 0, 0, 0, 0, 0, 0, 0, 0, 0, 0, 0, 0, 0, 0, 0, 0, 0, 0, 0, 0, 0, 0, 0, 0, 0, 0, 0, 0, 0, 0, 0, 0, 0, 0, 0, 0, 0, 0, 0, 0, 0, 0, 0, 0, 0, 0, 0, 0, 0, 0, 0, 0, 0, 0, 0, 0, 0, 0, 0, 0, 0, 0, 0, 0, 0, 0, 0, 0, 0, 0, 0, 0, 0, 0, 0, 0, 0, 0, 0, 0, 0, 0, 0, 0, 0, 0, 0, 0, 0, 0, 0, 0, 0, 0, 0, 0, 0, 0, 0, 0, 0, 0, 0, 0, 0, 0, 0, 0, 0, 0, 0, 0, 0, 0, 0, 0, 0, 0, 0, 0, 0, 0, 0, 0, 0, 0, 0, 0, 1, 0, 0, 0, 0, 0, 0, 0, 0, 0, 0, 0, 0, 0, 0, 0, 0, 0, 0, 0, 0, 0, 0, 0, 0, 0, 0, 0, 0, 0, 0, 0, 0, 0, 0, 0, 2, 0, 0, 0, 0, 0, 0, 0, 0, 0, 0, 0, 0, 0, 0, 0, 0, 0, 0, 0, 0, 0, 0, 0, 0, 0, 0, 0, 0, 0, 0, 0, 0, 0, 0, 0, 0, 0, 0, 0, 0, 1, 0, 0, 0, 0, 0, 0, 0, 0, 0, 0, 0, 0, 0, 0, 0, 0, 0, 0, 0, 0, 0, 0, 0, 0, 0, 0, 0, 0, 0, 0, 0, 0, 0, 0, 0, 0, 0, 0, 0, 0, 0, 0, 0, 0, 0, 0, 0, 0, 0, 0, 0, 0, 0, 0, 0, 0, 0, 0, 0, 0, 0, 0, 0, 0, 0, 0, 0, 0, 0, 0, 0, 0, 0, 0, 0, 0, 0, 0, 0, 0, 0, 0, 0, 0, 0, 0, 0, 0, 0, 0, 0, 0, 0, 0, 0, 0, 0, 0, 0, 0, 0, 0, 0, 0, 0, 0, 0, 0, 0, 0, 0, 0, 0, 0, 0, 0, 0, 0, 0, 0, 0, 0, 0, 0, 0, 0, 0, 0, 0, 0, 0, 0, 0, 0, 0, 0, 0, 0, 0, 0, 0, 0, 0, 0, 0, 0, 0, 0, 0, 0, 0, 0, 0, 0, 0, 0, 0, 0, 0, 0, 0, 0, 0, 0, 0, 0, 0, 0, 0, 0, 0, 0, 0, 0, 0, 0, 0, 0, 0, 0, 0, 0, 0, 0, 0, 0, 0, 0, 0, 0, 0, 0, 0, 0, 0, 0, 0, 0, 0, 0, 0, 0, 0, 0, 0, 0, 0, 0, 0, 0, 0, 0, 0, 0, 0, 0, 0, 0, 0, 0, 0, 0, 0, 0, 0, 0, 0, 0, 0, 0, 0, 0, 0, 0, 0, 0, 0, 0, 0, 0, 0, 0, 0, 0, 0, 0, 0, 0, 0, 0, 0, 0, 0, 0, 0, 0, 0, 0, 0, 0, 0, 0, 0, 0, 0, 0, 0, 0, 0, 0, 0, 0, 0, 0, 0, 0, 0, 0, 0, 0, 0, 0, 0, 0, 0, 0, 0, 0, 0, 0, 0, 0, 0, 0, 0, 0, 0, 0, 0, 0, 0, 0, 0, 0, 0, 0, 0, 0, 0, 0, 0, 0, 0, 0, 0, 0, 0, 0, 0, 0, 0, 0, 0, 0, 0, 0, 0, 0, 0, 0, 0, 0, 0, 0, 0, 0, 0, 0, 0, 0, 0, 0, 0, 0, 0, 0, 0, 0, 0, 0, 0, 0, 0, 0, 0, 0, 0, 0, 0, 0, 0, 0, 0, 0, 0, 0, 0, 0, 0, 0, 0, 0, 0, 0, 0, 0, 0, 0, 0, 0, 0, 0, 0, 0, 0, 0, 0, 0, 0, 0, 0, 0, 0, 0, 0, 0, 0, 0, 0, 0, 0, 0, 0, 0, 0, 0, 0, 0, 0, 0, 0, 0, 0, 0, 0, 0, 0, 0, 0, 0, 0, 0, 0, 0, 0, 0, 0, 0, 0, 0, 0, 0, 0, 0, 0, 0, 0, 0, 0, 0, 0, 0, 0, 0, 0, 0, 0, 0, 0, 0, 0, 0, 0, 0, 0, 0, 0, 0, 0, 0, 0, 0, 0, 0, 0, 0, 0, 0, 0, 0, 0, 0, 0, 0, 0, 0, 0, 0, 0, 0, 0, 0, 0, 0, 0, 0, 0, 0, 0, 0, 0, 0, 0, 0, 0, 0, 0, 1, 0, 0, 0, 0, 0, 0, 0, 0, 0, 0, 0, 0, 0, 0, 0, 0, 0, 0, 0, 0, 0, 0, 0, 0, 0, 0, 0, 0, 0, 0, 0, 0, 0, 0, 0, 0, 0, 0, 0, 0, 0, 0, 0, 0, 0, 0, 0, 0, 0, 0, 0, 0, 0, 0, 0, 0, 0, 0, 0, 0, 0, 0, 0, 0, 0, 0, 0, 0, 0, 0, 0, 0, 0, 0, 0, 0, 0, 0, 0, 0, 0, 0, 0, 0, 0, 0, 0, 0, 0, 0, 0, 0, 0, 0, 0, 0, 0, 0, 0, 0, 0, 0, 0, 0, 0, 0, 0, 0, 0, 0, 2, 0, 0, 0, 0, 0, 0, 0, 0, 0, 0, 0, 0, 0, 0, 0, 0, 0, 0, 0, 0, 0, 0, 0, 0, 0, 0, 0, 0, 0, 0, 0, 0, 0, 0, 0, 0, 0, 0, 0, 0, 0, 0, 0, 0, 0, 0, 0, 0, 0, 0, 0, 0, 0, 0, 0, 0, 0, 0, 0, 0, 0, 0, 0, 0, 0, 0, 0, 0, 0, 0, 0, 0, 0, 0, 0, 0, 0, 0, 0, 0, 0, 0, 0, 0, 0, 0, 0, 0, 0, 0, 0, 0, 0, 0, 0, 0, 0, 0, 0, 0, 0, 0, 0, 0, 0, 0, 0, 0, 0, 0, 0, 0, 0, 0, 0, 0, 0, 0, 0, 0, 0, 0, 0, 0, 0, 0, 0, 0, 0, 0, 0, 0, 0, 0, 0, 0, 0, 0, 0, 0, 0, 0, 0, 0, 0, 0, 0, 0, 0, 0, 0, 0, 0, 0, 0, 0, 0, 0, 0, 0, 0, 0, 0, 0, 0, 0, 0, 0, 0, 0, 0, 0, 0, 0, 0, 0, 0, 0, 0, 0, 0, 0, 0, 0, 0, 0, 0, 0, 0, 0, 0, 0, 0, 0, 0, 0, 0, 0, 0, 0, 0, 0, 0, 0, 0, 0, 0, 0, 0, 0, 0, 0, 0, 0, 0, 0, 0, 0, 0, 0, 0, 0, 0, 0, 0, 0, 0, 0, 0, 0, 0, 0, 0, 0, 0, 0, 0, 0, 0, 0, 0, 0, 0, 0, 0, 0, 0, 0, 0, 0, 0, 0, 0, 0, 0, 0, 0, 0, 0, 0, 0, 0, 0, 0, 0, 0, 0, 0, 0, 0, 0, 0, 0, 0, 0, 0, 0, 0, 0, 0, 0, 0, 0, 0, 0, 0, 0, 0, 0, 0, 0, 0, 0, 0, 0, 0, 0, 0, 0, 0, 0, 0, 0, 0, 0, 0, 0, 0, 0, 0, 0, 0, 0, 0, 0, 0, 0, 0, 0, 0, 0, 0, 0, 0, 0, 0, 0, 0, 0, 0, 0, 0, 0, 0, 0, 0, 0, 0, 0, 0, 0, 0, 0, 0, 0, 0, 0, 0, 0, 0, 0, 0, 0, 0, 0, 0, 0, 0, 0, 0, 0, 0, 0, 0, 0, 0, 0, 0, 0, 0, 0, 0, 0, 0, 0, 0, 0, 0, 0, 0, 0, 0, 0, 0, 0, 0, 0, 0, 0, 0, 0, 0, 0, 0, 0, 0, 0, 0, 0, 0, 0, 0, 0, 0, 0, 0, 0, 0, 0, 0, 0, 0, 0, 0, 0, 0, 0, 0, 0, 0, 0, 0, 0, 0, 0, 0, 0, 0, 0, 0, 0, 0, 0, 0, 0, 0, 0, 0, 0, 0, 0, 0, 0, 0, 0, 0, 0, 0, 0, 0, 0, 0, 0, 0, 0, 0, 0, 0, 0, 0, 0, 0, 0, 0, 0, 0, 0, 0, 0, 0, 0, 0, 0, 0, 0, 0, 0, 0, 0, 0, 0, 0, 0, 0, 0, 0, 0, 0, 0, 0, 0, 0, 0, 0, 0, 0, 0, 0, 0, 0, 0, 0, 0, 0, 0, 0, 0, 0, 0, 0, 0, 0, 0, 0, 0, 0, 0, 0, 0, 0, 0, 0, 0, 0, 0, 0, 0, 0, 0, 0, 0, 0, 0, 0, 0, 0, 0, 0, 0, 0, 0, 0, 0, 0, 0, 0, 0, 0, 0, 0, 0, 0, 0, 0, 0, 0, 0, 0, 0, 0, 0, 0, 0, 0, 0, 0, 0, 0, 0, 0, 0, 0, 0, 0, 0, 0, 0, 0, 0, 0, 0, 0, 0, 0, 0, 0, 0, 0, 0, 0, 0, 0, 0, 0, 0, 0, 0, 0, 0, 0, 0, 0, 0, 0, 0, 0, 0, 0, 0, 0, 0, 0, 0, 0, 0, 0, 0, 0, 0, 0, 0, 0, 0, 0, 0, 0, 0, 0, 0, 0, 0, 0, 0, 0, 0, 0, 0, 0, 0, 0, 0, 0, 0, 0, 0, 0, 0, 0, 0, 0, 0, 0, 0, 0, 0, 0, 0, 0, 0, 0, 0, 0, 0, 0, 0, 0, 0, 0, 0, 0, 0, 0, 0, 0, 0, 0, 0, 0, 0, 0, 0, 0, 0, 0, 0, 0, 0, 0, 0, 0, 1, 0, 0, 0, 0, 0, 0, 0, 0, 0, 0, 0, 0, 0, 0, 0, 0, 0, 0, 0, 0, 0, 0, 0, 0, 0, 0, 0, 0, 0, 0, 0, 0, 0, 0, 0, 0, 0, 0, 0, 0, 0, 0, 0, 0, 0, 0, 0, 0, 0, 0, 0, 0, 0, 0, 0, 0, 0, 0, 0, 0, 0, 0, 0, 0, 0, 0, 0, 0, 0, 0, 0, 0, 0, 0, 0, 0, 0, 0, 0, 0, 0, 0, 0, 0, 0, 0, 0, 0, 0, 0, 0, 0, 0, 0, 0, 0, 0, 0, 0, 0, 0, 0, 0, 0, 0, 0, 0, 1, 0, 0, 0, 0, 0, 0, 0, 0, 0, 0, 0, 0, 0, 0, 0, 0, 0, 0, 0, 0, 0, 0, 0, 0, 0, 0, 0, 0, 0, 0, 0, 0, 0, 0, 0, 0, 0, 0, 0, 0, 0, 0, 0, 0, 0, 0, 0, 0, 0, 0, 0, 0, 0, 0, 0, 0, 0, 0, 0, 0, 0, 0, 0, 0, 0, 0, 0, 0, 0, 0, 0, 0, 0, 0, 0, 0, 0, 0, 0, 0, 0, 0, 0, 0, 0, 0, 0, 0, 0, 0, 0, 0, 0, 0, 0, 0, 0, 0, 0, 0, 0, 0, 0, 0, 0, 0, 0, 0, 0, 0, 0, 0, 0, 0, 0, 0, 0, 0, 0, 0, 0, 0, 0, 0, 0, 0, 0, 0, 0, 0, 0, 0, 0, 0, 0, 0, 0, 0, 0, 0, 0, 0, 0, 0, 0, 0, 0, 0, 0, 0, 0, 0, 0, 0, 0, 0, 0, 0, 0, 0, 0, 0, 0, 0, 0, 0, 0, 0, 0, 0, 0, 0, 0, 0, 0, 0, 0, 0, 0, 0, 0, 0, 0, 0, 0, 0, 0, 0, 0, 0, 0, 0, 0, 0, 0, 0, 0, 0, 0, 0, 0, 0, 0, 0, 0, 0, 0, 0, 0, 0, 0, 0, 0, 0, 0, 0, 0, 0, 0, 0, 0, 0, 0, 0, 0, 0, 0, 0, 0, 0, 0, 0, 0, 0, 0, 0, 0, 0, 0, 0, 0, 0, 0, 0, 0, 0, 0, 0, 0, 0, 0, 0, 0, 0, 0, 0, 0, 0, 0, 0, 0, 0, 0, 0, 0, 0, 0, 0, 0, 0, 0, 0, 0, 0, 0, 0, 0, 0, 0, 0, 0, 0, 0, 0, 0, 0, 0, 0, 0, 0, 0, 0, 0, 0, 0, 0, 0, 0, 0, 0, 0, 0, 0, 0, 0, 0, 0, 0, 0, 0, 0, 0, 0, 0, 0, 0, 0, 0, 0, 0, 0, 0, 0, 0, 0, 0, 0, 0, 0, 0, 0, 0, 0, 0, 0, 0, 0, 0, 0, 0, 0, 0, 0, 0, 0, 0, 0, 0, 0, 0, 0, 0, 0, 0, 0, 0, 0, 0, 0, 0, 0, 0, 0, 0, 0, 0, 0, 0, 0, 0, 0, 0, 0, 0, 0, 0, 0, 0, 0, 0, 0, 0, 0, 0, 0, 0, 0, 0, 0, 0, 0, 0, 0, 0, 0, 0, 0, 0, 0, 0, 0, 0, 0, 0, 0, 0, 0, 0, 0, 0, 0, 0, 0, 0, 0, 0, 0, 0, 0, 0, 0, 0, 0, 0, 0, 0, 0, 0, 0, 0, 0, 0, 0, 0, 0, 0, 0, 0, 0, 0, 0, 0, 0, 0, 0, 0, 0, 0, 0, 0, 0, 0, 0, 0, 0, 0, 0, 0, 0, 0, 0, 0, 0, 2, 0, 1, 0]\n"
     ]
    }
   ],
   "source": [
    "test_bow = bow_encoding(test_words, vocabulary)\n",
    "print(test_bow)"
   ]
  },
  {
   "cell_type": "code",
   "execution_count": 41,
   "metadata": {},
   "outputs": [
    {
     "data": {
      "text/plain": [
       "5000"
      ]
     },
     "execution_count": 41,
     "metadata": {},
     "output_type": "execute_result"
    }
   ],
   "source": [
    "len(test_bow)"
   ]
  },
  {
   "cell_type": "markdown",
   "metadata": {},
   "source": [
    "So now we know how to construct a bag of words encoding of a user provided review, how to we send it to our endpoint? First, we need to start the endpoint back up."
   ]
  },
  {
   "cell_type": "code",
   "execution_count": 42,
   "metadata": {},
   "outputs": [
    {
     "name": "stderr",
     "output_type": "stream",
     "text": [
      "Parameter image will be renamed to image_uri in SageMaker Python SDK v2.\n",
      "Using already existing model: xgboost-2021-05-02-22-03-21-259\n"
     ]
    },
    {
     "name": "stdout",
     "output_type": "stream",
     "text": [
      "---------------!"
     ]
    }
   ],
   "source": [
    "xgb_predictor = xgb.deploy(initial_instance_count = 1, instance_type = 'ml.m4.xlarge')"
   ]
  },
  {
   "cell_type": "markdown",
   "metadata": {},
   "source": [
    "At this point we could just do the same thing that we did earlier when we tested our deployed model and send `test_bow` to our endpoint using the `xgb_predictor` object. However, when we eventually construct our Lambda function we won't have access to this object, so how do we call a SageMaker endpoint?\n",
    "\n",
    "It turns out that Python functions that are used in Lambda have access to another Amazon library called `boto3`. This library provides an API for working with Amazon services, including SageMaker. To start with, we need to get a handle to the SageMaker runtime."
   ]
  },
  {
   "cell_type": "code",
   "execution_count": 43,
   "metadata": {},
   "outputs": [],
   "source": [
    "import boto3\n",
    "\n",
    "runtime = boto3.Session().client('sagemaker-runtime')"
   ]
  },
  {
   "cell_type": "markdown",
   "metadata": {},
   "source": [
    "And now that we have access to the SageMaker runtime, we can ask it to make use of (invoke) an endpoint that has already been created. However, we need to provide SageMaker with the name of the deployed endpoint. To find this out we can print it out using the `xgb_predictor` object."
   ]
  },
  {
   "cell_type": "code",
   "execution_count": 44,
   "metadata": {},
   "outputs": [
    {
     "data": {
      "text/plain": [
       "'xgboost-2021-05-02-22-03-21-259'"
      ]
     },
     "execution_count": 44,
     "metadata": {},
     "output_type": "execute_result"
    }
   ],
   "source": [
    "xgb_predictor.endpoint"
   ]
  },
  {
   "cell_type": "markdown",
   "metadata": {},
   "source": [
    "Using the SageMaker runtime and the name of our endpoint, we can invoke the endpoint and send it the `test_bow` data."
   ]
  },
  {
   "cell_type": "code",
   "execution_count": 45,
   "metadata": {},
   "outputs": [
    {
     "ename": "ParamValidationError",
     "evalue": "Parameter validation failed:\nInvalid type for parameter Body, value: [0, 0, 0, 0, 0, 0, 0, 0, 0, 0, 0, 0, 0, 0, 0, 0, 0, 0, 0, 0, 0, 0, 0, 0, 0, 0, 0, 0, 0, 0, 0, 0, 0, 0, 0, 0, 0, 0, 0, 0, 0, 0, 0, 0, 0, 0, 0, 0, 0, 0, 0, 0, 0, 0, 0, 0, 0, 0, 0, 0, 0, 0, 0, 0, 0, 0, 0, 0, 0, 0, 0, 0, 0, 0, 0, 0, 0, 0, 0, 0, 0, 0, 0, 0, 0, 0, 0, 0, 0, 0, 0, 0, 0, 0, 0, 0, 0, 0, 0, 0, 0, 0, 0, 0, 0, 0, 0, 0, 0, 0, 0, 0, 0, 0, 0, 0, 0, 0, 0, 0, 0, 0, 0, 0, 0, 0, 0, 0, 0, 0, 0, 0, 0, 0, 0, 0, 0, 0, 0, 0, 0, 0, 0, 0, 0, 0, 0, 0, 0, 0, 0, 0, 0, 0, 0, 0, 0, 0, 0, 0, 0, 0, 0, 0, 0, 0, 0, 0, 0, 0, 0, 0, 0, 0, 0, 0, 0, 0, 0, 0, 0, 0, 0, 0, 0, 0, 0, 0, 0, 0, 0, 0, 0, 0, 0, 0, 0, 0, 0, 0, 0, 0, 0, 0, 0, 0, 0, 0, 0, 0, 0, 0, 0, 0, 0, 0, 0, 0, 0, 0, 0, 0, 0, 0, 0, 0, 1, 0, 0, 0, 0, 0, 0, 0, 0, 0, 0, 0, 0, 0, 0, 0, 0, 0, 0, 0, 0, 0, 0, 0, 0, 0, 0, 0, 0, 0, 1, 0, 0, 0, 0, 0, 0, 0, 0, 0, 0, 0, 0, 0, 0, 0, 0, 0, 0, 0, 0, 0, 0, 0, 0, 0, 0, 0, 0, 0, 0, 0, 0, 0, 0, 0, 0, 0, 0, 0, 0, 0, 0, 0, 0, 0, 0, 0, 0, 0, 0, 0, 0, 0, 0, 0, 0, 0, 0, 0, 0, 0, 0, 0, 0, 0, 0, 0, 0, 0, 0, 0, 0, 0, 0, 0, 0, 0, 0, 0, 0, 0, 0, 0, 0, 0, 0, 0, 0, 0, 0, 0, 0, 0, 0, 0, 0, 0, 0, 0, 0, 0, 0, 0, 0, 0, 0, 0, 0, 0, 0, 0, 0, 0, 0, 0, 0, 0, 0, 0, 0, 0, 0, 0, 0, 0, 0, 0, 0, 0, 0, 0, 0, 0, 0, 0, 0, 0, 0, 0, 0, 0, 0, 0, 0, 0, 0, 0, 0, 0, 0, 0, 0, 0, 0, 0, 0, 0, 0, 0, 0, 0, 0, 0, 0, 0, 0, 0, 0, 0, 0, 0, 0, 0, 0, 0, 0, 0, 0, 0, 0, 0, 0, 0, 0, 0, 0, 0, 0, 0, 0, 0, 0, 0, 0, 0, 0, 0, 0, 0, 0, 0, 0, 0, 0, 0, 0, 0, 0, 0, 0, 0, 0, 0, 0, 0, 0, 0, 0, 0, 0, 0, 0, 0, 0, 0, 0, 0, 0, 0, 0, 0, 0, 0, 0, 0, 0, 0, 0, 0, 0, 0, 0, 0, 0, 0, 0, 0, 0, 0, 0, 0, 0, 0, 0, 0, 0, 0, 0, 0, 0, 0, 0, 0, 0, 0, 0, 0, 0, 0, 0, 0, 0, 0, 0, 0, 0, 0, 0, 0, 0, 0, 0, 0, 0, 0, 0, 0, 0, 0, 0, 0, 0, 0, 0, 0, 0, 0, 0, 0, 0, 0, 0, 0, 0, 0, 0, 0, 0, 0, 0, 0, 0, 0, 0, 0, 0, 0, 0, 0, 0, 0, 0, 0, 0, 0, 0, 0, 0, 0, 0, 0, 0, 0, 0, 0, 0, 0, 0, 0, 0, 0, 0, 0, 0, 0, 0, 0, 0, 0, 0, 0, 0, 0, 0, 0, 0, 0, 0, 0, 0, 0, 0, 0, 0, 0, 0, 0, 0, 0, 0, 0, 0, 0, 0, 0, 0, 0, 0, 0, 1, 0, 0, 0, 0, 0, 0, 0, 0, 0, 0, 0, 0, 0, 0, 0, 0, 0, 0, 0, 0, 0, 0, 0, 0, 0, 0, 0, 0, 0, 0, 0, 0, 0, 0, 0, 0, 0, 0, 0, 0, 0, 0, 0, 0, 0, 0, 0, 0, 0, 0, 0, 0, 0, 0, 0, 0, 0, 0, 0, 0, 0, 0, 0, 0, 0, 0, 0, 0, 0, 0, 0, 0, 0, 0, 0, 0, 0, 0, 0, 0, 0, 0, 0, 0, 0, 0, 0, 0, 0, 0, 0, 0, 0, 0, 0, 0, 0, 0, 0, 0, 0, 0, 0, 0, 0, 0, 0, 0, 0, 0, 0, 0, 0, 0, 0, 0, 0, 0, 0, 0, 0, 0, 0, 0, 0, 0, 0, 0, 0, 0, 0, 0, 0, 0, 0, 0, 0, 0, 0, 0, 0, 0, 0, 0, 0, 0, 0, 0, 0, 0, 0, 0, 0, 0, 0, 0, 0, 0, 0, 0, 0, 0, 0, 0, 0, 0, 0, 0, 0, 0, 0, 0, 0, 0, 0, 0, 0, 0, 0, 0, 0, 0, 0, 0, 0, 0, 0, 0, 0, 0, 0, 0, 0, 0, 0, 0, 0, 0, 0, 0, 0, 0, 0, 0, 0, 0, 0, 0, 0, 0, 0, 0, 0, 0, 0, 0, 0, 0, 0, 0, 0, 0, 0, 0, 0, 0, 0, 0, 0, 0, 0, 0, 0, 0, 0, 0, 0, 0, 0, 0, 0, 0, 0, 0, 0, 0, 0, 0, 0, 0, 0, 0, 0, 1, 0, 0, 0, 0, 0, 0, 0, 0, 0, 0, 0, 0, 0, 0, 0, 0, 0, 0, 0, 0, 0, 0, 0, 0, 0, 0, 0, 0, 0, 0, 0, 0, 0, 0, 0, 0, 0, 0, 0, 0, 0, 0, 0, 0, 0, 0, 0, 0, 0, 0, 0, 0, 0, 0, 0, 0, 0, 0, 0, 0, 0, 0, 0, 0, 0, 0, 0, 0, 0, 0, 0, 0, 0, 0, 0, 0, 0, 0, 0, 0, 0, 0, 0, 0, 0, 0, 1, 0, 0, 0, 0, 0, 0, 0, 0, 0, 0, 0, 0, 0, 0, 0, 0, 0, 0, 0, 0, 0, 0, 0, 0, 0, 0, 0, 0, 0, 0, 0, 0, 0, 0, 0, 0, 0, 0, 0, 0, 0, 0, 0, 0, 0, 0, 0, 0, 0, 0, 0, 0, 0, 0, 0, 0, 0, 0, 0, 0, 0, 0, 0, 0, 0, 0, 0, 0, 0, 0, 0, 0, 0, 0, 0, 0, 0, 0, 0, 0, 0, 0, 0, 0, 0, 0, 0, 0, 0, 0, 0, 0, 0, 0, 0, 0, 0, 0, 0, 0, 0, 0, 0, 0, 0, 0, 0, 0, 0, 0, 0, 0, 0, 0, 0, 0, 0, 0, 0, 0, 0, 0, 0, 0, 0, 0, 0, 0, 0, 0, 0, 0, 0, 0, 0, 0, 0, 0, 0, 0, 0, 0, 0, 0, 0, 0, 0, 0, 0, 0, 0, 0, 0, 0, 0, 0, 0, 0, 0, 0, 0, 0, 0, 0, 0, 0, 0, 0, 0, 0, 0, 0, 0, 0, 0, 0, 0, 0, 0, 0, 0, 0, 0, 0, 0, 0, 0, 0, 0, 0, 0, 0, 0, 0, 0, 0, 0, 0, 0, 0, 0, 0, 0, 0, 0, 0, 0, 0, 0, 0, 0, 0, 0, 0, 0, 0, 0, 0, 0, 0, 0, 0, 0, 0, 0, 0, 0, 0, 0, 0, 0, 0, 0, 0, 0, 0, 0, 0, 0, 0, 0, 0, 0, 0, 0, 0, 0, 0, 0, 0, 0, 0, 1, 0, 0, 0, 0, 0, 0, 0, 0, 0, 0, 0, 0, 0, 0, 0, 0, 0, 0, 0, 0, 0, 0, 0, 0, 0, 0, 0, 0, 0, 0, 0, 0, 0, 0, 0, 0, 0, 0, 0, 0, 0, 0, 0, 0, 0, 0, 0, 0, 0, 0, 0, 0, 0, 0, 0, 1, 0, 0, 0, 0, 0, 0, 0, 0, 0, 0, 0, 0, 0, 0, 0, 0, 0, 0, 0, 0, 0, 0, 0, 0, 0, 0, 0, 0, 0, 0, 0, 0, 0, 0, 0, 0, 0, 0, 0, 0, 0, 0, 0, 0, 0, 0, 0, 0, 0, 0, 0, 0, 0, 0, 0, 0, 0, 0, 0, 0, 0, 0, 0, 0, 0, 0, 0, 0, 0, 0, 0, 0, 0, 0, 0, 0, 0, 0, 0, 0, 0, 0, 0, 0, 0, 0, 0, 0, 0, 0, 0, 0, 0, 0, 0, 0, 0, 0, 0, 0, 0, 0, 0, 0, 0, 0, 0, 0, 0, 0, 0, 0, 0, 0, 0, 0, 0, 0, 0, 0, 0, 0, 0, 0, 0, 0, 0, 0, 0, 0, 0, 0, 0, 0, 0, 0, 0, 0, 0, 0, 0, 0, 0, 0, 0, 0, 0, 0, 0, 0, 0, 0, 0, 0, 0, 0, 0, 0, 0, 0, 0, 0, 0, 0, 0, 0, 0, 0, 0, 0, 0, 0, 0, 0, 0, 0, 0, 0, 0, 0, 0, 0, 0, 0, 0, 0, 0, 0, 0, 0, 0, 0, 0, 0, 0, 0, 0, 0, 0, 0, 0, 0, 0, 0, 0, 0, 0, 0, 0, 0, 0, 0, 0, 0, 0, 0, 0, 0, 0, 0, 0, 0, 0, 0, 0, 0, 0, 0, 0, 0, 0, 0, 0, 0, 0, 0, 0, 0, 0, 0, 0, 0, 0, 0, 0, 0, 0, 0, 0, 0, 0, 0, 0, 0, 0, 0, 0, 0, 0, 0, 0, 0, 0, 0, 0, 0, 0, 0, 0, 0, 0, 0, 0, 0, 0, 0, 0, 0, 0, 0, 0, 0, 0, 0, 0, 0, 0, 0, 0, 0, 0, 0, 0, 0, 0, 0, 0, 0, 0, 0, 0, 0, 0, 0, 0, 0, 0, 0, 0, 0, 0, 0, 0, 0, 0, 0, 0, 0, 0, 0, 0, 0, 0, 0, 0, 0, 0, 0, 0, 0, 0, 0, 0, 0, 0, 0, 0, 0, 0, 0, 0, 0, 0, 0, 0, 0, 0, 0, 0, 0, 0, 0, 0, 0, 0, 0, 0, 0, 0, 0, 0, 0, 0, 0, 0, 0, 0, 0, 0, 0, 0, 0, 0, 0, 0, 0, 0, 0, 0, 0, 0, 0, 0, 0, 0, 0, 0, 0, 0, 0, 0, 0, 0, 0, 0, 0, 0, 0, 0, 0, 0, 0, 0, 0, 0, 0, 0, 0, 0, 0, 0, 0, 0, 0, 0, 0, 0, 0, 0, 0, 0, 0, 0, 0, 0, 0, 0, 0, 0, 0, 0, 0, 0, 0, 0, 0, 0, 0, 0, 0, 0, 0, 0, 0, 0, 0, 0, 0, 0, 0, 0, 0, 0, 0, 0, 0, 0, 0, 0, 0, 0, 0, 0, 0, 0, 0, 0, 0, 0, 0, 0, 0, 0, 0, 0, 0, 0, 0, 0, 0, 0, 0, 0, 0, 0, 0, 0, 0, 0, 0, 0, 0, 0, 0, 0, 0, 0, 0, 0, 0, 0, 0, 0, 0, 0, 0, 0, 0, 0, 0, 0, 0, 0, 0, 0, 0, 0, 0, 0, 0, 0, 0, 0, 0, 0, 0, 0, 0, 0, 0, 0, 0, 0, 0, 0, 0, 0, 0, 0, 0, 0, 0, 0, 0, 0, 0, 0, 0, 0, 0, 0, 0, 0, 0, 0, 0, 0, 0, 0, 0, 0, 0, 0, 0, 0, 0, 0, 0, 0, 0, 0, 0, 0, 0, 0, 0, 0, 0, 0, 0, 0, 0, 0, 0, 0, 0, 0, 0, 0, 0, 0, 0, 0, 0, 0, 0, 0, 0, 0, 0, 0, 0, 0, 0, 0, 0, 0, 0, 0, 0, 0, 0, 0, 0, 0, 0, 0, 0, 0, 0, 0, 0, 0, 0, 0, 0, 0, 0, 0, 0, 0, 0, 0, 0, 0, 0, 0, 0, 0, 0, 0, 0, 0, 0, 0, 0, 0, 0, 0, 0, 0, 0, 0, 0, 0, 0, 0, 0, 0, 0, 0, 0, 0, 0, 0, 0, 0, 0, 0, 0, 0, 0, 0, 0, 0, 0, 0, 0, 0, 0, 0, 1, 0, 0, 0, 0, 0, 0, 0, 0, 0, 0, 0, 0, 0, 0, 0, 0, 0, 0, 0, 0, 0, 0, 0, 0, 0, 0, 0, 0, 0, 0, 0, 0, 0, 0, 0, 0, 0, 0, 0, 0, 0, 0, 0, 0, 0, 0, 0, 0, 0, 0, 0, 0, 0, 0, 0, 0, 0, 0, 0, 0, 0, 0, 0, 0, 0, 0, 0, 0, 0, 0, 0, 0, 0, 0, 1, 0, 0, 0, 0, 0, 0, 0, 0, 0, 0, 0, 0, 0, 0, 0, 0, 0, 0, 0, 0, 1, 0, 0, 1, 0, 0, 0, 0, 0, 0, 0, 0, 0, 0, 0, 0, 0, 0, 0, 0, 0, 0, 0, 0, 0, 0, 0, 0, 0, 0, 0, 0, 0, 0, 0, 0, 0, 0, 0, 0, 0, 0, 0, 0, 0, 0, 0, 0, 0, 0, 0, 0, 0, 0, 0, 0, 0, 0, 0, 0, 0, 0, 0, 0, 0, 0, 0, 0, 0, 0, 0, 0, 0, 0, 0, 0, 0, 0, 0, 0, 0, 0, 0, 0, 0, 0, 0, 0, 0, 0, 0, 0, 0, 0, 0, 0, 0, 0, 0, 0, 0, 0, 0, 0, 0, 0, 0, 0, 0, 0, 0, 0, 0, 0, 0, 0, 0, 0, 0, 0, 0, 0, 0, 0, 0, 0, 0, 0, 0, 0, 0, 0, 0, 0, 0, 0, 0, 0, 0, 0, 0, 0, 0, 0, 0, 0, 0, 0, 0, 0, 0, 0, 0, 0, 0, 0, 0, 0, 0, 0, 0, 0, 0, 0, 0, 0, 0, 0, 0, 0, 0, 0, 0, 0, 0, 0, 0, 0, 0, 0, 0, 0, 0, 0, 0, 0, 0, 0, 0, 0, 0, 0, 0, 0, 0, 0, 0, 0, 0, 0, 0, 0, 0, 0, 0, 0, 0, 0, 0, 0, 0, 0, 0, 0, 0, 0, 0, 0, 0, 0, 0, 0, 0, 0, 0, 0, 0, 0, 0, 0, 0, 0, 0, 0, 0, 0, 0, 0, 0, 0, 0, 0, 0, 0, 0, 0, 0, 0, 0, 0, 0, 0, 0, 0, 0, 0, 0, 0, 0, 0, 0, 0, 0, 0, 0, 0, 0, 0, 0, 0, 0, 0, 0, 0, 0, 0, 0, 0, 0, 0, 0, 0, 0, 0, 0, 0, 0, 0, 0, 0, 0, 0, 0, 0, 0, 0, 0, 0, 0, 0, 0, 0, 0, 0, 0, 0, 0, 0, 0, 0, 0, 0, 0, 0, 0, 0, 0, 0, 0, 0, 0, 0, 0, 0, 0, 0, 0, 0, 0, 0, 0, 0, 0, 0, 0, 0, 0, 0, 0, 0, 0, 0, 0, 0, 0, 0, 0, 0, 0, 0, 0, 0, 0, 0, 0, 0, 0, 0, 0, 0, 0, 0, 0, 0, 0, 0, 0, 0, 0, 0, 0, 0, 0, 0, 0, 0, 0, 0, 0, 0, 0, 0, 0, 0, 0, 0, 0, 0, 0, 0, 0, 0, 0, 0, 0, 0, 0, 0, 0, 0, 0, 0, 0, 0, 0, 0, 0, 0, 0, 0, 0, 0, 0, 0, 0, 0, 0, 0, 0, 0, 0, 0, 0, 0, 0, 0, 0, 0, 0, 0, 0, 0, 0, 0, 0, 0, 0, 0, 0, 0, 0, 0, 0, 0, 0, 0, 0, 0, 0, 0, 0, 0, 0, 0, 0, 0, 0, 0, 0, 0, 0, 0, 0, 0, 0, 0, 0, 0, 0, 0, 1, 0, 0, 0, 0, 0, 0, 0, 0, 0, 0, 0, 0, 0, 0, 0, 0, 0, 0, 0, 0, 0, 0, 0, 0, 0, 0, 0, 0, 0, 0, 0, 0, 0, 0, 0, 0, 0, 0, 0, 0, 0, 0, 0, 0, 0, 0, 0, 0, 0, 0, 0, 0, 0, 0, 0, 0, 0, 0, 0, 0, 0, 0, 0, 0, 0, 0, 0, 0, 0, 0, 0, 0, 0, 0, 0, 0, 0, 0, 0, 0, 0, 0, 0, 0, 0, 0, 0, 0, 0, 0, 0, 0, 0, 0, 0, 0, 0, 0, 0, 0, 0, 0, 0, 0, 0, 0, 0, 0, 0, 0, 0, 0, 0, 0, 0, 0, 0, 0, 0, 0, 0, 0, 0, 0, 0, 0, 0, 0, 0, 0, 0, 0, 0, 0, 0, 0, 0, 0, 0, 0, 0, 0, 0, 0, 0, 0, 0, 0, 0, 0, 0, 0, 0, 0, 0, 0, 0, 0, 0, 0, 0, 0, 0, 0, 0, 0, 0, 0, 0, 0, 0, 0, 0, 0, 0, 0, 0, 0, 0, 0, 0, 0, 0, 0, 0, 0, 0, 0, 0, 0, 0, 0, 0, 0, 0, 0, 0, 0, 0, 0, 0, 0, 0, 0, 0, 0, 0, 0, 0, 0, 0, 0, 0, 0, 0, 0, 0, 0, 0, 0, 0, 0, 0, 0, 0, 0, 0, 0, 0, 0, 0, 0, 0, 0, 0, 0, 0, 0, 0, 0, 0, 0, 0, 0, 0, 0, 0, 0, 0, 0, 0, 0, 0, 0, 0, 0, 0, 0, 0, 0, 0, 0, 0, 0, 0, 0, 0, 0, 0, 0, 0, 0, 0, 0, 0, 0, 0, 0, 0, 0, 0, 0, 0, 0, 0, 0, 0, 0, 0, 0, 0, 0, 0, 0, 0, 0, 0, 0, 0, 0, 0, 0, 0, 0, 0, 0, 0, 0, 0, 0, 0, 0, 0, 0, 0, 0, 0, 0, 0, 0, 0, 0, 0, 0, 0, 0, 0, 0, 0, 0, 0, 0, 0, 0, 0, 0, 0, 0, 0, 0, 0, 0, 0, 0, 0, 0, 0, 0, 0, 0, 0, 0, 0, 0, 0, 0, 0, 0, 0, 0, 0, 0, 0, 0, 0, 0, 0, 0, 0, 0, 0, 0, 0, 0, 0, 0, 0, 0, 0, 0, 0, 0, 0, 0, 0, 0, 0, 0, 0, 0, 0, 0, 0, 0, 0, 0, 0, 0, 0, 0, 0, 0, 0, 0, 0, 0, 0, 0, 0, 0, 0, 0, 0, 0, 0, 0, 0, 0, 0, 0, 0, 0, 0, 0, 0, 0, 0, 0, 0, 0, 0, 0, 0, 0, 0, 0, 0, 0, 0, 0, 0, 0, 0, 0, 0, 0, 0, 0, 0, 0, 0, 0, 0, 0, 0, 0, 0, 0, 0, 0, 0, 0, 0, 0, 0, 0, 0, 0, 0, 0, 0, 0, 0, 0, 0, 0, 0, 0, 0, 0, 0, 0, 0, 0, 0, 0, 0, 0, 0, 0, 0, 0, 0, 0, 0, 0, 0, 0, 0, 0, 0, 0, 0, 0, 0, 0, 0, 0, 0, 0, 0, 0, 1, 0, 0, 0, 0, 0, 0, 0, 0, 0, 0, 0, 0, 0, 0, 0, 0, 0, 0, 0, 0, 0, 0, 0, 0, 0, 0, 0, 0, 0, 0, 0, 0, 0, 0, 0, 2, 0, 0, 0, 0, 0, 0, 0, 0, 0, 0, 0, 0, 0, 0, 0, 0, 0, 0, 0, 0, 0, 0, 0, 0, 0, 0, 0, 0, 0, 0, 0, 0, 0, 0, 0, 0, 0, 0, 0, 0, 1, 0, 0, 0, 0, 0, 0, 0, 0, 0, 0, 0, 0, 0, 0, 0, 0, 0, 0, 0, 0, 0, 0, 0, 0, 0, 0, 0, 0, 0, 0, 0, 0, 0, 0, 0, 0, 0, 0, 0, 0, 0, 0, 0, 0, 0, 0, 0, 0, 0, 0, 0, 0, 0, 0, 0, 0, 0, 0, 0, 0, 0, 0, 0, 0, 0, 0, 0, 0, 0, 0, 0, 0, 0, 0, 0, 0, 0, 0, 0, 0, 0, 0, 0, 0, 0, 0, 0, 0, 0, 0, 0, 0, 0, 0, 0, 0, 0, 0, 0, 0, 0, 0, 0, 0, 0, 0, 0, 0, 0, 0, 0, 0, 0, 0, 0, 0, 0, 0, 0, 0, 0, 0, 0, 0, 0, 0, 0, 0, 0, 0, 0, 0, 0, 0, 0, 0, 0, 0, 0, 0, 0, 0, 0, 0, 0, 0, 0, 0, 0, 0, 0, 0, 0, 0, 0, 0, 0, 0, 0, 0, 0, 0, 0, 0, 0, 0, 0, 0, 0, 0, 0, 0, 0, 0, 0, 0, 0, 0, 0, 0, 0, 0, 0, 0, 0, 0, 0, 0, 0, 0, 0, 0, 0, 0, 0, 0, 0, 0, 0, 0, 0, 0, 0, 0, 0, 0, 0, 0, 0, 0, 0, 0, 0, 0, 0, 0, 0, 0, 0, 0, 0, 0, 0, 0, 0, 0, 0, 0, 0, 0, 0, 0, 0, 0, 0, 0, 0, 0, 0, 0, 0, 0, 0, 0, 0, 0, 0, 0, 0, 0, 0, 0, 0, 0, 0, 0, 0, 0, 0, 0, 0, 0, 0, 0, 0, 0, 0, 0, 0, 0, 0, 0, 0, 0, 0, 0, 0, 0, 0, 0, 0, 0, 0, 0, 0, 0, 0, 0, 0, 0, 0, 0, 0, 0, 0, 0, 0, 0, 0, 0, 0, 0, 0, 0, 0, 0, 0, 0, 0, 0, 0, 0, 0, 0, 0, 0, 0, 0, 0, 0, 0, 0, 0, 0, 0, 0, 0, 0, 0, 0, 0, 0, 0, 0, 0, 0, 0, 0, 0, 0, 0, 0, 0, 0, 0, 0, 0, 0, 0, 0, 0, 0, 0, 0, 0, 0, 0, 0, 0, 0, 0, 0, 0, 0, 0, 0, 0, 0, 0, 0, 0, 0, 0, 0, 0, 0, 0, 0, 0, 0, 0, 0, 0, 0, 0, 0, 0, 0, 0, 0, 0, 0, 0, 0, 0, 0, 0, 0, 0, 0, 0, 0, 0, 0, 0, 0, 0, 0, 0, 0, 0, 0, 0, 0, 0, 0, 0, 0, 0, 0, 0, 0, 0, 0, 0, 0, 0, 0, 0, 0, 0, 0, 0, 0, 0, 0, 0, 0, 0, 0, 0, 0, 0, 0, 0, 0, 0, 0, 0, 0, 0, 0, 0, 0, 0, 0, 0, 0, 0, 0, 0, 0, 0, 0, 0, 0, 0, 0, 0, 0, 0, 0, 0, 0, 0, 0, 0, 0, 0, 0, 0, 0, 0, 0, 0, 0, 0, 0, 0, 0, 0, 0, 0, 0, 0, 0, 0, 1, 0, 0, 0, 0, 0, 0, 0, 0, 0, 0, 0, 0, 0, 0, 0, 0, 0, 0, 0, 0, 0, 0, 0, 0, 0, 0, 0, 0, 0, 0, 0, 0, 0, 0, 0, 0, 0, 0, 0, 0, 0, 0, 0, 0, 0, 0, 0, 0, 0, 0, 0, 0, 0, 0, 0, 0, 0, 0, 0, 0, 0, 0, 0, 0, 0, 0, 0, 0, 0, 0, 0, 0, 0, 0, 0, 0, 0, 0, 0, 0, 0, 0, 0, 0, 0, 0, 0, 0, 0, 0, 0, 0, 0, 0, 0, 0, 0, 0, 0, 0, 0, 0, 0, 0, 0, 0, 0, 0, 0, 0, 2, 0, 0, 0, 0, 0, 0, 0, 0, 0, 0, 0, 0, 0, 0, 0, 0, 0, 0, 0, 0, 0, 0, 0, 0, 0, 0, 0, 0, 0, 0, 0, 0, 0, 0, 0, 0, 0, 0, 0, 0, 0, 0, 0, 0, 0, 0, 0, 0, 0, 0, 0, 0, 0, 0, 0, 0, 0, 0, 0, 0, 0, 0, 0, 0, 0, 0, 0, 0, 0, 0, 0, 0, 0, 0, 0, 0, 0, 0, 0, 0, 0, 0, 0, 0, 0, 0, 0, 0, 0, 0, 0, 0, 0, 0, 0, 0, 0, 0, 0, 0, 0, 0, 0, 0, 0, 0, 0, 0, 0, 0, 0, 0, 0, 0, 0, 0, 0, 0, 0, 0, 0, 0, 0, 0, 0, 0, 0, 0, 0, 0, 0, 0, 0, 0, 0, 0, 0, 0, 0, 0, 0, 0, 0, 0, 0, 0, 0, 0, 0, 0, 0, 0, 0, 0, 0, 0, 0, 0, 0, 0, 0, 0, 0, 0, 0, 0, 0, 0, 0, 0, 0, 0, 0, 0, 0, 0, 0, 0, 0, 0, 0, 0, 0, 0, 0, 0, 0, 0, 0, 0, 0, 0, 0, 0, 0, 0, 0, 0, 0, 0, 0, 0, 0, 0, 0, 0, 0, 0, 0, 0, 0, 0, 0, 0, 0, 0, 0, 0, 0, 0, 0, 0, 0, 0, 0, 0, 0, 0, 0, 0, 0, 0, 0, 0, 0, 0, 0, 0, 0, 0, 0, 0, 0, 0, 0, 0, 0, 0, 0, 0, 0, 0, 0, 0, 0, 0, 0, 0, 0, 0, 0, 0, 0, 0, 0, 0, 0, 0, 0, 0, 0, 0, 0, 0, 0, 0, 0, 0, 0, 0, 0, 0, 0, 0, 0, 0, 0, 0, 0, 0, 0, 0, 0, 0, 0, 0, 0, 0, 0, 0, 0, 0, 0, 0, 0, 0, 0, 0, 0, 0, 0, 0, 0, 0, 0, 0, 0, 0, 0, 0, 0, 0, 0, 0, 0, 0, 0, 0, 0, 0, 0, 0, 0, 0, 0, 0, 0, 0, 0, 0, 0, 0, 0, 0, 0, 0, 0, 0, 0, 0, 0, 0, 0, 0, 0, 0, 0, 0, 0, 0, 0, 0, 0, 0, 0, 0, 0, 0, 0, 0, 0, 0, 0, 0, 0, 0, 0, 0, 0, 0, 0, 0, 0, 0, 0, 0, 0, 0, 0, 0, 0, 0, 0, 0, 0, 0, 0, 0, 0, 0, 0, 0, 0, 0, 0, 0, 0, 0, 0, 0, 0, 0, 0, 0, 0, 0, 0, 0, 0, 0, 0, 0, 0, 0, 0, 0, 0, 0, 0, 0, 0, 0, 0, 0, 0, 0, 0, 0, 0, 0, 0, 0, 0, 0, 0, 0, 0, 0, 0, 0, 0, 0, 0, 0, 0, 0, 0, 0, 0, 0, 0, 0, 0, 0, 0, 0, 0, 0, 0, 0, 0, 0, 0, 0, 0, 0, 0, 0, 0, 0, 0, 0, 0, 0, 0, 0, 0, 0, 0, 0, 0, 0, 0, 0, 0, 0, 0, 0, 0, 0, 0, 0, 0, 0, 0, 0, 0, 0, 0, 0, 0, 0, 0, 0, 0, 0, 0, 0, 0, 0, 0, 0, 0, 0, 0, 0, 0, 0, 0, 0, 0, 0, 0, 0, 0, 0, 0, 0, 0, 0, 0, 0, 0, 0, 0, 0, 0, 0, 0, 0, 0, 0, 0, 0, 0, 0, 0, 0, 0, 0, 0, 0, 0, 0, 0, 0, 0, 0, 0, 0, 0, 0, 0, 0, 0, 0, 0, 0, 0, 0, 0, 0, 0, 0, 0, 0, 0, 0, 0, 0, 0, 0, 0, 0, 0, 0, 0, 0, 0, 0, 0, 0, 0, 0, 0, 0, 0, 0, 0, 0, 0, 0, 0, 0, 0, 0, 0, 0, 0, 0, 0, 0, 0, 0, 0, 0, 0, 0, 0, 0, 0, 0, 0, 0, 0, 0, 0, 0, 0, 0, 0, 0, 0, 0, 0, 0, 0, 0, 0, 0, 0, 0, 0, 0, 0, 0, 0, 0, 0, 0, 0, 0, 0, 0, 0, 0, 0, 0, 0, 0, 0, 0, 0, 0, 0, 0, 0, 0, 0, 0, 0, 0, 0, 0, 0, 0, 0, 0, 0, 0, 1, 0, 0, 0, 0, 0, 0, 0, 0, 0, 0, 0, 0, 0, 0, 0, 0, 0, 0, 0, 0, 0, 0, 0, 0, 0, 0, 0, 0, 0, 0, 0, 0, 0, 0, 0, 0, 0, 0, 0, 0, 0, 0, 0, 0, 0, 0, 0, 0, 0, 0, 0, 0, 0, 0, 0, 0, 0, 0, 0, 0, 0, 0, 0, 0, 0, 0, 0, 0, 0, 0, 0, 0, 0, 0, 0, 0, 0, 0, 0, 0, 0, 0, 0, 0, 0, 0, 0, 0, 0, 0, 0, 0, 0, 0, 0, 0, 0, 0, 0, 0, 0, 0, 0, 0, 0, 0, 0, 1, 0, 0, 0, 0, 0, 0, 0, 0, 0, 0, 0, 0, 0, 0, 0, 0, 0, 0, 0, 0, 0, 0, 0, 0, 0, 0, 0, 0, 0, 0, 0, 0, 0, 0, 0, 0, 0, 0, 0, 0, 0, 0, 0, 0, 0, 0, 0, 0, 0, 0, 0, 0, 0, 0, 0, 0, 0, 0, 0, 0, 0, 0, 0, 0, 0, 0, 0, 0, 0, 0, 0, 0, 0, 0, 0, 0, 0, 0, 0, 0, 0, 0, 0, 0, 0, 0, 0, 0, 0, 0, 0, 0, 0, 0, 0, 0, 0, 0, 0, 0, 0, 0, 0, 0, 0, 0, 0, 0, 0, 0, 0, 0, 0, 0, 0, 0, 0, 0, 0, 0, 0, 0, 0, 0, 0, 0, 0, 0, 0, 0, 0, 0, 0, 0, 0, 0, 0, 0, 0, 0, 0, 0, 0, 0, 0, 0, 0, 0, 0, 0, 0, 0, 0, 0, 0, 0, 0, 0, 0, 0, 0, 0, 0, 0, 0, 0, 0, 0, 0, 0, 0, 0, 0, 0, 0, 0, 0, 0, 0, 0, 0, 0, 0, 0, 0, 0, 0, 0, 0, 0, 0, 0, 0, 0, 0, 0, 0, 0, 0, 0, 0, 0, 0, 0, 0, 0, 0, 0, 0, 0, 0, 0, 0, 0, 0, 0, 0, 0, 0, 0, 0, 0, 0, 0, 0, 0, 0, 0, 0, 0, 0, 0, 0, 0, 0, 0, 0, 0, 0, 0, 0, 0, 0, 0, 0, 0, 0, 0, 0, 0, 0, 0, 0, 0, 0, 0, 0, 0, 0, 0, 0, 0, 0, 0, 0, 0, 0, 0, 0, 0, 0, 0, 0, 0, 0, 0, 0, 0, 0, 0, 0, 0, 0, 0, 0, 0, 0, 0, 0, 0, 0, 0, 0, 0, 0, 0, 0, 0, 0, 0, 0, 0, 0, 0, 0, 0, 0, 0, 0, 0, 0, 0, 0, 0, 0, 0, 0, 0, 0, 0, 0, 0, 0, 0, 0, 0, 0, 0, 0, 0, 0, 0, 0, 0, 0, 0, 0, 0, 0, 0, 0, 0, 0, 0, 0, 0, 0, 0, 0, 0, 0, 0, 0, 0, 0, 0, 0, 0, 0, 0, 0, 0, 0, 0, 0, 0, 0, 0, 0, 0, 0, 0, 0, 0, 0, 0, 0, 0, 0, 0, 0, 0, 0, 0, 0, 0, 0, 0, 0, 0, 0, 0, 0, 0, 0, 0, 0, 0, 0, 0, 0, 0, 0, 0, 0, 0, 0, 0, 0, 0, 0, 0, 0, 0, 0, 0, 0, 0, 0, 0, 0, 0, 0, 0, 0, 0, 0, 0, 0, 0, 0, 0, 0, 0, 0, 0, 0, 0, 0, 0, 0, 0, 0, 0, 0, 0, 0, 0, 0, 0, 0, 0, 0, 0, 0, 0, 0, 0, 0, 0, 0, 0, 0, 2, 0, 1, 0], type: <class 'list'>, valid types: <class 'bytes'>, <class 'bytearray'>, file-like object",
     "output_type": "error",
     "traceback": [
      "\u001b[0;31m---------------------------------------------------------------------------\u001b[0m",
      "\u001b[0;31mParamValidationError\u001b[0m                      Traceback (most recent call last)",
      "\u001b[0;32m<ipython-input-45-c9ab54ae3a48>\u001b[0m in \u001b[0;36m<module>\u001b[0;34m\u001b[0m\n\u001b[1;32m      1\u001b[0m response = runtime.invoke_endpoint(EndpointName = xgb_predictor.endpoint, # The name of the endpoint we created\n\u001b[1;32m      2\u001b[0m                                        \u001b[0mContentType\u001b[0m \u001b[0;34m=\u001b[0m \u001b[0;34m'text/csv'\u001b[0m\u001b[0;34m,\u001b[0m                     \u001b[0;31m# The data format that is expected\u001b[0m\u001b[0;34m\u001b[0m\u001b[0;34m\u001b[0m\u001b[0m\n\u001b[0;32m----> 3\u001b[0;31m                                        Body = test_bow)\n\u001b[0m",
      "\u001b[0;32m~/anaconda3/envs/python3/lib/python3.6/site-packages/botocore/client.py\u001b[0m in \u001b[0;36m_api_call\u001b[0;34m(self, *args, **kwargs)\u001b[0m\n\u001b[1;32m    355\u001b[0m                     \"%s() only accepts keyword arguments.\" % py_operation_name)\n\u001b[1;32m    356\u001b[0m             \u001b[0;31m# The \"self\" in this scope is referring to the BaseClient.\u001b[0m\u001b[0;34m\u001b[0m\u001b[0;34m\u001b[0m\u001b[0;34m\u001b[0m\u001b[0m\n\u001b[0;32m--> 357\u001b[0;31m             \u001b[0;32mreturn\u001b[0m \u001b[0mself\u001b[0m\u001b[0;34m.\u001b[0m\u001b[0m_make_api_call\u001b[0m\u001b[0;34m(\u001b[0m\u001b[0moperation_name\u001b[0m\u001b[0;34m,\u001b[0m \u001b[0mkwargs\u001b[0m\u001b[0;34m)\u001b[0m\u001b[0;34m\u001b[0m\u001b[0;34m\u001b[0m\u001b[0m\n\u001b[0m\u001b[1;32m    358\u001b[0m \u001b[0;34m\u001b[0m\u001b[0m\n\u001b[1;32m    359\u001b[0m         \u001b[0m_api_call\u001b[0m\u001b[0;34m.\u001b[0m\u001b[0m__name__\u001b[0m \u001b[0;34m=\u001b[0m \u001b[0mstr\u001b[0m\u001b[0;34m(\u001b[0m\u001b[0mpy_operation_name\u001b[0m\u001b[0;34m)\u001b[0m\u001b[0;34m\u001b[0m\u001b[0;34m\u001b[0m\u001b[0m\n",
      "\u001b[0;32m~/anaconda3/envs/python3/lib/python3.6/site-packages/botocore/client.py\u001b[0m in \u001b[0;36m_make_api_call\u001b[0;34m(self, operation_name, api_params)\u001b[0m\n\u001b[1;32m    647\u001b[0m         }\n\u001b[1;32m    648\u001b[0m         request_dict = self._convert_to_request_dict(\n\u001b[0;32m--> 649\u001b[0;31m             api_params, operation_model, context=request_context)\n\u001b[0m\u001b[1;32m    650\u001b[0m \u001b[0;34m\u001b[0m\u001b[0m\n\u001b[1;32m    651\u001b[0m         \u001b[0mservice_id\u001b[0m \u001b[0;34m=\u001b[0m \u001b[0mself\u001b[0m\u001b[0;34m.\u001b[0m\u001b[0m_service_model\u001b[0m\u001b[0;34m.\u001b[0m\u001b[0mservice_id\u001b[0m\u001b[0;34m.\u001b[0m\u001b[0mhyphenize\u001b[0m\u001b[0;34m(\u001b[0m\u001b[0;34m)\u001b[0m\u001b[0;34m\u001b[0m\u001b[0;34m\u001b[0m\u001b[0m\n",
      "\u001b[0;32m~/anaconda3/envs/python3/lib/python3.6/site-packages/botocore/client.py\u001b[0m in \u001b[0;36m_convert_to_request_dict\u001b[0;34m(self, api_params, operation_model, context)\u001b[0m\n\u001b[1;32m    695\u001b[0m             api_params, operation_model, context)\n\u001b[1;32m    696\u001b[0m         request_dict = self._serializer.serialize_to_request(\n\u001b[0;32m--> 697\u001b[0;31m             api_params, operation_model)\n\u001b[0m\u001b[1;32m    698\u001b[0m         \u001b[0;32mif\u001b[0m \u001b[0;32mnot\u001b[0m \u001b[0mself\u001b[0m\u001b[0;34m.\u001b[0m\u001b[0m_client_config\u001b[0m\u001b[0;34m.\u001b[0m\u001b[0minject_host_prefix\u001b[0m\u001b[0;34m:\u001b[0m\u001b[0;34m\u001b[0m\u001b[0;34m\u001b[0m\u001b[0m\n\u001b[1;32m    699\u001b[0m             \u001b[0mrequest_dict\u001b[0m\u001b[0;34m.\u001b[0m\u001b[0mpop\u001b[0m\u001b[0;34m(\u001b[0m\u001b[0;34m'host_prefix'\u001b[0m\u001b[0;34m,\u001b[0m \u001b[0;32mNone\u001b[0m\u001b[0;34m)\u001b[0m\u001b[0;34m\u001b[0m\u001b[0;34m\u001b[0m\u001b[0m\n",
      "\u001b[0;32m~/anaconda3/envs/python3/lib/python3.6/site-packages/botocore/validate.py\u001b[0m in \u001b[0;36mserialize_to_request\u001b[0;34m(self, parameters, operation_model)\u001b[0m\n\u001b[1;32m    291\u001b[0m                                                     operation_model.input_shape)\n\u001b[1;32m    292\u001b[0m             \u001b[0;32mif\u001b[0m \u001b[0mreport\u001b[0m\u001b[0;34m.\u001b[0m\u001b[0mhas_errors\u001b[0m\u001b[0;34m(\u001b[0m\u001b[0;34m)\u001b[0m\u001b[0;34m:\u001b[0m\u001b[0;34m\u001b[0m\u001b[0;34m\u001b[0m\u001b[0m\n\u001b[0;32m--> 293\u001b[0;31m                 \u001b[0;32mraise\u001b[0m \u001b[0mParamValidationError\u001b[0m\u001b[0;34m(\u001b[0m\u001b[0mreport\u001b[0m\u001b[0;34m=\u001b[0m\u001b[0mreport\u001b[0m\u001b[0;34m.\u001b[0m\u001b[0mgenerate_report\u001b[0m\u001b[0;34m(\u001b[0m\u001b[0;34m)\u001b[0m\u001b[0;34m)\u001b[0m\u001b[0;34m\u001b[0m\u001b[0;34m\u001b[0m\u001b[0m\n\u001b[0m\u001b[1;32m    294\u001b[0m         return self._serializer.serialize_to_request(parameters,\n\u001b[1;32m    295\u001b[0m                                                      operation_model)\n",
      "\u001b[0;31mParamValidationError\u001b[0m: Parameter validation failed:\nInvalid type for parameter Body, value: [0, 0, 0, 0, 0, 0, 0, 0, 0, 0, 0, 0, 0, 0, 0, 0, 0, 0, 0, 0, 0, 0, 0, 0, 0, 0, 0, 0, 0, 0, 0, 0, 0, 0, 0, 0, 0, 0, 0, 0, 0, 0, 0, 0, 0, 0, 0, 0, 0, 0, 0, 0, 0, 0, 0, 0, 0, 0, 0, 0, 0, 0, 0, 0, 0, 0, 0, 0, 0, 0, 0, 0, 0, 0, 0, 0, 0, 0, 0, 0, 0, 0, 0, 0, 0, 0, 0, 0, 0, 0, 0, 0, 0, 0, 0, 0, 0, 0, 0, 0, 0, 0, 0, 0, 0, 0, 0, 0, 0, 0, 0, 0, 0, 0, 0, 0, 0, 0, 0, 0, 0, 0, 0, 0, 0, 0, 0, 0, 0, 0, 0, 0, 0, 0, 0, 0, 0, 0, 0, 0, 0, 0, 0, 0, 0, 0, 0, 0, 0, 0, 0, 0, 0, 0, 0, 0, 0, 0, 0, 0, 0, 0, 0, 0, 0, 0, 0, 0, 0, 0, 0, 0, 0, 0, 0, 0, 0, 0, 0, 0, 0, 0, 0, 0, 0, 0, 0, 0, 0, 0, 0, 0, 0, 0, 0, 0, 0, 0, 0, 0, 0, 0, 0, 0, 0, 0, 0, 0, 0, 0, 0, 0, 0, 0, 0, 0, 0, 0, 0, 0, 0, 0, 0, 0, 0, 0, 1, 0, 0, 0, 0, 0, 0, 0, 0, 0, 0, 0, 0, 0, 0, 0, 0, 0, 0, 0, 0, 0, 0, 0, 0, 0, 0, 0, 0, 0, 1, 0, 0, 0, 0, 0, 0, 0, 0, 0, 0, 0, 0, 0, 0, 0, 0, 0, 0, 0, 0, 0, 0, 0, 0, 0, 0, 0, 0, 0, 0, 0, 0, 0, 0, 0, 0, 0, 0, 0, 0, 0, 0, 0, 0, 0, 0, 0, 0, 0, 0, 0, 0, 0, 0, 0, 0, 0, 0, 0, 0, 0, 0, 0, 0, 0, 0, 0, 0, 0, 0, 0, 0, 0, 0, 0, 0, 0, 0, 0, 0, 0, 0, 0, 0, 0, 0, 0, 0, 0, 0, 0, 0, 0, 0, 0, 0, 0, 0, 0, 0, 0, 0, 0, 0, 0, 0, 0, 0, 0, 0, 0, 0, 0, 0, 0, 0, 0, 0, 0, 0, 0, 0, 0, 0, 0, 0, 0, 0, 0, 0, 0, 0, 0, 0, 0, 0, 0, 0, 0, 0, 0, 0, 0, 0, 0, 0, 0, 0, 0, 0, 0, 0, 0, 0, 0, 0, 0, 0, 0, 0, 0, 0, 0, 0, 0, 0, 0, 0, 0, 0, 0, 0, 0, 0, 0, 0, 0, 0, 0, 0, 0, 0, 0, 0, 0, 0, 0, 0, 0, 0, 0, 0, 0, 0, 0, 0, 0, 0, 0, 0, 0, 0, 0, 0, 0, 0, 0, 0, 0, 0, 0, 0, 0, 0, 0, 0, 0, 0, 0, 0, 0, 0, 0, 0, 0, 0, 0, 0, 0, 0, 0, 0, 0, 0, 0, 0, 0, 0, 0, 0, 0, 0, 0, 0, 0, 0, 0, 0, 0, 0, 0, 0, 0, 0, 0, 0, 0, 0, 0, 0, 0, 0, 0, 0, 0, 0, 0, 0, 0, 0, 0, 0, 0, 0, 0, 0, 0, 0, 0, 0, 0, 0, 0, 0, 0, 0, 0, 0, 0, 0, 0, 0, 0, 0, 0, 0, 0, 0, 0, 0, 0, 0, 0, 0, 0, 0, 0, 0, 0, 0, 0, 0, 0, 0, 0, 0, 0, 0, 0, 0, 0, 0, 0, 0, 0, 0, 0, 0, 0, 0, 0, 0, 0, 0, 0, 0, 0, 0, 0, 0, 0, 0, 0, 0, 0, 0, 0, 0, 0, 0, 0, 0, 0, 0, 0, 0, 0, 0, 0, 0, 0, 0, 0, 0, 0, 0, 0, 0, 0, 0, 0, 0, 0, 0, 0, 0, 0, 0, 0, 1, 0, 0, 0, 0, 0, 0, 0, 0, 0, 0, 0, 0, 0, 0, 0, 0, 0, 0, 0, 0, 0, 0, 0, 0, 0, 0, 0, 0, 0, 0, 0, 0, 0, 0, 0, 0, 0, 0, 0, 0, 0, 0, 0, 0, 0, 0, 0, 0, 0, 0, 0, 0, 0, 0, 0, 0, 0, 0, 0, 0, 0, 0, 0, 0, 0, 0, 0, 0, 0, 0, 0, 0, 0, 0, 0, 0, 0, 0, 0, 0, 0, 0, 0, 0, 0, 0, 0, 0, 0, 0, 0, 0, 0, 0, 0, 0, 0, 0, 0, 0, 0, 0, 0, 0, 0, 0, 0, 0, 0, 0, 0, 0, 0, 0, 0, 0, 0, 0, 0, 0, 0, 0, 0, 0, 0, 0, 0, 0, 0, 0, 0, 0, 0, 0, 0, 0, 0, 0, 0, 0, 0, 0, 0, 0, 0, 0, 0, 0, 0, 0, 0, 0, 0, 0, 0, 0, 0, 0, 0, 0, 0, 0, 0, 0, 0, 0, 0, 0, 0, 0, 0, 0, 0, 0, 0, 0, 0, 0, 0, 0, 0, 0, 0, 0, 0, 0, 0, 0, 0, 0, 0, 0, 0, 0, 0, 0, 0, 0, 0, 0, 0, 0, 0, 0, 0, 0, 0, 0, 0, 0, 0, 0, 0, 0, 0, 0, 0, 0, 0, 0, 0, 0, 0, 0, 0, 0, 0, 0, 0, 0, 0, 0, 0, 0, 0, 0, 0, 0, 0, 0, 0, 0, 0, 0, 0, 0, 0, 0, 0, 0, 0, 0, 0, 1, 0, 0, 0, 0, 0, 0, 0, 0, 0, 0, 0, 0, 0, 0, 0, 0, 0, 0, 0, 0, 0, 0, 0, 0, 0, 0, 0, 0, 0, 0, 0, 0, 0, 0, 0, 0, 0, 0, 0, 0, 0, 0, 0, 0, 0, 0, 0, 0, 0, 0, 0, 0, 0, 0, 0, 0, 0, 0, 0, 0, 0, 0, 0, 0, 0, 0, 0, 0, 0, 0, 0, 0, 0, 0, 0, 0, 0, 0, 0, 0, 0, 0, 0, 0, 0, 0, 1, 0, 0, 0, 0, 0, 0, 0, 0, 0, 0, 0, 0, 0, 0, 0, 0, 0, 0, 0, 0, 0, 0, 0, 0, 0, 0, 0, 0, 0, 0, 0, 0, 0, 0, 0, 0, 0, 0, 0, 0, 0, 0, 0, 0, 0, 0, 0, 0, 0, 0, 0, 0, 0, 0, 0, 0, 0, 0, 0, 0, 0, 0, 0, 0, 0, 0, 0, 0, 0, 0, 0, 0, 0, 0, 0, 0, 0, 0, 0, 0, 0, 0, 0, 0, 0, 0, 0, 0, 0, 0, 0, 0, 0, 0, 0, 0, 0, 0, 0, 0, 0, 0, 0, 0, 0, 0, 0, 0, 0, 0, 0, 0, 0, 0, 0, 0, 0, 0, 0, 0, 0, 0, 0, 0, 0, 0, 0, 0, 0, 0, 0, 0, 0, 0, 0, 0, 0, 0, 0, 0, 0, 0, 0, 0, 0, 0, 0, 0, 0, 0, 0, 0, 0, 0, 0, 0, 0, 0, 0, 0, 0, 0, 0, 0, 0, 0, 0, 0, 0, 0, 0, 0, 0, 0, 0, 0, 0, 0, 0, 0, 0, 0, 0, 0, 0, 0, 0, 0, 0, 0, 0, 0, 0, 0, 0, 0, 0, 0, 0, 0, 0, 0, 0, 0, 0, 0, 0, 0, 0, 0, 0, 0, 0, 0, 0, 0, 0, 0, 0, 0, 0, 0, 0, 0, 0, 0, 0, 0, 0, 0, 0, 0, 0, 0, 0, 0, 0, 0, 0, 0, 0, 0, 0, 0, 0, 0, 0, 0, 0, 0, 0, 0, 1, 0, 0, 0, 0, 0, 0, 0, 0, 0, 0, 0, 0, 0, 0, 0, 0, 0, 0, 0, 0, 0, 0, 0, 0, 0, 0, 0, 0, 0, 0, 0, 0, 0, 0, 0, 0, 0, 0, 0, 0, 0, 0, 0, 0, 0, 0, 0, 0, 0, 0, 0, 0, 0, 0, 0, 1, 0, 0, 0, 0, 0, 0, 0, 0, 0, 0, 0, 0, 0, 0, 0, 0, 0, 0, 0, 0, 0, 0, 0, 0, 0, 0, 0, 0, 0, 0, 0, 0, 0, 0, 0, 0, 0, 0, 0, 0, 0, 0, 0, 0, 0, 0, 0, 0, 0, 0, 0, 0, 0, 0, 0, 0, 0, 0, 0, 0, 0, 0, 0, 0, 0, 0, 0, 0, 0, 0, 0, 0, 0, 0, 0, 0, 0, 0, 0, 0, 0, 0, 0, 0, 0, 0, 0, 0, 0, 0, 0, 0, 0, 0, 0, 0, 0, 0, 0, 0, 0, 0, 0, 0, 0, 0, 0, 0, 0, 0, 0, 0, 0, 0, 0, 0, 0, 0, 0, 0, 0, 0, 0, 0, 0, 0, 0, 0, 0, 0, 0, 0, 0, 0, 0, 0, 0, 0, 0, 0, 0, 0, 0, 0, 0, 0, 0, 0, 0, 0, 0, 0, 0, 0, 0, 0, 0, 0, 0, 0, 0, 0, 0, 0, 0, 0, 0, 0, 0, 0, 0, 0, 0, 0, 0, 0, 0, 0, 0, 0, 0, 0, 0, 0, 0, 0, 0, 0, 0, 0, 0, 0, 0, 0, 0, 0, 0, 0, 0, 0, 0, 0, 0, 0, 0, 0, 0, 0, 0, 0, 0, 0, 0, 0, 0, 0, 0, 0, 0, 0, 0, 0, 0, 0, 0, 0, 0, 0, 0, 0, 0, 0, 0, 0, 0, 0, 0, 0, 0, 0, 0, 0, 0, 0, 0, 0, 0, 0, 0, 0, 0, 0, 0, 0, 0, 0, 0, 0, 0, 0, 0, 0, 0, 0, 0, 0, 0, 0, 0, 0, 0, 0, 0, 0, 0, 0, 0, 0, 0, 0, 0, 0, 0, 0, 0, 0, 0, 0, 0, 0, 0, 0, 0, 0, 0, 0, 0, 0, 0, 0, 0, 0, 0, 0, 0, 0, 0, 0, 0, 0, 0, 0, 0, 0, 0, 0, 0, 0, 0, 0, 0, 0, 0, 0, 0, 0, 0, 0, 0, 0, 0, 0, 0, 0, 0, 0, 0, 0, 0, 0, 0, 0, 0, 0, 0, 0, 0, 0, 0, 0, 0, 0, 0, 0, 0, 0, 0, 0, 0, 0, 0, 0, 0, 0, 0, 0, 0, 0, 0, 0, 0, 0, 0, 0, 0, 0, 0, 0, 0, 0, 0, 0, 0, 0, 0, 0, 0, 0, 0, 0, 0, 0, 0, 0, 0, 0, 0, 0, 0, 0, 0, 0, 0, 0, 0, 0, 0, 0, 0, 0, 0, 0, 0, 0, 0, 0, 0, 0, 0, 0, 0, 0, 0, 0, 0, 0, 0, 0, 0, 0, 0, 0, 0, 0, 0, 0, 0, 0, 0, 0, 0, 0, 0, 0, 0, 0, 0, 0, 0, 0, 0, 0, 0, 0, 0, 0, 0, 0, 0, 0, 0, 0, 0, 0, 0, 0, 0, 0, 0, 0, 0, 0, 0, 0, 0, 0, 0, 0, 0, 0, 0, 0, 0, 0, 0, 0, 0, 0, 0, 0, 0, 0, 0, 0, 0, 0, 0, 0, 0, 0, 0, 0, 0, 0, 0, 0, 0, 0, 0, 0, 0, 0, 0, 0, 0, 0, 0, 0, 0, 0, 0, 0, 0, 0, 0, 0, 0, 0, 0, 0, 0, 0, 0, 0, 0, 0, 0, 0, 0, 0, 0, 0, 0, 0, 0, 0, 0, 0, 0, 0, 0, 0, 0, 0, 0, 0, 0, 0, 0, 0, 0, 0, 0, 0, 0, 0, 0, 0, 0, 0, 0, 0, 0, 0, 0, 0, 0, 0, 0, 0, 0, 0, 0, 0, 0, 0, 0, 0, 0, 0, 0, 0, 0, 0, 0, 0, 0, 0, 0, 0, 0, 0, 0, 0, 0, 0, 0, 0, 0, 0, 0, 0, 0, 0, 0, 0, 0, 0, 0, 0, 0, 0, 0, 0, 0, 0, 0, 0, 0, 0, 0, 0, 0, 0, 0, 0, 0, 0, 0, 0, 0, 0, 0, 0, 0, 0, 0, 0, 0, 0, 0, 0, 0, 0, 0, 0, 0, 0, 0, 0, 0, 0, 0, 0, 0, 0, 0, 0, 0, 0, 0, 0, 0, 0, 0, 0, 0, 0, 0, 0, 0, 1, 0, 0, 0, 0, 0, 0, 0, 0, 0, 0, 0, 0, 0, 0, 0, 0, 0, 0, 0, 0, 0, 0, 0, 0, 0, 0, 0, 0, 0, 0, 0, 0, 0, 0, 0, 0, 0, 0, 0, 0, 0, 0, 0, 0, 0, 0, 0, 0, 0, 0, 0, 0, 0, 0, 0, 0, 0, 0, 0, 0, 0, 0, 0, 0, 0, 0, 0, 0, 0, 0, 0, 0, 0, 0, 1, 0, 0, 0, 0, 0, 0, 0, 0, 0, 0, 0, 0, 0, 0, 0, 0, 0, 0, 0, 0, 1, 0, 0, 1, 0, 0, 0, 0, 0, 0, 0, 0, 0, 0, 0, 0, 0, 0, 0, 0, 0, 0, 0, 0, 0, 0, 0, 0, 0, 0, 0, 0, 0, 0, 0, 0, 0, 0, 0, 0, 0, 0, 0, 0, 0, 0, 0, 0, 0, 0, 0, 0, 0, 0, 0, 0, 0, 0, 0, 0, 0, 0, 0, 0, 0, 0, 0, 0, 0, 0, 0, 0, 0, 0, 0, 0, 0, 0, 0, 0, 0, 0, 0, 0, 0, 0, 0, 0, 0, 0, 0, 0, 0, 0, 0, 0, 0, 0, 0, 0, 0, 0, 0, 0, 0, 0, 0, 0, 0, 0, 0, 0, 0, 0, 0, 0, 0, 0, 0, 0, 0, 0, 0, 0, 0, 0, 0, 0, 0, 0, 0, 0, 0, 0, 0, 0, 0, 0, 0, 0, 0, 0, 0, 0, 0, 0, 0, 0, 0, 0, 0, 0, 0, 0, 0, 0, 0, 0, 0, 0, 0, 0, 0, 0, 0, 0, 0, 0, 0, 0, 0, 0, 0, 0, 0, 0, 0, 0, 0, 0, 0, 0, 0, 0, 0, 0, 0, 0, 0, 0, 0, 0, 0, 0, 0, 0, 0, 0, 0, 0, 0, 0, 0, 0, 0, 0, 0, 0, 0, 0, 0, 0, 0, 0, 0, 0, 0, 0, 0, 0, 0, 0, 0, 0, 0, 0, 0, 0, 0, 0, 0, 0, 0, 0, 0, 0, 0, 0, 0, 0, 0, 0, 0, 0, 0, 0, 0, 0, 0, 0, 0, 0, 0, 0, 0, 0, 0, 0, 0, 0, 0, 0, 0, 0, 0, 0, 0, 0, 0, 0, 0, 0, 0, 0, 0, 0, 0, 0, 0, 0, 0, 0, 0, 0, 0, 0, 0, 0, 0, 0, 0, 0, 0, 0, 0, 0, 0, 0, 0, 0, 0, 0, 0, 0, 0, 0, 0, 0, 0, 0, 0, 0, 0, 0, 0, 0, 0, 0, 0, 0, 0, 0, 0, 0, 0, 0, 0, 0, 0, 0, 0, 0, 0, 0, 0, 0, 0, 0, 0, 0, 0, 0, 0, 0, 0, 0, 0, 0, 0, 0, 0, 0, 0, 0, 0, 0, 0, 0, 0, 0, 0, 0, 0, 0, 0, 0, 0, 0, 0, 0, 0, 0, 0, 0, 0, 0, 0, 0, 0, 0, 0, 0, 0, 0, 0, 0, 0, 0, 0, 0, 0, 0, 0, 0, 0, 0, 0, 0, 0, 0, 0, 0, 0, 0, 0, 0, 0, 0, 0, 0, 0, 0, 0, 0, 0, 0, 0, 0, 0, 0, 0, 0, 0, 0, 0, 0, 0, 0, 0, 0, 0, 0, 0, 0, 0, 0, 0, 0, 0, 0, 0, 0, 0, 0, 0, 0, 0, 0, 0, 0, 0, 0, 0, 0, 0, 0, 0, 0, 0, 0, 0, 0, 0, 0, 0, 0, 0, 0, 0, 0, 1, 0, 0, 0, 0, 0, 0, 0, 0, 0, 0, 0, 0, 0, 0, 0, 0, 0, 0, 0, 0, 0, 0, 0, 0, 0, 0, 0, 0, 0, 0, 0, 0, 0, 0, 0, 0, 0, 0, 0, 0, 0, 0, 0, 0, 0, 0, 0, 0, 0, 0, 0, 0, 0, 0, 0, 0, 0, 0, 0, 0, 0, 0, 0, 0, 0, 0, 0, 0, 0, 0, 0, 0, 0, 0, 0, 0, 0, 0, 0, 0, 0, 0, 0, 0, 0, 0, 0, 0, 0, 0, 0, 0, 0, 0, 0, 0, 0, 0, 0, 0, 0, 0, 0, 0, 0, 0, 0, 0, 0, 0, 0, 0, 0, 0, 0, 0, 0, 0, 0, 0, 0, 0, 0, 0, 0, 0, 0, 0, 0, 0, 0, 0, 0, 0, 0, 0, 0, 0, 0, 0, 0, 0, 0, 0, 0, 0, 0, 0, 0, 0, 0, 0, 0, 0, 0, 0, 0, 0, 0, 0, 0, 0, 0, 0, 0, 0, 0, 0, 0, 0, 0, 0, 0, 0, 0, 0, 0, 0, 0, 0, 0, 0, 0, 0, 0, 0, 0, 0, 0, 0, 0, 0, 0, 0, 0, 0, 0, 0, 0, 0, 0, 0, 0, 0, 0, 0, 0, 0, 0, 0, 0, 0, 0, 0, 0, 0, 0, 0, 0, 0, 0, 0, 0, 0, 0, 0, 0, 0, 0, 0, 0, 0, 0, 0, 0, 0, 0, 0, 0, 0, 0, 0, 0, 0, 0, 0, 0, 0, 0, 0, 0, 0, 0, 0, 0, 0, 0, 0, 0, 0, 0, 0, 0, 0, 0, 0, 0, 0, 0, 0, 0, 0, 0, 0, 0, 0, 0, 0, 0, 0, 0, 0, 0, 0, 0, 0, 0, 0, 0, 0, 0, 0, 0, 0, 0, 0, 0, 0, 0, 0, 0, 0, 0, 0, 0, 0, 0, 0, 0, 0, 0, 0, 0, 0, 0, 0, 0, 0, 0, 0, 0, 0, 0, 0, 0, 0, 0, 0, 0, 0, 0, 0, 0, 0, 0, 0, 0, 0, 0, 0, 0, 0, 0, 0, 0, 0, 0, 0, 0, 0, 0, 0, 0, 0, 0, 0, 0, 0, 0, 0, 0, 0, 0, 0, 0, 0, 0, 0, 0, 0, 0, 0, 0, 0, 0, 0, 0, 0, 0, 0, 0, 0, 0, 0, 0, 0, 0, 0, 0, 0, 0, 0, 0, 0, 0, 0, 0, 0, 0, 0, 0, 0, 0, 0, 0, 0, 0, 0, 0, 0, 0, 0, 0, 0, 0, 0, 0, 0, 0, 0, 0, 0, 0, 0, 0, 0, 0, 0, 0, 0, 0, 0, 0, 0, 0, 0, 0, 0, 0, 0, 0, 0, 0, 0, 0, 0, 0, 0, 0, 0, 0, 0, 0, 0, 0, 0, 0, 0, 0, 0, 0, 0, 0, 0, 0, 0, 0, 0, 0, 0, 0, 0, 0, 0, 0, 0, 0, 0, 0, 0, 0, 0, 0, 0, 0, 0, 0, 0, 0, 0, 0, 0, 0, 0, 0, 0, 0, 0, 0, 0, 0, 0, 0, 0, 0, 0, 0, 0, 0, 0, 0, 0, 1, 0, 0, 0, 0, 0, 0, 0, 0, 0, 0, 0, 0, 0, 0, 0, 0, 0, 0, 0, 0, 0, 0, 0, 0, 0, 0, 0, 0, 0, 0, 0, 0, 0, 0, 0, 2, 0, 0, 0, 0, 0, 0, 0, 0, 0, 0, 0, 0, 0, 0, 0, 0, 0, 0, 0, 0, 0, 0, 0, 0, 0, 0, 0, 0, 0, 0, 0, 0, 0, 0, 0, 0, 0, 0, 0, 0, 1, 0, 0, 0, 0, 0, 0, 0, 0, 0, 0, 0, 0, 0, 0, 0, 0, 0, 0, 0, 0, 0, 0, 0, 0, 0, 0, 0, 0, 0, 0, 0, 0, 0, 0, 0, 0, 0, 0, 0, 0, 0, 0, 0, 0, 0, 0, 0, 0, 0, 0, 0, 0, 0, 0, 0, 0, 0, 0, 0, 0, 0, 0, 0, 0, 0, 0, 0, 0, 0, 0, 0, 0, 0, 0, 0, 0, 0, 0, 0, 0, 0, 0, 0, 0, 0, 0, 0, 0, 0, 0, 0, 0, 0, 0, 0, 0, 0, 0, 0, 0, 0, 0, 0, 0, 0, 0, 0, 0, 0, 0, 0, 0, 0, 0, 0, 0, 0, 0, 0, 0, 0, 0, 0, 0, 0, 0, 0, 0, 0, 0, 0, 0, 0, 0, 0, 0, 0, 0, 0, 0, 0, 0, 0, 0, 0, 0, 0, 0, 0, 0, 0, 0, 0, 0, 0, 0, 0, 0, 0, 0, 0, 0, 0, 0, 0, 0, 0, 0, 0, 0, 0, 0, 0, 0, 0, 0, 0, 0, 0, 0, 0, 0, 0, 0, 0, 0, 0, 0, 0, 0, 0, 0, 0, 0, 0, 0, 0, 0, 0, 0, 0, 0, 0, 0, 0, 0, 0, 0, 0, 0, 0, 0, 0, 0, 0, 0, 0, 0, 0, 0, 0, 0, 0, 0, 0, 0, 0, 0, 0, 0, 0, 0, 0, 0, 0, 0, 0, 0, 0, 0, 0, 0, 0, 0, 0, 0, 0, 0, 0, 0, 0, 0, 0, 0, 0, 0, 0, 0, 0, 0, 0, 0, 0, 0, 0, 0, 0, 0, 0, 0, 0, 0, 0, 0, 0, 0, 0, 0, 0, 0, 0, 0, 0, 0, 0, 0, 0, 0, 0, 0, 0, 0, 0, 0, 0, 0, 0, 0, 0, 0, 0, 0, 0, 0, 0, 0, 0, 0, 0, 0, 0, 0, 0, 0, 0, 0, 0, 0, 0, 0, 0, 0, 0, 0, 0, 0, 0, 0, 0, 0, 0, 0, 0, 0, 0, 0, 0, 0, 0, 0, 0, 0, 0, 0, 0, 0, 0, 0, 0, 0, 0, 0, 0, 0, 0, 0, 0, 0, 0, 0, 0, 0, 0, 0, 0, 0, 0, 0, 0, 0, 0, 0, 0, 0, 0, 0, 0, 0, 0, 0, 0, 0, 0, 0, 0, 0, 0, 0, 0, 0, 0, 0, 0, 0, 0, 0, 0, 0, 0, 0, 0, 0, 0, 0, 0, 0, 0, 0, 0, 0, 0, 0, 0, 0, 0, 0, 0, 0, 0, 0, 0, 0, 0, 0, 0, 0, 0, 0, 0, 0, 0, 0, 0, 0, 0, 0, 0, 0, 0, 0, 0, 0, 0, 0, 0, 0, 0, 0, 0, 0, 0, 0, 0, 0, 0, 0, 0, 0, 0, 0, 0, 0, 0, 0, 0, 0, 0, 0, 0, 0, 0, 0, 0, 0, 0, 0, 0, 0, 0, 0, 0, 0, 0, 0, 0, 0, 0, 0, 0, 0, 0, 0, 0, 0, 0, 0, 0, 1, 0, 0, 0, 0, 0, 0, 0, 0, 0, 0, 0, 0, 0, 0, 0, 0, 0, 0, 0, 0, 0, 0, 0, 0, 0, 0, 0, 0, 0, 0, 0, 0, 0, 0, 0, 0, 0, 0, 0, 0, 0, 0, 0, 0, 0, 0, 0, 0, 0, 0, 0, 0, 0, 0, 0, 0, 0, 0, 0, 0, 0, 0, 0, 0, 0, 0, 0, 0, 0, 0, 0, 0, 0, 0, 0, 0, 0, 0, 0, 0, 0, 0, 0, 0, 0, 0, 0, 0, 0, 0, 0, 0, 0, 0, 0, 0, 0, 0, 0, 0, 0, 0, 0, 0, 0, 0, 0, 0, 0, 0, 2, 0, 0, 0, 0, 0, 0, 0, 0, 0, 0, 0, 0, 0, 0, 0, 0, 0, 0, 0, 0, 0, 0, 0, 0, 0, 0, 0, 0, 0, 0, 0, 0, 0, 0, 0, 0, 0, 0, 0, 0, 0, 0, 0, 0, 0, 0, 0, 0, 0, 0, 0, 0, 0, 0, 0, 0, 0, 0, 0, 0, 0, 0, 0, 0, 0, 0, 0, 0, 0, 0, 0, 0, 0, 0, 0, 0, 0, 0, 0, 0, 0, 0, 0, 0, 0, 0, 0, 0, 0, 0, 0, 0, 0, 0, 0, 0, 0, 0, 0, 0, 0, 0, 0, 0, 0, 0, 0, 0, 0, 0, 0, 0, 0, 0, 0, 0, 0, 0, 0, 0, 0, 0, 0, 0, 0, 0, 0, 0, 0, 0, 0, 0, 0, 0, 0, 0, 0, 0, 0, 0, 0, 0, 0, 0, 0, 0, 0, 0, 0, 0, 0, 0, 0, 0, 0, 0, 0, 0, 0, 0, 0, 0, 0, 0, 0, 0, 0, 0, 0, 0, 0, 0, 0, 0, 0, 0, 0, 0, 0, 0, 0, 0, 0, 0, 0, 0, 0, 0, 0, 0, 0, 0, 0, 0, 0, 0, 0, 0, 0, 0, 0, 0, 0, 0, 0, 0, 0, 0, 0, 0, 0, 0, 0, 0, 0, 0, 0, 0, 0, 0, 0, 0, 0, 0, 0, 0, 0, 0, 0, 0, 0, 0, 0, 0, 0, 0, 0, 0, 0, 0, 0, 0, 0, 0, 0, 0, 0, 0, 0, 0, 0, 0, 0, 0, 0, 0, 0, 0, 0, 0, 0, 0, 0, 0, 0, 0, 0, 0, 0, 0, 0, 0, 0, 0, 0, 0, 0, 0, 0, 0, 0, 0, 0, 0, 0, 0, 0, 0, 0, 0, 0, 0, 0, 0, 0, 0, 0, 0, 0, 0, 0, 0, 0, 0, 0, 0, 0, 0, 0, 0, 0, 0, 0, 0, 0, 0, 0, 0, 0, 0, 0, 0, 0, 0, 0, 0, 0, 0, 0, 0, 0, 0, 0, 0, 0, 0, 0, 0, 0, 0, 0, 0, 0, 0, 0, 0, 0, 0, 0, 0, 0, 0, 0, 0, 0, 0, 0, 0, 0, 0, 0, 0, 0, 0, 0, 0, 0, 0, 0, 0, 0, 0, 0, 0, 0, 0, 0, 0, 0, 0, 0, 0, 0, 0, 0, 0, 0, 0, 0, 0, 0, 0, 0, 0, 0, 0, 0, 0, 0, 0, 0, 0, 0, 0, 0, 0, 0, 0, 0, 0, 0, 0, 0, 0, 0, 0, 0, 0, 0, 0, 0, 0, 0, 0, 0, 0, 0, 0, 0, 0, 0, 0, 0, 0, 0, 0, 0, 0, 0, 0, 0, 0, 0, 0, 0, 0, 0, 0, 0, 0, 0, 0, 0, 0, 0, 0, 0, 0, 0, 0, 0, 0, 0, 0, 0, 0, 0, 0, 0, 0, 0, 0, 0, 0, 0, 0, 0, 0, 0, 0, 0, 0, 0, 0, 0, 0, 0, 0, 0, 0, 0, 0, 0, 0, 0, 0, 0, 0, 0, 0, 0, 0, 0, 0, 0, 0, 0, 0, 0, 0, 0, 0, 0, 0, 0, 0, 0, 0, 0, 0, 0, 0, 0, 0, 0, 0, 0, 0, 0, 0, 0, 0, 0, 0, 0, 0, 0, 0, 0, 0, 0, 0, 0, 0, 0, 0, 0, 0, 0, 0, 0, 0, 0, 0, 0, 0, 0, 0, 0, 0, 0, 0, 0, 0, 0, 0, 0, 0, 0, 0, 0, 0, 0, 0, 0, 0, 0, 0, 0, 0, 0, 0, 0, 0, 0, 0, 0, 0, 0, 0, 0, 0, 0, 0, 0, 0, 0, 0, 0, 0, 0, 0, 0, 0, 0, 0, 0, 0, 0, 0, 0, 0, 0, 0, 0, 0, 0, 0, 0, 0, 0, 0, 0, 0, 0, 0, 0, 0, 0, 0, 0, 0, 0, 0, 0, 0, 0, 0, 0, 0, 0, 0, 0, 0, 0, 0, 0, 0, 0, 0, 0, 0, 0, 0, 0, 0, 0, 0, 0, 0, 0, 0, 0, 0, 0, 0, 0, 0, 0, 0, 0, 0, 0, 0, 0, 0, 0, 0, 0, 0, 0, 0, 0, 0, 0, 0, 0, 0, 0, 0, 1, 0, 0, 0, 0, 0, 0, 0, 0, 0, 0, 0, 0, 0, 0, 0, 0, 0, 0, 0, 0, 0, 0, 0, 0, 0, 0, 0, 0, 0, 0, 0, 0, 0, 0, 0, 0, 0, 0, 0, 0, 0, 0, 0, 0, 0, 0, 0, 0, 0, 0, 0, 0, 0, 0, 0, 0, 0, 0, 0, 0, 0, 0, 0, 0, 0, 0, 0, 0, 0, 0, 0, 0, 0, 0, 0, 0, 0, 0, 0, 0, 0, 0, 0, 0, 0, 0, 0, 0, 0, 0, 0, 0, 0, 0, 0, 0, 0, 0, 0, 0, 0, 0, 0, 0, 0, 0, 0, 1, 0, 0, 0, 0, 0, 0, 0, 0, 0, 0, 0, 0, 0, 0, 0, 0, 0, 0, 0, 0, 0, 0, 0, 0, 0, 0, 0, 0, 0, 0, 0, 0, 0, 0, 0, 0, 0, 0, 0, 0, 0, 0, 0, 0, 0, 0, 0, 0, 0, 0, 0, 0, 0, 0, 0, 0, 0, 0, 0, 0, 0, 0, 0, 0, 0, 0, 0, 0, 0, 0, 0, 0, 0, 0, 0, 0, 0, 0, 0, 0, 0, 0, 0, 0, 0, 0, 0, 0, 0, 0, 0, 0, 0, 0, 0, 0, 0, 0, 0, 0, 0, 0, 0, 0, 0, 0, 0, 0, 0, 0, 0, 0, 0, 0, 0, 0, 0, 0, 0, 0, 0, 0, 0, 0, 0, 0, 0, 0, 0, 0, 0, 0, 0, 0, 0, 0, 0, 0, 0, 0, 0, 0, 0, 0, 0, 0, 0, 0, 0, 0, 0, 0, 0, 0, 0, 0, 0, 0, 0, 0, 0, 0, 0, 0, 0, 0, 0, 0, 0, 0, 0, 0, 0, 0, 0, 0, 0, 0, 0, 0, 0, 0, 0, 0, 0, 0, 0, 0, 0, 0, 0, 0, 0, 0, 0, 0, 0, 0, 0, 0, 0, 0, 0, 0, 0, 0, 0, 0, 0, 0, 0, 0, 0, 0, 0, 0, 0, 0, 0, 0, 0, 0, 0, 0, 0, 0, 0, 0, 0, 0, 0, 0, 0, 0, 0, 0, 0, 0, 0, 0, 0, 0, 0, 0, 0, 0, 0, 0, 0, 0, 0, 0, 0, 0, 0, 0, 0, 0, 0, 0, 0, 0, 0, 0, 0, 0, 0, 0, 0, 0, 0, 0, 0, 0, 0, 0, 0, 0, 0, 0, 0, 0, 0, 0, 0, 0, 0, 0, 0, 0, 0, 0, 0, 0, 0, 0, 0, 0, 0, 0, 0, 0, 0, 0, 0, 0, 0, 0, 0, 0, 0, 0, 0, 0, 0, 0, 0, 0, 0, 0, 0, 0, 0, 0, 0, 0, 0, 0, 0, 0, 0, 0, 0, 0, 0, 0, 0, 0, 0, 0, 0, 0, 0, 0, 0, 0, 0, 0, 0, 0, 0, 0, 0, 0, 0, 0, 0, 0, 0, 0, 0, 0, 0, 0, 0, 0, 0, 0, 0, 0, 0, 0, 0, 0, 0, 0, 0, 0, 0, 0, 0, 0, 0, 0, 0, 0, 0, 0, 0, 0, 0, 0, 0, 0, 0, 0, 0, 0, 0, 0, 0, 0, 0, 0, 0, 0, 0, 0, 0, 0, 0, 0, 0, 0, 0, 0, 0, 0, 0, 0, 0, 0, 0, 0, 0, 0, 0, 0, 0, 0, 0, 0, 0, 0, 0, 0, 0, 0, 0, 0, 0, 0, 0, 0, 0, 0, 0, 0, 0, 0, 0, 0, 0, 0, 0, 0, 0, 0, 0, 0, 0, 0, 0, 2, 0, 1, 0], type: <class 'list'>, valid types: <class 'bytes'>, <class 'bytearray'>, file-like object"
     ]
    }
   ],
   "source": [
    "response = runtime.invoke_endpoint(EndpointName = xgb_predictor.endpoint, # The name of the endpoint we created\n",
    "                                       ContentType = 'text/csv',                     # The data format that is expected\n",
    "                                       Body = test_bow)"
   ]
  },
  {
   "cell_type": "markdown",
   "metadata": {},
   "source": [
    "So why did we get an error?\n",
    "\n",
    "Because we tried to send the endpoint a list of integers but it expected us to send data of type `text/csv`. So, we need to convert it."
   ]
  },
  {
   "cell_type": "code",
   "execution_count": 46,
   "metadata": {},
   "outputs": [],
   "source": [
    "response = runtime.invoke_endpoint(EndpointName = xgb_predictor.endpoint, # The name of the endpoint we created\n",
    "                                       ContentType = 'text/csv',                     # The data format that is expected\n",
    "                                       Body = ','.join([str(val) for val in test_bow]).encode('utf-8'))"
   ]
  },
  {
   "cell_type": "code",
   "execution_count": 47,
   "metadata": {},
   "outputs": [
    {
     "name": "stdout",
     "output_type": "stream",
     "text": [
      "{'ResponseMetadata': {'RequestId': '89c79aec-4da4-41a8-8b3c-3434591a7915', 'HTTPStatusCode': 200, 'HTTPHeaders': {'x-amzn-requestid': '89c79aec-4da4-41a8-8b3c-3434591a7915', 'x-amzn-invoked-production-variant': 'AllTraffic', 'date': 'Sun, 02 May 2021 22:34:30 GMT', 'content-type': 'text/csv; charset=utf-8', 'content-length': '18'}, 'RetryAttempts': 0}, 'ContentType': 'text/csv; charset=utf-8', 'InvokedProductionVariant': 'AllTraffic', 'Body': <botocore.response.StreamingBody object at 0x7f3eb9114860>}\n"
     ]
    }
   ],
   "source": [
    "print(response)"
   ]
  },
  {
   "cell_type": "markdown",
   "metadata": {},
   "source": [
    "As we can see, the response from our model is a somewhat complicated looking dict that contains a bunch of information. The bit that we are most interested in is `'Body'` object which is a streaming object that we need to `read` in order to make use of."
   ]
  },
  {
   "cell_type": "code",
   "execution_count": 48,
   "metadata": {},
   "outputs": [
    {
     "name": "stdout",
     "output_type": "stream",
     "text": [
      "0.4012989103794098\n"
     ]
    }
   ],
   "source": [
    "response = response['Body'].read().decode('utf-8')\n",
    "print(response)"
   ]
  },
  {
   "cell_type": "markdown",
   "metadata": {},
   "source": [
    "Now that we know how to process the incoming user data we can start setting up the infrastructure to make our simple web app work. To do this we will make use of two different services. Amazon's Lambda and API Gateway services.\n",
    "\n",
    "Lambda is a service which allows someone to write some relatively simple code and have it executed whenever a chosen trigger occurs. For example, you may want to update a database whenever new data is uploaded to a folder stored on S3.\n",
    "\n",
    "API Gateway is a service that allows you to create HTTP endpoints (url addresses) which are connected to other AWS services. One of the benefits to this is that you get to decide what credentials, if any, are required to access these endpoints.\n",
    "\n",
    "In our case we are going to set up an HTTP endpoint through API Gateway which is open to the public. Then, whenever anyone sends data to our public endpoint we will trigger a Lambda function which will send the input (in our case a review) to our model's endpoint and then return the result."
   ]
  },
  {
   "cell_type": "markdown",
   "metadata": {},
   "source": [
    "### Setting up a Lambda function\n",
    "\n",
    "The first thing we are going to do is set up a Lambda function. This Lambda function will be executed whenever our public API has data sent to it. When it is executed it will receive the data, perform any sort of processing that is required, send the data (the review) to the SageMaker endpoint we've created and then return the result.\n",
    "\n",
    "#### Part A: Create an IAM Role for the Lambda function\n",
    "\n",
    "Since we want the Lambda function to call a SageMaker endpoint, we need to make sure that it has permission to do so. To do this, we will construct a role that we can later give the Lambda function.\n",
    "\n",
    "Using the AWS Console, navigate to the **IAM** page and click on **Roles**. Then, click on **Create role**. Make sure that the **AWS service** is the type of trusted entity selected and choose **Lambda** as the service that will use this role, then click **Next: Permissions**.\n",
    "\n",
    "In the search box type `sagemaker` and select the check box next to the **AmazonSageMakerFullAccess** policy. Then, click on **Next: Review**.\n",
    "\n",
    "Lastly, give this role a name. Make sure you use a name that you will remember later on, for example `LambdaSageMakerRole`. Then, click on **Create role**."
   ]
  },
  {
   "cell_type": "markdown",
   "metadata": {},
   "source": [
    "#### Part B: Create a Lambda function\n",
    "\n",
    "Now it is time to actually create the Lambda function. Remember from earlier that in order to process the user provided input and send it to our endpoint we need to gather two pieces of information:\n",
    "\n",
    " - The name of the endpoint, and\n",
    " - the vocabulary object.\n",
    "\n",
    "We will copy these pieces of information to our Lambda function after we create it.\n",
    "\n",
    "To start, using the AWS Console, navigate to the AWS Lambda page and click on **Create a function**. When you get to the next page, make sure that **Author from scratch** is selected. Now, name your Lambda function, using a name that you will remember later on, for example `sentiment_analysis_xgboost_func`. Make sure that the **Python 3.6** runtime is selected and then choose the role that you created in the previous part. Then, click on **Create Function**.\n",
    "\n",
    "On the next page you will see some information about the Lambda function you've just created. If you scroll down you should see an editor in which you can write the code that will be executed when your Lambda function is triggered. Collecting the code we wrote above to process a single review and adding it to the provided example `lambda_handler` we arrive at the following.\n",
    "\n",
    "```python\n",
    "# We need to use the low-level library to interact with SageMaker since the SageMaker API\n",
    "# is not available natively through Lambda.\n",
    "import boto3\n",
    "\n",
    "# And we need the regular expression library to do some of the data processing\n",
    "import re\n",
    "\n",
    "REPLACE_NO_SPACE = re.compile(\"(\\.)|(\\;)|(\\:)|(\\!)|(\\')|(\\?)|(\\,)|(\\\")|(\\()|(\\))|(\\[)|(\\])\")\n",
    "REPLACE_WITH_SPACE = re.compile(\"(<br\\s*/><br\\s*/>)|(\\-)|(\\/)\")\n",
    "\n",
    "def review_to_words(review):\n",
    "    words = REPLACE_NO_SPACE.sub(\"\", review.lower())\n",
    "    words = REPLACE_WITH_SPACE.sub(\" \", words)\n",
    "    return words\n",
    "    \n",
    "def bow_encoding(words, vocabulary):\n",
    "    bow = [0] * len(vocabulary) # Start by setting the count for each word in the vocabulary to zero.\n",
    "    for word in words.split():  # For each word in the string\n",
    "        if word in vocabulary:  # If the word is one that occurs in the vocabulary, increase its count.\n",
    "            bow[vocabulary[word]] += 1\n",
    "    return bow\n",
    "\n",
    "\n",
    "def lambda_handler(event, context):\n",
    "    \n",
    "    vocab = \"*** ACTUAL VOCABULARY GOES HERE ***\"\n",
    "    \n",
    "    words = review_to_words(event['body'])\n",
    "    bow = bow_encoding(words, vocab)\n",
    "\n",
    "    # The SageMaker runtime is what allows us to invoke the endpoint that we've created.\n",
    "    runtime = boto3.Session().client('sagemaker-runtime')\n",
    "\n",
    "    # Now we use the SageMaker runtime to invoke our endpoint, sending the review we were given\n",
    "    response = runtime.invoke_endpoint(EndpointName = '***ENDPOINT NAME HERE***',# The name of the endpoint we created\n",
    "                                       ContentType = 'text/csv',                 # The data format that is expected\n",
    "                                       Body = ','.join([str(val) for val in bow]).encode('utf-8')) # The actual review\n",
    "\n",
    "    # The response is an HTTP response whose body contains the result of our inference\n",
    "    result = response['Body'].read().decode('utf-8')\n",
    "    \n",
    "    # Round the result so that our web app only gets '1' or '0' as a response.\n",
    "    result = round(float(result))\n",
    "\n",
    "    return {\n",
    "        'statusCode' : 200,\n",
    "        'headers' : { 'Content-Type' : 'text/plain', 'Access-Control-Allow-Origin' : '*' },\n",
    "        'body' : str(result)\n",
    "    }\n",
    "```"
   ]
  },
  {
   "cell_type": "markdown",
   "metadata": {},
   "source": [
    "Once you have copy and pasted the code above into the Lambda code editor, replace the `**ENDPOINT NAME HERE**` portion with the name of the endpoint that we deployed earlier. You can determine the name of the endpoint using the code cell below."
   ]
  },
  {
   "cell_type": "code",
   "execution_count": 49,
   "metadata": {},
   "outputs": [
    {
     "data": {
      "text/plain": [
       "'xgboost-2021-05-02-22-03-21-259'"
      ]
     },
     "execution_count": 49,
     "metadata": {},
     "output_type": "execute_result"
    }
   ],
   "source": [
    "xgb_predictor.endpoint"
   ]
  },
  {
   "cell_type": "markdown",
   "metadata": {},
   "source": [
    "In addition, you will need to copy the vocabulary dict to the appropriate place in the code at the beginning of the `lambda_handler` method. The cell below prints out the vocabulary dict in a way that is easy to copy and paste."
   ]
  },
  {
   "cell_type": "code",
   "execution_count": 50,
   "metadata": {},
   "outputs": [
    {
     "name": "stdout",
     "output_type": "stream",
     "text": [
      "{'well': 4843, 'to': 4507, 'answer': 251, 'one': 3107, 'question': 3487, 'of': 3083, 'why': 4878, 'doesnt': 1309, 'anyone': 259, 'remember': 3616, 'this': 4457, 'film': 1716, 'its': 2370, 'because': 432, 'that': 4424, 'many': 2732, 'people': 3221, 'saw': 3798, 'it': 2366, 'in': 2257, 'and': 226, 'not': 3040, 'been': 438, 'shown': 3959, 'much': 2934, 'on': 3105, 'tv': 4610, 'since': 3990, 'if': 2222, 'video': 4733, 'be': 418, 'news': 3005, 'me': 2778, 'even': 1533, 'the': 4426, 'era': 1513, 'sometimes': 4067, 'mindless': 2851, 'comedies': 889, 'was': 4805, 'had': 2003, 'avoid': 363, 'unless': 4669, 'they': 4442, 'love': 2669, 'billy': 482, 'or': 3124, 'joan': 2404, 'paul': 3214, 'funnier': 1850, 'hollywood': 2137, 'than': 4420, 'here': 2086, 'at': 331, 'time': 4495, 'her': 2085, 'career': 686, 'getting': 1901, 'laughs': 2534, 'making': 2718, 'cruel': 1070, 'jokes': 2415, 'about': 67, 'singer': 3993, 'karen': 2444, 'lack': 2502, 'weight': 4840, 'also': 199, 'seems': 3864, 'like': 2599, 'every': 1539, 'somewhat': 4068, 'famous': 1647, 'name': 2960, 'from': 1840, 'is': 2360, 'cast': 710, 'most': 2909, 'surprising': 4315, 'roberts': 3714, 'later': 2525, 'everybody': 1540, 'loves': 2674, 'raymond': 3534, 'good': 1937, 'idea': 2213, 'for': 1784, 'man': 2721, 'pregnant': 3369, 'instead': 2307, 'woman': 4921, 'goes': 1930, 'waste': 4808, 'with': 4911, 'help': 2079, 'male': 2719, 'friend': 1835, 'gets': 1900, 'set': 3898, 'up': 4683, 'finally': 1724, 'lose': 2654, 'his': 2118, 'but': 636, 'she': 3923, 'top': 4525, 'commentary': 899, 'women': 4923, 'taking': 4352, 'power': 3359, 'away': 369, 'men': 2805, 'stomach': 4196, 'through': 4477, 'all': 187, 'female': 1693, 'emotions': 1461, 'related': 3594, 'feelings': 1686, 'now': 3054, 'hes': 2093, 'attacked': 338, 'by': 642, 'mob': 2879, 'who': 4871, 'wants': 4791, 'him': 2110, 'out': 3141, 'guess': 1989, 'forced': 1787, 'go': 1924, 'into': 2332, 'have': 2052, 'you': 4986, 'god': 1926, 'only': 3110, 'knows': 2493, 'where': 4864, 'may': 2775, 'turns': 4609, 'no': 3020, 'shock': 3938, 'girl': 1909, 'everything': 1544, 'else': 1448, 'movie': 2926, 'worthless': 4954, 'humor': 2192, 'high': 2100, 'school': 3813, 'level': 2584, 'less': 2575, 'stars': 4155, 'few': 1700, 'touching': 4536, 'relevant': 3604, 'moments': 2887, 'ignore': 2224, 'rest': 3657, 'big': 478, 'cant': 671, 'believe': 454, 'signed': 3971, 'either': 1438, 'end': 1468, 'obviously': 3072, 'lot': 2661, 'talented': 4355, 'behind': 447, 'scenes': 3811, 'crew': 1053, 'members': 2801, 'worked': 4941, 'so': 4046, 'dont': 1324, 'look': 2646, 'credits': 1050, 'youll': 4988, 'hold': 2129, 'against': 147, 'them': 4432, 'nobody': 3022, 'seemed': 3862, 'interested': 2324, 'seeing': 3857, 'were': 4848, 'theater': 4427, 'two': 4620, 'passed': 3202, 'after': 143, '10': 0, 'minutes': 2859, 'lucky': 2683, 'ones': 3108, 'monsters': 2893, 'star': 4150, 'trek': 4578, 'khan': 2459, 'designs': 1204, 'space': 4090, 'creatures': 1046, 'alien': 183, 'creators': 1044, 'didnt': 1242, 'want': 4788, 'third': 4455, 'rate': 3526, 'hired': 2117, 'forth': 1804, 'actors': 104, 'apparently': 270, 'get': 1899, 'their': 4431, 'lines': 2612, 'some': 4061, 'cases': 708, 'learn': 2550, 'words': 4938, 'before': 440, 'filming': 1718, 'began': 441, 'are': 285, 'incredibly': 2270, 'inept': 2281, 'just': 2437, 'what': 4858, 'supposed': 4306, 'happening': 2028, 'anything': 260, 'unfortunate': 4653, 'enough': 1491, 'showing': 3958, 'pass': 3201, 'laugh': 2529, 'frightening': 1839, 'suspenseful': 4331, 'several': 3905, 'will': 4886, 'stephen': 4176, 'regular': 3592, 'queen': 3485, 'mary': 2751, 'curse': 1086, 'feeling': 1685, 'pays': 3218, 'see': 3855, 'must': 2950, 'do': 1302, 'yourself': 4993, 'favor': 1670, 'wait': 4770, 'until': 4680, 'bargain': 400, 'bin': 483, 'store': 4204, 'theres': 4440, 'any': 256, 'justice': 2438, 'industry': 2280, 'main': 2707, 'there': 4438, 'rent': 3626, 'between': 475, 'tim': 4494, 'burton': 630, 'artistic': 308, 'vision': 4754, 'find': 1726, 'own': 3158, 'poetic': 3313, 'style': 4249, 'then': 4436, 'become': 433, 'prisoners': 3403, 'has': 2043, 'still': 4188, 'somehow': 4063, 'got': 1944, 'critical': 1062, 'praise': 3364, 'same': 3778, 'formula': 1802, 'over': 3148, 'again': 146, 'however': 2183, 'persons': 3244, 'joke': 2414, 'funny': 1852, 'when': 4862, 'heard': 2062, 'first': 1736, 'thats': 4425, 'reason': 3557, 'worst': 4952, 'movies': 2927, 'black': 493, 'cat': 713, 'white': 4870, 'life': 2592, 'miracle': 2860, 'something': 4066, 'completely': 922, 'different': 1248, 'hate': 2046, 'another': 250, 'stuff': 4243, 'course': 1019, 'play': 3296, 'safe': 3771, 'very': 4723, 'easy': 1410, 'make': 2713, 'flying': 1764, 'award': 366, 'fortunately': 1805, 'as': 311, 'brave': 567, 'person': 3238, 'he': 2056, 'chooses': 800, 'ironic': 2355, 'previous': 3387, 'works': 4945, 'can': 665, 'described': 1195, 'strong': 4229, 'harsh': 2040, 'parody': 3192, 'directed': 1259, 'himself': 2111, 'beautiful': 428, 'director': 1264, 'take': 4349, 'too': 4522, 'seriously': 3892, 'quality': 3484, 'biggest': 480, 'bergman': 466, 'kubrick': 2496, 'meaningless': 2782, 'becomes': 434, 'absurd': 73, 'deep': 1154, 'unfunny': 4655, 'hilarious': 2106, 'plan': 3287, 'outer': 3143, 'cult': 1077, 'would': 4957, 'made': 2697, 'masterpiece': 2759, 'how': 2181, 'watch': 4811, 'average': 362, 'western': 4853, 'viewer': 4738, 'references': 3583, 'notable': 3041, 'shop': 3945, 'owner': 3159, 'dramatic': 1348, 'writer': 4968, 'politically': 3325, 'left': 2561, 'liberal': 2588, 'political': 3324, 'views': 4742, 'subtle': 4260, 'work': 4940, 'second': 3846, 'reference': 3582, 'funeral': 1849, 'wedding': 4836, 'start': 4156, 'performing': 3233, 'around': 297, 'europe': 1529, 'although': 201, 'performer': 3231, 'songs': 4072, 'poor': 3328, 'covers': 1024, 'traditional': 4550, 'music': 2946, 'classics': 837, 'london': 2641, 'bridge': 578, 'falling': 1639, 'down': 1335, 'french': 1830, 'we': 4823, 'feel': 1684, 'listening': 2620, 'horrible': 2163, 'really': 3556, 'liked': 2600, 'pretending': 3382, 'beautifully': 429, 'chance': 747, 'couple': 1016, 'last': 2521, 'pleasant': 3302, 'surprise': 4312, 'directing': 1260, 'pink': 3277, 'purpose': 3474, 'massive': 2756, 'respect': 3652, 'guy': 2000, 'next': 3007, 'surely': 4309, 'character': 758, 'faces': 1618, 'easily': 1406, 'aliens': 184, 'earth': 1403, 'interesting': 2325, 'whether': 4866, 'simply': 3986, 'classic': 835, 'human': 2188, 'voices': 4763, 'coming': 896, 'animals': 240, 'theyre': 4445, 'thoughts': 4464, 'know': 2489, 'my': 2951, 'copy': 994, 'scene': 3809, 'missing': 2869, 'never': 3001, 'shows': 3960, 'dogs': 1311, 'pit': 3278, 'an': 223, 'survival': 4320, 'instinct': 2308, 'humans': 2190, 'position': 3345, 'once': 3106, 'original': 3129, 'improved': 2255, 'remake': 3612, 'voice': 4761, 'removed': 3624, 'use': 4692, 'kind': 2476, 'using': 4698, 'story': 4207, 'turning': 4608, 'more': 2904, 'opening': 3114, 'shot': 3949, 'hotel': 2175, 'room': 3735, 'mans': 2730, 'bathroom': 412, 'blew': 505, 'lights': 2597, 'rather': 3528, 'way': 4820, 'nothing': 3047, 'robin': 3715, 'hood': 2151, 'did': 1241, 'appearance': 274, 'far': 1653, 'could': 1007, 'bette': 471, 'young': 4989, 'attractive': 351, 'performed': 3230, 'best': 469, 'roles': 3727, 'long': 2644, 'stopped': 4202, 'being': 448, 'sexy': 3911, 'called': 652, 'swim': 4337, 'suit': 4284, 'george': 1893, 'marriage': 2743, 'johnny': 2410, 'eye': 1611, 'davis': 1126, 'great': 1964, 'suppose': 4305, 'rich': 3685, 'other': 3135, 'reporter': 3636, 'off': 3084, 'stage': 4139, 'having': 2054, 'real': 3547, 'affair': 135, 'which': 4867, 'these': 4441, 'appeared': 276, 'beginning': 443, 'poster': 3353, 'featuring': 1681, 'morgan': 2905, 'freeman': 1829, 'kevin': 2457, 'entire': 1502, 'stereotype': 4178, 'new': 3003, 'least': 2554, '15': 7, 'realize': 3552, 'youve': 4995, 'paid': 3169, 'justin': 2440, 'cool': 989, 'cop': 991, 'flick': 1754, 'basically': 407, 'corrupt': 1001, 'system': 4345, 'city': 825, 'secretly': 3851, 'business': 633, 'town': 4541, 'under': 4639, 'hot': 2174, 'above': 68, 'law': 2538, 'theyve': 4446, 'kick': 2460, 'ass': 323, 'shooting': 3943, 'beating': 425, 'suspects': 4328, 'cops': 993, 'greedy': 1969, 'mistakes': 2873, 'discovered': 1280, 'journalist': 2420, 'hour': 2176, 'series': 3890, 'unbelievably': 4635, 'bad': 382, 'ends': 1474, 'happily': 2030, 'served': 3894, 'final': 1722, 'line': 2610, 'beat': 423, 'roll': 3728, 'barely': 399, 'altogether': 202, 'half': 2007, 'dozen': 1338, 'short': 3946, 'stories': 4205, 'interest': 2323, 'us': 4690, 'each': 1395, 'contains': 964, 'boom': 537, 'events': 1536, 'depicted': 1183, 'happen': 2026, 'begins': 444, 'jump': 2429, 'promises': 3432, 'excitement': 1562, 'early': 1400, 'quite': 3495, 'low': 2676, 'key': 2458, 'stick': 4185, 'broken': 594, 'follow': 1772, 'provide': 3448, 'plenty': 3307, 'drama': 1346, 'while': 4868, 'hospital': 2172, 'gives': 1914, 'ill': 2228, 'patient': 3211, 'pain': 3170, 'relief': 3605, 'wife': 4884, 'both': 547, 'convincing': 985, 'moving': 2928, 'various': 4715, 'family': 1645, 'place': 3282, 'themes': 4434, 'general': 1880, 'nature': 2975, 'live': 2625, 'rarely': 3524, 'satisfying': 3791, 'tense': 4403, '90': 60, 'minute': 2858, 'grinch': 1975, 'came': 656, 'excited': 1561, 'though': 4461, 'thought': 4462, 'going': 1931, 'happy': 2032, 'little': 2624, 'nightmare': 3014, 'christmas': 810, 'touch': 4533, 'dark': 1115, 'spooky': 4128, 'loved': 2670, 'helped': 2080, 'fill': 1714, 'spirit': 4113, 'mostly': 2910, 'saved': 3795, 'happened': 2027, 'say': 3799, 'small': 4033, 'heart': 2064, 'grew': 1972, 'three': 4469, 'day': 1129, 'orson': 3132, 'welles': 4844, 'thirty': 4456, 'years': 4979, 'given': 1913, 'train': 4556, 'unfortunately': 4654, 'lacked': 2503, 'ability': 65, 'wreck': 4965, 'spoken': 4126, 'strange': 4211, 'sort': 4077, 'awe': 370, 'despite': 1211, 'post': 3352, 'modern': 2882, 'gay': 1876, 'feminist': 1695, 'fact': 1621, 'matter': 2769, 'major': 2711, 'disaster': 1276, 'remains': 3611, 'resources': 3651, 'mr': 2929, 'closely': 855, 'michael': 2829, 'ever': 1538, 'close': 853, 'films': 1721, 'ego': 1435, 'directors': 1266, '1970s': 17, 'studios': 4241, 'memorable': 2802, 'handled': 2019, 'pieces': 3273, 'bare': 398, 'example': 1553, 'hand': 2015, 'history': 2121, 'festival': 1697, 'received': 3564, 'standing': 4146, 'tells': 4397, 'knowledge': 2491, 'told': 4513, 'namely': 2962, 'street': 4216, 'german': 1896, 'married': 2744, 'world': 4946, 'war': 4792, 'such': 4268, 'unique': 4662, 'whats': 4860, 'seen': 3865, 'germans': 1897, 'helping': 2081, 'anne': 246, 'frank': 1821, 'instance': 2304, 'dutch': 1389, 'support': 4303, 'nazis': 2978, 'stand': 4143, 'during': 1387, 'nazi': 2977, 'risk': 3704, 'lives': 2628, 'acting': 99, 'across': 96, 'board': 522, 'york': 4985, 'direction': 1261, 'von': 4765, 'masterful': 2758, 'production': 3419, 'values': 4710, 'including': 2264, 'gorgeous': 1942, 'cinematography': 820, 'outstanding': 3147, 'speaking': 4095, 'country': 1014, 'choose': 799, 'speak': 4094, 'native': 2972, 'tongue': 4518, 'common': 906, 'criticism': 1063, 'spoil': 4121, 'experience': 1580, 'am': 204, 'hoping': 2160, 'distribution': 1298, 'north': 3036, 'america': 212, 'actually': 109, 'towards': 4540, 'hitler': 2124, 'playing': 3300, 'your': 4991, 'area': 286, 'urge': 4689, 'glad': 1916, 'agree': 155, 'comment': 898, 'realism': 3549, 'eating': 1413, 'producers': 3416, 'seem': 3861, 'forget': 1793, 'problem': 3408, 'create': 1036, 'come': 886, 'perfect': 3224, 'dislike': 1288, 'reality': 3551, 'meaning': 2780, 'things': 4451, 'better': 472, 'spend': 4105, 'creating': 1039, 'problems': 3409, 'admit': 122, 'takes': 4351, 'grow': 1982, 'characters': 760, 'worse': 4951, 'important': 2247, 'part': 3193, 'minds': 2852, 'realistic': 3550, 'suffering': 4277, 'scary': 3807, 'react': 3540, 'especially': 1520, 'direct': 1258, 'afraid': 140, 'wasnt': 4807, 'hadnt': 2004, 'remotely': 3623, 'roman': 3731, 'shelf': 3926, 'months': 2897, 'full': 1846, 'latest': 2526, 'offering': 3089, 'im': 2232, 'fan': 1648, 'blood': 512, 'dolls': 1316, 'non': 3027, 'killer': 2470, 'anyway': 261, 'happens': 2029, 'group': 1980, 'mountains': 2918, 'james': 2378, 'finds': 1728, 'cave': 727, 'old': 3100, 'feels': 1687, 'corpse': 999, 'try': 4600, 'possessed': 3347, 'kill': 2468, 'friends': 1837, 'granted': 1957, 'moon': 2900, 'budget': 610, 'times': 4497, 'editing': 1421, 'amateurish': 207, 'id': 2212, 'swear': 4334, 'watching': 4815, 'blair': 497, 'witch': 4909, 'project': 3427, 'attempts': 343, 'heads': 2059, 'reminds': 3620, 'weapons': 4829, 'plastic': 3294, 'literally': 2622, 'looks': 2649, 'filmed': 1717, 'digital': 1251, 'weekend': 4838, 'wrong': 4973, 'expecting': 1578, 'technical': 4381, 'research': 3644, 'script': 3834, 'act': 97, 'speaks': 4096, 'latin': 2527, 'aside': 315, 'enjoyed': 1486, 'perhaps': 3235, 'delivers': 1172, 'thing': 4450, 'disappointed': 1273, 'ive': 2372, 'trailer': 4554, 'four': 1812, 'ago': 154, 'moment': 2886, 'waiting': 4772, 'result': 3660, 'havent': 2053, '3d': 46, 'clearly': 840, 'inspired': 2301, 'comic': 893, 'books': 536, 'miller': 2846, 'step': 4175, 'further': 1853, 'excellent': 1555, 'sin': 3988, 'adaptation': 113, 'almost': 193, 'grey': 1973, 'middle': 2833, 'color': 877, 'graphic': 1958, 'animated': 241, 'motion': 2913, 'capture': 676, 'credibility': 1047, 'soon': 4074, 'aspect': 321, 'elements': 1443, 'plot': 3309, 'stays': 4169, 'possibilities': 3348, 'medium': 2792, 'futuristic': 1857, 'paris': 3189, 'makes': 2716, 'sci': 3815, 'fiction': 1702, 'maintain': 2710, 'till': 4493, 'base': 402, 'investigation': 2343, 'beyond': 476, 'initial': 2290, 'atmosphere': 333, 'absolute': 71, 'certain': 737, 'children': 792, 'wont': 4932, 'pet': 3246, 'stupid': 4247, 'moral': 2902, 'cold': 872, 'closer': 856, 'noir': 3023, 'found': 1811, 'setting': 3900, 'known': 2492, 'fine': 1729, 'nevertheless': 3002, 'regret': 3591, 'montage': 2894, 'bit': 488, 'flat': 1748, 'cliché': 844, 'slow': 4031, 'effects': 1431, 'dialogs': 1233, 'limits': 2607, 'romantic': 3733, 'sequences': 3888, 'fantasy': 1652, 'those': 4460, 'successful': 4266, 'challenge': 743, 'christian': 808, 'fall': 1637, 'potential': 3355, 'ask': 316, 'john': 2409, 'job': 2405, 'visuals': 4759, 'intelligent': 2314, 'wonderful': 4928, 'art': 304, 'please': 3304, 'excuse': 1564, 'expectations': 1576, 'jamie': 2379, 'knew': 2486, 'highly': 2105, 'entertaining': 1499, 'fun': 1848, 'unpredictable': 4675, 'david': 1124, 'terrific': 4409, 'true': 4596, 'finest': 1730, 'role': 3726, 'chases': 771, 'done': 1322, 'expect': 1575, 'surprised': 4313, 'funniest': 1851, 'think': 4452, 'laughter': 2535, 'cup': 1080, 'tea': 4373, 'honestly': 2147, 'hasnt': 2044, '17': 9, 'quote': 3496, 'game': 1864, 'aunt': 355, 'ice': 2210, 'ralph': 3510, 'ed': 1415, 'individual': 2277, 'ups': 4686, 'williams': 4888, 'damon': 1101, 'richard': 3686, 'red': 3576, 'murphy': 2944, 'material': 2766, 'comes': 891, 'hell': 2077, 'imagine': 2238, 'show': 3953, 'shocked': 3939, 'used': 4693, 'eddie': 1416, 'doing': 1312, 'rogers': 3725, 'snl': 4044, 'listen': 2619, 'audience': 352, 'says': 3801, 'word': 4937, 'complete': 921, 'does': 1308, 'homosexual': 2145, 'hey': 2095, 'boy': 557, 'mighty': 2836, 'cute': 1090, 'crowd': 1067, 'mouth': 2920, 'results': 3662, 'awesome': 371, 'comedy': 890, 'hurt': 2202, 'laughing': 2533, '1999': 27, 'south': 4087, 'park': 3190, 'bigger': 479, 'longer': 2645, 'raw': 3532, 'went': 4847, 'possible': 3350, 'piece': 3272, 'twenty': 4612, 'damn': 1100, 'took': 4523, 'kids': 2467, 'week': 4837, 'put': 3480, 'hook': 2152, 'back': 378, 'boat': 523, 'water': 4816, 'normal': 3033, 'started': 4157, 'fish': 1738, 'looked': 2647, 'said': 3774, 'prepared': 3371, 'english': 1483, 'sword': 4340, 'hero': 2088, 'born': 544, 'exceptional': 1558, 'protect': 3443, 'extremely': 1610, 'sharp': 3922, 'skin': 4015, 'side': 3965, 'superhero': 4299, 'senseless': 3878, 'unreal': 4676, 'hardly': 2036, 'anti': 254, 'lost': 2660, 'faith': 1633, 'met': 2822, 'someone': 4064, 'understand': 4643, 'except': 1556, 'mother': 2911, 'revenge': 3675, 'gift': 1906, 'became': 431, 'suddenly': 4273, 'meets': 2795, 'need': 2987, 'talks': 4361, 'care': 684, 'secret': 3849, 'kills': 2474, 'ex': 1549, 'boyfriend': 558, 'eyes': 1613, 'couldnt': 1008, 'escape': 1517, 'run': 3755, 'hart': 2041, 'hide': 2097, 'serious': 3891, 'car': 680, 'accident': 84, 'mental': 2808, 'believes': 456, 'save': 3794, 'arent': 288, 'wounded': 4961, 'needs': 2990, 'police': 3322, 'catch': 714, 'drive': 1363, 'corner': 996, 'cut': 1089, 'trees': 4577, 'helicopter': 2076, 'already': 197, 'dead': 1132, 'arms': 294, 'lonely': 2643, 'whole': 4873, 'heres': 2087, 'indie': 2276, 'wanted': 4789, 'ultimately': 4628, 'titles': 4506, 'picture': 3269, 'nonsensical': 3031, 'mess': 2818, 'isnt': 2362, 'worth': 4953, 'trying': 4601, 'figure': 1711, 'quickly': 3491, 'bored': 541, 'within': 4912, 'suffered': 4276, '40': 48, 'hitting': 2126, 'chapter': 757, 'stops': 4203, 'extra': 1606, 'effort': 1432, 'savage': 3793, 'tries': 4585, 'hard': 2033, 'clever': 841, 'evil': 1548, 'matrix': 2767, '20': 29, 'feature': 1678, 'money': 2888, 'shorts': 3948, 'financial': 1725, 'reasons': 3560, 'assume': 328, 'stretched': 4222, '75': 57, 'matt': 2768, 'promise': 3430, 'wish': 4904, 'luck': 2681, 'baseball': 403, 'title': 4504, 'blue': 518, 'academy': 77, 'brenda': 575, 'home': 2142, 'alone': 194, 'ben': 463, 'johnson': 2411, 'dawn': 1127, 'village': 4743, 'drawing': 1350, 'performances': 3229, 'quirky': 3493, 'radio': 3504, 'jay': 2386, 'foster': 1809, 'child': 789, 'actor': 103, 'joseph': 2419, 'gordon': 1940, 'sidekick': 3966, 'jr': 2423, 'tear': 4379, 'performance': 3228, 'parents': 3188, 'angels': 234, 'seeking': 3859, 'identity': 2217, 'danny': 1112, 'glover': 1923, 'weapon': 4828, 'frustrated': 1842, 'manager': 2724, 'relation': 3595, 'mission': 2870, 'search': 3841, 'themselves': 4435, 'depressed': 1187, 'roger': 3724, 'father': 1666, 'wishes': 4906, 'odds': 3082, 'winner': 4897, 'christopher': 811, 'lloyd': 2630, 'future': 1856, 'favorite': 1671, 'magic': 2703, 'al': 170, 'sitting': 4007, 'stands': 4147, 'causing': 726, 'dorothy': 1330, 'wells': 4845, 'oscar': 3133, 'screenplay': 3831, 'finger': 1731, 'william': 4887, 'dear': 1140, 'nominated': 3025, 'includes': 2263, 'centered': 733, 'mel': 2796, 'clark': 832, 'played': 3297, 'tony': 4521, 'golden': 1934, 'confused': 941, 'dubbed': 1379, 'prove': 3445, 'nail': 2957, 'equivalent': 1512, 'century': 736, 'diamond': 1236, 'rough': 3741, 'keep': 2449, 'edge': 1418, 'seat': 3845, 'peace': 3219, 'mention': 2810, 'cameo': 657, 'matthew': 2772, 'ladies': 2506, 'rubbish': 3748, 'dialogue': 1234, 'horror': 2168, 'laughable': 2530, 'kept': 2456, 'splendid': 4119, 'totally': 4532, 'underrated': 4642, 'illogical': 2231, 'arthur': 305, 'merits': 2817, 'mere': 2814, 'steve': 4181, 'unlikely': 4671, 'impossible': 2249, 'managed': 2723, 'friendly': 1836, 'tragic': 4552, 'itself': 2371, 'gave': 1875, 'moore': 2901, 'cinematic': 818, 'element': 1442, 'impact': 2244, 'score': 3822, 'sit': 4003, 'loud': 2664, 'nearly': 2981, 'lovable': 2668, 'murderous': 2942, 'background': 380, 'late': 2523, 'sir': 4000, 'right': 3696, 'aint': 163, 'drugs': 1374, 'choice': 797, 'merely': 2815, 'manner': 2729, 'energy': 1478, '1933': 12, 'places': 3284, 'wallace': 4782, 'bitter': 491, 'rival': 3706, 'kid': 2464, 'jackie': 2374, 'cooper': 990, 'looking': 2648, 'clear': 839, 'exactly': 1551, 'everyone': 1542, 'follows': 1775, 'daily': 1097, 'progresses': 3426, 'apart': 264, 'sheer': 3925, 'chorus': 803, 'lots': 2662, 'drinking': 1362, 'creation': 1040, 'pre': 3365, 'code': 869, 'carrie': 697, 'nations': 2971, 'led': 2558, 'nation': 2969, 'herself': 2092, 'creates': 1038, 'vivid': 4760, 'gone': 1935, 'compare': 911, 'today': 4508, 'innocence': 2293, 'delightful': 1168, '40s': 49, '50s': 52, 'neither': 2996, 'dirty': 1268, 'nor': 3032, 'breaks': 571, 'huge': 2185, 'simple': 3983, 'lady': 2507, 'scientific': 3817, 'always': 203, 'point': 3316, 'scientists': 3819, 'leave': 2555, 'fantastic': 1651, 'light': 2595, 'screen': 3829, 'presence': 3373, 'manages': 2725, 'portray': 3340, 'believable': 453, 'creepy': 1052, 'captures': 678, 'ambitious': 211, 'slightly': 4029, 'naive': 2958, 'scientist': 3818, 'along': 195, 'features': 1680, 'voiced': 4762, 'actress': 105, 'co': 867, 'starred': 4153, 'hearts': 2066, 'alfred': 181, 'batman': 413, 'decent': 1147, 'fits': 1741, 'provoking': 3452, 'witty': 4917, 'obvious': 3071, 'meant': 2784, 'recommend': 3571, 'indeed': 2271, 'makers': 2715, 'hope': 2155, 'serial': 3889, 'standard': 4144, 'book': 535, 'villain': 4744, 'cross': 1066, 'particularly': 3195, 'fresh': 1833, 'add': 115, 'criminals': 1058, 'stress': 4220, 'feet': 1688, '24': 39, 'hours': 2177, 'bay': 416, 'central': 735, 'security': 3854, 'doctor': 1304, 'entirely': 1503, 'notion': 3050, 'professional': 3421, 'vulnerable': 4768, 'basis': 408, 'whatsoever': 4861, 'sleeping': 4025, 'able': 66, 'give': 1912, 'special': 4097, 'relationship': 3597, 'seemingly': 3863, 'days': 1130, 'believing': 457, 'discover': 1279, 'apartment': 265, 'sexually': 3910, 'due': 1382, 'unable': 4631, 'resist': 3648, 'our': 3139, 'connection': 946, 'pretty': 3384, 'form': 1798, 'mature': 2773, 'adult': 125, 'let': 2579, 'sexual': 3908, 'relationships': 3598, 'falls': 1640, 'essentially': 1523, 'age': 148, 'lived': 2626, 'discovers': 1281, 'cringe': 1059, 'knowing': 2490, 'clean': 838, 'causes': 725, 'particular': 3194, 'dream': 1354, 'utter': 4701, 'twisted': 4618, 'del': 1165, 'argument': 291, 'lead': 2545, 'action': 100, 'sequence': 3887, 'comments': 901, 'utterly': 4702, 'pointless': 3318, 'serves': 3895, 'quest': 3486, 'jeffrey': 2391, 'lower': 2677, 'san': 3780, 'francisco': 1819, 'greatest': 1966, 'parts': 3199, 'curious': 1083, 'gun': 1996, 'tracy': 4546, 'tone': 4517, 'together': 4511, 'weak': 4824, 'hill': 2108, 'boot': 538, 'camp': 662, 'younger': 4990, 'type': 4621, 'mgm': 2828, 'fox': 1814, 'front': 1841, 'opportunity': 3121, 'fight': 1707, 'church': 813, 'machine': 2693, 'learned': 2551, 'shoot': 3942, 'changed': 750, 'visit': 4755, 'pal': 3177, 'marry': 2745, 'learns': 2553, 'dealing': 1136, 'skills': 4014, 'gangster': 1868, 'trade': 4547, 'hit': 2122, 'living': 2629, 'trouble': 4592, 'shes': 3930, 'smart': 4035, 'opposite': 3123, 'cagney': 646, 'development': 1225, 'similar': 3978, 'taxi': 4371, 'driver': 1366, 'clint': 850, 'battle': 414, 'staged': 4140, 'woody': 4936, 'van': 4713, 'leonard': 2572, 'credit': 1049, 'reviews': 3679, 'scott': 3824, 'yes': 4982, 'agrees': 157, 'dialog': 1232, 'should': 3951, 'previously': 3388, 'fire': 1734, 'enemy': 1477, 'state': 4160, 'ride': 3692, 'soundtrack': 4085, 'visual': 4757, 'styles': 4250, 'nice': 3008, 'nudity': 3059, 'gory': 1943, 'violence': 4747, 'explicit': 1591, 'super': 4295, 'ranks': 3519, 'list': 2617, 'demand': 1174, 'pick': 3265, 'straight': 4210, 'dvd': 1391, 'crap': 1031, 'fest': 1696, 'camera': 659, 'honest': 2146, 'terrible': 4407, 'open': 3112, 'mind': 2849, 'required': 3641, 'sure': 4308, 'youre': 4992, 'reading': 3544, 'whatever': 4859, 'ended': 1470, 'page': 3167, 'boredom': 542, 'pathetic': 3210, 'heavy': 2070, 'metal': 2823, 'whoever': 4872, 'killing': 2472, 'starts': 4159, 'boring': 543, 'sounds': 4084, 'popcorn': 3331, 'sound': 4081, 'effect': 1428, 'free': 1827, 'internet': 2327, 'fool': 1779, 'maybe': 2776, 'con': 928, 'thinking': 4453, 'junk': 2436, 'buying': 641, 'episode': 1507, 'season': 3843, 'gender': 1878, 'significant': 3972, 'amount': 219, 'finished': 1733, 'written': 4972, 'debut': 1143, 'agent': 150, 'victim': 4729, 'built': 618, 'ending': 1471, 'patrick': 3213, 'jeff': 2390, 'satan': 3787, 'captured': 677, 'detective': 1220, 'russell': 3761, 'lou': 2663, 'executed': 1565, 'gas': 1874, 'move': 2921, 'body': 527, 'continue': 969, 'murder': 2939, 'psychic': 3456, 'sister': 4001, 'stop': 4201, 'concept': 930, 'probably': 3407, 'suffers': 4278, 'routine': 3743, 'supernatural': 4302, 'thrillers': 4473, 'thrilling': 4474, 'certainly': 738, 'sell': 3871, 'tough': 4537, 'cynical': 1093, 'member': 2800, 'featured': 1679, 'climax': 849, 'silly': 3976, 'acceptable': 81, 'therefore': 4439, 'watched': 4813, 'might': 2835, 'jail': 2376, 'edgar': 1417, 'yet': 4984, 'quiet': 3492, 'scenario': 3808, 'personally': 3243, 'situation': 4008, 'green': 1971, 'mile': 2842, 'overall': 3150, 'earlier': 1399, 'reviewer': 3677, 'amazing': 209, 'considering': 952, 'wwii': 4975, 'based': 404, 'upon': 4684, 'actual': 108, 'record': 3573, 'brilliant': 583, 'telling': 4396, 'reactions': 3542, 'contrast': 975, 'officer': 3092, 'witness': 4914, 'notably': 3042, 'occurred': 3077, 'effectively': 1430, 'flashbacks': 1747, 'others': 3136, 'occur': 3076, 'without': 4913, 'sitcom': 4004, 'episodes': 1508, 'often': 3095, 'mom': 2885, 'variety': 4714, 'wit': 4908, 'comfortable': 892, 'dad': 1095, 'added': 116, 'year': 4978, 'involved': 2346, 'past': 3207, 'seasons': 3844, 'georges': 1894, 'sense': 3877, 'timing': 4498, 'abc': 63, 'bush': 632, 'gandhi': 1866, 'photographed': 3258, '30s': 44, 'accurate': 90, 'genre': 1888, 'portrayal': 3341, 'american': 213, 'canadian': 667, 'culture': 1079, 'wonderfully': 4929, 'portrait': 3339, 'subject': 4253, 'raised': 3508, 'england': 1482, 'obsessed': 3069, 'indian': 2274, 'tales': 4357, 'childhood': 790, 'canada': 666, 'disappeared': 1271, 'woods': 4935, 'son': 4070, 'band': 391, 'none': 3028, 'whom': 4875, 'charming': 768, 'wives': 4918, 'fame': 1642, 'wild': 4885, 'forms': 1801, 'focus': 1766, 'tale': 4353, 'chemistry': 782, 'brosnan': 597, 'annie': 247, 'engaging': 1481, 'nonetheless': 3029, 'screening': 3830, 'cable': 644, 'tonight': 4519, 'remind': 3618, 'lets': 2580, 'tad': 4347, 'sean': 3840, 'path': 3209, 'enter': 1494, 'duke': 1383, 'introduces': 2338, 'boss': 546, 'ray': 3533, 'night': 3013, 'asks': 319, 'following': 1774, 'leads': 2548, 'stole': 4194, 'ball': 388, 'ran': 3513, 'nowhere': 3056, 'near': 2979, 'violent': 4748, 'somewhere': 4069, 'running': 3756, 'dropped': 1370, 'taken': 4350, 'needless': 2989, 're': 3535, 'castle': 712, 'freak': 1824, 'grade': 1951, 'extreme': 1609, 'candy': 668, 'ring': 3698, 'ordinary': 3128, 'hitchcock': 2123, 'brings': 587, 'silver': 3977, 'fear': 1676, 'depicts': 1186, 'popular': 3333, 'fair': 1630, 'strength': 4219, 'attraction': 350, 'techniques': 4384, 'etc': 1527, 'master': 2757, 'performers': 3232, 'throughout': 4478, 'judy': 2426, 'attitude': 346, 'treat': 4572, 'adds': 119, 'deeply': 1156, 'emotional': 1459, 'intensity': 2317, 'pulls': 3464, 'attention': 345, 'displayed': 1292, 'matches': 2764, 'success': 4265, 'determined': 1221, 'felt': 1692, 'community': 908, 'giving': 1915, 'birth': 486, 'runs': 3757, 'daughter': 1121, 'gain': 1863, 'usually': 4700, 'relate': 3593, 'desperately': 1209, 'face': 1616, 'personal': 3240, 'needed': 2988, 'represented': 3638, 'torn': 4528, 'mothers': 2912, 'commit': 904, 'struggles': 4235, 'fully': 1847, 'convinced': 984, 'change': 749, 'center': 732, 'rare': 3523, 'achievement': 94, 'redemption': 3578, 'sarah': 3785, 'annoying': 249, 'worthy': 4956, 'lacking': 2504, 'humorous': 2193, 'deliver': 1169, 'arrival': 299, 'segments': 3868, 'program': 3424, 'ready': 3546, 'dumb': 1385, 'chick': 786, 'dog': 1310, 'wanna': 4786, 'case': 707, 'entry': 1504, 'cinema': 816, 'mainstream': 2709, 'intrigued': 2334, 'stood': 4199, '18': 10, 'public': 3460, 'library': 2589, 'available': 361, 'released': 3603, 'national': 2970, 'notes': 3046, 'pleasantly': 3303, 'viewing': 4740, 'impressive': 2253, 'equipment': 1511, 'ground': 1979, 'breaking': 570, '1972': 18, 'creative': 1041, 'inspiration': 2300, 'kurt': 2499, 'flawless': 1751, 'doubt': 1332, 'aired': 165, 'holds': 2131, 'itll': 2369, 'carpenter': 694, 'ultimate': 4627, 'king': 2479, 'rock': 3720, 'elvis': 1451, 'image': 2233, 'revelation': 3674, 'ten': 4399, 'silent': 3975, 'deadly': 1133, 'plays': 3301, 'named': 2961, 'joe': 2407, 'sons': 4073, 'bell': 458, 'derek': 1192, 'knock': 2488, 'door': 1328, 'evening': 1534, 'opened': 3113, 'present': 3374, 'sends': 3876, 'bed': 436, 'opens': 3115, 'inside': 2297, 'santa': 3783, 'head': 2057, 'proceeds': 3411, 'incident': 2260, 'talking': 4360, 'mysterious': 2955, 'stranger': 4213, 'toys': 4543, 'bunch': 623, 'bring': 585, 'promising': 3433, 'pay': 3216, 'cash': 709, 'presents': 3377, 'larry': 2520, 'toy': 4542, 'box': 555, 'eventually': 1537, 'revealed': 3671, 'smooth': 4041, 'account': 89, 'ways': 4822, 'sorts': 4078, 'brian': 576, 'screaming': 3827, 'mad': 2696, 'hanging': 2023, 'howard': 2182, 'hunter': 2199, 'difference': 1246, 'brain': 562, 'seed': 3856, 'torture': 4529, 'strangely': 4212, 'uwe': 4703, 'boll': 529, 'produced': 3414, 'polished': 3323, 'recent': 3566, 'memory': 2804, 'pages': 3168, 'surreal': 4317, 'spoilers': 4124, 'six': 4010, 'split': 4120, 'separate': 3883, 'unlike': 4670, 'house': 2178, 'bodies': 526, 'process': 3412, 'normally': 3034, 'stay': 4166, 'waited': 4771, 'wear': 4830, 'mask': 2752, 'death': 1141, 'row': 3744, 'typical': 4623, 'prison': 3401, 'cell': 730, 'block': 508, 'walk': 4775, 'noticed': 3049, '80': 58, 'according': 88, 'newspaper': 3006, 'murdered': 2940, 'working': 4944, 'decide': 1148, 'originally': 3131, 'arrested': 298, 'victims': 4730, 'solo': 4058, 'letting': 2583, 'headed': 2058, 'chair': 742, 'fails': 1628, 'properly': 3437, 'spends': 4107, 'spent': 4108, 'aspects': 322, 'logical': 2639, 'brutal': 603, 'execution': 1566, 'unnecessary': 4672, 'disturbing': 1300, 'context': 968, 'undoubtedly': 4648, 'aged': 149, 'vaguely': 4706, 'dan': 1102, 'dedicated': 1153, 'porn': 3336, 'absolutely': 72, 'review': 3676, 'disgusting': 1286, 'points': 3319, 'truly': 4597, 'competent': 917, 'improve': 2254, 'filmmaker': 1719, 'continues': 971, 'youd': 4987, 'warner': 4799, 'sadly': 3769, 'difficult': 1249, 'fay': 1674, 'dies': 1245, 'stock': 4193, 'market': 2740, 'familys': 1646, 'fortune': 1806, 'france': 1816, 'portion': 3338, 'sweet': 4336, 'returns': 3668, 'boys': 559, 'grown': 1984, 'theyd': 4443, 'hire': 2116, 'briefly': 580, 'occurs': 3078, 'susan': 4326, 'miss': 2866, 'devil': 1228, 'brothers': 599, 'sees': 3866, 'lovers': 2673, 'enters': 1496, 'jack': 2373, 'butt': 638, 'rid': 3690, 'lousy': 2667, 'writing': 4971, 'likely': 2601, 'audiences': 353, 'consists': 955, 'failed': 1626, 'exposed': 1598, 'flies': 1756, 'melodramatic': 2798, 'expected': 1577, 'truth': 4599, 'loving': 2675, 'soap': 4047, 'saves': 3796, 'tried': 4584, 'suffice': 4279, 'pictures': 3270, 'writers': 4969, 'sad': 3767, 'moves': 2925, 'shall': 3916, 'dance': 1103, 'accomplished': 87, 'grace': 1950, 'spare': 4093, 'gentle': 1890, 'mixed': 2877, 'occasional': 3074, 'experiences': 1582, 'sadness': 3770, 'dancing': 1107, 'oh': 3096, 'lover': 2672, 'foot': 1781, 'steps': 4177, 'breath': 573, 'sign': 3970, 'classes': 834, 'fast': 1661, 'portrayed': 3342, 'stilted': 4190, 'learning': 2552, 'lovely': 2671, 'behavior': 446, 'shy': 3962, 'express': 1600, 'supporting': 4304, 'beauty': 430, 'emotion': 1458, 'expressed': 1601, 'japanese': 2382, 'painting': 3175, 'combined': 885, 'weeks': 4839, 'lazy': 2543, 'drug': 1373, 'likable': 2598, 'pretentious': 3383, 'attempting': 342, 'explain': 1586, 'chosen': 805, 'miserable': 2863, 'lifestyle': 2593, 'motivations': 2915, 'involving': 2349, 'random': 3514, 'tiresome': 4502, 'homeless': 2143, 'draw': 1349, 'nicely': 3009, 'paced': 3162, 'steven': 4182, 'de': 1131, 'wrote': 4974, 'send': 3875, 'contract': 973, 'neck': 2985, 'legs': 2566, 'spot': 4131, 'bears': 421, 'similarities': 3979, 'total': 4531, 'recall': 3562, 'fi': 1701, 'starring': 4154, 'fairly': 1631, 'effective': 1429, 'mario': 2738, 'lighting': 2596, 'tell': 4395, 'explained': 1587, 'usual': 4699, '70s': 56, 'watchable': 4812, 'string': 4227, 'deaths': 1142, 'local': 2634, 'demands': 1175, 'answers': 252, 'attacks': 339, 'refuses': 3587, 'nonsense': 3030, 'vampires': 4712, 'returning': 3667, 'suspect': 4327, 'crimes': 1056, 'synopsis': 4344, 'titled': 4505, 'vampire': 4711, 'mystery': 2956, 'perform': 3227, 'douglas': 1334, 'ruth': 3763, 'enjoyable': 1485, 'bat': 410, 'crazy': 1035, 'suspicious': 4332, 'stone': 4197, 'ms': 2931, 'rush': 3759, 'neil': 2995, 'awful': 372, 'porno': 3337, 'hits': 2125, 'rented': 3628, 'wonder': 4926, 'paper': 3183, 'channel': 753, 'compelling': 916, 'asking': 318, 'harder': 2035, 'enthusiasm': 1501, 'brother': 598, 'latter': 2528, 'release': 3602, 'square': 4136, 'folks': 1771, 'ashamed': 312, 'appears': 278, 'executive': 1567, 'producer': 3415, 'fx': 1858, 'wears': 4832, 'thinks': 4454, 'jake': 2377, 'installment': 2303, 'filled': 1715, 'sequels': 3886, 'possibly': 3351, 'eric': 1514, 'build': 614, 'large': 2517, 'wall': 4781, 'lies': 2591, 'sea': 3838, 'grows': 1985, 'outside': 3146, 'walls': 4783, 'forbidden': 1785, 'control': 977, 'seven': 3903, 'singing': 3995, 'judging': 2425, 'thin': 4449, 'suspense': 4330, 'thriller': 4472, 'complex': 923, 'scared': 3805, 'assumed': 329, 'bought': 552, 'terrifying': 4410, 'meeting': 2794, '45': 50, 'holiday': 2134, 'slightest': 4028, 'nurse': 3063, 'tracks': 4545, 'apparent': 269, 'clumsy': 866, '3rd': 47, 'attempt': 340, 'leaves': 2556, 'jerry': 2396, 'prom': 3429, 'ii': 2226, 'reaction': 3541, 'leaving': 2557, 'theatre': 4429, 'endless': 1473, 'insulting': 2310, 'duty': 1390, 'badly': 383, 'mill': 2845, 'solely': 4056, 'outrageous': 3145, 'predictable': 3367, 'painful': 3171, 'irony': 2357, 'order': 3126, 'catches': 715, 'husband': 2204, 'sex': 3907, 'daughters': 1122, 'andrew': 228, 'unconvincing': 4638, 'single': 3996, 'talk': 4358, 'raise': 3507, 'failing': 1627, 'millions': 2848, 'videos': 4734, 'round': 3742, 'trip': 4588, 'air': 164, 'fare': 1655, 'hed': 2072, 'grab': 1949, 'earned': 1401, 'succeed': 4262, 'offensive': 3086, 'associated': 327, 'developed': 1223, 'fly': 1763, 'force': 1786, 'premise': 3370, 'craft': 1028, 'design': 1202, 'construction': 960, 'theme': 4433, 'families': 1644, 'complexity': 924, 'twin': 4615, 'serve': 3893, 'tension': 4404, 'emotionally': 1460, 'masses': 2755, 'directly': 1263, 'ie': 2221, 'jewish': 2401, 'twins': 4616, 'universal': 4665, 'versions': 4721, 'floating': 1758, 'copies': 992, 'otherwise': 3137, 'gore': 1941, 'bits': 490, 'encounters': 1467, 'print': 3399, 'footage': 1782, 'issues': 2365, 'italy': 2368, 'la': 2500, 'company': 910, 'matters': 2770, 'confusing': 942, 'elsewhere': 1449, 'germany': 1898, 'demons': 1178, 'ok': 3098, 'shut': 3961, 'starting': 4158, 'myself': 2953, 'regardless': 3590, 'toward': 4539, 'island': 2361, '50': 51, 'miles': 2843, 'picked': 3266, 'photographer': 3259, 'gary': 1873, 'girlfriend': 1910, 'leslie': 2574, 'estate': 1525, 'rick': 3689, 'whos': 4876, 'property': 3438, 'rose': 3739, 'robert': 3713, 'brooks': 596, 'jane': 2380, 'linda': 2609, 'tommy': 4516, 'sullivan': 4288, 'catherine': 719, 'killed': 2469, 'hung': 2197, 'trapped': 4564, 'lips': 2615, 'accidentally': 85, 'witches': 4910, 'baby': 376, 'tape': 4365, 'virgin': 4749, 'raped': 3522, 'demon': 1177, 'guys': 2001, 'thanks': 4423, 'doll': 1313, 'dull': 1384, 'tortured': 4530, 'filmmakers': 1720, 'decided': 1149, 'cheesy': 781, 'designed': 1203, 'constantly': 958, 'distracting': 1297, 'teen': 4388, 'club': 863, 'ignored': 2225, 'deals': 1137, 'dangerous': 1110, 'realizing': 3555, 'ahead': 159, 'uses': 4697, 'che': 773, 'begin': 442, 'chose': 804, 'cuba': 1075, 'revolution': 3680, 'subsequent': 4257, 'decisions': 1152, 'walter': 4784, 'extraordinary': 1607, 'individuals': 2278, 'reasonably': 3559, 'drives': 1367, 'concerned': 932, 'food': 1778, 'cover': 1022, 'understanding': 4645, 'government': 1948, 'troops': 4591, 'medical': 2790, 'cannot': 670, 'military': 2844, 'fault': 1668, 'united': 4664, 'states': 4163, 'wars': 4804, 'actions': 101, 'specific': 4099, 'attack': 337, 'generally': 1881, 'combat': 882, 'endure': 1475, 'elaborate': 1439, 'remarkable': 3613, 'shots': 3950, 'powerful': 3360, 'beats': 426, 'cutting': 1092, 'epic': 1506, 'heroes': 2089, 'occasionally': 3075, 'hair': 2005, 'genuine': 1891, 'cause': 723, 'staying': 4168, 'virtually': 4751, 'insane': 2296, 'means': 2783, 'understood': 4647, 'forgotten': 1797, 'rachel': 3500, 'agents': 151, 'consider': 949, 'stylish': 4251, 'closing': 859, 'rolling': 3730, 'mood': 2898, 'ticket': 4487, 'leading': 2547, 'whose': 4877, 'offers': 3090, 'mild': 2839, 'assault': 324, 'party': 3200, 'charge': 761, 'gang': 1867, 'responsible': 3656, 'proves': 3447, 'ironically': 2356, 'sisters': 4002, 'animation': 242, 'superior': 4300, 'enjoyment': 1488, 'sappy': 3784, 'females': 1694, 'necessarily': 2983, 'resort': 3650, 'dimensional': 1253, 'cartoon': 704, 'personality': 3242, 'essence': 1521, 'spirited': 4114, 'succeeds': 4264, 'complaint': 920, 'wrap': 4963, 'giant': 1905, 'dracula': 1341, 'technique': 4383, 'rank': 3518, 'anime': 243, 'west': 4852, 'dreams': 1355, 'images': 2235, 'unsettling': 4679, 'choreographed': 801, 'resembles': 3646, 'sorry': 4076, 'fans': 1650, 'genius': 1887, 'deserves': 1201, 'critics': 1064, 'recommended': 3572, 'studio': 4240, 'sequel': 3885, 'blond': 510, 'wearing': 4831, 'accept': 80, 'share': 3920, 'resemblance': 3645, 'wouldnt': 4958, 'guessed': 1990, 'charles': 764, 'reminded': 3619, 'likes': 2602, 'cheap': 774, 'imitation': 2241, 'sympathy': 4343, 'desire': 1205, 'die': 1243, 'martin': 2748, 'check': 777, 'reputation': 3640, 'grasp': 1960, 'entertained': 1498, 'tears': 4380, 'dragged': 1343, 'call': 651, 'shame': 3918, 'allowing': 191, 'service': 3896, 'grave': 1962, 'contain': 962, 'campy': 664, 'un': 4630, 'twist': 4617, 'bible': 477, 'checking': 778, 'countryside': 1015, 'asked': 317, 'bottom': 551, 'mean': 2779, 'aware': 368, 'write': 4967, 'drunk': 1375, 'shape': 3919, 'disc': 1278, 'player': 3298, 'produce': 3413, 'lol': 2640, 'breasts': 572, 'masters': 2761, 'julia': 2427, 'anderson': 227, 'driving': 1368, 'cliff': 847, 'tree': 4576, 'fallen': 1638, 'road': 3709, 'walks': 4780, 'minor': 2857, 'thrown': 4481, 'burning': 627, 'horribly': 2164, 'burns': 628, 'decides': 1150, 'selfish': 3870, 'lawyer': 2541, 'sue': 4274, 'blame': 499, 'plans': 3292, 'rob': 3710, 'turn': 4605, '2003': 33, 'solution': 4059, '2006': 36, 'neat': 2982, 'uneven': 4649, 'focuses': 1768, 'odd': 3080, 'legal': 2563, 'track': 4544, 'clichéd': 845, 'pace': 3161, 'loses': 2657, 'alternate': 200, 'burned': 626, 'teeth': 4393, 'gross': 1978, 'putting': 3482, 'naked': 2959, 'technically': 4382, 'names': 2963, 'definitely': 1162, 'adventure': 130, 'disease': 1285, 'number': 3060, 'travel': 4567, 'los': 2653, 'angeles': 233, 'goal': 1925, 'journey': 2421, 'ocean': 3079, 'grand': 1953, 'dvds': 1392, 'won': 4925, '25': 40, 'awards': 367, 'spin': 4112, 'teenage': 4389, 'science': 3816, 'glimpse': 1919, 'cares': 690, 'target': 4366, 'religious': 3608, 'stargate': 4151, 'ruined': 3751, 'zombie': 4997, 'amateur': 206, 'productions': 3420, 'meat': 2787, 'homage': 2141, 'fulci': 1845, 'impressed': 2251, 'okay': 3099, 'cook': 988, 'value': 4709, 'bore': 540, 'asleep': 320, 'imagination': 2236, 'lame': 2510, 'appeal': 271, 'worthwhile': 4955, 'turned': 4606, 'ya': 4976, 'fooled': 1780, 'profound': 3423, 'overly': 3155, 'yelling': 4980, 'eaten': 1412, 'exciting': 1563, 'paint': 3173, 'dry': 1377, 'bother': 548, 'atrocious': 335, 'childrens': 793, 'crude': 1069, 'inappropriate': 2259, 'wanting': 4790, 'novel': 3052, 'equally': 1510, 'shoes': 3941, 'parent': 3187, 'capturing': 679, 'channels': 754, 'saturday': 3792, 'irish': 2353, 'accent': 78, 'scottish': 3825, 'bond': 532, 'twice': 4613, 'stereotypes': 4179, 'inspiring': 2302, 'professor': 3422, 'seconds': 3848, 'kicking': 2462, 'switch': 4339, 'represents': 3639, 'ourselves': 3140, 'minded': 2850, 'wonders': 4931, 'ideas': 2215, 'circumstances': 822, 'buried': 624, 'anthony': 253, 'draws': 1352, 'heavily': 2069, 'gene': 1879, 'pool': 3327, 'natural': 2973, 'killers': 2471, 'lynch': 2691, 'method': 2824, 'madness': 2698, 'eight': 1436, '80s': 59, '90s': 61, 'showed': 3956, 'horrid': 2165, 'drivel': 1364, 'mediocre': 2791, 'lee': 2559, 'curtis': 1087, 'spoiler': 4123, 'international': 2326, 'nuclear': 3057, 'league': 2549, 'nick': 3012, 'disney': 1289, 'price': 3389, 'rental': 3627, 'dollar': 1314, 'lengthy': 2570, 'read': 3543, 'genres': 1889, 'africa': 141, 'adequate': 120, 'henry': 2084, 'whereas': 4865, '13': 4, 'hated': 2047, 'wasted': 4809, 'girls': 1911, 'enjoy': 1484, 'advance': 127, 'racist': 3503, 'soul': 4079, 'samurai': 3779, 'souls': 4080, 'guide': 1993, 'ghost': 1902, 'guns': 1998, 'insult': 2309, 'blade': 495, 'heck': 2071, 'honor': 2150, 'shoots': 3944, 'window': 4894, 'exists': 1573, 'hates': 2048, 'successfully': 4267, 'proved': 3446, 'players': 3299, 'suck': 4269, 'besides': 468, 'describe': 1194, 'secondly': 3847, 'magical': 2704, 'powers': 3361, 'sucks': 4271, 'jesus': 2399, 'fourth': 1813, 'deal': 1135, 'crappy': 1032, 'teenager': 4390, 'computer': 927, 'created': 1037, 'plane': 3288, 'onto': 3111, 'akshay': 169, 'abraham': 69, 'sam': 3777, 'fashion': 1659, 'maggie': 2702, 'jealous': 2388, 'liking': 2604, 'stunning': 4244, 'breathtaking': 574, 'graphics': 1959, 'conflict': 939, 'explains': 1589, 'murders': 2943, 'immediately': 2242, 'changes': 751, 'caring': 691, 'sick': 3963, 'depressing': 1188, 'struggle': 4234, 'stronger': 4230, 'brought': 600, 'opinion': 3118, 'conclusion': 936, 'kidnapped': 2466, 'replaced': 3634, 'double': 1331, 'army': 295, 'blatant': 502, 'rip': 3700, 'explosions': 1597, 'martial': 2747, 'arts': 310, 'don': 1320, 'dragon': 1344, 'wilson': 4891, 'minimal': 2855, 'eyre': 1614, '1983': 22, 'bbc': 417, 'mini': 2854, 'adapted': 114, 'charlotte': 766, 'gothic': 1945, 'romance': 3732, 'literature': 2623, 'timothy': 4499, 'dalton': 1098, 'edward': 1426, 'rochester': 3719, 'beloved': 461, '11': 2, 'mine': 2853, 'dozens': 1339, 'tired': 4501, 'language': 2516, 'surprisingly': 4316, 'attracted': 349, 'imdb': 2240, 'marvelous': 2750, 'overcome': 3151, 'hundreds': 2196, 'society': 4050, 'laws': 2540, 'religion': 3607, 'differences': 1247, 'backgrounds': 381, 'hunt': 2198, 'version': 4720, 'frequently': 1832, 'brilliantly': 584, 'class': 833, 'passionate': 3206, 'passion': 3205, 'september': 3884, '2007': 37, 'five': 1743, 'admire': 121, 'advantage': 129, 'negative': 2991, 'gem': 1877, 'definition': 1163, 'rocks': 3722, 'innocent': 2294, 'rating': 3529, 'amazingly': 210, 'ps': 3453, 'jason': 2383, 'denzel': 1181, 'sports': 4130, 'smile': 4036, 'warm': 4794, 'wed': 4835, 'appearing': 277, 'month': 2896, 'delight': 1167, 'peter': 3247, 'smith': 4038, 'superb': 4296, 'trio': 4587, 'bob': 524, 'technology': 4385, 'finding': 1727, 'cheek': 779, 'implausible': 2245, 'unbelievable': 4634, 'lesson': 2577, 'talent': 4354, 'comics': 895, 'adventures': 131, 'spy': 4135, 'doubts': 1333, 'offer': 3087, 'complicated': 925, 'caught': 722, 'interpretation': 2328, 'multiple': 2936, 'exotic': 1574, 'locations': 2636, 'kong': 2494, 'critic': 1061, 'sent': 3880, 'wide': 4880, 'self': 3869, 'loaded': 2632, 'strangers': 4214, 'ugly': 4625, 'crash': 1033, 'essential': 1522, 'stupidity': 4248, 'protagonist': 3441, 'pulled': 3462, 'hence': 2083, 'warning': 4800, 'scripted': 3835, 'weakest': 4825, 'plots': 3310, 'humour': 2194, 'tedious': 4387, 'dreadful': 1353, 'dinner': 1254, 'inventive': 2341, 'shine': 3931, 'spite': 4117, 'uninspired': 4657, 'focusing': 1769, 'parker': 3191, 'afford': 138, 'elderly': 1440, 'blind': 506, 'priest': 3392, 'floor': 1759, 'relatively': 3600, 'unknown': 4668, 'chris': 806, 'wooden': 4934, 'carradine': 695, 'walken': 4777, 'handful': 2017, 'location': 2635, 'provides': 3450, 'horrors': 2169, 'definite': 1161, 'pure': 3471, 'highlight': 2103, 'thomas': 4458, 'bar': 396, 'horse': 2170, 'chase': 769, 'conversation': 980, 'reviewers': 3678, 'regarding': 3589, 'deserved': 1200, 'barbara': 397, 'stanwyck': 4149, 'legendary': 2565, 'suggest': 4280, 'phantom': 3251, 'witnessed': 4915, 'note': 3044, 'movements': 2924, 'hopes': 2159, 'influenced': 2287, 'weird': 4841, 'exist': 1569, 'reminiscent': 3621, 'cost': 1003, 'willing': 4889, 'ears': 1402, 'proper': 3436, 'buy': 640, 'terribly': 4408, 'positive': 3346, 'wasting': 4810, 'garbage': 1870, 'scares': 3806, 'shocking': 3940, 'ridiculous': 3693, 'alice': 182, 'cameos': 658, 'careers': 687, 'costumes': 1006, 'rubber': 3747, 'cats': 721, 'mainly': 2708, 'touched': 4534, 'fed': 1682, 'friendship': 1838, 'wins': 4899, 'branagh': 564, 'carter': 703, 'richards': 3687, 'carry': 700, 'punk': 3468, 'ramones': 3512, 'blown': 516, 'principal': 3398, 'appealing': 272, 'kate': 2446, 'link': 2613, 'chain': 741, 'concert': 935, 'segment': 3867, 'song': 4071, 'treated': 4573, 'meet': 2793, 'harris': 2038, 'increasingly': 2268, 'threatening': 4468, 'typically': 4624, 'initially': 2291, 'theaters': 4428, 'groups': 1981, 'facing': 1620, 'smaller': 4034, 'smoking': 4040, 'frequent': 1831, 'clown': 862, 'kitchen': 2485, 'safety': 3772, 'nude': 3058, 'ballet': 389, 'incredible': 2269, 'trust': 4598, 'slowly': 4032, 'recognition': 3568, 'dated': 1119, 'television': 4394, '1980s': 21, 'transfer': 4559, 'instant': 2305, 'remarks': 3615, 'hearing': 2063, 'hands': 2020, 'generous': 1886, 'offered': 3088, 'hip': 2114, 'generation': 1883, 'format': 1799, 'ape': 266, 'sub': 4252, 'bill': 481, 'incompetent': 2266, 'satire': 3788, 'term': 4405, 'loosely': 2651, 'extras': 1608, 'audio': 354, 'tribute': 4581, 'fake': 1635, 'commercial': 902, 'trailers': 4555, 'midnight': 2834, 'summer': 4291, 'splatter': 4118, 'wrestling': 4966, 'moved': 2922, 'frame': 1815, 'hunters': 2200, 'domino': 1319, 'harvey': 2042, 'carries': 699, 'hills': 2109, 'fathers': 1667, 'died': 1244, 'bath': 411, 'june': 2433, '2005': 35, 'sexuality': 3909, 'interview': 2329, 'lucy': 2684, 'fetched': 1698, 'facts': 1624, 'enterprise': 1495, 'shouldnt': 3952, 'cameron': 661, 'presentation': 3375, 'flaw': 1749, 'flaws': 1752, 'approach': 282, 'guarantee': 1987, 'whilst': 4869, 'involvement': 2347, 'considered': 951, 'inferior': 2285, 'notice': 3048, 'numerous': 3062, 'loads': 2633, 'documentary': 1307, 'discuss': 1283, 'stunt': 4245, 'claims': 830, 'access': 83, 'view': 4736, 'discussion': 1284, 'covered': 1023, 'welcome': 4842, 'purchased': 3470, 'propaganda': 3435, 'watches': 4814, 'wing': 4896, 'beliefs': 452, 'network': 3000, 'brief': 579, 'twists': 4619, 'attorney': 348, 'shining': 3933, 'kinds': 2478, 'depicting': 1184, 'popularity': 3334, 'proof': 3434, 'student': 4238, 'teaching': 4377, 'students': 4239, 'purchase': 3469, 'ultra': 4629, 'travesty': 4570, 'workers': 4943, 'evidence': 1546, 'soviet': 4089, 'union': 4661, 'caused': 724, 'donald': 1321, 'communist': 907, 'achieve': 92, 'monster': 2892, 'gripping': 1976, 'scale': 3802, 'actresses': 106, '30': 42, 'rebel': 3561, 'bands': 392, '60s': 54, 'period': 3236, 'decade': 1144, 'garden': 1872, 'length': 2569, 'strip': 4228, 'correct': 1000, 'disneys': 1290, 'costume': 1005, 'shadows': 3913, 'lie': 2590, 'joined': 2413, 'equal': 1509, 'embarrassing': 1454, 'rotten': 3740, 'abysmal': 76, 'mix': 2876, 'swedish': 4335, 'accents': 79, 'unintentional': 4658, 'turkey': 4604, 'cake': 648, 'devoid': 1230, 'speech': 4102, 'wood': 4933, 'bugs': 613, 'amazed': 208, 'pop': 3330, 'terms': 4406, 'pacing': 3163, 'content': 966, 'largely': 2518, 'alive': 186, 'fell': 1690, 'sat': 3786, 'everywhere': 1545, 'connect': 944, 'levels': 2585, 'elm': 1447, 'measure': 2786, 'fifteen': 1706, 'amusing': 221, 'hysterical': 2208, 'remembered': 3617, 'flash': 1745, 'entertainment': 1500, 'forever': 1792, 'ludicrous': 2685, 'shallow': 3917, 'idiots': 2220, 'philosophy': 3254, 'message': 2819, 'buildings': 616, 'machines': 2694, 'worry': 4950, 'cg': 739, 'acted': 98, 'airplane': 166, 'spoof': 4127, 'jackson': 2375, 'cd': 728, 'basement': 405, 'online': 3109, 'games': 1865, 'pulp': 3465, '12': 3, 'monkeys': 2891, 'civilization': 827, 'calling': 653, 'explanation': 1590, 'resolution': 3649, 'saying': 3800, 'chinese': 796, 'hideous': 2098, 'talked': 4359, 'china': 795, 'map': 2733, 'current': 1084, 'claim': 828, 'areas': 287, 'distinct': 1296, 'fail': 1625, 'wendy': 4846, 'superficial': 4298, 'connected': 945, 'training': 4558, 'cry': 1073, 'unrealistic': 4677, 'descent': 1193, 'dennis': 1179, 'hopper': 2161, 'psychotic': 3459, 'menace': 2806, 'blow': 514, 'carrying': 701, 'hooked': 2153, 'catching': 716, 'gangsters': 1869, 'subplot': 4255, 'football': 1783, 'kinda': 2477, 'necessary': 2984, 'involve': 2345, 'experienced': 1581, 'below': 462, 'par': 3184, 'attached': 336, 'evident': 1547, 'team': 4378, '1st': 28, 'haunting': 2051, 'everyones': 1543, 'bothered': 549, '2nd': 41, 'hiding': 2099, 'wouldve': 4959, 'werent': 4849, 'paying': 3217, 'forward': 1808, 'hear': 2061, 'expert': 1585, 'forces': 1788, 'crime': 1055, 'thrill': 4471, 'everyday': 1541, 'streep': 4215, 'beings': 449, 'racism': 3502, 'companion': 909, 'helps': 2082, 'reaching': 3539, 'bizarre': 492, 'recognize': 3569, 'laughed': 2532, 'pseudo': 3454, 'intellectual': 2312, 'documentaries': 1306, 'acid': 95, 'drop': 1369, 'tour': 4538, 'forest': 1791, 'bag': 384, 'korean': 2495, 'office': 3091, 'fighting': 1709, 'childish': 791, 'mildly': 2840, 'survivors': 4325, 'constant': 957, 'kings': 2481, 'object': 3066, 'survive': 4321, 'loose': 2650, 'bear': 420, 'greatly': 1967, 'arnold': 296, 'messed': 2821, 'mountain': 2917, 'landscapes': 2514, 'develops': 1226, 'concern': 931, 'purely': 3472, 'established': 1524, 'wondered': 4927, 'fit': 1740, 'todays': 4509, 'hardcore': 2034, 'slasher': 4020, 'familiar': 1643, 'wandering': 4785, 'chasing': 772, 'murderer': 2941, 'supposedly': 4307, 'factor': 1622, 'lit': 2621, 'roy': 3745, 'letter': 2581, 'portrays': 3344, 'rape': 3521, 'magnificent': 2705, 'jones': 2418, 'showdown': 3955, 'clothes': 860, 'wore': 4939, 'trash': 4565, 'trashy': 4566, 'charm': 767, 'cleverly': 842, 'issue': 2364, 'greater': 1965, 'sally': 3776, 'simon': 3982, 'ted': 4386, 'capable': 672, 'opera': 3116, 'sets': 3899, 'spanish': 4092, 'dancers': 1105, 'combination': 883, 'independent': 2272, 'foreign': 1790, 'disappointing': 1274, 'saving': 3797, 'device': 1227, 'bottle': 550, 'diana': 1237, 'dr': 1340, 'loyal': 2679, 'viewers': 4739, 'thus': 4486, 'bang': 393, 'legend': 2564, 'plain': 3286, 'acts': 107, 'rated': 3527, 'questionable': 3488, 'ages': 152, 'fellow': 1691, 'practically': 3362, 'core': 995, 'valuable': 4708, 'discovery': 1282, 'album': 175, 'visually': 4758, 'repetitive': 3633, 'lacks': 2505, 'grandmother': 1955, 'trademark': 4548, 'forgettable': 1794, 'cowboy': 1025, 'renting': 3629, 'drawn': 1351, 'edited': 1420, 'alas': 172, 'grandfather': 1954, 'facial': 1619, 'basic': 406, 'bull': 619, 'photos': 3261, 'gotten': 1947, 'uncle': 4636, 'spending': 4106, 'instantly': 2306, 'developing': 1224, 'stuck': 4237, 'sadistic': 3768, 'ruins': 3752, 'substance': 4258, 'description': 1197, 'sunshine': 4294, 'sun': 4292, 'anymore': 258, 'arrive': 300, 'oddly': 3081, 'considerable': 950, 'situations': 4009, 'lying': 2690, 'pair': 3176, 'purple': 3473, 'eat': 1411, 'hat': 2045, 'closet': 858, 'impression': 2252, 'dig': 1250, 'directorial': 1265, 'blonde': 511, 'dude': 1381, 'steal': 4170, 'myers': 2952, 'unusual': 4681, 'revolves': 3682, 'allows': 192, 'circle': 821, 'jumps': 2432, 'occasion': 3073, 'event': 1535, 'settings': 3901, 'luckily': 2682, 'westerns': 4854, 'stewart': 4184, 'daring': 1114, 'casting': 711, 'shelley': 3928, 'winters': 4901, 'hudson': 2184, 'appear': 273, 'wave': 4818, 'introduced': 2337, 'boxing': 556, 'emphasis': 1463, 'british': 589, 'perfectly': 3226, 'exception': 1557, 'soldier': 4053, 'succeeded': 4263, 'st': 4137, 'storyline': 4208, 'australia': 356, 'ned': 2986, 'kelly': 2452, 'plus': 3311, 'soldiers': 4054, 'australian': 357, 'missed': 2867, 'folk': 1770, 'selling': 3873, 'banned': 395, 'argue': 290, 'challenging': 744, 'controversial': 978, 'threat': 4467, 'hidden': 2096, 'capital': 673, 'burt': 629, 'reynolds': 3684, 'cars': 702, 'beatty': 427, 'requires': 3642, 'dressing': 1359, 'jim': 2402, 'hal': 2006, 'spectacular': 4101, 'stunts': 4246, 'reaches': 3538, 'pity': 3281, 'despair': 1207, 'race': 3499, 'stinker': 4191, 'incoherent': 2265, 'college': 875, 'nightmares': 3015, 'importance': 2246, 'becoming': 435, 'speed': 4103, 'pleased': 3305, 'african': 142, 'civil': 826, 'intention': 2319, 'heroine': 2091, 'slave': 4022, 'fictional': 1703, 'universe': 4666, 'novels': 3053, 'defined': 1160, 'wayne': 4821, 'lane': 2515, 'primarily': 3393, 'fascinating': 1658, 'viewings': 4741, 'existed': 1570, 'shortly': 3947, 'user': 4696, 'wes': 4851, 'craven': 1034, 'quick': 3490, 'scores': 3823, '2000': 30, 'recording': 3575, 'luke': 2687, 'prevent': 3385, 'flicks': 1755, 'shower': 3957, 'noise': 3024, 'angry': 238, 'trilogy': 4586, 'date': 1118, 'models': 2881, 'model': 2880, 'convoluted': 987, 'somebody': 4062, 'manhattan': 2726, 'irritating': 2359, 'entertain': 1497, 'jerk': 2395, 'throw': 4479, 'allow': 189, 'pride': 3391, 'count': 1010, 'embarrassment': 1455, 'carl': 692, 'aka': 168, 'mark': 2739, 'lone': 2642, 'tom': 4514, 'hanks': 2025, 'pleasure': 3306, 'dressed': 1358, 'emily': 1456, 'waves': 4819, 'fascinated': 1657, 'range': 3516, 'mirror': 2861, 'poem': 3312, 'neo': 2998, 'urban': 4688, 'puts': 3481, 'hearted': 2065, 'comedic': 888, 'jet': 2400, 'li': 2587, 'holding': 2130, 'hbo': 2055, 'carried': 698, 'priceless': 3390, 'jaws': 2385, 'intended': 2315, 'collection': 874, 'atmospheric': 334, 'vincent': 4746, 'vehicle': 4718, '1973': 19, 'albeit': 173, 'cheese': 780, 'alan': 171, 'nearby': 2980, 'river': 3707, 'escaped': 1518, 'naturally': 2974, 'keeps': 2451, 'engaged': 1480, 'virginia': 4750, 'bright': 581, 'artist': 307, 'aforementioned': 139, 'destroying': 1215, 'partly': 3197, 'underground': 4640, 'station': 4164, 'originality': 3130, 'scream': 3826, 'pack': 3165, 'tame': 4363, 'rats': 3531, 'planet': 3289, 'authority': 360, 'million': 2847, 'artists': 309, 'appropriate': 283, 'wizard': 4919, 'oz': 3160, 'colors': 879, 'depth': 1190, 'vast': 4716, 'inner': 2292, 'credible': 1048, 'reduced': 3579, 'adams': 112, 'convey': 982, 'lay': 2542, 'anger': 235, 'francis': 1818, 'elizabeth': 1445, 'taylor': 4372, 'beneath': 464, 'juvenile': 2441, 'concerning': 933, 'earl': 1398, 'ships': 3935, 'horrendous': 2162, 'guessing': 1991, 'tend': 4400, 'robot': 3717, '1950s': 14, 'followed': 1773, 'desert': 1198, 'wondering': 4930, 'narrative': 2966, 'logic': 2638, 'annoyed': 248, '2001': 31, 'coherent': 871, 'compared': 912, 'masterpieces': 2760, 'freedom': 1828, 'pull': 3461, 'ancient': 225, 'rocky': 3723, 'disappear': 1270, 'invisible': 2344, 'hippie': 2115, 'politics': 3326, 'building': 615, 'involves': 2348, 'stolen': 4195, 'private': 3404, 'advertising': 132, 'walking': 4779, 'secretary': 3850, 'stealing': 4171, 'land': 2511, 'birds': 485, 'ruin': 3750, 'treatment': 4574, 'officers': 3093, 'trite': 4589, 'blockbuster': 509, 'loser': 2655, 'tag': 4348, 'sacrifice': 3766, 'thoughtful': 4463, 'lyrics': 2692, 'bus': 631, 'gonna': 1936, 'exploitation': 1592, 'hello': 2078, 'womens': 4924, 'rise': 3702, 'clothing': 861, 'dubbing': 1380, 'reached': 3537, 'affected': 137, 'peoples': 3222, 'afterwards': 145, 'highest': 2102, 'marks': 2742, 'schools': 3814, 'delivery': 1173, 'timeless': 4496, 'kicks': 2463, 'chased': 770, 'criminal': 1057, 'standards': 4145, 'yeah': 4977, 'press': 3379, 'sensitive': 3879, 'match': 2762, 'bringing': 586, 'skill': 4013, 'brooklyn': 595, 'kudos': 2497, 'holy': 2140, 'realized': 3553, 'doctors': 1305, 'husbands': 2205, 'flawed': 1750, 'miscast': 2862, 'among': 217, 'figures': 1713, 'parallel': 3185, 'detail': 1217, 'doc': 1303, 'remote': 3622, 'bullet': 620, 'glass': 1917, 'gods': 1928, 'complain': 919, '1980': 20, 'adam': 111, 'generations': 1884, 'charlie': 765, 'chan': 746, 'fu': 1844, 'tarzan': 4367, 'buck': 605, 'types': 4622, 'ron': 3734, 'vengeance': 4719, 'teachers': 4376, 'anywhere': 263, 'pamela': 3179, 'nose': 3037, 'princess': 3397, 'streisand': 4218, 'wow': 4962, 'brand': 565, '3000': 43, 'orders': 3127, 'remaining': 3610, 'captain': 674, 'cary': 706, 'false': 1641, 'ship': 3934, 'conflicts': 940, 'titanic': 4503, 'drag': 1342, 'losing': 2658, 'overrated': 3156, 'broadcast': 591, '20th': 38, 'section': 3853, 'historical': 2119, 'touches': 4535, 'tender': 4401, 'abilities': 64, 'creator': 1043, 'wake': 4774, 'realise': 3548, 'status': 4165, 'producing': 3417, 'plague': 3285, 'charisma': 762, 'hollywoods': 2138, 'waters': 4817, 'forgot': 1796, 'thumbs': 4485, 'grim': 1974, 'misses': 2868, 'villains': 4745, 'sky': 4017, 'favourite': 1673, 'details': 1219, 'mentioned': 2811, 'italian': 2367, 'restaurant': 3658, 'poignant': 3315, 'whenever': 4863, 'eg': 1434, 'develop': 1222, 'bite': 489, 'hong': 2149, 'table': 4346, 'expensive': 1579, 'suspend': 4329, 'disbelief': 1277, 'smoke': 4039, 'rap': 3520, 'killings': 2473, 'awkward': 374, 'ruthless': 3764, 'showcase': 3954, 'sings': 3997, 'dances': 1106, 'rain': 3506, 'task': 4368, 'perfection': 3225, 'blend': 504, 'crisis': 1060, 'extent': 1605, 'oliver': 3102, 'appreciate': 279, 'houses': 2180, 'field': 1704, 'flow': 1762, 'influence': 2286, 'changing': 752, 'closest': 857, 'information': 2288, 'web': 4833, 'decades': 1145, 'prior': 3400, '1990': 24, '1968': 16, 'include': 2261, 'mysteries': 2954, 'faithful': 1634, 'fashioned': 1660, 'introduce': 2336, 'idiotic': 2219, 'accused': 91, 'product': 3418, 'rushed': 3760, 'tied': 4489, 'kung': 2498, 'wrapped': 4964, 'signs': 3973, 'choreography': 802, 'exaggerated': 1552, 'receives': 3565, 'simplicity': 3984, 'greed': 1968, 'destroyed': 1214, 'planning': 3291, 'integrity': 2311, 'aging': 153, 'foul': 1810, 'noble': 3021, 'mexico': 2827, 'faced': 1617, 'personalities': 3241, 'carefully': 689, 'niro': 3019, 'clichés': 846, 'imaginative': 2237, 'hints': 2113, 'jean': 2389, 'conventional': 979, 'endearing': 1469, 'poverty': 3357, 'east': 1407, 'cities': 823, 'losers': 2656, 'struggling': 4236, 'victor': 4731, 'driven': 1365, 'frustration': 1843, 'partner': 3198, 'wannabe': 4787, 'break': 569, 'exact': 1550, 'louis': 2665, 'gritty': 1977, 'highlights': 2104, 'display': 1291, 'appreciated': 280, 'gratuitous': 1961, 'jazz': 2387, 'likewise': 2603, 'le': 2544, 'fate': 1665, 'weve': 4856, 'truck': 4595, 'decision': 1151, 'stretch': 4221, 'engage': 1479, 'offended': 3085, 'walked': 4776, 'sticks': 4186, 'recorded': 3574, 'ritter': 3705, 'lord': 2652, 'intent': 2318, 'miserably': 2864, 'superman': 4301, 'burn': 625, 'downright': 1337, 'gags': 1862, 'fbi': 1675, 'destroy': 1213, 'settle': 3902, 'reveals': 3673, 'slapstick': 4019, 'slap': 4018, 'mafia': 2700, 'falk': 1636, 'dean': 1139, 'trap': 4563, 'mexican': 2826, 'mansion': 2731, 'hundred': 2195, 'isolated': 2363, 'tremendous': 4579, 'americas': 215, 'empire': 1464, 'spell': 4104, 'doom': 1326, 'laid': 2508, 'return': 3665, 'battles': 415, 'farm': 1656, 'calm': 655, 'cinemas': 817, 'ian': 2209, 'brutally': 604, 'fights': 1710, 'struck': 4232, 'possibility': 3349, 'happiness': 2031, 'sides': 3967, 'source': 4086, 'inevitable': 2282, 'suits': 4287, 'landscape': 2513, 'unfolds': 4651, 'darker': 1116, 'captivating': 675, 'tiny': 4500, 'upper': 4685, 'category': 718, '100': 1, 'mixture': 2878, 'social': 4049, 'questions': 3489, 'parties': 3196, 'bollywood': 530, 'rescue': 3643, 'fired': 1735, 'sight': 3969, 'explore': 1594, 'uncomfortable': 4637, 'tricks': 4583, 'trained': 4557, 'recently': 3567, 'morris': 2908, 'angles': 237, 'lion': 2614, 'animal': 239, 'disturbed': 1299, 'subtlety': 4261, 'narration': 2965, 'newly': 3004, 'widely': 4881, 'reel': 3581, 'older': 3101, 'stooges': 4200, 'widow': 4883, 'nicholas': 3010, 'cage': 645, 'norman': 3035, 'zero': 4996, 'cruise': 1071, 'suited': 4286, 'editor': 1423, 'obscure': 3068, 'surface': 4310, 'fairy': 1632, 'cinderella': 815, 'bone': 533, 'grant': 1956, 'spielberg': 4110, 'clues': 865, 'committed': 905, 'crafted': 1029, 'combine': 884, 'structure': 4233, 'explored': 1595, 'lifetime': 2594, 'julie': 2428, 'comparison': 914, 'response': 3654, 'thank': 4421, 'psychological': 3458, 'teens': 4392, 'holly': 2136, 'judge': 2424, 'greek': 1970, 'absence': 70, 'authentic': 358, 'scenery': 3810, 'subtitles': 4259, 'provided': 3449, 'text': 4419, 'study': 4242, 'precious': 3366, 'drunken': 1376, 'deaf': 1134, 'ann': 244, 'cgi': 740, 'danes': 1108, 'richardson': 3688, 'lessons': 2578, 'buddy': 609, 'retarded': 3663, 'crack': 1027, 'staff': 4138, 'firstly': 1737, 'cliche': 843, 'sing': 3992, 'skip': 4016, 'fix': 1744, 'examples': 1554, 'imagery': 2234, 'win': 4892, 'movement': 2923, 'progress': 3425, 'sucked': 4270, 'musical': 2947, 'sloppy': 4030, 'choices': 798, 'accompanied': 86, 'convince': 983, 'planned': 3290, 'taste': 4369, 'pie': 3271, 'dick': 1239, 'screenwriter': 3833, 'hall': 2009, 'britain': 588, 'jimmy': 2403, 'sink': 3999, 'keeping': 2450, 'dancer': 1104, 'angel': 231, 'household': 2179, 'sole': 4055, 'ridiculously': 3694, 'clue': 864, 'suitable': 4285, 'desperate': 1208, 'amongst': 218, 'throwing': 4480, 'knife': 2487, 'arm': 292, 'leg': 2562, 'pants': 3182, 'ham': 2011, 'bruce': 602, 'lees': 2560, 'understandable': 4644, 'scare': 3803, 'reflection': 3585, 'cartoons': 705, 'cube': 1076, 'intriguing': 2335, 'conceived': 929, 'plight': 3308, 'stayed': 4167, 'experiment': 1583, 'existence': 1571, 'fury': 1855, 'reveal': 3670, 'unwatchable': 4682, 'flashback': 1746, 'treasure': 4571, 'disappointment': 1275, 'advice': 133, 'seek': 3858, 'beast': 422, 'damage': 1099, 'maker': 2714, 'held': 2074, 'talents': 4356, 'receive': 3563, 'laura': 2536, 'writes': 4970, 'chilling': 794, 'wholly': 4874, 'ideal': 2214, 'blake': 498, 'babe': 375, 'heaven': 2068, 'gotta': 1946, 'dave': 1123, 'jobs': 2406, 'mistress': 2874, 'jonathan': 2417, 'cia': 814, 'bloody': 513, 'contrived': 976, 'marie': 2737, 'figured': 1712, 'manipulative': 2727, 'higher': 2101, 'amitabh': 216, 'dying': 1393, 'teach': 4374, 'handle': 2018, 'spoiled': 4122, 'attempted': 341, 'bucks': 606, 'global': 1920, 'advise': 134, 'solid': 4057, 'mid': 2832, 'imagined': 2239, 'vague': 4705, 'qualities': 3483, 'escapes': 1519, 'mouse': 2919, 'ensues': 1493, 'thoroughly': 4459, 'sleazy': 4023, 'identify': 2216, 'methods': 2825, 'flesh': 1753, 'fred': 1825, 'astaire': 330, 'ginger': 1908, 'numbers': 3061, 'allen': 188, 'addition': 118, 'distant': 1295, 'idiot': 2218, 'hole': 2132, 'department': 1182, 'balance': 387, 'harry': 2039, 'bet': 470, 'bland': 500, 'womans': 4922, 'daddy': 1096, 'pro': 3406, 'genuinely': 1892, 'realizes': 3554, 'andy': 230, 'accepted': 82, 'fancy': 1649, 'liners': 2611, 'panic': 3181, 'conversations': 981, 'intimate': 2331, 'comparing': 913, 'painted': 3174, 'arrives': 302, 'brown': 601, 'sympathetic': 4342, 'surprises': 4314, 'frankly': 1823, 'lesser': 2576, 'strongly': 4231, 'uk': 4626, 'dinosaurs': 1256, 'tunes': 4603, 'slaughter': 4021, 'pretend': 3381, 'rules': 3754, 'suffer': 4275, 'fabulous': 1615, 'included': 2262, 'finale': 1723, 'limited': 2606, 'ninja': 3018, 'punch': 3466, 'dub': 1378, 'stellar': 4174, 'lisa': 2616, 'bonus': 534, 'sounding': 4083, '16': 8, 'steals': 4172, 'prince': 3396, 'fighter': 1708, 'continuity': 972, 'notch': 3043, 'resulting': 3661, 'heroic': 2090, 'spots': 4132, 'counter': 1011, 'downhill': 1336, 'cards': 683, 'thousand': 4465, 'creature': 1045, 'strike': 4224, 'winning': 4898, 'destruction': 1216, 'card': 681, 'useless': 4695, 'soccer': 4048, 'orange': 3125, 'sentence': 3881, 'unintentionally': 4659, 'sleep': 4024, 'tight': 4492, 'wet': 4855, 'macy': 2695, 'delivered': 1170, 'washington': 4806, 'hint': 2112, 'former': 1800, 'jeremy': 2394, 'beaten': 424, 'buff': 611, 'handsome': 2021, 'crucial': 1068, 'huh': 2187, 'searching': 3842, 'relies': 3606, 'ah': 158, 'allowed': 190, 'expressions': 1603, 'tomatoes': 4515, 'spike': 4111, 'phone': 3255, 'blah': 496, 'meaningful': 2781, 'clip': 851, 'wound': 4960, 'cried': 1054, 'jumping': 2431, 'clips': 852, 'comical': 894, 'viewed': 4737, '70': 55, 'constructed': 959, 'kingdom': 2480, 'author': 359, 'americans': 214, 'advanced': 128, 'satisfied': 3789, 'nine': 3017, 'respected': 3653, 'continued': 970, 'focused': 1767, 'gradually': 1952, 'humanity': 2189, 'pushed': 3478, 'enjoying': 1487, 'official': 3094, 'leader': 2546, 'halfway': 2008, 'scope': 3821, 'dire': 1257, 'prefer': 3368, 'valley': 4707, 'wind': 4893, 'manage': 2722, 'holes': 2133, 'sold': 4052, 'sounded': 4082, 'confidence': 938, 'dollars': 1315, 'bleak': 503, 'faster': 1662, 'dentist': 1180, 'abandoned': 62, 'streets': 4217, 'solve': 4060, 'illness': 2230, 'pitt': 3280, 'lewis': 2586, 'michelle': 2830, 'celluloid': 731, 'tradition': 4549, 'eve': 1532, 'narrator': 2967, 'lesbian': 2573, 'wisdom': 4902, 'purposes': 3475, 'composed': 926, 'theyll': 4444, 'musicals': 2948, 'poorly': 3329, '1930s': 11, 'intentions': 2321, 'adults': 126, 'portraying': 3343, 'indians': 2275, 'belief': 451, 'practice': 3363, 'overacting': 3149, 'kidding': 2465, 'overdone': 3152, 'forgive': 1795, 'pg': 3250, 'stiff': 4187, 'riveting': 3708, 'sits': 4006, 'placed': 3283, 'shadow': 3912, 'dropping': 1371, 'incomprehensible': 2267, 'madonna': 2699, 'andrews': 229, 'intense': 2316, 'hatred': 2049, 'errors': 1516, 'calls': 654, 'assigned': 325, 'ken': 2453, 'craig': 1030, 'stevens': 4183, 'shed': 3924, 'returned': 3666, 'fitting': 1742, 'troubled': 4593, 'surrounding': 4319, 'loss': 2659, 'introduction': 2339, 'arrived': 301, 'broke': 593, 'thankfully': 4422, 'fisher': 1739, 'kirk': 2482, 'zombies': 4998, 'deserve': 1199, 'empty': 1465, 'visible': 4753, 'danger': 1109, 'obsession': 3070, 'sake': 3775, 'historically': 2120, 'flynn': 1765, 'repeatedly': 3632, 'someones': 4065, 'concerns': 934, 'teenagers': 4391, 'nasty': 2968, 'explosion': 1596, 'lucas': 2680, 'sheriff': 3929, 'secrets': 3852, 'cousin': 1021, 'daniel': 1111, 'molly': 2884, 'petty': 3249, 'da': 1094, 'darkness': 1117, 'texas': 4418, 'massacre': 2754, 'reasonable': 3558, 'throat': 4476, 'ripped': 3701, 'crying': 1074, 'pile': 3275, 'commented': 900, 'curiosity': 1082, 'versus': 4722, 'pan': 3180, 'investigate': 2342, 'troubles': 4594, 'warned': 4798, 'interviews': 2330, 'sentimental': 3882, 'broad': 590, 'consistently': 954, 'promised': 3431, 'reed': 3580, 'vacation': 4704, 'feed': 1683, 'elephant': 1444, 'degree': 1164, 'education': 1424, 'unaware': 4632, 'president': 3378, 'teacher': 4375, 'magazine': 2701, 'assistant': 326, 'hang': 2022, 'youth': 4994, 'eager': 1396, 'morality': 2903, 'anyways': 262, 'scripts': 3836, 'minimum': 2856, 'hopefully': 2157, 'ratings': 3530, 'dinosaur': 1255, '60': 53, 'sudden': 4272, 'punishment': 3467, 'environment': 1505, 'retired': 3664, 'heston': 2094, 'pursuit': 3476, 'proceedings': 3410, 'ease': 1404, 'generated': 1882, 'restored': 3659, 'edition': 1422, 'theatrical': 4430, 'generic': 1885, 'suggested': 4281, 'pat': 3208, 'dignity': 1252, 'trick': 4582, 'borrowed': 545, 'protagonists': 3442, 'intelligence': 2313, 'providing': 3451, 'finish': 1732, 'vietnam': 4735, 'jenny': 2393, 'proud': 3444, 'contemporary': 965, 'ridden': 3691, 'ryan': 3765, 'sincere': 3991, 'godfather': 1927, 'baker': 385, 'vice': 4727, 'gifted': 1907, 'mrs': 2930, 'oscars': 3134, 'worlds': 4947, 'explaining': 1588, 'hype': 2207, 'hilariously': 2107, 'cheated': 775, 'media': 2789, 'margaret': 2735, 'drink': 1361, 'aids': 161, 'shirt': 3937, 'crush': 1072, 'preview': 3386, 'terry': 4415, 'brazil': 568, 'achieved': 93, 'listed': 2618, 'test': 4416, 'striking': 4226, 'enormous': 1490, 'ha': 2002, 'redeeming': 3577, 'inane': 2258, 'terrorists': 4414, 'eighties': 1437, 'dynamic': 1394, 'opinions': 3119, 'jumped': 2430, 'dress': 1357, 'health': 2060, 'easier': 1405, 'monk': 2889, 'similarly': 3980, 'prime': 3395, 'traveling': 4568, 'joy': 2422, 'beach': 419, 'remain': 3609, 'veteran': 4724, 'erotic': 1515, 'belong': 459, 'contact': 961, 'bedroom': 437, 'giallo': 1904, 'werewolf': 4850, 'guilty': 1995, 'disagree': 1269, 'cultural': 1078, 'reflect': 3584, 'christ': 807, 'presented': 3376, 'peters': 3248, 'guilt': 1994, 'vhs': 4725, 'photo': 3257, 'enemies': 1476, 'messages': 2820, 'spoke': 4125, 'furthermore': 1854, 'theory': 4437, 'screams': 3828, 'importantly': 2248, 'consistent': 953, 'brilliance': 582, 'couldve': 1009, 'dealt': 1138, 'embarrassed': 1453, 'fat': 1663, 'pushing': 3479, 'pointed': 3317, 'repeat': 3630, 'franchise': 1817, 'fatal': 1664, 'lawrence': 2539, 'wealth': 4826, 'centers': 734, 'guest': 1992, 'host': 2173, 'persona': 3239, 'transformation': 4560, 'tie': 4488, 'revealing': 3672, 'dreary': 1356, 'painfully': 3172, 'condition': 937, 'snake': 4042, 'sinister': 3998, 'encounter': 1466, 'eyed': 1612, 'intentionally': 2320, 'semi': 3874, 'immensely': 2243, 'lowest': 2678, 'morning': 2906, 'survived': 4322, 'memories': 2803, 'locked': 2637, 'sum': 4289, 'deceased': 1146, 'photography': 3260, 'hoped': 2156, 'quotes': 3497, 'twilight': 4614, 'zone': 4999, 'lake': 2509, 'corny': 997, 'friday': 1834, 'unoriginal': 4673, 'eva': 1531, 'passing': 3204, 'perspective': 3245, 'backdrop': 379, 'appreciation': 281, 'brad': 560, 'reach': 3536, 'overlooked': 3154, 'jon': 2416, '14': 6, 'temple': 4398, 'snow': 4045, 'expression': 1602, 'frankenstein': 1822, 'antics': 255, 'bank': 394, 'majority': 2712, 'invasion': 2340, 'bound': 553, 'doomed': 1327, 'ignorant': 2223, 'regard': 3588, 'courage': 1018, 'iron': 2354, 'alike': 185, 'characterization': 759, 'soft': 4051, 'physical': 3262, 'jungle': 2434, 'join': 2412, 'packed': 3166, 'afternoon': 144, '1996': 26, 'march': 2734, 'primary': 3394, 'uninteresting': 4660, 'nostalgic': 3039, 'responsibility': 3655, 'worker': 4942, 'disjointed': 1287, 'gag': 1861, 'repeated': 3631, 'ensemble': 1492, 'donna': 1323, 'victoria': 4732, 'pitch': 3279, 'growing': 1983, 'usa': 4691, 'wise': 4903, 'chicks': 787, 'satisfy': 3790, 'steel': 4173, 'represent': 3637, 'tiger': 4491, 'presumably': 3380, 'size': 4012, 'mundane': 2938, 'rooms': 3736, 'cardboard': 682, 'melting': 2799, 'pot': 3354, 'misery': 2865, 'colour': 880, 'larger': 2519, 'balls': 390, 'creativity': 1042, 'unbearable': 4633, 'defend': 1158, 'noted': 3045, 'emma': 1457, 'performs': 3234, 'convincingly': 986, 'disappoint': 1272, 'anybody': 257, 'failure': 1629, 'distance': 1294, 'farce': 1654, 'tragedy': 4551, 'helen': 2075, 'colorful': 878, 'remarkably': 3614, 'anna': 245, 'projects': 3428, 'appearances': 275, 'haunted': 2050, 'karloff': 2445, 'paranoia': 3186, 'et': 1526, 'experiments': 1584, 'severe': 3906, 'claimed': 829, 'attend': 344, 'devoted': 1231, 'sinatra': 3989, 'mike': 2838, 'tons': 4520, 'depiction': 1185, 'alright': 198, 'props': 3439, 'scooby': 3820, 'doo': 1325, 'reunion': 3669, 'mall': 2720, 'court': 1020, 'trial': 4580, 'arguably': 289, 'pilot': 3276, 'ghosts': 1903, 'robots': 3718, '1940s': 13, 'glenn': 1918, 'believed': 455, 'southern': 4088, 'rings': 3699, 'catchy': 717, 'beer': 439, 'nowadays': 3055, 'robinson': 3716, 'hugh': 2186, 'operation': 3117, 'intrigue': 2333, '2002': 32, 'sid': 3964, 'meanwhile': 2785, 'jennifer': 2392, 'yellow': 4981, 'root': 3737, 'mistake': 2871, 'mentioning': 2812, 'busy': 635, 'heat': 2067, 'hop': 2154, 'pearl': 3220, 'asian': 314, 'sidney': 3968, 'makeup': 2717, 'worn': 4948, 'stale': 4141, 'thick': 4447, 'exposure': 1599, 'abuse': 74, 'thru': 4483, 'bomb': 531, 'merit': 2816, 'thousands': 4466, 'irrelevant': 2358, 'wacky': 4769, 'picking': 3267, 'laurel': 2537, 'hardy': 2037, 'thugs': 4484, 'pops': 3332, 'adorable': 124, 'unforgettable': 4652, 'halloween': 2010, '13th': 5, 'jessica': 2398, 'nomination': 3026, 'wolf': 4920, 'nostalgia': 3038, 'efforts': 1433, 'winds': 4895, 'angela': 232, 'throws': 4482, 'drags': 1345, 'territory': 4411, 'nelson': 2997, 'site': 4005, 'joey': 2408, 'compelled': 915, 'psychiatrist': 3455, 'currently': 1085, 'simpson': 3987, 'charismatic': 763, 'destiny': 1212, 'consequences': 947, 'multi': 2935, 'alongside': 196, 'alcohol': 176, 'ad': 110, 'potentially': 3356, 'birthday': 487, 'insight': 2298, 'physically': 3263, 'russian': 3762, 'alex': 179, 'marty': 2749, 'opposed': 3122, 'terror': 4412, 'recognized': 3570, 'amanda': 205, 'moronic': 2907, 'revolutionary': 3681, 'rule': 3753, 'adding': 117, 'prequel': 3372, 'holmes': 2139, 'letters': 2582, 'activities': 102, 'justify': 2439, 'unexpected': 4650, 'stiller': 4189, 'goofy': 1939, 'topic': 4526, 'chaos': 755, 'impress': 2250, 'caine': 647, 'outcome': 3142, 'benefit': 465, 'marketing': 2741, 'commercials': 903, 'brando': 566, 'opportunities': 3120, 'european': 1530, 'unseen': 4678, 'broadway': 592, 'extended': 1604, 'costs': 1004, 'tall': 4362, 'eastwood': 1409, 'robbery': 3711, 'philip': 3252, 'hoffman': 2128, 'ethan': 1528, 'albert': 174, 'shines': 3932, 'interaction': 2322, 'ireland': 2352, 'psycho': 3457, 'apes': 267, 'amounts': 220, 'species': 4098, 'leo': 2571, 'landing': 2512, 'command': 897, 'icon': 2211, 'blowing': 515, 'favorites': 1672, 'rights': 3697, 'citizen': 824, 'neighbor': 2992, 'creep': 1051, 'chief': 788, 'alert': 178, 'elegant': 1441, 'pacino': 3164, 'mayor': 2777, 'cusack': 1088, 'fonda': 1777, 'translation': 4562, 'jesse': 2397, 'phony': 3256, 'japan': 2381, 'aid': 160, 'rabbit': 3498, 'understated': 4646, 'tends': 4402, 'admittedly': 123, 'reads': 3545, 'domestic': 1318, 'diane': 1238, 'keaton': 2448, 'competition': 918, 'load': 2631, 'nyc': 3065, 'virus': 4752, 'mail': 2706, 'flight': 1757, 'exercise': 1568, 'devils': 1229, 'pig': 3274, 'guts': 1999, 'turner': 4607, 'hamilton': 2012, 'perry': 3237, 'demented': 1176, 'gruesome': 1986, 'belongs': 460, 'ruby': 3749, 'divorce': 1301, 'gold': 1932, 'cheating': 776, 'doors': 1329, 'forty': 1807, 'powell': 3358, 'excessive': 1560, 'swimming': 4338, 'depression': 1189, 'smiling': 4037, 'carol': 693, 'unit': 4663, 'spider': 4109, 'gerard': 1895, 'wealthy': 4827, 'caliber': 649, 'menacing': 2807, 'comedian': 887, 'mtv': 2933, 'cinematographer': 819, 'countless': 1012, 'coach': 868, 'superbly': 4297, 'scheme': 3812, 'monkey': 2890, 'armed': 293, 'improvement': 2256, 'dramas': 1347, 'artificial': 306, 'hamlet': 2013, 'passes': 3203, 'faults': 1669, 'shakespeare': 3915, 'handed': 2016, 'honesty': 2148, 'racial': 3501, 'contained': 963, 'ford': 1789, 'eastern': 1408, 'lust': 2689, 'neighborhood': 2993, 'thief': 4448, 'formulaic': 1803, 'sandra': 3782, 'storytelling': 4209, 'angle': 236, 'christians': 809, 'stereotypical': 4180, 'population': 3335, 'california': 650, 'closed': 854, 'bettie': 473, 'desired': 1206, 'spiritual': 4116, 'underlying': 4641, 'rural': 3758, 'willis': 4890, 'empathy': 1462, 'lively': 2627, 'overlook': 3153, 'exploration': 1593, 'sixties': 4011, 'nicholson': 3011, 'seventies': 3904, 'appalling': 268, 'nuts': 3064, 'pulling': 3463, 'prisoner': 3402, 'rex': 3683, 'motives': 2916, 'statement': 4162, 'freddy': 1826, 'shake': 3914, 'eerie': 1427, 'mentally': 2809, 'india': 2273, 'kapoor': 2443, 'bullets': 621, 'plant': 3293, 'columbo': 881, '2004': 34, 'kane': 2442, 'couples': 1017, 'surrounded': 4318, 'lena': 2568, 'crocodile': 1065, 'eccentric': 1414, 'kenneth': 2455, 'businessman': 634, 'mate': 2765, 'directs': 1267, 'behave': 445, 'chances': 748, 'yesterday': 4983, 'brady': 561, 'shell': 3927, 'kiss': 2483, 'cox': 1026, 'voight': 4764, 'cuts': 1091, 'relative': 3599, 'push': 3477, 'witnesses': 4916, 'mst3k': 2932, 'relatives': 3601, 'hank': 2024, 'conspiracy': 956, 'tap': 4364, 'kay': 2447, 'vegas': 4717, 'staring': 4152, 'unhappy': 4656, 'der': 1191, '1984': 23, 'storm': 4206, 'fields': 1705, 'ought': 3138, 'awake': 365, 'junior': 2435, 'inevitably': 2283, 'cameras': 660, 'glory': 1922, 'terrorist': 4413, 'quit': 3494, 'ho': 2127, 'warriors': 4803, 'plausible': 3295, 'worried': 4949, 'enjoys': 1489, 'modesty': 2883, 'butler': 637, 'coffee': 870, 'trail': 4553, 'spain': 4091, 'taught': 4370, 'fears': 1677, 'sophisticated': 4075, 'spread': 4133, 'affect': 136, 'analysis': 224, 'horrific': 2166, 'useful': 4694, 'bride': 577, 'chaplin': 756, 'warn': 4797, 'lab': 2501, 'attitudes': 347, 'strikes': 4225, 'paulie': 3215, 'overwhelming': 3157, 'slight': 4027, 'testament': 4417, 'melodrama': 2797, 'muslim': 2949, 'border': 539, 'mass': 2753, 'suicide': 4283, 'horrifying': 2167, 'cared': 685, 'thrills': 4475, 'bird': 484, 'kennedy': 2454, 'surviving': 4323, 'lemmon': 2567, 'matthau': 2771, 'felix': 1689, 'avoided': 364, 'april': 284, 'existent': 1572, 'winter': 4900, 'hollow': 2135, 'philosophical': 3253, 'piano': 3264, 'singers': 3994, 'screens': 3832, 'endings': 1472, 'berlin': 467, 'navy': 2976, 'em': 1452, 'tune': 4602, 'rolled': 3729, 'lumet': 2688, 'educational': 1425, 'deeper': 1155, 'twelve': 4611, 'resident': 3647, 'kim': 2475, 'vicious': 4728, 'factory': 1623, 'treats': 4575, 'patients': 3212, 'confusion': 943, 'suggests': 4282, 'moody': 2899, 'shark': 3921, 'guard': 1988, 'unpleasant': 4674, 'ear': 1397, 'specifically': 4100, 'whale': 4857, 'motivation': 2914, 'surfing': 4311, 'tooth': 4524, 'ward': 4793, 'nervous': 2999, 'lately': 2524, 'goodness': 1938, 'picks': 3268, 'university': 4667, 'wishing': 4907, 'duo': 1386, 'polanski': 3321, 'delivering': 1171, 'conservative': 948, 'max': 2774, 'mistaken': 2872, 'dare': 1113, 'stanley': 4148, 'mitchell': 2875, 'chest': 784, 'cure': 1081, 'stated': 4161, 'warren': 4801, 'infamous': 2284, 'sunday': 4293, 'contrary': 974, 'desperation': 1210, 'buffs': 612, 'transition': 4561, 'sneak': 4043, 'relations': 3596, 'nancy': 2964, 'upset': 4687, 'careful': 688, 'spring': 4134, 'countries': 1013, 'mickey': 2831, 'randomly': 3515, 'miike': 2837, 'bobby': 525, 'airport': 167, 'museum': 2945, 'oil': 3097, 'inspector': 2299, 'gadget': 1860, 'aimed': 162, 'symbolism': 4341, 'wicked': 4879, 'drew': 1360, 'strictly': 4223, 'blows': 517, 'blunt': 520, 'summary': 4290, 'hopeless': 2158, 'blob': 507, 'rocket': 3721, 'neighbors': 2994, 'sutherland': 4333, 'climactic': 848, 'illegal': 2229, 'agreed': 156, 'gundam': 1997, 'exceptionally': 1559, 'bud': 607, 'rising': 3703, 'alexander': 180, 'prize': 3405, 'flop': 1760, 'seeks': 3860, 'heights': 2073, 'bourne': 554, 'inducing': 2279, 'amy': 222, 'refreshing': 3586, 'mars': 2746, 'notorious': 3051, 'warrior': 4802, 'championship': 745, 'walker': 4778, '1960s': 15, 'innovative': 2295, 'sport': 4129, 'rendition': 3625, 'slick': 4026, 'davies': 1125, 'corporate': 998, 'sandler': 3781, 'riding': 3695, 'spirits': 4115, 'goldberg': 1933, 'campbell': 663, 'horses': 2171, 'mann': 2728, 'displays': 1293, 'corruption': 1002, 'dawson': 1128, 'cabin': 643, 'stinks': 4192, 'dust': 1388, 'classical': 836, 'simplistic': 3985, 'bumbling': 622, 'rage': 3505, 'kissing': 2484, 'travels': 4569, 'garbo': 1871, 'rat': 3525, 'sellers': 3872, 'silence': 3974, 'paltrow': 3178, 'visits': 4756, 'bo': 521, 'humble': 2191, 'hunting': 2201, 'via': 4726, 'drops': 1372, 'vote': 4766, 'bela': 450, 'chicago': 785, 'widmark': 4882, 'warmth': 4796, 'abusive': 75, 'toilet': 4512, 'ellen': 1446, 'godzilla': 1929, '1990s': 25, 'lasted': 2522, 'simmons': 3981, 'edie': 1419, 'glorious': 1921, 'blacks': 494, 'omen': 3104, 'builds': 617, 'hyde': 2206, 'jaw': 2384, 'catholic': 720, 'bakshi': 386, 'barry': 401, 'triumph': 4590, 'buddies': 608, 'subplots': 4256, 'dolph': 1317, 'dating': 1120, 'threw': 4470, 'describes': 1196, 'wished': 4905, 'betty': 474, 'montana': 2895, 'stones': 4198, 'waitress': 4773, 'bold': 528, 'report': 3635, 'subjects': 4254, 'hurts': 2203, 'topless': 4527, 'nights': 3016, 'brains': 563, 'deliberately': 1166, 'blank': 501, '35': 45, 'claire': 831, 'website': 4834, 'celebrity': 729, 'outfit': 3144, 'blues': 519, 'dialogues': 1235, 'lugosi': 2686, 'obnoxious': 3067, 'homer': 2144, 'arrogant': 303, 'prostitute': 3440, 'fond': 1776, 'gabriel': 1859, 'contest': 967, 'defeat': 1157, 'per': 3223, 'colonel': 876, 'seagal': 3839, 'matched': 2763, 'kicked': 2461, 'vs': 4767, 'iran': 2350, 'detailed': 1218, 'mentions': 2813, 'survivor': 4324, 'florida': 1761, 'dickens': 1240, 'scrooge': 3837, 'franco': 1820, 'defense': 1159, 'royal': 3746, 'button': 639, 'ingredients': 2289, 'mummy': 2937, 'chuck': 812, 'gray': 1963, 'ashley': 313, 'maria': 2736, 'directions': 1262, 'fever': 1699, 'alcoholic': 177, 'saga': 3773, 'carrey': 696, 'chess': 783, 'poetry': 3314, 'lincoln': 2608, 'pokemon': 3320, 'awfully': 373, 'ties': 4490, 'atlantis': 332, 'roots': 3738, 'raising': 3509, 'serving': 3897, 'mechanical': 2788, 'lily': 2605, 'bacall': 377, 'laughably': 2531, 'iii': 2227, 'robbins': 3712, 'scarecrow': 3804, 'hammer': 2014, 'louise': 2666, 'basketball': 409, 'mildred': 2841, 'cannibal': 669, 'stan': 4142, 'todd': 4510, 'shirley': 3936, 'rambo': 3511, 'iraq': 2351, 'cole': 873, 'warming': 4795, 'elvira': 1450, 'rangers': 3517, 'olivier': 3103}\n"
     ]
    }
   ],
   "source": [
    "print(str(vocabulary))"
   ]
  },
  {
   "cell_type": "markdown",
   "metadata": {},
   "source": [
    "Once you have added the endpoint name to the Lambda function, click on **Save**. Your Lambda function is now up and running. Next we need to create a way for our web app to execute the Lambda function."
   ]
  },
  {
   "cell_type": "markdown",
   "metadata": {},
   "source": [
    "### Setting up API Gateway\n",
    "\n",
    "Now that our Lambda function is set up, it is time to create a new API using API Gateway that will trigger the Lambda function we have just created.\n",
    "\n",
    "Using AWS Console, navigate to **Amazon API Gateway** and then click on **Get started**.\n",
    "\n",
    "On the next page, make sure that **New API** is selected and give the new api a name, for example, `sentiment_analysis_web_app`. Then, click on **Create API**.\n",
    "\n",
    "Now we have created an API, however it doesn't currently do anything. What we want it to do is to trigger the Lambda function that we created earlier.\n",
    "\n",
    "Select the **Actions** dropdown menu and click **Create Method**. A new blank method will be created, select its dropdown menu and select **POST**, then click on the check mark beside it.\n",
    "\n",
    "For the integration point, make sure that **Lambda Function** is selected and click on the **Use Lambda Proxy integration**. This option makes sure that the data that is sent to the API is then sent directly to the Lambda function with no processing. It also means that the return value must be a proper response object as it will also not be processed by API Gateway.\n",
    "\n",
    "Type the name of the Lambda function you created earlier into the **Lambda Function** text entry box and then click on **Save**. Click on **OK** in the pop-up box that then appears, giving permission to API Gateway to invoke the Lambda function you created.\n",
    "\n",
    "The last step in creating the API Gateway is to select the **Actions** dropdown and click on **Deploy API**. You will need to create a new Deployment stage and name it anything you like, for example `prod`.\n",
    "\n",
    "You have now successfully set up a public API to access your SageMaker model. Make sure to copy or write down the URL provided to invoke your newly created public API as this will be needed in the next step. This URL can be found at the top of the page, highlighted in blue next to the text **Invoke URL**."
   ]
  },
  {
   "cell_type": "markdown",
   "metadata": {},
   "source": [
    "## Step 7: Deploying our web app\n",
    "\n",
    "Now that we have a publicly available API, we can start using it in a web app. For our purposes, we have provided a simple static html file which can make use of the public api you created earlier.\n",
    "\n",
    "In the `website` folder there should be a file called `index.html`. Download the file to your computer and open that file up in a text editor of your choice. There should be a line which contains **\\*\\*REPLACE WITH PUBLIC API URL\\*\\***. Replace this string with the url that you wrote down in the last step and then save the file.\n",
    "\n",
    "Now, if you open `index.html` on your local computer, your browser will behave as a local web server and you can use the provided site to interact with your SageMaker model.\n",
    "\n",
    "If you'd like to go further, you can host this html file anywhere you'd like, for example using github or hosting a static site on Amazon's S3. Once you have done this you can share the link with anyone you'd like and have them play with it too!\n",
    "\n",
    "> **Important Note** In order for the web app to communicate with the SageMaker endpoint, the endpoint has to actually be deployed and running. This means that you are paying for it. Make sure that the endpoint is running when you want to use the web app but that you shut it down when you don't need it, otherwise you will end up with a surprisingly large AWS bill."
   ]
  },
  {
   "cell_type": "markdown",
   "metadata": {},
   "source": [
    "### Delete the endpoint\n",
    "\n",
    "Remember to always shut down your endpoint if you are no longer using it. You are charged for the length of time that the endpoint is running so if you forget and leave it on you could end up with an unexpectedly large bill."
   ]
  },
  {
   "cell_type": "code",
   "execution_count": 51,
   "metadata": {},
   "outputs": [],
   "source": [
    "xgb_predictor.delete_endpoint()"
   ]
  },
  {
   "cell_type": "markdown",
   "metadata": {},
   "source": [
    "## Optional: Clean up\n",
    "\n",
    "The default notebook instance on SageMaker doesn't have a lot of excess disk space available. As you continue to complete and execute notebooks you will eventually fill up this disk space, leading to errors which can be difficult to diagnose. Once you are completely finished using a notebook it is a good idea to remove the files that you created along the way. Of course, you can do this from the terminal or from the notebook hub if you would like. The cell below contains some commands to clean up the created files from within the notebook."
   ]
  },
  {
   "cell_type": "code",
   "execution_count": null,
   "metadata": {},
   "outputs": [],
   "source": [
    "# First we will remove all of the files contained in the data_dir directory\n",
    "!rm $data_dir/*\n",
    "\n",
    "# And then we delete the directory itself\n",
    "!rmdir $data_dir\n",
    "\n",
    "# Similarly we remove the files in the cache_dir directory and the directory itself\n",
    "!rm $cache_dir/*\n",
    "!rmdir $cache_dir"
   ]
  },
  {
   "cell_type": "code",
   "execution_count": null,
   "metadata": {},
   "outputs": [],
   "source": []
  }
 ],
 "metadata": {
  "kernelspec": {
   "display_name": "conda_python3",
   "language": "python",
   "name": "conda_python3"
  },
  "language_info": {
   "codemirror_mode": {
    "name": "ipython",
    "version": 3
   },
   "file_extension": ".py",
   "mimetype": "text/x-python",
   "name": "python",
   "nbconvert_exporter": "python",
   "pygments_lexer": "ipython3",
   "version": "3.6.13"
  }
 },
 "nbformat": 4,
 "nbformat_minor": 2
}
