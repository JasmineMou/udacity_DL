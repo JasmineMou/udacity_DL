{
 "cells": [
  {
   "cell_type": "markdown",
   "metadata": {},
   "source": [
    "# Predicting Boston Housing Prices\n",
    "\n",
    "## Using XGBoost in SageMaker (Hyperparameter Tuning)\n",
    "\n",
    "_Deep Learning Nanodegree Program | Deployment_\n",
    "\n",
    "---\n",
    "\n",
    "As an introduction to using SageMaker's High Level Python API for hyperparameter tuning, we will look again at the [Boston Housing Dataset](https://www.cs.toronto.edu/~delve/data/boston/bostonDetail.html) to predict the median value of a home in the area of Boston Mass.\n",
    "\n",
    "The documentation for the high level API can be found on the [ReadTheDocs page](http://sagemaker.readthedocs.io/en/latest/)\n",
    "\n",
    "## General Outline\n",
    "\n",
    "Typically, when using a notebook instance with SageMaker, you will proceed through the following steps. Of course, not every step will need to be done with each project. Also, there is quite a lot of room for variation in many of the steps, as you will see throughout these lessons.\n",
    "\n",
    "1. Download or otherwise retrieve the data.\n",
    "2. Process / Prepare the data.\n",
    "3. Upload the processed data to S3.\n",
    "4. Train a chosen model.\n",
    "5. Test the trained model (typically using a batch transform job).\n",
    "6. Deploy the trained model.\n",
    "7. Use the deployed model.\n",
    "\n",
    "In this notebook we will only be covering steps 1 through 5 as we are only interested in creating a tuned model and testing its performance."
   ]
  },
  {
   "cell_type": "code",
   "execution_count": 1,
   "metadata": {},
   "outputs": [
    {
     "name": "stdout",
     "output_type": "stream",
     "text": [
      "Requirement already satisfied: sagemaker==1.72.0 in /home/ec2-user/anaconda3/envs/pytorch_p36/lib/python3.6/site-packages (1.72.0)\n",
      "Requirement already satisfied: protobuf>=3.1 in /home/ec2-user/anaconda3/envs/pytorch_p36/lib/python3.6/site-packages (from sagemaker==1.72.0) (3.15.2)\n",
      "Requirement already satisfied: packaging>=20.0 in /home/ec2-user/anaconda3/envs/pytorch_p36/lib/python3.6/site-packages (from sagemaker==1.72.0) (20.9)\n",
      "Requirement already satisfied: importlib-metadata>=1.4.0 in /home/ec2-user/anaconda3/envs/pytorch_p36/lib/python3.6/site-packages (from sagemaker==1.72.0) (3.7.0)\n",
      "Requirement already satisfied: smdebug-rulesconfig==0.1.4 in /home/ec2-user/anaconda3/envs/pytorch_p36/lib/python3.6/site-packages (from sagemaker==1.72.0) (0.1.4)\n",
      "Requirement already satisfied: boto3>=1.14.12 in /home/ec2-user/anaconda3/envs/pytorch_p36/lib/python3.6/site-packages (from sagemaker==1.72.0) (1.17.55)\n",
      "Requirement already satisfied: numpy>=1.9.0 in /home/ec2-user/anaconda3/envs/pytorch_p36/lib/python3.6/site-packages (from sagemaker==1.72.0) (1.19.5)\n",
      "Requirement already satisfied: protobuf3-to-dict>=0.1.5 in /home/ec2-user/anaconda3/envs/pytorch_p36/lib/python3.6/site-packages (from sagemaker==1.72.0) (0.1.5)\n",
      "Requirement already satisfied: scipy>=0.19.0 in /home/ec2-user/anaconda3/envs/pytorch_p36/lib/python3.6/site-packages (from sagemaker==1.72.0) (1.5.3)\n",
      "Requirement already satisfied: jmespath<1.0.0,>=0.7.1 in /home/ec2-user/anaconda3/envs/pytorch_p36/lib/python3.6/site-packages (from boto3>=1.14.12->sagemaker==1.72.0) (0.10.0)\n",
      "Requirement already satisfied: s3transfer<0.5.0,>=0.4.0 in /home/ec2-user/anaconda3/envs/pytorch_p36/lib/python3.6/site-packages (from boto3>=1.14.12->sagemaker==1.72.0) (0.4.1)\n",
      "Requirement already satisfied: botocore<1.21.0,>=1.20.55 in /home/ec2-user/anaconda3/envs/pytorch_p36/lib/python3.6/site-packages (from boto3>=1.14.12->sagemaker==1.72.0) (1.20.55)\n",
      "Requirement already satisfied: urllib3<1.27,>=1.25.4 in /home/ec2-user/anaconda3/envs/pytorch_p36/lib/python3.6/site-packages (from botocore<1.21.0,>=1.20.55->boto3>=1.14.12->sagemaker==1.72.0) (1.26.4)\n",
      "Requirement already satisfied: python-dateutil<3.0.0,>=2.1 in /home/ec2-user/anaconda3/envs/pytorch_p36/lib/python3.6/site-packages (from botocore<1.21.0,>=1.20.55->boto3>=1.14.12->sagemaker==1.72.0) (2.8.1)\n",
      "Requirement already satisfied: zipp>=0.5 in /home/ec2-user/anaconda3/envs/pytorch_p36/lib/python3.6/site-packages (from importlib-metadata>=1.4.0->sagemaker==1.72.0) (3.4.0)\n",
      "Requirement already satisfied: typing-extensions>=3.6.4 in /home/ec2-user/anaconda3/envs/pytorch_p36/lib/python3.6/site-packages (from importlib-metadata>=1.4.0->sagemaker==1.72.0) (3.7.4.3)\n",
      "Requirement already satisfied: pyparsing>=2.0.2 in /home/ec2-user/anaconda3/envs/pytorch_p36/lib/python3.6/site-packages (from packaging>=20.0->sagemaker==1.72.0) (2.4.7)\n",
      "Requirement already satisfied: six>=1.9 in /home/ec2-user/anaconda3/envs/pytorch_p36/lib/python3.6/site-packages (from protobuf>=3.1->sagemaker==1.72.0) (1.15.0)\n"
     ]
    }
   ],
   "source": [
    "# Make sure that we use SageMaker 1.x\n",
    "!pip install sagemaker==1.72.0"
   ]
  },
  {
   "cell_type": "markdown",
   "metadata": {},
   "source": [
    "## Step 0: Setting up the notebook\n",
    "\n",
    "We begin by setting up all of the necessary bits required to run our notebook. To start that means loading all of the Python modules we will need."
   ]
  },
  {
   "cell_type": "code",
   "execution_count": 2,
   "metadata": {},
   "outputs": [],
   "source": [
    "%matplotlib inline\n",
    "\n",
    "import os\n",
    "\n",
    "import numpy as np\n",
    "import pandas as pd\n",
    "\n",
    "import matplotlib.pyplot as plt\n",
    "\n",
    "from sklearn.datasets import load_boston\n",
    "import sklearn.model_selection"
   ]
  },
  {
   "cell_type": "markdown",
   "metadata": {},
   "source": [
    "In addition to the modules above, we need to import the various bits of SageMaker that we will be using. "
   ]
  },
  {
   "cell_type": "code",
   "execution_count": 3,
   "metadata": {},
   "outputs": [],
   "source": [
    "import sagemaker\n",
    "from sagemaker import get_execution_role\n",
    "from sagemaker.amazon.amazon_estimator import get_image_uri\n",
    "from sagemaker.predictor import csv_serializer\n",
    "\n",
    "# This is an object that represents the SageMaker session that we are currently operating in. This\n",
    "# object contains some useful information that we will need to access later such as our region.\n",
    "session = sagemaker.Session()\n",
    "\n",
    "# This is an object that represents the IAM role that we are currently assigned. When we construct\n",
    "# and launch the training job later we will need to tell it what IAM role it should have. Since our\n",
    "# use case is relatively simple we will simply assign the training job the role we currently have.\n",
    "role = get_execution_role()"
   ]
  },
  {
   "cell_type": "markdown",
   "metadata": {},
   "source": [
    "## Step 1: Downloading the data\n",
    "\n",
    "Fortunately, this dataset can be retrieved using sklearn and so this step is relatively straightforward."
   ]
  },
  {
   "cell_type": "code",
   "execution_count": 4,
   "metadata": {},
   "outputs": [],
   "source": [
    "boston = load_boston()"
   ]
  },
  {
   "cell_type": "markdown",
   "metadata": {},
   "source": [
    "## Step 2: Preparing and splitting the data\n",
    "\n",
    "Given that this is clean tabular data, we don't need to do any processing. However, we do need to split the rows in the dataset up into train, test and validation sets."
   ]
  },
  {
   "cell_type": "code",
   "execution_count": 5,
   "metadata": {},
   "outputs": [],
   "source": [
    "# First we package up the input data and the target variable (the median value) as pandas dataframes. This\n",
    "# will make saving the data to a file a little easier later on.\n",
    "\n",
    "X_bos_pd = pd.DataFrame(boston.data, columns=boston.feature_names)\n",
    "Y_bos_pd = pd.DataFrame(boston.target)\n",
    "\n",
    "# We split the dataset into 2/3 training and 1/3 testing sets.\n",
    "X_train, X_test, Y_train, Y_test = sklearn.model_selection.train_test_split(X_bos_pd, Y_bos_pd, test_size=0.33)\n",
    "\n",
    "# Then we split the training set further into 2/3 training and 1/3 validation sets.\n",
    "X_train, X_val, Y_train, Y_val = sklearn.model_selection.train_test_split(X_train, Y_train, test_size=0.33)"
   ]
  },
  {
   "cell_type": "markdown",
   "metadata": {},
   "source": [
    "## Step 3: Uploading the data files to S3\n",
    "\n",
    "When a training job is constructed using SageMaker, a container is executed which performs the training operation. This container is given access to data that is stored in S3. This means that we need to upload the data we want to use for training to S3. In addition, when we perform a batch transform job, SageMaker expects the input data to be stored on S3. We can use the SageMaker API to do this and hide some of the details.\n",
    "\n",
    "### Save the data locally\n",
    "\n",
    "First we need to create the test, train and validation csv files which we will then upload to S3."
   ]
  },
  {
   "cell_type": "code",
   "execution_count": 6,
   "metadata": {},
   "outputs": [],
   "source": [
    "# This is our local data directory. We need to make sure that it exists.\n",
    "data_dir = '../data/boston'\n",
    "if not os.path.exists(data_dir):\n",
    "    os.makedirs(data_dir)"
   ]
  },
  {
   "cell_type": "code",
   "execution_count": 7,
   "metadata": {},
   "outputs": [],
   "source": [
    "# We use pandas to save our test, train and validation data to csv files. Note that we make sure not to include header\n",
    "# information or an index as this is required by the built in algorithms provided by Amazon. Also, for the train and\n",
    "# validation data, it is assumed that the first entry in each row is the target variable.\n",
    "\n",
    "X_test.to_csv(os.path.join(data_dir, 'test.csv'), header=False, index=False)\n",
    "\n",
    "pd.concat([Y_val, X_val], axis=1).to_csv(os.path.join(data_dir, 'validation.csv'), header=False, index=False)\n",
    "pd.concat([Y_train, X_train], axis=1).to_csv(os.path.join(data_dir, 'train.csv'), header=False, index=False)"
   ]
  },
  {
   "cell_type": "markdown",
   "metadata": {},
   "source": [
    "### Upload to S3\n",
    "\n",
    "Since we are currently running inside of a SageMaker session, we can use the object which represents this session to upload our data to the 'default' S3 bucket. Note that it is good practice to provide a custom prefix (essentially an S3 folder) to make sure that you don't accidentally interfere with data uploaded from some other notebook or project."
   ]
  },
  {
   "cell_type": "code",
   "execution_count": 8,
   "metadata": {},
   "outputs": [],
   "source": [
    "prefix = 'boston-xgboost-tuning-HL'\n",
    "\n",
    "test_location = session.upload_data(os.path.join(data_dir, 'test.csv'), key_prefix=prefix)\n",
    "val_location = session.upload_data(os.path.join(data_dir, 'validation.csv'), key_prefix=prefix)\n",
    "train_location = session.upload_data(os.path.join(data_dir, 'train.csv'), key_prefix=prefix)"
   ]
  },
  {
   "cell_type": "markdown",
   "metadata": {},
   "source": [
    "## Step 4: Train the XGBoost model\n",
    "\n",
    "Now that we have the training and validation data uploaded to S3, we can construct our XGBoost model and train it. Unlike in the previous notebooks, instead of training a single model, we will use SageMaker's hyperparameter tuning functionality to train multiple models and use the one that performs the best on the validation set.\n",
    "\n",
    "To begin with, as in the previous approaches, we will need to construct an estimator object."
   ]
  },
  {
   "cell_type": "code",
   "execution_count": 9,
   "metadata": {},
   "outputs": [
    {
     "name": "stderr",
     "output_type": "stream",
     "text": [
      "'get_image_uri' method will be deprecated in favor of 'ImageURIProvider' class in SageMaker Python SDK v2.\n",
      "There is a more up to date SageMaker XGBoost image. To use the newer image, please set 'repo_version'='1.0-1'. For example:\n",
      "\tget_image_uri(region, 'xgboost', '1.0-1').\n",
      "Parameter image_name will be renamed to image_uri in SageMaker Python SDK v2.\n"
     ]
    }
   ],
   "source": [
    "# As stated above, we use this utility method to construct the image name for the training container.\n",
    "container = get_image_uri(session.boto_region_name, 'xgboost')\n",
    "\n",
    "# Now that we know which container to use, we can construct the estimator object.\n",
    "xgb = sagemaker.estimator.Estimator(container, # The name of the training container\n",
    "                                    role,      # The IAM role to use (our current role in this case)\n",
    "                                    train_instance_count=1, # The number of instances to use for training\n",
    "                                    train_instance_type='ml.m4.xlarge', # The type of instance ot use for training\n",
    "                                    output_path='s3://{}/{}/output'.format(session.default_bucket(), prefix),\n",
    "                                                                        # Where to save the output (the model artifacts)\n",
    "                                    sagemaker_session=session) # The current SageMaker session"
   ]
  },
  {
   "cell_type": "markdown",
   "metadata": {},
   "source": [
    "Before beginning the hyperparameter tuning, we should make sure to set any model specific hyperparameters that we wish to have default values. There are quite a few that can be set when using the XGBoost algorithm, below are just a few of them. If you would like to change the hyperparameters below or modify additional ones you can find additional information on the [XGBoost hyperparameter page](https://docs.aws.amazon.com/sagemaker/latest/dg/xgboost_hyperparameters.html)"
   ]
  },
  {
   "cell_type": "code",
   "execution_count": 10,
   "metadata": {},
   "outputs": [],
   "source": [
    "xgb.set_hyperparameters(max_depth=5,\n",
    "                        eta=0.2,\n",
    "                        gamma=4,\n",
    "                        min_child_weight=6,\n",
    "                        subsample=0.8,\n",
    "                        objective='reg:linear',\n",
    "                        early_stopping_rounds=10,\n",
    "                        num_round=200)"
   ]
  },
  {
   "cell_type": "markdown",
   "metadata": {},
   "source": [
    "Now that we have our estimator object completely set up, it is time to create the hyperparameter tuner. To do this we need to construct a new object which contains each of the parameters we want SageMaker to tune. In this case, we wish to find the best values for the `max_depth`, `eta`, `min_child_weight`, `subsample`, and `gamma` parameters. Note that for each parameter that we want SageMaker to tune we need to specify both the *type* of the parameter and the *range* of values that parameter may take on.\n",
    "\n",
    "In addition, we specify the *number* of models to construct (`max_jobs`) and the number of those that can be trained in parallel (`max_parallel_jobs`). In the cell below we have chosen to train `20` models, of which we ask that SageMaker train `3` at a time in parallel. Note that this results in a total of `20` training jobs being executed which can take some time, in this case almost a half hour. With more complicated models this can take even longer so be aware!"
   ]
  },
  {
   "cell_type": "code",
   "execution_count": 11,
   "metadata": {},
   "outputs": [],
   "source": [
    "from sagemaker.tuner import IntegerParameter, ContinuousParameter, HyperparameterTuner\n",
    "\n",
    "xgb_hyperparameter_tuner = HyperparameterTuner(estimator = xgb, # The estimator object to use as the basis for the training jobs.\n",
    "                                               objective_metric_name = 'validation:rmse', # The metric used to compare trained models.\n",
    "                                               objective_type = 'Minimize', # Whether we wish to minimize or maximize the metric.\n",
    "                                               max_jobs = 20, # The total number of models to train\n",
    "                                               max_parallel_jobs = 3, # The number of models to train in parallel\n",
    "                                               hyperparameter_ranges = {\n",
    "                                                    'max_depth': IntegerParameter(3, 12),\n",
    "                                                    'eta'      : ContinuousParameter(0.05, 0.5),\n",
    "                                                    'min_child_weight': IntegerParameter(2, 8),\n",
    "                                                    'subsample': ContinuousParameter(0.5, 0.9),\n",
    "                                                    'gamma': ContinuousParameter(0, 10),\n",
    "                                               })"
   ]
  },
  {
   "cell_type": "markdown",
   "metadata": {},
   "source": [
    "Now that we have our hyperparameter tuner object completely set up, it is time to train it. To do this we make sure that SageMaker knows our input data is in csv format and then execute the `fit` method."
   ]
  },
  {
   "cell_type": "code",
   "execution_count": 12,
   "metadata": {},
   "outputs": [
    {
     "name": "stderr",
     "output_type": "stream",
     "text": [
      "'s3_input' class will be renamed to 'TrainingInput' in SageMaker Python SDK v2.\n",
      "'s3_input' class will be renamed to 'TrainingInput' in SageMaker Python SDK v2.\n"
     ]
    }
   ],
   "source": [
    "# This is a wrapper around the location of our train and validation data, to make sure that SageMaker\n",
    "# knows our data is in csv format.\n",
    "s3_input_train = sagemaker.s3_input(s3_data=train_location, content_type='csv')\n",
    "s3_input_validation = sagemaker.s3_input(s3_data=val_location, content_type='csv')\n",
    "\n",
    "xgb_hyperparameter_tuner.fit({'train': s3_input_train, 'validation': s3_input_validation})"
   ]
  },
  {
   "cell_type": "markdown",
   "metadata": {},
   "source": [
    "As in many of the examples we have seen so far, the `fit()` method takes care of setting up and fitting a number of different models, each with different hyperparameters. If we wish to wait for this process to finish, we can call the `wait()` method."
   ]
  },
  {
   "cell_type": "code",
   "execution_count": 13,
   "metadata": {},
   "outputs": [
    {
     "name": "stdout",
     "output_type": "stream",
     "text": [
      "...........................................................................................................................................................................................................................................................................................................................................!\n"
     ]
    }
   ],
   "source": [
    "xgb_hyperparameter_tuner.wait()"
   ]
  },
  {
   "cell_type": "markdown",
   "metadata": {},
   "source": [
    "Once the hyperamater tuner has finished, we can retrieve information about the best performing model. "
   ]
  },
  {
   "cell_type": "code",
   "execution_count": 14,
   "metadata": {},
   "outputs": [
    {
     "data": {
      "text/plain": [
       "'xgboost-210502-2308-002-1857b15a'"
      ]
     },
     "execution_count": 14,
     "metadata": {},
     "output_type": "execute_result"
    }
   ],
   "source": [
    "xgb_hyperparameter_tuner.best_training_job()"
   ]
  },
  {
   "cell_type": "markdown",
   "metadata": {},
   "source": [
    "In addition, since we'd like to set up a batch transform job to test the best model, we can construct a new estimator object from the results of the best training job. The `xgb_attached` object below can now be used as though we constructed an estimator with the best performing hyperparameters and then fit it to our training data."
   ]
  },
  {
   "cell_type": "code",
   "execution_count": 15,
   "metadata": {},
   "outputs": [
    {
     "name": "stderr",
     "output_type": "stream",
     "text": [
      "Parameter image_name will be renamed to image_uri in SageMaker Python SDK v2.\n"
     ]
    },
    {
     "name": "stdout",
     "output_type": "stream",
     "text": [
      "2021-05-02 23:11:51 Starting - Preparing the instances for training\n",
      "2021-05-02 23:11:51 Downloading - Downloading input data\n",
      "2021-05-02 23:11:51 Training - Training image download completed. Training in progress.\n",
      "2021-05-02 23:11:51 Uploading - Uploading generated training model\n",
      "2021-05-02 23:11:51 Completed - Training job completed\u001b[34mArguments: train\u001b[0m\n",
      "\u001b[34m[2021-05-02:23:11:40:INFO] Running standalone xgboost training.\u001b[0m\n",
      "\u001b[34m[2021-05-02:23:11:40:INFO] Setting up HPO optimized metric to be : rmse\u001b[0m\n",
      "\u001b[34m[2021-05-02:23:11:40:INFO] File size need to be processed in the node: 0.02mb. Available memory size in the node: 8410.72mb\u001b[0m\n",
      "\u001b[34m[2021-05-02:23:11:40:INFO] Determined delimiter of CSV input is ','\u001b[0m\n",
      "\u001b[34m[23:11:40] S3DistributionType set as FullyReplicated\u001b[0m\n",
      "\u001b[34m[23:11:40] 227x13 matrix with 2951 entries loaded from /opt/ml/input/data/train?format=csv&label_column=0&delimiter=,\u001b[0m\n",
      "\u001b[34m[2021-05-02:23:11:40:INFO] Determined delimiter of CSV input is ','\u001b[0m\n",
      "\u001b[34m[23:11:40] S3DistributionType set as FullyReplicated\u001b[0m\n",
      "\u001b[34m[23:11:40] 112x13 matrix with 1456 entries loaded from /opt/ml/input/data/validation?format=csv&label_column=0&delimiter=,\u001b[0m\n",
      "\u001b[34m[23:11:40] src/tree/updater_prune.cc:74: tree pruning end, 1 roots, 8 extra nodes, 0 pruned nodes, max_depth=3\u001b[0m\n",
      "\u001b[34m[0]#011train-rmse:22.0686#011validation-rmse:23.1615\u001b[0m\n",
      "\u001b[34mMultiple eval metrics have been passed: 'validation-rmse' will be used for early stopping.\n",
      "\u001b[0m\n",
      "\u001b[34mWill train until validation-rmse hasn't improved in 10 rounds.\u001b[0m\n",
      "\u001b[34m[23:11:40] src/tree/updater_prune.cc:74: tree pruning end, 1 roots, 10 extra nodes, 0 pruned nodes, max_depth=3\u001b[0m\n",
      "\u001b[34m[1]#011train-rmse:20.528#011validation-rmse:21.6579\u001b[0m\n",
      "\u001b[34m[23:11:40] src/tree/updater_prune.cc:74: tree pruning end, 1 roots, 8 extra nodes, 0 pruned nodes, max_depth=3\u001b[0m\n",
      "\u001b[34m[2]#011train-rmse:19.1039#011validation-rmse:20.2602\u001b[0m\n",
      "\u001b[34m[23:11:40] src/tree/updater_prune.cc:74: tree pruning end, 1 roots, 10 extra nodes, 0 pruned nodes, max_depth=4\u001b[0m\n",
      "\u001b[34m[3]#011train-rmse:17.7961#011validation-rmse:18.9651\u001b[0m\n",
      "\u001b[34m[23:11:40] src/tree/updater_prune.cc:74: tree pruning end, 1 roots, 10 extra nodes, 0 pruned nodes, max_depth=4\u001b[0m\n",
      "\u001b[34m[23:11:40] src/tree/updater_prune.cc:74: tree pruning end, 1 roots, 14 extra nodes, 0 pruned nodes, max_depth=4\u001b[0m\n",
      "\u001b[34m[4]#011train-rmse:16.5897#011validation-rmse:17.7753\u001b[0m\n",
      "\u001b[34m[5]#011train-rmse:15.4726#011validation-rmse:16.7325\u001b[0m\n",
      "\u001b[34m[6]#011train-rmse:14.4281#011validation-rmse:15.6948\u001b[0m\n",
      "\u001b[34m[23:11:40] src/tree/updater_prune.cc:74: tree pruning end, 1 roots, 10 extra nodes, 0 pruned nodes, max_depth=4\u001b[0m\n",
      "\u001b[34m[7]#011train-rmse:13.4664#011validation-rmse:14.7342\u001b[0m\n",
      "\u001b[34m[23:11:40] src/tree/updater_prune.cc:74: tree pruning end, 1 roots, 14 extra nodes, 0 pruned nodes, max_depth=4\u001b[0m\n",
      "\u001b[34m[23:11:40] src/tree/updater_prune.cc:74: tree pruning end, 1 roots, 12 extra nodes, 0 pruned nodes, max_depth=4\u001b[0m\n",
      "\u001b[34m[8]#011train-rmse:12.55#011validation-rmse:13.8145\u001b[0m\n",
      "\u001b[34m[9]#011train-rmse:11.7179#011validation-rmse:13.0208\u001b[0m\n",
      "\u001b[34m[23:11:40] src/tree/updater_prune.cc:74: tree pruning end, 1 roots, 14 extra nodes, 0 pruned nodes, max_depth=5\u001b[0m\n",
      "\u001b[34m[23:11:40] src/tree/updater_prune.cc:74: tree pruning end, 1 roots, 12 extra nodes, 0 pruned nodes, max_depth=4\u001b[0m\n",
      "\u001b[34m[10]#011train-rmse:10.9683#011validation-rmse:12.2868\u001b[0m\n",
      "\u001b[34m[23:11:40] src/tree/updater_prune.cc:74: tree pruning end, 1 roots, 20 extra nodes, 0 pruned nodes, max_depth=5\u001b[0m\n",
      "\u001b[34m[11]#011train-rmse:10.2691#011validation-rmse:11.5882\u001b[0m\n",
      "\u001b[34m[23:11:40] src/tree/updater_prune.cc:74: tree pruning end, 1 roots, 26 extra nodes, 0 pruned nodes, max_depth=6\u001b[0m\n",
      "\u001b[34m[12]#011train-rmse:9.61125#011validation-rmse:10.9416\u001b[0m\n",
      "\u001b[34m[23:11:40] src/tree/updater_prune.cc:74: tree pruning end, 1 roots, 22 extra nodes, 0 pruned nodes, max_depth=5\u001b[0m\n",
      "\u001b[34m[13]#011train-rmse:8.99185#011validation-rmse:10.3287\u001b[0m\n",
      "\u001b[34m[14]#011train-rmse:8.41668#011validation-rmse:9.77243\u001b[0m\n",
      "\u001b[34m[15]#011train-rmse:7.89835#011validation-rmse:9.24728\u001b[0m\n",
      "\u001b[34m[16]#011train-rmse:7.40754#011validation-rmse:8.77802\u001b[0m\n",
      "\u001b[34m[17]#011train-rmse:6.96302#011validation-rmse:8.34763\u001b[0m\n",
      "\u001b[34m[18]#011train-rmse:6.52626#011validation-rmse:7.89808\u001b[0m\n",
      "\u001b[34m[19]#011train-rmse:6.12787#011validation-rmse:7.49679\u001b[0m\n",
      "\u001b[34m[20]#011train-rmse:5.764#011validation-rmse:7.15031\u001b[0m\n",
      "\u001b[34m[21]#011train-rmse:5.42656#011validation-rmse:6.8423\u001b[0m\n",
      "\u001b[34m[22]#011train-rmse:5.11453#011validation-rmse:6.57121\u001b[0m\n",
      "\u001b[34m[23:11:40] src/tree/updater_prune.cc:74: tree pruning end, 1 roots, 20 extra nodes, 0 pruned nodes, max_depth=6\u001b[0m\n",
      "\u001b[34m[23:11:40] src/tree/updater_prune.cc:74: tree pruning end, 1 roots, 14 extra nodes, 0 pruned nodes, max_depth=4\u001b[0m\n",
      "\u001b[34m[23:11:40] src/tree/updater_prune.cc:74: tree pruning end, 1 roots, 24 extra nodes, 0 pruned nodes, max_depth=7\u001b[0m\n",
      "\u001b[34m[23:11:40] src/tree/updater_prune.cc:74: tree pruning end, 1 roots, 26 extra nodes, 0 pruned nodes, max_depth=6\u001b[0m\n",
      "\u001b[34m[23:11:40] src/tree/updater_prune.cc:74: tree pruning end, 1 roots, 26 extra nodes, 0 pruned nodes, max_depth=7\u001b[0m\n",
      "\u001b[34m[23:11:40] src/tree/updater_prune.cc:74: tree pruning end, 1 roots, 40 extra nodes, 0 pruned nodes, max_depth=9\u001b[0m\n",
      "\u001b[34m[23:11:40] src/tree/updater_prune.cc:74: tree pruning end, 1 roots, 40 extra nodes, 2 pruned nodes, max_depth=8\u001b[0m\n",
      "\u001b[34m[23:11:40] src/tree/updater_prune.cc:74: tree pruning end, 1 roots, 36 extra nodes, 6 pruned nodes, max_depth=7\u001b[0m\n",
      "\u001b[34m[23:11:40] src/tree/updater_prune.cc:74: tree pruning end, 1 roots, 48 extra nodes, 0 pruned nodes, max_depth=11\u001b[0m\n",
      "\u001b[34m[23]#011train-rmse:4.83011#011validation-rmse:6.31578\u001b[0m\n",
      "\u001b[34m[23:11:40] src/tree/updater_prune.cc:74: tree pruning end, 1 roots, 48 extra nodes, 2 pruned nodes, max_depth=11\u001b[0m\n",
      "\u001b[34m[23:11:40] src/tree/updater_prune.cc:74: tree pruning end, 1 roots, 36 extra nodes, 0 pruned nodes, max_depth=7\u001b[0m\n",
      "\u001b[34m[24]#011train-rmse:4.54821#011validation-rmse:6.05225\u001b[0m\n",
      "\u001b[34m[23:11:40] src/tree/updater_prune.cc:74: tree pruning end, 1 roots, 54 extra nodes, 0 pruned nodes, max_depth=11\u001b[0m\n",
      "\u001b[34m[25]#011train-rmse:4.28802#011validation-rmse:5.819\u001b[0m\n",
      "\u001b[34m[23:11:40] src/tree/updater_prune.cc:74: tree pruning end, 1 roots, 38 extra nodes, 2 pruned nodes, max_depth=8\u001b[0m\n",
      "\u001b[34m[26]#011train-rmse:4.04434#011validation-rmse:5.61586\u001b[0m\n",
      "\u001b[34m[27]#011train-rmse:3.81598#011validation-rmse:5.42767\u001b[0m\n",
      "\u001b[34m[23:11:40] src/tree/updater_prune.cc:74: tree pruning end, 1 roots, 52 extra nodes, 0 pruned nodes, max_depth=11\u001b[0m\n",
      "\u001b[34m[23:11:40] src/tree/updater_prune.cc:74: tree pruning end, 1 roots, 60 extra nodes, 4 pruned nodes, max_depth=10\u001b[0m\n",
      "\u001b[34m[23:11:40] src/tree/updater_prune.cc:74: tree pruning end, 1 roots, 66 extra nodes, 6 pruned nodes, max_depth=10\u001b[0m\n",
      "\u001b[34m[28]#011train-rmse:3.5977#011validation-rmse:5.23265\u001b[0m\n",
      "\u001b[34m[29]#011train-rmse:3.39769#011validation-rmse:5.06318\u001b[0m\n",
      "\u001b[34m[23:11:40] src/tree/updater_prune.cc:74: tree pruning end, 1 roots, 68 extra nodes, 2 pruned nodes, max_depth=12\u001b[0m\n",
      "\u001b[34m[30]#011train-rmse:3.20942#011validation-rmse:4.9406\u001b[0m\n",
      "\u001b[34m[23:11:40] src/tree/updater_prune.cc:74: tree pruning end, 1 roots, 68 extra nodes, 0 pruned nodes, max_depth=12\u001b[0m\n",
      "\u001b[34m[31]#011train-rmse:3.03624#011validation-rmse:4.83242\u001b[0m\n",
      "\u001b[34m[32]#011train-rmse:2.87877#011validation-rmse:4.71645\u001b[0m\n",
      "\u001b[34m[33]#011train-rmse:2.71837#011validation-rmse:4.59283\u001b[0m\n",
      "\u001b[34m[23:11:40] src/tree/updater_prune.cc:74: tree pruning end, 1 roots, 62 extra nodes, 2 pruned nodes, max_depth=12\u001b[0m\n",
      "\u001b[34m[23:11:40] src/tree/updater_prune.cc:74: tree pruning end, 1 roots, 72 extra nodes, 4 pruned nodes, max_depth=9\u001b[0m\n",
      "\u001b[34m[34]#011train-rmse:2.56642#011validation-rmse:4.49938\u001b[0m\n",
      "\u001b[34m[23:11:40] src/tree/updater_prune.cc:74: tree pruning end, 1 roots, 76 extra nodes, 8 pruned nodes, max_depth=11\u001b[0m\n",
      "\u001b[34m[23:11:40] src/tree/updater_prune.cc:74: tree pruning end, 1 roots, 86 extra nodes, 4 pruned nodes, max_depth=12\u001b[0m\n",
      "\u001b[34m[23:11:40] src/tree/updater_prune.cc:74: tree pruning end, 1 roots, 94 extra nodes, 10 pruned nodes, max_depth=11\u001b[0m\n",
      "\u001b[34m[35]#011train-rmse:2.43553#011validation-rmse:4.41393\u001b[0m\n",
      "\u001b[34m[36]#011train-rmse:2.3055#011validation-rmse:4.34563\u001b[0m\n",
      "\u001b[34m[23:11:40] src/tree/updater_prune.cc:74: tree pruning end, 1 roots, 82 extra nodes, 8 pruned nodes, max_depth=10\u001b[0m\n",
      "\u001b[34m[23:11:40] src/tree/updater_prune.cc:74: tree pruning end, 1 roots, 68 extra nodes, 2 pruned nodes, max_depth=12\u001b[0m\n",
      "\u001b[34m[37]#011train-rmse:2.18454#011validation-rmse:4.27441\u001b[0m\n",
      "\u001b[34m[38]#011train-rmse:2.07465#011validation-rmse:4.21995\u001b[0m\n",
      "\u001b[34m[23:11:40] src/tree/updater_prune.cc:74: tree pruning end, 1 roots, 98 extra nodes, 6 pruned nodes, max_depth=11\u001b[0m\n",
      "\u001b[34m[39]#011train-rmse:1.97219#011validation-rmse:4.17893\u001b[0m\n",
      "\u001b[34m[23:11:40] src/tree/updater_prune.cc:74: tree pruning end, 1 roots, 84 extra nodes, 10 pruned nodes, max_depth=11\u001b[0m\n",
      "\u001b[34m[23:11:40] src/tree/updater_prune.cc:74: tree pruning end, 1 roots, 82 extra nodes, 6 pruned nodes, max_depth=12\u001b[0m\n",
      "\u001b[34m[40]#011train-rmse:1.87658#011validation-rmse:4.11157\u001b[0m\n",
      "\u001b[34m[41]#011train-rmse:1.78119#011validation-rmse:4.05384\u001b[0m\n",
      "\u001b[34m[23:11:40] src/tree/updater_prune.cc:74: tree pruning end, 1 roots, 82 extra nodes, 12 pruned nodes, max_depth=12\u001b[0m\n",
      "\u001b[34m[42]#011train-rmse:1.69816#011validation-rmse:4.00822\u001b[0m\n",
      "\u001b[34m[23:11:40] src/tree/updater_prune.cc:74: tree pruning end, 1 roots, 88 extra nodes, 8 pruned nodes, max_depth=12\u001b[0m\n",
      "\u001b[34m[43]#011train-rmse:1.61565#011validation-rmse:3.95469\u001b[0m\n",
      "\u001b[34m[23:11:40] src/tree/updater_prune.cc:74: tree pruning end, 1 roots, 94 extra nodes, 12 pruned nodes, max_depth=12\u001b[0m\n",
      "\u001b[34m[44]#011train-rmse:1.5403#011validation-rmse:3.91702\u001b[0m\n",
      "\u001b[34m[23:11:40] src/tree/updater_prune.cc:74: tree pruning end, 1 roots, 88 extra nodes, 10 pruned nodes, max_depth=12\u001b[0m\n",
      "\u001b[34m[45]#011train-rmse:1.46546#011validation-rmse:3.8894\u001b[0m\n",
      "\u001b[34m[23:11:40] src/tree/updater_prune.cc:74: tree pruning end, 1 roots, 92 extra nodes, 26 pruned nodes, max_depth=10\u001b[0m\n",
      "\u001b[34m[46]#011train-rmse:1.39905#011validation-rmse:3.86016\u001b[0m\n",
      "\u001b[34m[23:11:40] src/tree/updater_prune.cc:74: tree pruning end, 1 roots, 76 extra nodes, 4 pruned nodes, max_depth=12\u001b[0m\n",
      "\u001b[34m[47]#011train-rmse:1.33662#011validation-rmse:3.82839\u001b[0m\n",
      "\u001b[34m[23:11:40] src/tree/updater_prune.cc:74: tree pruning end, 1 roots, 96 extra nodes, 24 pruned nodes, max_depth=12\u001b[0m\n",
      "\u001b[34m[48]#011train-rmse:1.27496#011validation-rmse:3.80639\u001b[0m\n",
      "\u001b[34m[23:11:40] src/tree/updater_prune.cc:74: tree pruning end, 1 roots, 84 extra nodes, 32 pruned nodes, max_depth=12\u001b[0m\n",
      "\u001b[34m[49]#011train-rmse:1.22368#011validation-rmse:3.79081\u001b[0m\n",
      "\u001b[34m[23:11:40] src/tree/updater_prune.cc:74: tree pruning end, 1 roots, 90 extra nodes, 24 pruned nodes, max_depth=12\u001b[0m\n",
      "\u001b[34m[50]#011train-rmse:1.17088#011validation-rmse:3.77548\u001b[0m\n",
      "\u001b[34m[23:11:40] src/tree/updater_prune.cc:74: tree pruning end, 1 roots, 96 extra nodes, 12 pruned nodes, max_depth=12\u001b[0m\n",
      "\u001b[34m[51]#011train-rmse:1.12361#011validation-rmse:3.74885\u001b[0m\n",
      "\u001b[34m[23:11:40] src/tree/updater_prune.cc:74: tree pruning end, 1 roots, 90 extra nodes, 26 pruned nodes, max_depth=11\u001b[0m\n",
      "\u001b[34m[52]#011train-rmse:1.07371#011validation-rmse:3.71932\u001b[0m\n",
      "\u001b[34m[23:11:40] src/tree/updater_prune.cc:74: tree pruning end, 1 roots, 98 extra nodes, 32 pruned nodes, max_depth=11\u001b[0m\n",
      "\u001b[34m[53]#011train-rmse:1.02563#011validation-rmse:3.70037\u001b[0m\n",
      "\u001b[34m[23:11:40] src/tree/updater_prune.cc:74: tree pruning end, 1 roots, 92 extra nodes, 6 pruned nodes, max_depth=12\u001b[0m\n",
      "\u001b[34m[54]#011train-rmse:0.978566#011validation-rmse:3.68069\u001b[0m\n",
      "\u001b[34m[23:11:40] src/tree/updater_prune.cc:74: tree pruning end, 1 roots, 84 extra nodes, 32 pruned nodes, max_depth=11\u001b[0m\n",
      "\u001b[34m[55]#011train-rmse:0.938774#011validation-rmse:3.66385\u001b[0m\n",
      "\u001b[34m[23:11:40] src/tree/updater_prune.cc:74: tree pruning end, 1 roots, 96 extra nodes, 28 pruned nodes, max_depth=12\u001b[0m\n",
      "\u001b[34m[56]#011train-rmse:0.895549#011validation-rmse:3.64104\u001b[0m\n",
      "\u001b[34m[23:11:40] src/tree/updater_prune.cc:74: tree pruning end, 1 roots, 86 extra nodes, 32 pruned nodes, max_depth=12\u001b[0m\n",
      "\u001b[34m[57]#011train-rmse:0.860355#011validation-rmse:3.62378\u001b[0m\n",
      "\u001b[34m[23:11:40] src/tree/updater_prune.cc:74: tree pruning end, 1 roots, 90 extra nodes, 32 pruned nodes, max_depth=12\u001b[0m\n",
      "\u001b[34m[58]#011train-rmse:0.822745#011validation-rmse:3.61418\u001b[0m\n",
      "\u001b[34m[23:11:40] src/tree/updater_prune.cc:74: tree pruning end, 1 roots, 82 extra nodes, 48 pruned nodes, max_depth=12\u001b[0m\n",
      "\u001b[34m[59]#011train-rmse:0.789589#011validation-rmse:3.5992\u001b[0m\n",
      "\u001b[34m[23:11:40] src/tree/updater_prune.cc:74: tree pruning end, 1 roots, 82 extra nodes, 40 pruned nodes, max_depth=12\u001b[0m\n",
      "\u001b[34m[60]#011train-rmse:0.753892#011validation-rmse:3.58399\u001b[0m\n",
      "\u001b[34m[23:11:40] src/tree/updater_prune.cc:74: tree pruning end, 1 roots, 82 extra nodes, 18 pruned nodes, max_depth=12\u001b[0m\n",
      "\u001b[34m[61]#011train-rmse:0.724401#011validation-rmse:3.57687\u001b[0m\n",
      "\u001b[34m[23:11:40] src/tree/updater_prune.cc:74: tree pruning end, 1 roots, 84 extra nodes, 66 pruned nodes, max_depth=11\u001b[0m\n",
      "\u001b[34m[62]#011train-rmse:0.694585#011validation-rmse:3.5699\u001b[0m\n",
      "\u001b[34m[23:11:40] src/tree/updater_prune.cc:74: tree pruning end, 1 roots, 82 extra nodes, 58 pruned nodes, max_depth=11\u001b[0m\n",
      "\u001b[34m[63]#011train-rmse:0.66567#011validation-rmse:3.55682\u001b[0m\n",
      "\u001b[34m[23:11:40] src/tree/updater_prune.cc:74: tree pruning end, 1 roots, 66 extra nodes, 28 pruned nodes, max_depth=12\u001b[0m\n",
      "\u001b[34m[64]#011train-rmse:0.641845#011validation-rmse:3.54543\u001b[0m\n",
      "\u001b[34m[23:11:40] src/tree/updater_prune.cc:74: tree pruning end, 1 roots, 74 extra nodes, 42 pruned nodes, max_depth=12\u001b[0m\n",
      "\u001b[34m[65]#011train-rmse:0.616617#011validation-rmse:3.53929\u001b[0m\n",
      "\u001b[34m[23:11:40] src/tree/updater_prune.cc:74: tree pruning end, 1 roots, 78 extra nodes, 58 pruned nodes, max_depth=10\u001b[0m\n",
      "\u001b[34m[66]#011train-rmse:0.594779#011validation-rmse:3.53476\u001b[0m\n",
      "\u001b[34m[23:11:40] src/tree/updater_prune.cc:74: tree pruning end, 1 roots, 66 extra nodes, 56 pruned nodes, max_depth=11\u001b[0m\n",
      "\u001b[34m[67]#011train-rmse:0.578291#011validation-rmse:3.52718\u001b[0m\n",
      "\u001b[34m[23:11:40] src/tree/updater_prune.cc:74: tree pruning end, 1 roots, 72 extra nodes, 58 pruned nodes, max_depth=12\u001b[0m\n",
      "\u001b[34m[68]#011train-rmse:0.559376#011validation-rmse:3.52658\u001b[0m\n",
      "\u001b[34m[23:11:40] src/tree/updater_prune.cc:74: tree pruning end, 1 roots, 62 extra nodes, 62 pruned nodes, max_depth=11\u001b[0m\n",
      "\u001b[34m[69]#011train-rmse:0.536285#011validation-rmse:3.5166\u001b[0m\n",
      "\u001b[34m[23:11:40] src/tree/updater_prune.cc:74: tree pruning end, 1 roots, 66 extra nodes, 50 pruned nodes, max_depth=12\u001b[0m\n",
      "\u001b[34m[70]#011train-rmse:0.518094#011validation-rmse:3.50794\u001b[0m\n",
      "\u001b[34m[23:11:40] src/tree/updater_prune.cc:74: tree pruning end, 1 roots, 74 extra nodes, 64 pruned nodes, max_depth=11\u001b[0m\n",
      "\u001b[34m[71]#011train-rmse:0.49622#011validation-rmse:3.50116\u001b[0m\n",
      "\u001b[34m[72]#011train-rmse:0.477344#011validation-rmse:3.49188\u001b[0m\n",
      "\u001b[34m[23:11:40] src/tree/updater_prune.cc:74: tree pruning end, 1 roots, 60 extra nodes, 54 pruned nodes, max_depth=12\u001b[0m\n",
      "\u001b[34m[23:11:40] src/tree/updater_prune.cc:74: tree pruning end, 1 roots, 64 extra nodes, 50 pruned nodes, max_depth=12\u001b[0m\n",
      "\u001b[34m[73]#011train-rmse:0.459425#011validation-rmse:3.48502\u001b[0m\n",
      "\u001b[34m[23:11:40] src/tree/updater_prune.cc:74: tree pruning end, 1 roots, 60 extra nodes, 64 pruned nodes, max_depth=12\u001b[0m\n",
      "\u001b[34m[74]#011train-rmse:0.448554#011validation-rmse:3.48119\u001b[0m\n",
      "\u001b[34m[23:11:40] src/tree/updater_prune.cc:74: tree pruning end, 1 roots, 56 extra nodes, 72 pruned nodes, max_depth=10\u001b[0m\n",
      "\u001b[34m[75]#011train-rmse:0.431189#011validation-rmse:3.47539\u001b[0m\n",
      "\u001b[34m[23:11:40] src/tree/updater_prune.cc:74: tree pruning end, 1 roots, 58 extra nodes, 72 pruned nodes, max_depth=11\u001b[0m\n",
      "\u001b[34m[76]#011train-rmse:0.419977#011validation-rmse:3.47526\u001b[0m\n",
      "\u001b[34m[23:11:40] src/tree/updater_prune.cc:74: tree pruning end, 1 roots, 46 extra nodes, 54 pruned nodes, max_depth=12\u001b[0m\n",
      "\u001b[34m[77]#011train-rmse:0.406769#011validation-rmse:3.4709\u001b[0m\n",
      "\u001b[34m[23:11:40] src/tree/updater_prune.cc:74: tree pruning end, 1 roots, 58 extra nodes, 76 pruned nodes, max_depth=12\u001b[0m\n",
      "\u001b[34m[78]#011train-rmse:0.391164#011validation-rmse:3.45984\u001b[0m\n",
      "\u001b[34m[23:11:40] src/tree/updater_prune.cc:74: tree pruning end, 1 roots, 52 extra nodes, 58 pruned nodes, max_depth=12\u001b[0m\n",
      "\u001b[34m[79]#011train-rmse:0.377837#011validation-rmse:3.45177\u001b[0m\n",
      "\u001b[34m[23:11:40] src/tree/updater_prune.cc:74: tree pruning end, 1 roots, 54 extra nodes, 64 pruned nodes, max_depth=10\u001b[0m\n",
      "\u001b[34m[80]#011train-rmse:0.366073#011validation-rmse:3.44365\u001b[0m\n",
      "\u001b[34m[23:11:40] src/tree/updater_prune.cc:74: tree pruning end, 1 roots, 50 extra nodes, 46 pruned nodes, max_depth=12\u001b[0m\n",
      "\u001b[34m[81]#011train-rmse:0.35384#011validation-rmse:3.4405\u001b[0m\n",
      "\u001b[34m[23:11:40] src/tree/updater_prune.cc:74: tree pruning end, 1 roots, 54 extra nodes, 60 pruned nodes, max_depth=12\u001b[0m\n",
      "\u001b[34m[82]#011train-rmse:0.342161#011validation-rmse:3.4361\u001b[0m\n",
      "\u001b[34m[23:11:40] src/tree/updater_prune.cc:74: tree pruning end, 1 roots, 42 extra nodes, 64 pruned nodes, max_depth=11\u001b[0m\n",
      "\u001b[34m[83]#011train-rmse:0.334632#011validation-rmse:3.43598\u001b[0m\n",
      "\u001b[34m[23:11:40] src/tree/updater_prune.cc:74: tree pruning end, 1 roots, 34 extra nodes, 92 pruned nodes, max_depth=8\u001b[0m\n",
      "\u001b[34m[84]#011train-rmse:0.328147#011validation-rmse:3.43526\u001b[0m\n",
      "\u001b[34m[23:11:40] src/tree/updater_prune.cc:74: tree pruning end, 1 roots, 42 extra nodes, 84 pruned nodes, max_depth=11\u001b[0m\n",
      "\u001b[34m[85]#011train-rmse:0.317753#011validation-rmse:3.43199\u001b[0m\n",
      "\u001b[34m[23:11:40] src/tree/updater_prune.cc:74: tree pruning end, 1 roots, 36 extra nodes, 86 pruned nodes, max_depth=8\u001b[0m\n",
      "\u001b[34m[86]#011train-rmse:0.308797#011validation-rmse:3.42887\u001b[0m\n",
      "\u001b[34m[23:11:40] src/tree/updater_prune.cc:74: tree pruning end, 1 roots, 40 extra nodes, 94 pruned nodes, max_depth=10\u001b[0m\n",
      "\u001b[34m[87]#011train-rmse:0.300866#011validation-rmse:3.42749\u001b[0m\n",
      "\u001b[34m[23:11:40] src/tree/updater_prune.cc:74: tree pruning end, 1 roots, 28 extra nodes, 86 pruned nodes, max_depth=11\u001b[0m\n",
      "\u001b[34m[88]#011train-rmse:0.295512#011validation-rmse:3.423\u001b[0m\n",
      "\u001b[34m[23:11:40] src/tree/updater_prune.cc:74: tree pruning end, 1 roots, 34 extra nodes, 70 pruned nodes, max_depth=11\u001b[0m\n",
      "\u001b[34m[89]#011train-rmse:0.288121#011validation-rmse:3.41992\u001b[0m\n",
      "\u001b[34m[23:11:40] src/tree/updater_prune.cc:74: tree pruning end, 1 roots, 38 extra nodes, 46 pruned nodes, max_depth=12\u001b[0m\n",
      "\u001b[34m[90]#011train-rmse:0.280549#011validation-rmse:3.41884\u001b[0m\n",
      "\u001b[34m[23:11:40] src/tree/updater_prune.cc:74: tree pruning end, 1 roots, 40 extra nodes, 56 pruned nodes, max_depth=12\u001b[0m\n",
      "\u001b[34m[91]#011train-rmse:0.274894#011validation-rmse:3.42011\u001b[0m\n",
      "\u001b[34m[23:11:40] src/tree/updater_prune.cc:74: tree pruning end, 1 roots, 26 extra nodes, 92 pruned nodes, max_depth=8\u001b[0m\n",
      "\u001b[34m[92]#011train-rmse:0.268319#011validation-rmse:3.41876\u001b[0m\n",
      "\u001b[34m[23:11:40] src/tree/updater_prune.cc:74: tree pruning end, 1 roots, 30 extra nodes, 92 pruned nodes, max_depth=9\u001b[0m\n",
      "\u001b[34m[93]#011train-rmse:0.263691#011validation-rmse:3.41801\u001b[0m\n",
      "\u001b[34m[23:11:40] src/tree/updater_prune.cc:74: tree pruning end, 1 roots, 28 extra nodes, 44 pruned nodes, max_depth=10\u001b[0m\n",
      "\u001b[34m[94]#011train-rmse:0.258731#011validation-rmse:3.41526\u001b[0m\n",
      "\u001b[34m[23:11:40] src/tree/updater_prune.cc:74: tree pruning end, 1 roots, 34 extra nodes, 78 pruned nodes, max_depth=11\u001b[0m\n",
      "\u001b[34m[95]#011train-rmse:0.252664#011validation-rmse:3.41444\u001b[0m\n",
      "\u001b[34m[23:11:40] src/tree/updater_prune.cc:74: tree pruning end, 1 roots, 32 extra nodes, 68 pruned nodes, max_depth=11\u001b[0m\n",
      "\u001b[34m[96]#011train-rmse:0.246717#011validation-rmse:3.41204\u001b[0m\n",
      "\u001b[34m[23:11:40] src/tree/updater_prune.cc:74: tree pruning end, 1 roots, 28 extra nodes, 98 pruned nodes, max_depth=10\u001b[0m\n",
      "\u001b[34m[97]#011train-rmse:0.241711#011validation-rmse:3.4096\u001b[0m\n",
      "\u001b[34m[23:11:40] src/tree/updater_prune.cc:74: tree pruning end, 1 roots, 16 extra nodes, 86 pruned nodes, max_depth=7\u001b[0m\n",
      "\u001b[34m[98]#011train-rmse:0.237828#011validation-rmse:3.40783\u001b[0m\n",
      "\u001b[34m[23:11:40] src/tree/updater_prune.cc:74: tree pruning end, 1 roots, 12 extra nodes, 98 pruned nodes, max_depth=5\u001b[0m\n",
      "\u001b[34m[99]#011train-rmse:0.234618#011validation-rmse:3.40633\u001b[0m\n",
      "\u001b[34m[23:11:40] src/tree/updater_prune.cc:74: tree pruning end, 1 roots, 26 extra nodes, 88 pruned nodes, max_depth=10\u001b[0m\n",
      "\u001b[34m[100]#011train-rmse:0.230665#011validation-rmse:3.40587\u001b[0m\n",
      "\u001b[34m[23:11:40] src/tree/updater_prune.cc:74: tree pruning end, 1 roots, 28 extra nodes, 70 pruned nodes, max_depth=9\u001b[0m\n",
      "\u001b[34m[101]#011train-rmse:0.226595#011validation-rmse:3.40508\u001b[0m\n",
      "\u001b[34m[23:11:40] src/tree/updater_prune.cc:74: tree pruning end, 1 roots, 14 extra nodes, 78 pruned nodes, max_depth=5\u001b[0m\n",
      "\u001b[34m[102]#011train-rmse:0.223581#011validation-rmse:3.40421\u001b[0m\n",
      "\u001b[34m[23:11:40] src/tree/updater_prune.cc:74: tree pruning end, 1 roots, 24 extra nodes, 52 pruned nodes, max_depth=9\u001b[0m\n",
      "\u001b[34m[103]#011train-rmse:0.220128#011validation-rmse:3.40449\u001b[0m\n",
      "\u001b[34m[23:11:40] src/tree/updater_prune.cc:74: tree pruning end, 1 roots, 28 extra nodes, 78 pruned nodes, max_depth=12\u001b[0m\n",
      "\u001b[34m[104]#011train-rmse:0.216725#011validation-rmse:3.40363\u001b[0m\n",
      "\u001b[34m[23:11:40] src/tree/updater_prune.cc:74: tree pruning end, 1 roots, 28 extra nodes, 92 pruned nodes, max_depth=10\u001b[0m\n",
      "\u001b[34m[105]#011train-rmse:0.212454#011validation-rmse:3.40318\u001b[0m\n",
      "\u001b[34m[23:11:40] src/tree/updater_prune.cc:74: tree pruning end, 1 roots, 22 extra nodes, 86 pruned nodes, max_depth=10\u001b[0m\n",
      "\u001b[34m[106]#011train-rmse:0.209652#011validation-rmse:3.40257\u001b[0m\n",
      "\u001b[34m[23:11:40] src/tree/updater_prune.cc:74: tree pruning end, 1 roots, 4 extra nodes, 120 pruned nodes, max_depth=2\u001b[0m\n",
      "\u001b[34m[107]#011train-rmse:0.208654#011validation-rmse:3.4014\u001b[0m\n",
      "\u001b[34m[23:11:40] src/tree/updater_prune.cc:74: tree pruning end, 1 roots, 16 extra nodes, 40 pruned nodes, max_depth=7\u001b[0m\n",
      "\u001b[34m[108]#011train-rmse:0.206514#011validation-rmse:3.40121\u001b[0m\n",
      "\u001b[34m[23:11:40] src/tree/updater_prune.cc:74: tree pruning end, 1 roots, 24 extra nodes, 112 pruned nodes, max_depth=8\u001b[0m\n",
      "\u001b[34m[109]#011train-rmse:0.203729#011validation-rmse:3.40105\u001b[0m\n",
      "\u001b[34m[23:11:40] src/tree/updater_prune.cc:74: tree pruning end, 1 roots, 16 extra nodes, 100 pruned nodes, max_depth=7\u001b[0m\n",
      "\u001b[34m[110]#011train-rmse:0.201483#011validation-rmse:3.40033\u001b[0m\n",
      "\u001b[34m[23:11:40] src/tree/updater_prune.cc:74: tree pruning end, 1 roots, 26 extra nodes, 62 pruned nodes, max_depth=8\u001b[0m\n",
      "\u001b[34m[111]#011train-rmse:0.199401#011validation-rmse:3.39915\u001b[0m\n",
      "\u001b[34m[23:11:40] src/tree/updater_prune.cc:74: tree pruning end, 1 roots, 26 extra nodes, 64 pruned nodes, max_depth=9\u001b[0m\n",
      "\u001b[34m[112]#011train-rmse:0.196851#011validation-rmse:3.39795\u001b[0m\n",
      "\u001b[34m[23:11:40] src/tree/updater_prune.cc:74: tree pruning end, 1 roots, 20 extra nodes, 104 pruned nodes, max_depth=7\u001b[0m\n",
      "\u001b[34m[113]#011train-rmse:0.19407#011validation-rmse:3.39758\u001b[0m\n",
      "\u001b[34m[23:11:40] src/tree/updater_prune.cc:74: tree pruning end, 1 roots, 18 extra nodes, 56 pruned nodes, max_depth=9\u001b[0m\n",
      "\u001b[34m[114]#011train-rmse:0.191943#011validation-rmse:3.39824\u001b[0m\n",
      "\u001b[34m[23:11:40] src/tree/updater_prune.cc:74: tree pruning end, 1 roots, 22 extra nodes, 120 pruned nodes, max_depth=9\u001b[0m\n",
      "\u001b[34m[115]#011train-rmse:0.189138#011validation-rmse:3.39802\u001b[0m\n",
      "\u001b[34m[23:11:40] src/tree/updater_prune.cc:74: tree pruning end, 1 roots, 8 extra nodes, 120 pruned nodes, max_depth=3\u001b[0m\n",
      "\u001b[34m[116]#011train-rmse:0.188065#011validation-rmse:3.3978\u001b[0m\n",
      "\u001b[34m[23:11:40] src/tree/updater_prune.cc:74: tree pruning end, 1 roots, 22 extra nodes, 94 pruned nodes, max_depth=10\u001b[0m\n",
      "\u001b[34m[117]#011train-rmse:0.185893#011validation-rmse:3.39653\u001b[0m\n",
      "\u001b[34m[23:11:40] src/tree/updater_prune.cc:74: tree pruning end, 1 roots, 10 extra nodes, 64 pruned nodes, max_depth=4\u001b[0m\n",
      "\u001b[34m[118]#011train-rmse:0.184907#011validation-rmse:3.39658\u001b[0m\n",
      "\u001b[34m[23:11:40] src/tree/updater_prune.cc:74: tree pruning end, 1 roots, 24 extra nodes, 70 pruned nodes, max_depth=11\u001b[0m\n",
      "\u001b[34m[119]#011train-rmse:0.182557#011validation-rmse:3.3971\u001b[0m\n",
      "\u001b[34m[23:11:40] src/tree/updater_prune.cc:74: tree pruning end, 1 roots, 8 extra nodes, 102 pruned nodes, max_depth=4\u001b[0m\n",
      "\u001b[34m[120]#011train-rmse:0.181683#011validation-rmse:3.39801\u001b[0m\n",
      "\u001b[34m[23:11:40] src/tree/updater_prune.cc:74: tree pruning end, 1 roots, 10 extra nodes, 114 pruned nodes, max_depth=4\u001b[0m\n",
      "\u001b[34m[121]#011train-rmse:0.180304#011validation-rmse:3.39682\u001b[0m\n",
      "\u001b[34m[23:11:40] src/tree/updater_prune.cc:74: tree pruning end, 1 roots, 6 extra nodes, 120 pruned nodes, max_depth=3\u001b[0m\n",
      "\u001b[34m[122]#011train-rmse:0.179628#011validation-rmse:3.39658\u001b[0m\n",
      "\u001b[34m[23:11:40] src/tree/updater_prune.cc:74: tree pruning end, 1 roots, 20 extra nodes, 44 pruned nodes, max_depth=10\u001b[0m\n",
      "\u001b[34m[123]#011train-rmse:0.177766#011validation-rmse:3.39587\u001b[0m\n",
      "\u001b[34m[23:11:40] src/tree/updater_prune.cc:74: tree pruning end, 1 roots, 24 extra nodes, 74 pruned nodes, max_depth=12\u001b[0m\n",
      "\u001b[34m[124]#011train-rmse:0.175561#011validation-rmse:3.39606\u001b[0m\n",
      "\u001b[34m[23:11:40] src/tree/updater_prune.cc:74: tree pruning end, 1 roots, 28 extra nodes, 70 pruned nodes, max_depth=11\u001b[0m\n",
      "\u001b[34m[125]#011train-rmse:0.17297#011validation-rmse:3.39578\u001b[0m\n",
      "\u001b[34m[23:11:40] src/tree/updater_prune.cc:74: tree pruning end, 1 roots, 22 extra nodes, 86 pruned nodes, max_depth=11\u001b[0m\n",
      "\u001b[34m[126]#011train-rmse:0.170794#011validation-rmse:3.39643\u001b[0m\n",
      "\u001b[34m[23:11:40] src/tree/updater_prune.cc:74: tree pruning end, 1 roots, 4 extra nodes, 128 pruned nodes, max_depth=2\u001b[0m\n",
      "\u001b[34m[127]#011train-rmse:0.170462#011validation-rmse:3.39564\u001b[0m\n",
      "\u001b[34m[23:11:40] src/tree/updater_prune.cc:74: tree pruning end, 1 roots, 26 extra nodes, 56 pruned nodes, max_depth=12\u001b[0m\n",
      "\u001b[34m[128]#011train-rmse:0.168542#011validation-rmse:3.39525\u001b[0m\n",
      "\u001b[34m[23:11:40] src/tree/updater_prune.cc:74: tree pruning end, 1 roots, 0 extra nodes, 68 pruned nodes, max_depth=0\u001b[0m\n",
      "\u001b[34m[129]#011train-rmse:0.168521#011validation-rmse:3.39516\u001b[0m\n",
      "\u001b[34m[23:11:40] src/tree/updater_prune.cc:74: tree pruning end, 1 roots, 0 extra nodes, 82 pruned nodes, max_depth=0\u001b[0m\n",
      "\u001b[34m[130]#011train-rmse:0.168523#011validation-rmse:3.39517\u001b[0m\n",
      "\u001b[34m[23:11:40] src/tree/updater_prune.cc:74: tree pruning end, 1 roots, 6 extra nodes, 102 pruned nodes, max_depth=3\u001b[0m\n",
      "\u001b[34m[131]#011train-rmse:0.167664#011validation-rmse:3.39561\u001b[0m\n",
      "\u001b[34m[23:11:40] src/tree/updater_prune.cc:74: tree pruning end, 1 roots, 6 extra nodes, 118 pruned nodes, max_depth=3\u001b[0m\n",
      "\u001b[34m[132]#011train-rmse:0.167105#011validation-rmse:3.396\u001b[0m\n",
      "\u001b[34m[23:11:40] src/tree/updater_prune.cc:74: tree pruning end, 1 roots, 24 extra nodes, 90 pruned nodes, max_depth=12\u001b[0m\n",
      "\u001b[34m[133]#011train-rmse:0.164771#011validation-rmse:3.39621\u001b[0m\n",
      "\u001b[34m[23:11:40] src/tree/updater_prune.cc:74: tree pruning end, 1 roots, 0 extra nodes, 94 pruned nodes, max_depth=0\u001b[0m\n",
      "\u001b[34m[134]#011train-rmse:0.164767#011validation-rmse:3.39618\u001b[0m\n",
      "\u001b[34m[23:11:40] src/tree/updater_prune.cc:74: tree pruning end, 1 roots, 12 extra nodes, 122 pruned nodes, max_depth=6\u001b[0m\n",
      "\u001b[34m[135]#011train-rmse:0.163848#011validation-rmse:3.39547\u001b[0m\n",
      "\u001b[34m[23:11:40] src/tree/updater_prune.cc:74: tree pruning end, 1 roots, 0 extra nodes, 132 pruned nodes, max_depth=0\u001b[0m\n",
      "\u001b[34m[136]#011train-rmse:0.163849#011validation-rmse:3.39548\u001b[0m\n",
      "\u001b[34m[23:11:40] src/tree/updater_prune.cc:74: tree pruning end, 1 roots, 12 extra nodes, 82 pruned nodes, max_depth=6\u001b[0m\n",
      "\u001b[34m[137]#011train-rmse:0.162802#011validation-rmse:3.3955\u001b[0m\n",
      "\u001b[34m[23:11:40] src/tree/updater_prune.cc:74: tree pruning end, 1 roots, 0 extra nodes, 130 pruned nodes, max_depth=0\u001b[0m\n",
      "\u001b[34m[138]#011train-rmse:0.162805#011validation-rmse:3.39553\u001b[0m\n",
      "\u001b[34m[23:11:40] src/tree/updater_prune.cc:74: tree pruning end, 1 roots, 16 extra nodes, 118 pruned nodes, max_depth=8\u001b[0m\n",
      "\u001b[34m[139]#011train-rmse:0.161374#011validation-rmse:3.39454\u001b[0m\n",
      "\u001b[34m[23:11:40] src/tree/updater_prune.cc:74: tree pruning end, 1 roots, 20 extra nodes, 86 pruned nodes, max_depth=10\u001b[0m\n",
      "\u001b[34m[140]#011train-rmse:0.15986#011validation-rmse:3.39384\u001b[0m\n",
      "\u001b[34m[23:11:40] src/tree/updater_prune.cc:74: tree pruning end, 1 roots, 0 extra nodes, 122 pruned nodes, max_depth=0\u001b[0m\n",
      "\u001b[34m[141]#011train-rmse:0.159859#011validation-rmse:3.39383\u001b[0m\n",
      "\u001b[34m[23:11:40] src/tree/updater_prune.cc:74: tree pruning end, 1 roots, 0 extra nodes, 74 pruned nodes, max_depth=0\u001b[0m\n",
      "\u001b[34m[142]#011train-rmse:0.159861#011validation-rmse:3.39385\u001b[0m\n",
      "\u001b[34m[23:11:40] src/tree/updater_prune.cc:74: tree pruning end, 1 roots, 0 extra nodes, 134 pruned nodes, max_depth=0\u001b[0m\n",
      "\u001b[34m[143]#011train-rmse:0.159864#011validation-rmse:3.39389\u001b[0m\n",
      "\u001b[34m[23:11:40] src/tree/updater_prune.cc:74: tree pruning end, 1 roots, 6 extra nodes, 104 pruned nodes, max_depth=3\u001b[0m\n",
      "\u001b[34m[144]#011train-rmse:0.159185#011validation-rmse:3.39377\u001b[0m\n",
      "\u001b[34m[23:11:40] src/tree/updater_prune.cc:74: tree pruning end, 1 roots, 12 extra nodes, 92 pruned nodes, max_depth=6\u001b[0m\n",
      "\u001b[34m[145]#011train-rmse:0.158252#011validation-rmse:3.39361\u001b[0m\n",
      "\u001b[34m[23:11:40] src/tree/updater_prune.cc:74: tree pruning end, 1 roots, 0 extra nodes, 94 pruned nodes, max_depth=0\u001b[0m\n",
      "\u001b[34m[146]#011train-rmse:0.158252#011validation-rmse:3.3936\u001b[0m\n",
      "\u001b[34m[23:11:40] src/tree/updater_prune.cc:74: tree pruning end, 1 roots, 0 extra nodes, 116 pruned nodes, max_depth=0\u001b[0m\n",
      "\u001b[34m[147]#011train-rmse:0.158248#011validation-rmse:3.39356\u001b[0m\n",
      "\u001b[34m[23:11:40] src/tree/updater_prune.cc:74: tree pruning end, 1 roots, 8 extra nodes, 120 pruned nodes, max_depth=4\u001b[0m\n",
      "\u001b[34m[148]#011train-rmse:0.157628#011validation-rmse:3.3932\u001b[0m\n",
      "\u001b[34m[23:11:40] src/tree/updater_prune.cc:74: tree pruning end, 1 roots, 0 extra nodes, 126 pruned nodes, max_depth=0\u001b[0m\n",
      "\u001b[34m[149]#011train-rmse:0.157629#011validation-rmse:3.3932\u001b[0m\n",
      "\u001b[34m[23:11:40] src/tree/updater_prune.cc:74: tree pruning end, 1 roots, 0 extra nodes, 108 pruned nodes, max_depth=0\u001b[0m\n",
      "\u001b[34m[150]#011train-rmse:0.157631#011validation-rmse:3.39323\u001b[0m\n",
      "\u001b[34m[23:11:40] src/tree/updater_prune.cc:74: tree pruning end, 1 roots, 0 extra nodes, 88 pruned nodes, max_depth=0\u001b[0m\n",
      "\u001b[34m[151]#011train-rmse:0.157632#011validation-rmse:3.39323\u001b[0m\n",
      "\u001b[34m[23:11:40] src/tree/updater_prune.cc:74: tree pruning end, 1 roots, 16 extra nodes, 96 pruned nodes, max_depth=8\u001b[0m\n",
      "\u001b[34m[152]#011train-rmse:0.156455#011validation-rmse:3.39344\u001b[0m\n",
      "\u001b[34m[23:11:40] src/tree/updater_prune.cc:74: tree pruning end, 1 roots, 14 extra nodes, 112 pruned nodes, max_depth=7\u001b[0m\n",
      "\u001b[34m[153]#011train-rmse:0.155503#011validation-rmse:3.39378\u001b[0m\n",
      "\u001b[34m[23:11:40] src/tree/updater_prune.cc:74: tree pruning end, 1 roots, 6 extra nodes, 110 pruned nodes, max_depth=3\u001b[0m\n",
      "\u001b[34m[154]#011train-rmse:0.15488#011validation-rmse:3.39386\u001b[0m\n",
      "\u001b[34m[23:11:40] src/tree/updater_prune.cc:74: tree pruning end, 1 roots, 0 extra nodes, 128 pruned nodes, max_depth=0\u001b[0m\n",
      "\u001b[34m[155]#011train-rmse:0.154878#011validation-rmse:3.39384\u001b[0m\n",
      "\u001b[34m[23:11:40] src/tree/updater_prune.cc:74: tree pruning end, 1 roots, 16 extra nodes, 58 pruned nodes, max_depth=8\u001b[0m\n",
      "\u001b[34m[156]#011train-rmse:0.153554#011validation-rmse:3.39527\u001b[0m\n",
      "\u001b[34m[23:11:40] src/tree/updater_prune.cc:74: tree pruning end, 1 roots, 0 extra nodes, 124 pruned nodes, max_depth=0\u001b[0m\n",
      "\u001b[34m[157]#011train-rmse:0.153554#011validation-rmse:3.39526\u001b[0m\n",
      "\u001b[34m[23:11:40] src/tree/updater_prune.cc:74: tree pruning end, 1 roots, 0 extra nodes, 88 pruned nodes, max_depth=0\u001b[0m\n",
      "\u001b[34m[158]#011train-rmse:0.153552#011validation-rmse:3.39524\u001b[0m\n",
      "\u001b[34mStopping. Best iteration:\u001b[0m\n",
      "\u001b[34m[148]#011train-rmse:0.157628#011validation-rmse:3.3932\n",
      "\u001b[0m\n",
      "Training seconds: 63\n",
      "Billable seconds: 63\n"
     ]
    }
   ],
   "source": [
    "xgb_attached = sagemaker.estimator.Estimator.attach(xgb_hyperparameter_tuner.best_training_job())"
   ]
  },
  {
   "cell_type": "markdown",
   "metadata": {},
   "source": [
    "## Step 5: Test the model\n",
    "\n",
    "Now that we have our best performing model, we can test it. To do this we will use the batch transform functionality. To start with, we need to build a transformer object from our fit model."
   ]
  },
  {
   "cell_type": "code",
   "execution_count": 16,
   "metadata": {},
   "outputs": [
    {
     "name": "stderr",
     "output_type": "stream",
     "text": [
      "Parameter image will be renamed to image_uri in SageMaker Python SDK v2.\n"
     ]
    }
   ],
   "source": [
    "xgb_transformer = xgb_attached.transformer(instance_count = 1, instance_type = 'ml.m4.xlarge')"
   ]
  },
  {
   "cell_type": "markdown",
   "metadata": {},
   "source": [
    "Next we ask SageMaker to begin a batch transform job using our trained model and applying it to the test data we previous stored in S3. We need to make sure to provide SageMaker with the type of data that we are providing to our model, in our case `text/csv`, so that it knows how to serialize our data. In addition, we need to make sure to let SageMaker know how to split our data up into chunks if the entire data set happens to be too large to send to our model all at once.\n",
    "\n",
    "Note that when we ask SageMaker to do this it will execute the batch transform job in the background. Since we need to wait for the results of this job before we can continue, we use the `wait()` method. An added benefit of this is that we get some output from our batch transform job which lets us know if anything went wrong."
   ]
  },
  {
   "cell_type": "code",
   "execution_count": 17,
   "metadata": {},
   "outputs": [],
   "source": [
    "xgb_transformer.transform(test_location, content_type='text/csv', split_type='Line')"
   ]
  },
  {
   "cell_type": "code",
   "execution_count": 24,
   "metadata": {},
   "outputs": [
    {
     "name": "stdout",
     "output_type": "stream",
     "text": [
      "\u001b[34mArguments: serve\u001b[0m\n",
      "\u001b[34m[2021-05-02 23:41:13 +0000] [1] [INFO] Starting gunicorn 19.9.0\u001b[0m\n",
      "\u001b[34m[2021-05-02 23:41:13 +0000] [1] [INFO] Listening at: http://0.0.0.0:8080 (1)\u001b[0m\n",
      "\u001b[34m[2021-05-02 23:41:13 +0000] [1] [INFO] Using worker: gevent\u001b[0m\n",
      "\u001b[34m[2021-05-02 23:41:13 +0000] [20] [INFO] Booting worker with pid: 20\u001b[0m\n",
      "\u001b[34m[2021-05-02 23:41:13 +0000] [21] [INFO] Booting worker with pid: 21\u001b[0m\n",
      "\u001b[34m[2021-05-02 23:41:13 +0000] [22] [INFO] Booting worker with pid: 22\u001b[0m\n",
      "\u001b[34m/opt/amazon/lib/python3.7/site-packages/gunicorn/workers/ggevent.py:65: MonkeyPatchWarning: Monkey-patching ssl after ssl has already been imported may lead to errors, including RecursionError on Python 3.6. It may also silently lead to incorrect behaviour on Python 3.7. Please monkey-patch earlier. See https://github.com/gevent/gevent/issues/1016. Modules that had direct imports (NOT patched): ['urllib3.util.ssl_ (/opt/amazon/lib/python3.7/site-packages/urllib3/util/ssl_.py)', 'urllib3.util (/opt/amazon/lib/python3.7/site-packages/urllib3/util/__init__.py)']. \n",
      "  monkey.patch_all(subprocess=True)\u001b[0m\n",
      "\u001b[34m/opt/amazon/lib/python3.7/site-packages/gunicorn/workers/ggevent.py:65: MonkeyPatchWarning: Monkey-patching ssl after ssl has already been imported may lead to errors, including RecursionError on Python 3.6. It may also silently lead to incorrect behaviour on Python 3.7. Please monkey-patch earlier. See https://github.com/gevent/gevent/issues/1016. Modules that had direct imports (NOT patched): ['urllib3.util.ssl_ (/opt/amazon/lib/python3.7/site-packages/urllib3/util/ssl_.py)', 'urllib3.util (/opt/amazon/lib/python3.7/site-packages/urllib3/util/__init__.py)']. \n",
      "  monkey.patch_all(subprocess=True)\u001b[0m\n",
      "\u001b[34m[2021-05-02:23:41:13:INFO] Model loaded successfully for worker : 21\u001b[0m\n",
      "\u001b[34m[2021-05-02:23:41:13:INFO] Model loaded successfully for worker : 20\u001b[0m\n",
      "\u001b[34m[2021-05-02 23:41:13 +0000] [23] [INFO] Booting worker with pid: 23\u001b[0m\n",
      "\u001b[34m/opt/amazon/lib/python3.7/site-packages/gunicorn/workers/ggevent.py:65: MonkeyPatchWarning: Monkey-patching ssl after ssl has already been imported may lead to errors, including RecursionError on Python 3.6. It may also silently lead to incorrect behaviour on Python 3.7. Please monkey-patch earlier. See https://github.com/gevent/gevent/issues/1016. Modules that had direct imports (NOT patched): ['urllib3.util.ssl_ (/opt/amazon/lib/python3.7/site-packages/urllib3/util/ssl_.py)', 'urllib3.util (/opt/amazon/lib/python3.7/site-packages/urllib3/util/__init__.py)']. \n",
      "  monkey.patch_all(subprocess=True)\u001b[0m\n",
      "\u001b[34m[2021-05-02:23:41:13:INFO] Model loaded successfully for worker : 22\u001b[0m\n",
      "\u001b[34m/opt/amazon/lib/python3.7/site-packages/gunicorn/workers/ggevent.py:65: MonkeyPatchWarning: Monkey-patching ssl after ssl has already been imported may lead to errors, including RecursionError on Python 3.6. It may also silently lead to incorrect behaviour on Python 3.7. Please monkey-patch earlier. See https://github.com/gevent/gevent/issues/1016. Modules that had direct imports (NOT patched): ['urllib3.util.ssl_ (/opt/amazon/lib/python3.7/site-packages/urllib3/util/ssl_.py)', 'urllib3.util (/opt/amazon/lib/python3.7/site-packages/urllib3/util/__init__.py)']. \n",
      "  monkey.patch_all(subprocess=True)\u001b[0m\n",
      "\u001b[34m[2021-05-02:23:41:13:INFO] Model loaded successfully for worker : 23\u001b[0m\n",
      "\u001b[35mArguments: serve\u001b[0m\n",
      "\u001b[35m[2021-05-02 23:41:13 +0000] [1] [INFO] Starting gunicorn 19.9.0\u001b[0m\n",
      "\u001b[35m[2021-05-02 23:41:13 +0000] [1] [INFO] Listening at: http://0.0.0.0:8080 (1)\u001b[0m\n",
      "\u001b[35m[2021-05-02 23:41:13 +0000] [1] [INFO] Using worker: gevent\u001b[0m\n",
      "\u001b[35m[2021-05-02 23:41:13 +0000] [20] [INFO] Booting worker with pid: 20\u001b[0m\n",
      "\u001b[35m[2021-05-02 23:41:13 +0000] [21] [INFO] Booting worker with pid: 21\u001b[0m\n",
      "\u001b[35m[2021-05-02 23:41:13 +0000] [22] [INFO] Booting worker with pid: 22\u001b[0m\n",
      "\u001b[35m/opt/amazon/lib/python3.7/site-packages/gunicorn/workers/ggevent.py:65: MonkeyPatchWarning: Monkey-patching ssl after ssl has already been imported may lead to errors, including RecursionError on Python 3.6. It may also silently lead to incorrect behaviour on Python 3.7. Please monkey-patch earlier. See https://github.com/gevent/gevent/issues/1016. Modules that had direct imports (NOT patched): ['urllib3.util.ssl_ (/opt/amazon/lib/python3.7/site-packages/urllib3/util/ssl_.py)', 'urllib3.util (/opt/amazon/lib/python3.7/site-packages/urllib3/util/__init__.py)']. \n",
      "  monkey.patch_all(subprocess=True)\u001b[0m\n",
      "\u001b[35m/opt/amazon/lib/python3.7/site-packages/gunicorn/workers/ggevent.py:65: MonkeyPatchWarning: Monkey-patching ssl after ssl has already been imported may lead to errors, including RecursionError on Python 3.6. It may also silently lead to incorrect behaviour on Python 3.7. Please monkey-patch earlier. See https://github.com/gevent/gevent/issues/1016. Modules that had direct imports (NOT patched): ['urllib3.util.ssl_ (/opt/amazon/lib/python3.7/site-packages/urllib3/util/ssl_.py)', 'urllib3.util (/opt/amazon/lib/python3.7/site-packages/urllib3/util/__init__.py)']. \n",
      "  monkey.patch_all(subprocess=True)\u001b[0m\n",
      "\u001b[35m[2021-05-02:23:41:13:INFO] Model loaded successfully for worker : 21\u001b[0m\n",
      "\u001b[35m[2021-05-02:23:41:13:INFO] Model loaded successfully for worker : 20\u001b[0m\n",
      "\u001b[35m[2021-05-02 23:41:13 +0000] [23] [INFO] Booting worker with pid: 23\u001b[0m\n",
      "\u001b[35m/opt/amazon/lib/python3.7/site-packages/gunicorn/workers/ggevent.py:65: MonkeyPatchWarning: Monkey-patching ssl after ssl has already been imported may lead to errors, including RecursionError on Python 3.6. It may also silently lead to incorrect behaviour on Python 3.7. Please monkey-patch earlier. See https://github.com/gevent/gevent/issues/1016. Modules that had direct imports (NOT patched): ['urllib3.util.ssl_ (/opt/amazon/lib/python3.7/site-packages/urllib3/util/ssl_.py)', 'urllib3.util (/opt/amazon/lib/python3.7/site-packages/urllib3/util/__init__.py)']. \n",
      "  monkey.patch_all(subprocess=True)\u001b[0m\n",
      "\u001b[35m[2021-05-02:23:41:13:INFO] Model loaded successfully for worker : 22\u001b[0m\n",
      "\u001b[35m/opt/amazon/lib/python3.7/site-packages/gunicorn/workers/ggevent.py:65: MonkeyPatchWarning: Monkey-patching ssl after ssl has already been imported may lead to errors, including RecursionError on Python 3.6. It may also silently lead to incorrect behaviour on Python 3.7. Please monkey-patch earlier. See https://github.com/gevent/gevent/issues/1016. Modules that had direct imports (NOT patched): ['urllib3.util.ssl_ (/opt/amazon/lib/python3.7/site-packages/urllib3/util/ssl_.py)', 'urllib3.util (/opt/amazon/lib/python3.7/site-packages/urllib3/util/__init__.py)']. \n",
      "  monkey.patch_all(subprocess=True)\u001b[0m\n",
      "\u001b[35m[2021-05-02:23:41:13:INFO] Model loaded successfully for worker : 23\u001b[0m\n",
      "\u001b[34m[2021-05-02:23:41:17:INFO] Sniff delimiter as ','\u001b[0m\n",
      "\u001b[34m[2021-05-02:23:41:17:INFO] Determined delimiter of CSV input is ','\u001b[0m\n",
      "\u001b[35m[2021-05-02:23:41:17:INFO] Sniff delimiter as ','\u001b[0m\n",
      "\u001b[35m[2021-05-02:23:41:17:INFO] Determined delimiter of CSV input is ','\u001b[0m\n",
      "\u001b[32m2021-05-02T23:41:17.598:[sagemaker logs]: MaxConcurrentTransforms=4, MaxPayloadInMB=6, BatchStrategy=MULTI_RECORD\u001b[0m\n"
     ]
    }
   ],
   "source": [
    "xgb_transformer.wait()"
   ]
  },
  {
   "cell_type": "markdown",
   "metadata": {},
   "source": [
    "Now that the batch transform job has finished, the resulting output is stored on S3. Since we wish to analyze the output inside of our notebook we can use a bit of notebook magic to copy the output file from its S3 location and save it locally."
   ]
  },
  {
   "cell_type": "code",
   "execution_count": 20,
   "metadata": {},
   "outputs": [
    {
     "name": "stdout",
     "output_type": "stream",
     "text": [
      "download: s3://sagemaker-us-east-1-888201120197/xgboost-210502-2308-002-1857b15a-2021-05-02-23-36-19-664/test.csv.out to ../data/boston/test.csv.out\r\n"
     ]
    }
   ],
   "source": [
    "!aws s3 cp --recursive $xgb_transformer.output_path $data_dir"
   ]
  },
  {
   "cell_type": "markdown",
   "metadata": {},
   "source": [
    "To see how well our model works we can create a simple scatter plot between the predicted and actual values. If the model was completely accurate the resulting scatter plot would look like the line $x=y$. As we can see, our model seems to have done okay but there is room for improvement."
   ]
  },
  {
   "cell_type": "code",
   "execution_count": 21,
   "metadata": {},
   "outputs": [],
   "source": [
    "Y_pred = pd.read_csv(os.path.join(data_dir, 'test.csv.out'), header=None)"
   ]
  },
  {
   "cell_type": "code",
   "execution_count": 22,
   "metadata": {},
   "outputs": [
    {
     "data": {
      "text/plain": [
       "Text(0.5, 1.0, 'Median Price vs Predicted Price')"
      ]
     },
     "execution_count": 22,
     "metadata": {},
     "output_type": "execute_result"
    },
    {
     "data": {
      "image/png": "[encoded data removed]",
      "text/plain": [
       "<Figure size 432x288 with 1 Axes>"
      ]
     },
     "metadata": {
      "needs_background": "light"
     },
     "output_type": "display_data"
    }
   ],
   "source": [
    "plt.scatter(Y_test, Y_pred)\n",
    "plt.xlabel(\"Median Price\")\n",
    "plt.ylabel(\"Predicted Price\")\n",
    "plt.title(\"Median Price vs Predicted Price\")"
   ]
  },
  {
   "cell_type": "markdown",
   "metadata": {},
   "source": [
    "## Optional: Clean up\n",
    "\n",
    "The default notebook instance on SageMaker doesn't have a lot of excess disk space available. As you continue to complete and execute notebooks you will eventually fill up this disk space, leading to errors which can be difficult to diagnose. Once you are completely finished using a notebook it is a good idea to remove the files that you created along the way. Of course, you can do this from the terminal or from the notebook hub if you would like. The cell below contains some commands to clean up the created files from within the notebook."
   ]
  },
  {
   "cell_type": "code",
   "execution_count": 23,
   "metadata": {},
   "outputs": [],
   "source": [
    "# First we will remove all of the files contained in the data_dir directory\n",
    "!rm $data_dir/*\n",
    "\n",
    "# And then we delete the directory itself\n",
    "!rmdir $data_dir"
   ]
  },
  {
   "cell_type": "code",
   "execution_count": null,
   "metadata": {},
   "outputs": [],
   "source": []
  }
 ],
 "metadata": {
  "kernelspec": {
   "display_name": "conda_pytorch_p36",
   "language": "python",
   "name": "conda_pytorch_p36"
  },
  "language_info": {
   "codemirror_mode": {
    "name": "ipython",
    "version": 3
   },
   "file_extension": ".py",
   "mimetype": "text/x-python",
   "name": "python",
   "nbconvert_exporter": "python",
   "pygments_lexer": "ipython3",
   "version": "3.6.13"
  }
 },
 "nbformat": 4,
 "nbformat_minor": 2
}
