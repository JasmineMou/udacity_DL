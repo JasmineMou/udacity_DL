{
 "cells": [
  {
   "cell_type": "markdown",
   "metadata": {},
   "source": [
    "# Denoising Autoencoder\n",
    "\n",
    "Sticking with the MNIST dataset, let's add noise to our data and see if we can define and train an autoencoder to _de_-noise the images.\n",
    "\n",
    "<img src='notebook_ims/autoencoder_denoise.png' width=70%/>\n",
    "\n",
    "Let's get started by importing our libraries and getting the dataset."
   ]
  },
  {
   "cell_type": "code",
   "execution_count": 1,
   "metadata": {},
   "outputs": [],
   "source": [
    "import torch\n",
    "import numpy as np\n",
    "from torchvision import datasets\n",
    "import torchvision.transforms as transforms\n",
    "\n",
    "# convert data to torch.FloatTensor\n",
    "transform = transforms.ToTensor()\n",
    "\n",
    "# load the training and test datasets\n",
    "train_data = datasets.MNIST(root='data', train=True,\n",
    "                                   download=True, transform=transform)\n",
    "test_data = datasets.MNIST(root='data', train=False,\n",
    "                                  download=True, transform=transform)\n",
    "\n",
    "# Create training and test dataloaders\n",
    "num_workers = 0\n",
    "# how many samples per batch to load\n",
    "batch_size = 20\n",
    "\n",
    "# prepare data loaders\n",
    "train_loader = torch.utils.data.DataLoader(train_data, batch_size=batch_size, num_workers=num_workers)\n",
    "test_loader = torch.utils.data.DataLoader(test_data, batch_size=batch_size, num_workers=num_workers)"
   ]
  },
  {
   "cell_type": "markdown",
   "metadata": {},
   "source": [
    "### Visualize the Data"
   ]
  },
  {
   "cell_type": "code",
   "execution_count": 2,
   "metadata": {},
   "outputs": [
    {
     "data": {
      "text/plain": [
       "<matplotlib.image.AxesImage at 0x7f25869426d8>"
      ]
     },
     "execution_count": 2,
     "metadata": {},
     "output_type": "execute_result"
    },
    {
     "data": {
      "image/png": "[encoded data removed]",
      "text/plain": [
       "<matplotlib.figure.Figure at 0x7f25869cb160>"
      ]
     },
     "metadata": {
      "needs_background": "light"
     },
     "output_type": "display_data"
    }
   ],
   "source": [
    "import matplotlib.pyplot as plt\n",
    "%matplotlib inline\n",
    "    \n",
    "# obtain one batch of training images\n",
    "dataiter = iter(train_loader)\n",
    "images, labels = dataiter.next()\n",
    "images = images.numpy()\n",
    "\n",
    "# get one image from the batch\n",
    "img = np.squeeze(images[0])\n",
    "\n",
    "fig = plt.figure(figsize = (5,5)) \n",
    "ax = fig.add_subplot(111)\n",
    "ax.imshow(img, cmap='gray')"
   ]
  },
  {
   "cell_type": "markdown",
   "metadata": {},
   "source": [
    "---\n",
    "# Denoising\n",
    "\n",
    "As I've mentioned before, autoencoders like the ones you've built so far aren't too useful in practive. However, they can be used to denoise images quite successfully just by training the network on noisy images. We can create the noisy images ourselves by adding Gaussian noise to the training images, then clipping the values to be between 0 and 1.\n",
    "\n",
    ">**We'll use noisy images as input and the original, clean images as targets.** \n",
    "\n",
    "Below is an example of some of the noisy images I generated and the associated, denoised images.\n",
    "\n",
    "<img src='notebook_ims/denoising.png' />\n",
    "\n",
    "\n",
    "Since this is a harder problem for the network, we'll want to use _deeper_ convolutional layers here; layers with more feature maps. You might also consider adding additional layers. I suggest starting with a depth of 32 for the convolutional layers in the encoder, and the same depths going backward through the decoder.\n",
    "\n",
    "#### TODO: Build the network for the denoising autoencoder. Add deeper and/or additional layers compared to the model above."
   ]
  },
  {
   "cell_type": "code",
   "execution_count": 3,
   "metadata": {},
   "outputs": [
    {
     "name": "stdout",
     "output_type": "stream",
     "text": [
      "CUDA is available. Train on GPU ...\n"
     ]
    }
   ],
   "source": [
    "train_on_gpu = torch.cuda.is_available()\n",
    "if not train_on_gpu:\n",
    "    print(\"CUDA is not available. Train on CPU ...\")\n",
    "else:\n",
    "    print(\"CUDA is available. Train on GPU ...\")"
   ]
  },
  {
   "cell_type": "code",
   "execution_count": 4,
   "metadata": {},
   "outputs": [
    {
     "name": "stdout",
     "output_type": "stream",
     "text": [
      "ConvDenoiser(\n",
      "  (encoder1): Conv2d(1, 32, kernel_size=(3, 3), stride=(1, 1), padding=(1, 1))\n",
      "  (encoder2): Conv2d(32, 16, kernel_size=(3, 3), stride=(1, 1), padding=(1, 1))\n",
      "  (encoder3): Conv2d(16, 8, kernel_size=(3, 3), stride=(1, 1), padding=(1, 1))\n",
      "  (maxpool): MaxPool2d(kernel_size=2, stride=2, padding=0, dilation=1, ceil_mode=False)\n",
      "  (decoder1): ConvTranspose2d(8, 8, kernel_size=(3, 3), stride=(2, 2))\n",
      "  (decoder2): ConvTranspose2d(8, 16, kernel_size=(2, 2), stride=(2, 2))\n",
      "  (decoder3): ConvTranspose2d(16, 32, kernel_size=(2, 2), stride=(2, 2))\n",
      "  (final): Conv2d(32, 1, kernel_size=(3, 3), stride=(1, 1), padding=(1, 1))\n",
      ")\n"
     ]
    }
   ],
   "source": [
    "import torch.nn as nn\n",
    "import torch.nn.functional as F\n",
    "\n",
    "# define the NN architecture\n",
    "class ConvDenoiser(nn.Module):\n",
    "    def __init__(self):\n",
    "        super(ConvDenoiser, self).__init__()\n",
    "        ## encoder layers ##\n",
    "        self.encoder1 = nn.Conv2d(1,32,3,padding=1)\n",
    "        self.encoder2 = nn.Conv2d(32,16,3,padding=1)\n",
    "        self.encoder3 = nn.Conv2d(16,8,3,padding=1)\n",
    "        \n",
    "        self.maxpool = nn.MaxPool2d(2,2) # reduce x-y dims by 2\n",
    "        \n",
    "        ## decoder layers ##\n",
    "        ## a kernel of 2 and a stride of 2 will increase the spatial dims by 2\n",
    "        self.decoder1 = nn.ConvTranspose2d(8,8,3,stride=2) \n",
    "        self.decoder2 = nn.ConvTranspose2d(8,16,2,stride=2)\n",
    "        self.decoder3 = nn.ConvTranspose2d(16,32,2,stride=2)\n",
    "        \n",
    "        self.final = nn.Conv2d(32,1,3,padding=1) # final normal conv layer to decrease depth\n",
    "\n",
    "\n",
    "    def forward(self, x):\n",
    "        ## encode ##\n",
    "        x = F.relu(self.encoder1(x))\n",
    "        x = self.maxpool(x)\n",
    "        x = F.relu(self.encoder2(x))\n",
    "        x = self.maxpool(x)\n",
    "        x = F.relu(self.encoder3(x))\n",
    "        x = self.maxpool(x)\n",
    "        \n",
    "        ## decode ##\n",
    "        x = F.relu(self.decoder1(x))\n",
    "        x = F.relu(self.decoder2(x))\n",
    "        x = F.relu(self.decoder3(x))\n",
    "        x = F.sigmoid(self.final(x))\n",
    "                \n",
    "        return x\n",
    "\n",
    "# initialize the NN\n",
    "model = ConvDenoiser()\n",
    "if train_on_gpu:\n",
    "    model.cuda()\n",
    "    \n",
    "print(model)"
   ]
  },
  {
   "cell_type": "markdown",
   "metadata": {},
   "source": [
    "---\n",
    "## Training\n",
    "\n",
    "We are only concerned with the training images, which we can get from the `train_loader`.\n",
    "\n",
    ">In this case, we are actually **adding some noise** to these images and we'll feed these `noisy_imgs` to our model. The model will produce reconstructed images based on the noisy input. But, we want it to produce _normal_ un-noisy images, and so, when we calculate the loss, we will still compare the reconstructed outputs to the original images!\n",
    "\n",
    "Because we're comparing pixel values in input and output images, it will be best to use a loss that is meant for a regression task. Regression is all about comparing quantities rather than probabilistic values. So, in this case, I'll use `MSELoss`. And compare output images and input images as follows:\n",
    "```\n",
    "loss = criterion(outputs, images)\n",
    "```"
   ]
  },
  {
   "cell_type": "code",
   "execution_count": 5,
   "metadata": {},
   "outputs": [],
   "source": [
    "# for adding noise to images\n",
    "noise_factor=0.5\n",
    "\n",
    "def train_model(trainloader, model, criterion, optimizer):\n",
    "    # number of epochs to train the model\n",
    "    n_epochs = 20   \n",
    "\n",
    "    for epoch in range(1, n_epochs+1):\n",
    "        # monitor training loss\n",
    "        train_loss = 0.0\n",
    "\n",
    "        ###################\n",
    "        # train the model #\n",
    "        ###################\n",
    "        # _ stands in for labels, here\n",
    "        # no need to flatten images\n",
    "        for (images,_) in train_loader:\n",
    "            ## add random noise to the input images\n",
    "            noisy_imgs = images + noise_factor * torch.randn(*images.shape)\n",
    "            # Clip the images to be between 0 and 1\n",
    "            noisy_imgs = np.clip(noisy_imgs, 0., 1.)\n",
    "\n",
    "            if train_on_gpu:\n",
    "                images = images.cuda()\n",
    "                noisy_imgs = noisy_imgs.cuda()            \n",
    "            \n",
    "            # clear the gradients of all optimized variables\n",
    "            optimizer.zero_grad()\n",
    "            ## forward pass: compute predicted outputs by passing *noisy* images to the model\n",
    "            outputs = model(noisy_imgs)\n",
    "            # calculate the loss\n",
    "            # the \"target\" is still the original, not-noisy images\n",
    "            loss = criterion(outputs, images)\n",
    "            # backward pass: compute gradient of the loss with respect to model parameters\n",
    "            loss.backward()\n",
    "            # perform a single optimization step (parameter update)\n",
    "            optimizer.step()\n",
    "            # update running training loss\n",
    "            train_loss += loss.item()*images.size(0)\n",
    "\n",
    "        # print avg training statistics \n",
    "        train_loss = train_loss/len(train_loader)\n",
    "        print('Epoch: {} \\tTraining Loss: {:.6f}'.format(epoch, train_loss))"
   ]
  },
  {
   "cell_type": "code",
   "execution_count": 6,
   "metadata": {},
   "outputs": [],
   "source": [
    "# specify loss function\n",
    "criterion = nn.MSELoss()\n",
    "\n",
    "# specify loss function\n",
    "optimizer = torch.optim.Adam(model.parameters(), lr=0.001)"
   ]
  },
  {
   "cell_type": "code",
   "execution_count": 7,
   "metadata": {},
   "outputs": [
    {
     "name": "stdout",
     "output_type": "stream",
     "text": [
      "Epoch: 1 \tTraining Loss: 1.027003\n",
      "Epoch: 2 \tTraining Loss: 0.778870\n",
      "Epoch: 3 \tTraining Loss: 0.727460\n",
      "Epoch: 4 \tTraining Loss: 0.703074\n",
      "Epoch: 5 \tTraining Loss: 0.688385\n",
      "Epoch: 6 \tTraining Loss: 0.675194\n",
      "Epoch: 7 \tTraining Loss: 0.664477\n",
      "Epoch: 8 \tTraining Loss: 0.655550\n",
      "Epoch: 9 \tTraining Loss: 0.648978\n",
      "Epoch: 10 \tTraining Loss: 0.644065\n",
      "Epoch: 11 \tTraining Loss: 0.639112\n",
      "Epoch: 12 \tTraining Loss: 0.635416\n",
      "Epoch: 13 \tTraining Loss: 0.632685\n",
      "Epoch: 14 \tTraining Loss: 0.630055\n",
      "Epoch: 15 \tTraining Loss: 0.626158\n",
      "Epoch: 16 \tTraining Loss: 0.625067\n",
      "Epoch: 17 \tTraining Loss: 0.622354\n",
      "Epoch: 18 \tTraining Loss: 0.620321\n",
      "Epoch: 19 \tTraining Loss: 0.618755\n",
      "Epoch: 20 \tTraining Loss: 0.616563\n"
     ]
    }
   ],
   "source": [
    "train_model(train_loader, model, criterion, optimizer)"
   ]
  },
  {
   "cell_type": "markdown",
   "metadata": {},
   "source": [
    "## Checking out the results\n",
    "\n",
    "Here I'm adding noise to the test images and passing them through the autoencoder. It does a suprising great job of removing the noise, even though it's sometimes difficult to tell what the original number is."
   ]
  },
  {
   "cell_type": "code",
   "execution_count": 8,
   "metadata": {},
   "outputs": [],
   "source": [
    "def test(model, images):       \n",
    "    # add noise to the test images\n",
    "    noisy_imgs = images + noise_factor * torch.randn(*images.shape)\n",
    "    noisy_imgs = np.clip(noisy_imgs, 0., 1.)\n",
    "    \n",
    "    if train_on_gpu:\n",
    "        images = images.cuda()\n",
    "        noisy_imgs = noisy_imgs.cuda()\n",
    "    \n",
    "    # get sample outputs\n",
    "    output = model(noisy_imgs)   \n",
    "\n",
    "    # prep images for display\n",
    "    noisy_imgs = noisy_imgs.numpy() if not train_on_gpu else noisy_imgs.cpu().numpy()    \n",
    "    \n",
    "    # output is resized into a batch of iages\n",
    "    output = output.view(batch_size, 1, 28, 28)\n",
    "    # use detach when it's an output that requires_grad\n",
    "    output = output.detach().numpy() if not train_on_gpu else output.detach().cpu().numpy()\n",
    "\n",
    "    # plot the first ten input images and then reconstructed images\n",
    "    fig, axes = plt.subplots(nrows=2, ncols=10, sharex=True, sharey=True, figsize=(25,4))\n",
    "\n",
    "    # input images on top row, reconstructions on bottom\n",
    "    for noisy_imgs, row in zip([noisy_imgs, output], axes):\n",
    "        for img, ax in zip(noisy_imgs, row):\n",
    "            ax.imshow(np.squeeze(img), cmap='gray')\n",
    "            ax.get_xaxis().set_visible(False)\n",
    "            ax.get_yaxis().set_visible(False)"
   ]
  },
  {
   "cell_type": "code",
   "execution_count": 9,
   "metadata": {},
   "outputs": [],
   "source": [
    "# obtain one batch of test images\n",
    "dataiter = iter(test_loader)\n",
    "images, labels = dataiter.next()"
   ]
  },
  {
   "cell_type": "code",
   "execution_count": 10,
   "metadata": {},
   "outputs": [
    {
     "data": {
      "image/png": "[encoded data removed]",
      "text/plain": [
       "<matplotlib.figure.Figure at 0x7f25dd4f8e80>"
      ]
     },
     "metadata": {
      "needs_background": "light"
     },
     "output_type": "display_data"
    }
   ],
   "source": [
    "test(model, images)"
   ]
  },
  {
   "cell_type": "code",
   "execution_count": null,
   "metadata": {},
   "outputs": [],
   "source": []
  }
 ],
 "metadata": {
  "kernelspec": {
   "display_name": "Python 3",
   "language": "python",
   "name": "python3"
  },
  "language_info": {
   "codemirror_mode": {
    "name": "ipython",
    "version": 3
   },
   "file_extension": ".py",
   "mimetype": "text/x-python",
   "name": "python",
   "nbconvert_exporter": "python",
   "pygments_lexer": "ipython3",
   "version": "3.7.7"
  }
 },
 "nbformat": 4,
 "nbformat_minor": 2
}
