{
 "cells": [
  {
   "cell_type": "markdown",
   "metadata": {},
   "source": [
    "*Add extra codes to enable GPU on 09/24/2020.*"
   ]
  },
  {
   "cell_type": "markdown",
   "metadata": {},
   "source": [
    "# Convolutional Autoencoder\n",
    "\n",
    "Sticking with the MNIST dataset, let's improve our autoencoder's performance using convolutional layers. We'll build a convolutional autoencoder to compress the MNIST dataset. \n",
    "\n",
    ">The encoder portion will be made of convolutional and pooling layers and the decoder will be made of **transpose convolutional layers** that learn to \"upsample\" a compressed representation.\n",
    "\n",
    "<img src='notebook_ims/autoencoder_1.png' />\n",
    "\n",
    "### Compressed Representation\n",
    "\n",
    "A compressed representation can be great for saving and sharing any kind of data in a way that is more efficient than storing raw data. In practice, the compressed representation often holds key information about an input image and we can use it for denoising images or other kinds of reconstruction and transformation!\n",
    "\n",
    "<img src='notebook_ims/denoising.png' width=60%/>\n",
    "\n",
    "Let's get started by importing our libraries and getting the dataset."
   ]
  },
  {
   "cell_type": "code",
   "execution_count": 1,
   "metadata": {},
   "outputs": [],
   "source": [
    "import torch\n",
    "import numpy as np\n",
    "from torchvision import datasets\n",
    "import torchvision.transforms as transforms\n",
    "\n",
    "# convert data to torch.FloatTensor\n",
    "transform = transforms.ToTensor()\n",
    "\n",
    "# load the training and test datasets\n",
    "train_data = datasets.MNIST(root='data', train=True,\n",
    "                            download=True, transform=transform)\n",
    "test_data = datasets.MNIST(root='data', train=False,\n",
    "                           download=True, transform=transform)"
   ]
  },
  {
   "cell_type": "code",
   "execution_count": 2,
   "metadata": {},
   "outputs": [],
   "source": [
    "# Create training and test dataloaders\n",
    "\n",
    "num_workers = 0\n",
    "# how many samples per batch to load\n",
    "batch_size = 20\n",
    "\n",
    "# prepare data loaders\n",
    "train_loader = torch.utils.data.DataLoader(train_data, batch_size=batch_size, num_workers=num_workers,\n",
    "                                          shuffle=True)\n",
    "test_loader = torch.utils.data.DataLoader(test_data, batch_size=batch_size, num_workers=num_workers,\n",
    "                                         shuffle=False)"
   ]
  },
  {
   "cell_type": "markdown",
   "metadata": {},
   "source": [
    "### Visualize the Data"
   ]
  },
  {
   "cell_type": "code",
   "execution_count": 3,
   "metadata": {},
   "outputs": [
    {
     "data": {
      "text/plain": [
       "<matplotlib.image.AxesImage at 0x7f710d8df780>"
      ]
     },
     "execution_count": 3,
     "metadata": {},
     "output_type": "execute_result"
    },
    {
     "data": {
      "image/png": "[encoded data removed]",
      "text/plain": [
       "<matplotlib.figure.Figure at 0x7f710db0d160>"
      ]
     },
     "metadata": {
      "needs_background": "light"
     },
     "output_type": "display_data"
    }
   ],
   "source": [
    "import matplotlib.pyplot as plt\n",
    "%matplotlib inline\n",
    "    \n",
    "# obtain one batch of training images\n",
    "dataiter = iter(train_loader)\n",
    "images, labels = dataiter.next()\n",
    "images = images.numpy()\n",
    "\n",
    "# get one image from the batch\n",
    "img = np.squeeze(images[0])\n",
    "\n",
    "fig = plt.figure(figsize = (5,5)) \n",
    "ax = fig.add_subplot(111)\n",
    "ax.imshow(img, cmap='gray')"
   ]
  },
  {
   "cell_type": "markdown",
   "metadata": {},
   "source": [
    "---\n",
    "## Convolutional  Autoencoder\n",
    "\n",
    "#### Encoder\n",
    "The encoder part of the network will be a typical convolutional pyramid. Each convolutional layer will be followed by a max-pooling layer to reduce the dimensions of the layers. \n",
    "\n",
    "#### Decoder\n",
    "\n",
    "The decoder though might be something new to you. The decoder needs to convert from a narrow representation to a wide, reconstructed image. For example, the representation could be a 7x7x4 max-pool layer. This is the output of the encoder, but also the input to the decoder. We want to get a 28x28x1 image out from the decoder so we need to work our way back up from the compressed representation. A schematic of the network is shown below.\n",
    "\n",
    "<img src='notebook_ims/conv_enc_1.png' width=640px>\n",
    "\n",
    "Here our final encoder layer has size 7x7x4 = 196. The original images have size 28x28 = 784, so the encoded vector is 25% the size of the original image. These are just suggested sizes for each of the layers. Feel free to change the depths and sizes, in fact, you're encouraged to add additional layers to make this representation even smaller! Remember our goal here is to find a small representation of the input data.\n",
    "\n",
    "### Transpose Convolutions, Decoder\n",
    "\n",
    "This decoder uses **transposed convolutional** layers to increase the width and height of the input layers. They work almost exactly the same as convolutional layers, but in reverse. A stride in the input layer results in a larger stride in the transposed convolution layer. For example, if you have a 3x3 kernel, a 3x3 patch in the input layer will be reduced to one unit in a convolutional layer. Comparatively, one unit in the input layer will be expanded to a 3x3 path in a transposed convolution layer. PyTorch provides us with an easy way to create the layers, [`nn.ConvTranspose2d`](https://pytorch.org/docs/stable/nn.html#convtranspose2d). \n",
    "\n",
    "It is important to note that transpose convolution layers can lead to artifacts in the final images, such as checkerboard patterns. This is due to overlap in the kernels which can be avoided by setting the stride and kernel size equal. In [this Distill article](http://distill.pub/2016/deconv-checkerboard/) from Augustus Odena, *et al*, the authors show that these checkerboard artifacts can be avoided by resizing the layers using nearest neighbor or bilinear interpolation (upsampling) followed by a convolutional layer. \n",
    "\n",
    "> We'll show this approach in another notebook, so you can experiment with it and see the difference.\n",
    "\n",
    "\n",
    "#### TODO: Build the network shown above. \n",
    "> Build the encoder out of a series of convolutional and pooling layers. \n",
    "> When building the decoder, recall that transpose convolutional layers can upsample an input by a factor of 2 using a stride and kernel_size of 2. "
   ]
  },
  {
   "cell_type": "code",
   "execution_count": 4,
   "metadata": {},
   "outputs": [
    {
     "name": "stdout",
     "output_type": "stream",
     "text": [
      "CUDA is available! Train on GPU ...\n"
     ]
    }
   ],
   "source": [
    "train_on_gpu = torch.cuda.is_available()\n",
    "if not train_on_gpu:\n",
    "    print(\"CUDA is not available. Train on CPU ...\")\n",
    "else:\n",
    "    print(\"CUDA is available! Train on GPU ...\")"
   ]
  },
  {
   "cell_type": "code",
   "execution_count": 5,
   "metadata": {},
   "outputs": [
    {
     "name": "stdout",
     "output_type": "stream",
     "text": [
      "ConvAutoencoder(\n",
      "  (encoder1): Conv2d(1, 16, kernel_size=(3, 3), stride=(1, 1), padding=(1, 1))\n",
      "  (encoder2): Conv2d(16, 4, kernel_size=(3, 3), stride=(1, 1), padding=(1, 1))\n",
      "  (maxpool): MaxPool2d(kernel_size=2, stride=2, padding=0, dilation=1, ceil_mode=False)\n",
      "  (decoder1): ConvTranspose2d(4, 16, kernel_size=(2, 2), stride=(2, 2))\n",
      "  (decoder2): ConvTranspose2d(16, 1, kernel_size=(2, 2), stride=(2, 2))\n",
      ")\n",
      "ConvAutoencoder(\n",
      "  (encoder1): Conv2d(1, 16, kernel_size=(3, 3), stride=(1, 1), padding=(1, 1))\n",
      "  (encoder2): Conv2d(16, 4, kernel_size=(3, 3), stride=(1, 1), padding=(1, 1))\n",
      "  (maxpool): MaxPool2d(kernel_size=2, stride=2, padding=0, dilation=1, ceil_mode=False)\n",
      "  (decoder1): Conv2d(4, 16, kernel_size=(3, 3), stride=(1, 1), padding=(1, 1))\n",
      "  (decoder2): Conv2d(16, 1, kernel_size=(3, 3), stride=(1, 1), padding=(1, 1))\n",
      ")\n"
     ]
    }
   ],
   "source": [
    "import torch.nn as nn\n",
    "import torch.nn.functional as F\n",
    "\n",
    "# define the NN architecture\n",
    "class ConvAutoencoder(nn.Module):\n",
    "    def __init__(self, upsampling=False):\n",
    "        super(ConvAutoencoder, self).__init__()\n",
    "        self.upsampling = upsampling\n",
    "        ## encoder layers ##\n",
    "        self.encoder1 = nn.Conv2d(1,16,3,padding=1) # 3x3 kernel; output's shape (height or width): (28-3+2*1)/1+1=28\n",
    "        self.encoder2 = nn.Conv2d(16,4,3,padding=1) # output's shape: (14-3+2*1)/1+1 = 14\n",
    "        \n",
    "        self.maxpool = nn.MaxPool2d(2,2)            # reduce x-y dims by 2: 14/2 = 7\n",
    "        \n",
    "        ## decoder layers ##\n",
    "        ## a kernel of 2 and a stride of 2 will increase the spatial dims by 2\n",
    "        \n",
    "        ## without upsampling\n",
    "        if not self.upsampling:\n",
    "            self.decoder1 = nn.ConvTranspose2d(4,16,2,stride=2)\n",
    "            self.decoder2 = nn.ConvTranspose2d(16,1,2,stride=2)\n",
    "        ## with upsampling, dim changes after upsampling\n",
    "        else:\n",
    "            self.decoder1 = nn.Conv2d(4,16,3,padding=1)\n",
    "            self.decoder2 = nn.Conv2d(16,1,3,padding=1)\n",
    "\n",
    "    def forward(self, x):\n",
    "        ## encode ##\n",
    "        x = F.relu(self.encoder1(x))\n",
    "        x = self.maxpool(x)\n",
    "        x = F.relu(self.encoder2(x))\n",
    "        x = self.maxpool(x)\n",
    "        \n",
    "        ## decode ##\n",
    "        ## apply ReLu to all hidden layers *except for the output layer\n",
    "        ## apply a sigmoid to the output layer\n",
    "        \n",
    "        ## without upsampling\n",
    "        if not self.upsampling:        \n",
    "            x = F.relu(self.decoder1(x))\n",
    "            x = F.sigmoid(self.decoder2(x))\n",
    "        ## with upsampling\n",
    "        else:        \n",
    "            x = F.upsample(x, scale_factor=2, mode=\"nearest\")\n",
    "            x = F.relu(self.decoder1(x))\n",
    "            x = F.upsample(x, scale_factor=2, mode=\"nearest\")\n",
    "            x = F.sigmoid(self.decoder2(x))\n",
    "        \n",
    "        return x\n",
    "\n",
    "    \n",
    "# initialize the NN\n",
    "model = ConvAutoencoder()\n",
    "model_upsampling = ConvAutoencoder(True)\n",
    "if train_on_gpu:\n",
    "    model.cuda()\n",
    "    model_upsampling.cuda()\n",
    "    \n",
    "print(model)\n",
    "print(model_upsampling)"
   ]
  },
  {
   "cell_type": "markdown",
   "metadata": {},
   "source": [
    "---\n",
    "## Training\n",
    "\n",
    "Here I'll write a bit of code to train the network. I'm not too interested in validation here, so I'll just monitor the training loss and the test loss afterwards. \n",
    "\n",
    "We are not concerned with labels in this case, just images, which we can get from the `train_loader`. Because we're comparing pixel values in input and output images, it will be best to use a loss that is meant for a regression task. Regression is all about comparing quantities rather than probabilistic values. So, in this case, I'll use `MSELoss`. And compare output images and input images as follows:\n",
    "```\n",
    "loss = criterion(outputs, images)\n",
    "```\n",
    "\n",
    "Otherwise, this is pretty straightfoward training with PyTorch. Since this is a convlutional autoencoder, our images _do not_ need to be flattened before being passed in an input to our model."
   ]
  },
  {
   "cell_type": "code",
   "execution_count": 6,
   "metadata": {},
   "outputs": [],
   "source": [
    "def train_model(trainloader, model, criterion, optimizer):\n",
    "    # number of epochs to train the model\n",
    "    n_epochs = 30\n",
    "\n",
    "    for epoch in range(1, n_epochs+1):\n",
    "        # monitor training loss\n",
    "        train_loss = 0.0\n",
    "\n",
    "        ###################\n",
    "        # train the model #\n",
    "        ###################\n",
    "        ## no need to flatten the image\n",
    "        for (images, _) in train_loader:\n",
    "            if train_on_gpu:\n",
    "                images = images.cuda()\n",
    "\n",
    "            # clear the gradients of all optimized variables\n",
    "            optimizer.zero_grad()\n",
    "            # forward pass: compute predicted outputs by passing inputs to the model\n",
    "            outputs = model(images)\n",
    "            # calculate the loss\n",
    "            loss = criterion(outputs, images)\n",
    "            # backward pass: compute gradient of the loss with respect to model parameters\n",
    "            loss.backward()\n",
    "            # perform a single optimization step (parameter update)\n",
    "            optimizer.step()\n",
    "            # update running training loss\n",
    "            train_loss += loss.item()*images.size(0)\n",
    "\n",
    "        # print avg training statistics \n",
    "        train_loss = train_loss/len(train_loader)\n",
    "        print('Epoch: {} \\tTraining Loss: {:.6f}'.format(epoch, train_loss))"
   ]
  },
  {
   "cell_type": "code",
   "execution_count": 7,
   "metadata": {},
   "outputs": [],
   "source": [
    "# specify loss function\n",
    "criterion = nn.MSELoss()\n",
    "\n",
    "# specify loss function\n",
    "optimizer = torch.optim.Adam(model.parameters(), lr=0.001)\n",
    "## PAY ATTENTION TO model NAME!!!\n",
    "optimizer_upsampling = torch.optim.Adam(model_upsampling.parameters(), lr=0.001)"
   ]
  },
  {
   "cell_type": "markdown",
   "metadata": {},
   "source": [
    "***Without upsampling***:"
   ]
  },
  {
   "cell_type": "code",
   "execution_count": 8,
   "metadata": {},
   "outputs": [
    {
     "name": "stdout",
     "output_type": "stream",
     "text": [
      "Epoch: 1 \tTraining Loss: 0.497919\n",
      "Epoch: 2 \tTraining Loss: 0.221140\n",
      "Epoch: 3 \tTraining Loss: 0.200633\n",
      "Epoch: 4 \tTraining Loss: 0.189936\n",
      "Epoch: 5 \tTraining Loss: 0.184431\n",
      "Epoch: 6 \tTraining Loss: 0.180096\n",
      "Epoch: 7 \tTraining Loss: 0.176799\n",
      "Epoch: 8 \tTraining Loss: 0.174663\n",
      "Epoch: 9 \tTraining Loss: 0.173384\n",
      "Epoch: 10 \tTraining Loss: 0.172350\n",
      "Epoch: 11 \tTraining Loss: 0.171566\n",
      "Epoch: 12 \tTraining Loss: 0.170940\n",
      "Epoch: 13 \tTraining Loss: 0.170423\n",
      "Epoch: 14 \tTraining Loss: 0.169930\n",
      "Epoch: 15 \tTraining Loss: 0.169483\n",
      "Epoch: 16 \tTraining Loss: 0.169140\n",
      "Epoch: 17 \tTraining Loss: 0.168778\n",
      "Epoch: 18 \tTraining Loss: 0.168431\n",
      "Epoch: 19 \tTraining Loss: 0.168096\n",
      "Epoch: 20 \tTraining Loss: 0.167790\n",
      "Epoch: 21 \tTraining Loss: 0.167522\n",
      "Epoch: 22 \tTraining Loss: 0.167241\n",
      "Epoch: 23 \tTraining Loss: 0.166986\n",
      "Epoch: 24 \tTraining Loss: 0.166663\n",
      "Epoch: 25 \tTraining Loss: 0.166366\n",
      "Epoch: 26 \tTraining Loss: 0.166146\n",
      "Epoch: 27 \tTraining Loss: 0.165881\n",
      "Epoch: 28 \tTraining Loss: 0.165633\n",
      "Epoch: 29 \tTraining Loss: 0.165482\n",
      "Epoch: 30 \tTraining Loss: 0.165279\n"
     ]
    }
   ],
   "source": [
    "train_model(train_loader, model, criterion, optimizer)"
   ]
  },
  {
   "cell_type": "markdown",
   "metadata": {},
   "source": [
    "***With upsampling***:"
   ]
  },
  {
   "cell_type": "code",
   "execution_count": 9,
   "metadata": {},
   "outputs": [
    {
     "name": "stdout",
     "output_type": "stream",
     "text": [
      "Epoch: 1 \tTraining Loss: 0.347671\n",
      "Epoch: 2 \tTraining Loss: 0.169122\n",
      "Epoch: 3 \tTraining Loss: 0.156748\n",
      "Epoch: 4 \tTraining Loss: 0.150675\n",
      "Epoch: 5 \tTraining Loss: 0.146662\n",
      "Epoch: 6 \tTraining Loss: 0.143778\n",
      "Epoch: 7 \tTraining Loss: 0.141376\n",
      "Epoch: 8 \tTraining Loss: 0.139582\n",
      "Epoch: 9 \tTraining Loss: 0.137686\n",
      "Epoch: 10 \tTraining Loss: 0.135679\n",
      "Epoch: 11 \tTraining Loss: 0.133896\n",
      "Epoch: 12 \tTraining Loss: 0.132675\n",
      "Epoch: 13 \tTraining Loss: 0.131611\n",
      "Epoch: 14 \tTraining Loss: 0.130577\n",
      "Epoch: 15 \tTraining Loss: 0.129770\n",
      "Epoch: 16 \tTraining Loss: 0.128980\n",
      "Epoch: 17 \tTraining Loss: 0.128242\n",
      "Epoch: 18 \tTraining Loss: 0.127747\n",
      "Epoch: 19 \tTraining Loss: 0.127082\n",
      "Epoch: 20 \tTraining Loss: 0.126680\n",
      "Epoch: 21 \tTraining Loss: 0.126177\n",
      "Epoch: 22 \tTraining Loss: 0.125650\n",
      "Epoch: 23 \tTraining Loss: 0.125330\n",
      "Epoch: 24 \tTraining Loss: 0.124723\n",
      "Epoch: 25 \tTraining Loss: 0.124422\n",
      "Epoch: 26 \tTraining Loss: 0.123986\n",
      "Epoch: 27 \tTraining Loss: 0.123691\n",
      "Epoch: 28 \tTraining Loss: 0.123317\n",
      "Epoch: 29 \tTraining Loss: 0.123094\n",
      "Epoch: 30 \tTraining Loss: 0.122755\n"
     ]
    }
   ],
   "source": [
    "train_model(train_loader, model_upsampling, criterion, optimizer_upsampling)"
   ]
  },
  {
   "cell_type": "markdown",
   "metadata": {},
   "source": [
    "## Checking out the results\n",
    "\n",
    "Below I've plotted some of the test images along with their reconstructions. These look a little rough around the edges, likely due to the checkerboard effect we mentioned above that tends to happen with transpose layers."
   ]
  },
  {
   "cell_type": "code",
   "execution_count": 10,
   "metadata": {},
   "outputs": [],
   "source": [
    "def test(model, images):\n",
    "    if train_on_gpu:\n",
    "        images = images.cuda()\n",
    "\n",
    "    # get sample outputs\n",
    "    output = model(images)\n",
    "\n",
    "    # prep images for display\n",
    "    images = images.numpy() if not train_on_gpu else images.cpu().numpy()\n",
    "\n",
    "    # output is resized into a batch of iages\n",
    "    output = output.view(batch_size, 1, 28, 28)\n",
    "    # use detach when it's an output that requires_grad\n",
    "    output = output.detach().numpy() if not train_on_gpu else output.detach().cpu().numpy()\n",
    "\n",
    "    # plot the first ten input images and then reconstructed images\n",
    "    fig, axes = plt.subplots(nrows=2, ncols=10, sharex=True, sharey=True, figsize=(25,4))\n",
    "\n",
    "    # input images on top row, reconstructions on bottom\n",
    "    for images, row in zip([images, output], axes):\n",
    "        for img, ax in zip(images, row):\n",
    "            ax.imshow(np.squeeze(img), cmap='gray')\n",
    "            ax.get_xaxis().set_visible(False)\n",
    "            ax.get_yaxis().set_visible(False)"
   ]
  },
  {
   "cell_type": "code",
   "execution_count": 11,
   "metadata": {},
   "outputs": [],
   "source": [
    "# obtain one batch of test images\n",
    "dataiter = iter(test_loader)\n",
    "images, labels = dataiter.next()"
   ]
  },
  {
   "cell_type": "markdown",
   "metadata": {},
   "source": [
    "***Without upsampling***:"
   ]
  },
  {
   "cell_type": "code",
   "execution_count": 12,
   "metadata": {},
   "outputs": [
    {
     "data": {
      "image/png": "[encoded data removed]",
      "text/plain": [
       "<matplotlib.figure.Figure at 0x7f716463fba8>"
      ]
     },
     "metadata": {
      "needs_background": "light"
     },
     "output_type": "display_data"
    }
   ],
   "source": [
    "test(model, images)"
   ]
  },
  {
   "cell_type": "markdown",
   "metadata": {},
   "source": [
    "***With upsampling***:"
   ]
  },
  {
   "cell_type": "code",
   "execution_count": 13,
   "metadata": {},
   "outputs": [
    {
     "data": {
      "image/png": "[encoded data removed]",
      "text/plain": [
       "<matplotlib.figure.Figure at 0x7f710d99ccc0>"
      ]
     },
     "metadata": {
      "needs_background": "light"
     },
     "output_type": "display_data"
    }
   ],
   "source": [
    "test(model_upsampling, images)"
   ]
  }
 ],
 "metadata": {
  "kernelspec": {
   "display_name": "Python 3",
   "language": "python",
   "name": "python3"
  },
  "language_info": {
   "codemirror_mode": {
    "name": "ipython",
    "version": 3
   },
   "file_extension": ".py",
   "mimetype": "text/x-python",
   "name": "python",
   "nbconvert_exporter": "python",
   "pygments_lexer": "ipython3",
   "version": "3.7.7"
  }
 },
 "nbformat": 4,
 "nbformat_minor": 2
}
